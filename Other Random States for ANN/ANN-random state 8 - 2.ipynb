{
 "cells": [
  {
   "cell_type": "code",
   "execution_count": 1,
   "id": "036874ec",
   "metadata": {},
   "outputs": [],
   "source": [
    "import numpy as np\n",
    "import pandas as pd\n",
    "import tensorflow as tf\n",
    "from tensorflow import keras"
   ]
  },
  {
   "cell_type": "code",
   "execution_count": 2,
   "id": "5a726a2f",
   "metadata": {},
   "outputs": [],
   "source": [
    "(x_train, y_train), (x_test, y_test) = keras.datasets.mnist.load_data()\n"
   ]
  },
  {
   "cell_type": "code",
   "execution_count": 3,
   "id": "562846dd",
   "metadata": {},
   "outputs": [],
   "source": [
    "x_train2 = x_train.reshape(len(x_train), 28 * 28)\n",
    "df1 = pd.DataFrame(x_train2)\n"
   ]
  },
  {
   "cell_type": "code",
   "execution_count": 4,
   "id": "be135681",
   "metadata": {},
   "outputs": [
    {
     "data": {
      "text/html": [
       "<div>\n",
       "<style scoped>\n",
       "    .dataframe tbody tr th:only-of-type {\n",
       "        vertical-align: middle;\n",
       "    }\n",
       "\n",
       "    .dataframe tbody tr th {\n",
       "        vertical-align: top;\n",
       "    }\n",
       "\n",
       "    .dataframe thead th {\n",
       "        text-align: right;\n",
       "    }\n",
       "</style>\n",
       "<table border=\"1\" class=\"dataframe\">\n",
       "  <thead>\n",
       "    <tr style=\"text-align: right;\">\n",
       "      <th></th>\n",
       "      <th>0</th>\n",
       "      <th>1</th>\n",
       "      <th>2</th>\n",
       "      <th>3</th>\n",
       "      <th>4</th>\n",
       "      <th>5</th>\n",
       "      <th>6</th>\n",
       "      <th>7</th>\n",
       "      <th>8</th>\n",
       "      <th>9</th>\n",
       "      <th>...</th>\n",
       "      <th>774</th>\n",
       "      <th>775</th>\n",
       "      <th>776</th>\n",
       "      <th>777</th>\n",
       "      <th>778</th>\n",
       "      <th>779</th>\n",
       "      <th>780</th>\n",
       "      <th>781</th>\n",
       "      <th>782</th>\n",
       "      <th>783</th>\n",
       "    </tr>\n",
       "  </thead>\n",
       "  <tbody>\n",
       "    <tr>\n",
       "      <th>0</th>\n",
       "      <td>0</td>\n",
       "      <td>0</td>\n",
       "      <td>0</td>\n",
       "      <td>0</td>\n",
       "      <td>0</td>\n",
       "      <td>0</td>\n",
       "      <td>0</td>\n",
       "      <td>0</td>\n",
       "      <td>0</td>\n",
       "      <td>0</td>\n",
       "      <td>...</td>\n",
       "      <td>0</td>\n",
       "      <td>0</td>\n",
       "      <td>0</td>\n",
       "      <td>0</td>\n",
       "      <td>0</td>\n",
       "      <td>0</td>\n",
       "      <td>0</td>\n",
       "      <td>0</td>\n",
       "      <td>0</td>\n",
       "      <td>0</td>\n",
       "    </tr>\n",
       "    <tr>\n",
       "      <th>1</th>\n",
       "      <td>0</td>\n",
       "      <td>0</td>\n",
       "      <td>0</td>\n",
       "      <td>0</td>\n",
       "      <td>0</td>\n",
       "      <td>0</td>\n",
       "      <td>0</td>\n",
       "      <td>0</td>\n",
       "      <td>0</td>\n",
       "      <td>0</td>\n",
       "      <td>...</td>\n",
       "      <td>0</td>\n",
       "      <td>0</td>\n",
       "      <td>0</td>\n",
       "      <td>0</td>\n",
       "      <td>0</td>\n",
       "      <td>0</td>\n",
       "      <td>0</td>\n",
       "      <td>0</td>\n",
       "      <td>0</td>\n",
       "      <td>0</td>\n",
       "    </tr>\n",
       "    <tr>\n",
       "      <th>2</th>\n",
       "      <td>0</td>\n",
       "      <td>0</td>\n",
       "      <td>0</td>\n",
       "      <td>0</td>\n",
       "      <td>0</td>\n",
       "      <td>0</td>\n",
       "      <td>0</td>\n",
       "      <td>0</td>\n",
       "      <td>0</td>\n",
       "      <td>0</td>\n",
       "      <td>...</td>\n",
       "      <td>0</td>\n",
       "      <td>0</td>\n",
       "      <td>0</td>\n",
       "      <td>0</td>\n",
       "      <td>0</td>\n",
       "      <td>0</td>\n",
       "      <td>0</td>\n",
       "      <td>0</td>\n",
       "      <td>0</td>\n",
       "      <td>0</td>\n",
       "    </tr>\n",
       "    <tr>\n",
       "      <th>3</th>\n",
       "      <td>0</td>\n",
       "      <td>0</td>\n",
       "      <td>0</td>\n",
       "      <td>0</td>\n",
       "      <td>0</td>\n",
       "      <td>0</td>\n",
       "      <td>0</td>\n",
       "      <td>0</td>\n",
       "      <td>0</td>\n",
       "      <td>0</td>\n",
       "      <td>...</td>\n",
       "      <td>0</td>\n",
       "      <td>0</td>\n",
       "      <td>0</td>\n",
       "      <td>0</td>\n",
       "      <td>0</td>\n",
       "      <td>0</td>\n",
       "      <td>0</td>\n",
       "      <td>0</td>\n",
       "      <td>0</td>\n",
       "      <td>0</td>\n",
       "    </tr>\n",
       "    <tr>\n",
       "      <th>4</th>\n",
       "      <td>0</td>\n",
       "      <td>0</td>\n",
       "      <td>0</td>\n",
       "      <td>0</td>\n",
       "      <td>0</td>\n",
       "      <td>0</td>\n",
       "      <td>0</td>\n",
       "      <td>0</td>\n",
       "      <td>0</td>\n",
       "      <td>0</td>\n",
       "      <td>...</td>\n",
       "      <td>0</td>\n",
       "      <td>0</td>\n",
       "      <td>0</td>\n",
       "      <td>0</td>\n",
       "      <td>0</td>\n",
       "      <td>0</td>\n",
       "      <td>0</td>\n",
       "      <td>0</td>\n",
       "      <td>0</td>\n",
       "      <td>0</td>\n",
       "    </tr>\n",
       "    <tr>\n",
       "      <th>...</th>\n",
       "      <td>...</td>\n",
       "      <td>...</td>\n",
       "      <td>...</td>\n",
       "      <td>...</td>\n",
       "      <td>...</td>\n",
       "      <td>...</td>\n",
       "      <td>...</td>\n",
       "      <td>...</td>\n",
       "      <td>...</td>\n",
       "      <td>...</td>\n",
       "      <td>...</td>\n",
       "      <td>...</td>\n",
       "      <td>...</td>\n",
       "      <td>...</td>\n",
       "      <td>...</td>\n",
       "      <td>...</td>\n",
       "      <td>...</td>\n",
       "      <td>...</td>\n",
       "      <td>...</td>\n",
       "      <td>...</td>\n",
       "      <td>...</td>\n",
       "    </tr>\n",
       "    <tr>\n",
       "      <th>59995</th>\n",
       "      <td>0</td>\n",
       "      <td>0</td>\n",
       "      <td>0</td>\n",
       "      <td>0</td>\n",
       "      <td>0</td>\n",
       "      <td>0</td>\n",
       "      <td>0</td>\n",
       "      <td>0</td>\n",
       "      <td>0</td>\n",
       "      <td>0</td>\n",
       "      <td>...</td>\n",
       "      <td>0</td>\n",
       "      <td>0</td>\n",
       "      <td>0</td>\n",
       "      <td>0</td>\n",
       "      <td>0</td>\n",
       "      <td>0</td>\n",
       "      <td>0</td>\n",
       "      <td>0</td>\n",
       "      <td>0</td>\n",
       "      <td>0</td>\n",
       "    </tr>\n",
       "    <tr>\n",
       "      <th>59996</th>\n",
       "      <td>0</td>\n",
       "      <td>0</td>\n",
       "      <td>0</td>\n",
       "      <td>0</td>\n",
       "      <td>0</td>\n",
       "      <td>0</td>\n",
       "      <td>0</td>\n",
       "      <td>0</td>\n",
       "      <td>0</td>\n",
       "      <td>0</td>\n",
       "      <td>...</td>\n",
       "      <td>0</td>\n",
       "      <td>0</td>\n",
       "      <td>0</td>\n",
       "      <td>0</td>\n",
       "      <td>0</td>\n",
       "      <td>0</td>\n",
       "      <td>0</td>\n",
       "      <td>0</td>\n",
       "      <td>0</td>\n",
       "      <td>0</td>\n",
       "    </tr>\n",
       "    <tr>\n",
       "      <th>59997</th>\n",
       "      <td>0</td>\n",
       "      <td>0</td>\n",
       "      <td>0</td>\n",
       "      <td>0</td>\n",
       "      <td>0</td>\n",
       "      <td>0</td>\n",
       "      <td>0</td>\n",
       "      <td>0</td>\n",
       "      <td>0</td>\n",
       "      <td>0</td>\n",
       "      <td>...</td>\n",
       "      <td>0</td>\n",
       "      <td>0</td>\n",
       "      <td>0</td>\n",
       "      <td>0</td>\n",
       "      <td>0</td>\n",
       "      <td>0</td>\n",
       "      <td>0</td>\n",
       "      <td>0</td>\n",
       "      <td>0</td>\n",
       "      <td>0</td>\n",
       "    </tr>\n",
       "    <tr>\n",
       "      <th>59998</th>\n",
       "      <td>0</td>\n",
       "      <td>0</td>\n",
       "      <td>0</td>\n",
       "      <td>0</td>\n",
       "      <td>0</td>\n",
       "      <td>0</td>\n",
       "      <td>0</td>\n",
       "      <td>0</td>\n",
       "      <td>0</td>\n",
       "      <td>0</td>\n",
       "      <td>...</td>\n",
       "      <td>0</td>\n",
       "      <td>0</td>\n",
       "      <td>0</td>\n",
       "      <td>0</td>\n",
       "      <td>0</td>\n",
       "      <td>0</td>\n",
       "      <td>0</td>\n",
       "      <td>0</td>\n",
       "      <td>0</td>\n",
       "      <td>0</td>\n",
       "    </tr>\n",
       "    <tr>\n",
       "      <th>59999</th>\n",
       "      <td>0</td>\n",
       "      <td>0</td>\n",
       "      <td>0</td>\n",
       "      <td>0</td>\n",
       "      <td>0</td>\n",
       "      <td>0</td>\n",
       "      <td>0</td>\n",
       "      <td>0</td>\n",
       "      <td>0</td>\n",
       "      <td>0</td>\n",
       "      <td>...</td>\n",
       "      <td>0</td>\n",
       "      <td>0</td>\n",
       "      <td>0</td>\n",
       "      <td>0</td>\n",
       "      <td>0</td>\n",
       "      <td>0</td>\n",
       "      <td>0</td>\n",
       "      <td>0</td>\n",
       "      <td>0</td>\n",
       "      <td>0</td>\n",
       "    </tr>\n",
       "  </tbody>\n",
       "</table>\n",
       "<p>60000 rows × 784 columns</p>\n",
       "</div>"
      ],
      "text/plain": [
       "       0    1    2    3    4    5    6    7    8    9    ...  774  775  776  \\\n",
       "0        0    0    0    0    0    0    0    0    0    0  ...    0    0    0   \n",
       "1        0    0    0    0    0    0    0    0    0    0  ...    0    0    0   \n",
       "2        0    0    0    0    0    0    0    0    0    0  ...    0    0    0   \n",
       "3        0    0    0    0    0    0    0    0    0    0  ...    0    0    0   \n",
       "4        0    0    0    0    0    0    0    0    0    0  ...    0    0    0   \n",
       "...    ...  ...  ...  ...  ...  ...  ...  ...  ...  ...  ...  ...  ...  ...   \n",
       "59995    0    0    0    0    0    0    0    0    0    0  ...    0    0    0   \n",
       "59996    0    0    0    0    0    0    0    0    0    0  ...    0    0    0   \n",
       "59997    0    0    0    0    0    0    0    0    0    0  ...    0    0    0   \n",
       "59998    0    0    0    0    0    0    0    0    0    0  ...    0    0    0   \n",
       "59999    0    0    0    0    0    0    0    0    0    0  ...    0    0    0   \n",
       "\n",
       "       777  778  779  780  781  782  783  \n",
       "0        0    0    0    0    0    0    0  \n",
       "1        0    0    0    0    0    0    0  \n",
       "2        0    0    0    0    0    0    0  \n",
       "3        0    0    0    0    0    0    0  \n",
       "4        0    0    0    0    0    0    0  \n",
       "...    ...  ...  ...  ...  ...  ...  ...  \n",
       "59995    0    0    0    0    0    0    0  \n",
       "59996    0    0    0    0    0    0    0  \n",
       "59997    0    0    0    0    0    0    0  \n",
       "59998    0    0    0    0    0    0    0  \n",
       "59999    0    0    0    0    0    0    0  \n",
       "\n",
       "[60000 rows x 784 columns]"
      ]
     },
     "execution_count": 4,
     "metadata": {},
     "output_type": "execute_result"
    }
   ],
   "source": [
    "df1"
   ]
  },
  {
   "cell_type": "code",
   "execution_count": 5,
   "id": "e5fb2452",
   "metadata": {},
   "outputs": [],
   "source": [
    "df1_target = pd.DataFrame(y_train)"
   ]
  },
  {
   "cell_type": "code",
   "execution_count": 6,
   "id": "90285008",
   "metadata": {},
   "outputs": [
    {
     "data": {
      "text/html": [
       "<div>\n",
       "<style scoped>\n",
       "    .dataframe tbody tr th:only-of-type {\n",
       "        vertical-align: middle;\n",
       "    }\n",
       "\n",
       "    .dataframe tbody tr th {\n",
       "        vertical-align: top;\n",
       "    }\n",
       "\n",
       "    .dataframe thead th {\n",
       "        text-align: right;\n",
       "    }\n",
       "</style>\n",
       "<table border=\"1\" class=\"dataframe\">\n",
       "  <thead>\n",
       "    <tr style=\"text-align: right;\">\n",
       "      <th></th>\n",
       "      <th>0</th>\n",
       "    </tr>\n",
       "  </thead>\n",
       "  <tbody>\n",
       "    <tr>\n",
       "      <th>0</th>\n",
       "      <td>5</td>\n",
       "    </tr>\n",
       "    <tr>\n",
       "      <th>1</th>\n",
       "      <td>0</td>\n",
       "    </tr>\n",
       "    <tr>\n",
       "      <th>2</th>\n",
       "      <td>4</td>\n",
       "    </tr>\n",
       "    <tr>\n",
       "      <th>3</th>\n",
       "      <td>1</td>\n",
       "    </tr>\n",
       "    <tr>\n",
       "      <th>4</th>\n",
       "      <td>9</td>\n",
       "    </tr>\n",
       "    <tr>\n",
       "      <th>...</th>\n",
       "      <td>...</td>\n",
       "    </tr>\n",
       "    <tr>\n",
       "      <th>59995</th>\n",
       "      <td>8</td>\n",
       "    </tr>\n",
       "    <tr>\n",
       "      <th>59996</th>\n",
       "      <td>3</td>\n",
       "    </tr>\n",
       "    <tr>\n",
       "      <th>59997</th>\n",
       "      <td>5</td>\n",
       "    </tr>\n",
       "    <tr>\n",
       "      <th>59998</th>\n",
       "      <td>6</td>\n",
       "    </tr>\n",
       "    <tr>\n",
       "      <th>59999</th>\n",
       "      <td>8</td>\n",
       "    </tr>\n",
       "  </tbody>\n",
       "</table>\n",
       "<p>60000 rows × 1 columns</p>\n",
       "</div>"
      ],
      "text/plain": [
       "       0\n",
       "0      5\n",
       "1      0\n",
       "2      4\n",
       "3      1\n",
       "4      9\n",
       "...   ..\n",
       "59995  8\n",
       "59996  3\n",
       "59997  5\n",
       "59998  6\n",
       "59999  8\n",
       "\n",
       "[60000 rows x 1 columns]"
      ]
     },
     "execution_count": 6,
     "metadata": {},
     "output_type": "execute_result"
    }
   ],
   "source": [
    "df1_target"
   ]
  },
  {
   "cell_type": "code",
   "execution_count": 7,
   "id": "70101328",
   "metadata": {},
   "outputs": [
    {
     "data": {
      "text/html": [
       "<div>\n",
       "<style scoped>\n",
       "    .dataframe tbody tr th:only-of-type {\n",
       "        vertical-align: middle;\n",
       "    }\n",
       "\n",
       "    .dataframe tbody tr th {\n",
       "        vertical-align: top;\n",
       "    }\n",
       "\n",
       "    .dataframe thead th {\n",
       "        text-align: right;\n",
       "    }\n",
       "</style>\n",
       "<table border=\"1\" class=\"dataframe\">\n",
       "  <thead>\n",
       "    <tr style=\"text-align: right;\">\n",
       "      <th></th>\n",
       "      <th>0</th>\n",
       "      <th>1</th>\n",
       "      <th>2</th>\n",
       "      <th>3</th>\n",
       "      <th>4</th>\n",
       "      <th>5</th>\n",
       "      <th>6</th>\n",
       "      <th>7</th>\n",
       "      <th>8</th>\n",
       "      <th>9</th>\n",
       "      <th>...</th>\n",
       "      <th>775</th>\n",
       "      <th>776</th>\n",
       "      <th>777</th>\n",
       "      <th>778</th>\n",
       "      <th>779</th>\n",
       "      <th>780</th>\n",
       "      <th>781</th>\n",
       "      <th>782</th>\n",
       "      <th>783</th>\n",
       "      <th>target</th>\n",
       "    </tr>\n",
       "  </thead>\n",
       "  <tbody>\n",
       "    <tr>\n",
       "      <th>0</th>\n",
       "      <td>0</td>\n",
       "      <td>0</td>\n",
       "      <td>0</td>\n",
       "      <td>0</td>\n",
       "      <td>0</td>\n",
       "      <td>0</td>\n",
       "      <td>0</td>\n",
       "      <td>0</td>\n",
       "      <td>0</td>\n",
       "      <td>0</td>\n",
       "      <td>...</td>\n",
       "      <td>0</td>\n",
       "      <td>0</td>\n",
       "      <td>0</td>\n",
       "      <td>0</td>\n",
       "      <td>0</td>\n",
       "      <td>0</td>\n",
       "      <td>0</td>\n",
       "      <td>0</td>\n",
       "      <td>0</td>\n",
       "      <td>5</td>\n",
       "    </tr>\n",
       "    <tr>\n",
       "      <th>1</th>\n",
       "      <td>0</td>\n",
       "      <td>0</td>\n",
       "      <td>0</td>\n",
       "      <td>0</td>\n",
       "      <td>0</td>\n",
       "      <td>0</td>\n",
       "      <td>0</td>\n",
       "      <td>0</td>\n",
       "      <td>0</td>\n",
       "      <td>0</td>\n",
       "      <td>...</td>\n",
       "      <td>0</td>\n",
       "      <td>0</td>\n",
       "      <td>0</td>\n",
       "      <td>0</td>\n",
       "      <td>0</td>\n",
       "      <td>0</td>\n",
       "      <td>0</td>\n",
       "      <td>0</td>\n",
       "      <td>0</td>\n",
       "      <td>0</td>\n",
       "    </tr>\n",
       "    <tr>\n",
       "      <th>2</th>\n",
       "      <td>0</td>\n",
       "      <td>0</td>\n",
       "      <td>0</td>\n",
       "      <td>0</td>\n",
       "      <td>0</td>\n",
       "      <td>0</td>\n",
       "      <td>0</td>\n",
       "      <td>0</td>\n",
       "      <td>0</td>\n",
       "      <td>0</td>\n",
       "      <td>...</td>\n",
       "      <td>0</td>\n",
       "      <td>0</td>\n",
       "      <td>0</td>\n",
       "      <td>0</td>\n",
       "      <td>0</td>\n",
       "      <td>0</td>\n",
       "      <td>0</td>\n",
       "      <td>0</td>\n",
       "      <td>0</td>\n",
       "      <td>4</td>\n",
       "    </tr>\n",
       "    <tr>\n",
       "      <th>3</th>\n",
       "      <td>0</td>\n",
       "      <td>0</td>\n",
       "      <td>0</td>\n",
       "      <td>0</td>\n",
       "      <td>0</td>\n",
       "      <td>0</td>\n",
       "      <td>0</td>\n",
       "      <td>0</td>\n",
       "      <td>0</td>\n",
       "      <td>0</td>\n",
       "      <td>...</td>\n",
       "      <td>0</td>\n",
       "      <td>0</td>\n",
       "      <td>0</td>\n",
       "      <td>0</td>\n",
       "      <td>0</td>\n",
       "      <td>0</td>\n",
       "      <td>0</td>\n",
       "      <td>0</td>\n",
       "      <td>0</td>\n",
       "      <td>1</td>\n",
       "    </tr>\n",
       "    <tr>\n",
       "      <th>4</th>\n",
       "      <td>0</td>\n",
       "      <td>0</td>\n",
       "      <td>0</td>\n",
       "      <td>0</td>\n",
       "      <td>0</td>\n",
       "      <td>0</td>\n",
       "      <td>0</td>\n",
       "      <td>0</td>\n",
       "      <td>0</td>\n",
       "      <td>0</td>\n",
       "      <td>...</td>\n",
       "      <td>0</td>\n",
       "      <td>0</td>\n",
       "      <td>0</td>\n",
       "      <td>0</td>\n",
       "      <td>0</td>\n",
       "      <td>0</td>\n",
       "      <td>0</td>\n",
       "      <td>0</td>\n",
       "      <td>0</td>\n",
       "      <td>9</td>\n",
       "    </tr>\n",
       "  </tbody>\n",
       "</table>\n",
       "<p>5 rows × 785 columns</p>\n",
       "</div>"
      ],
      "text/plain": [
       "   0  1  2  3  4  5  6  7  8  9  ...  775  776  777  778  779  780  781  782  \\\n",
       "0  0  0  0  0  0  0  0  0  0  0  ...    0    0    0    0    0    0    0    0   \n",
       "1  0  0  0  0  0  0  0  0  0  0  ...    0    0    0    0    0    0    0    0   \n",
       "2  0  0  0  0  0  0  0  0  0  0  ...    0    0    0    0    0    0    0    0   \n",
       "3  0  0  0  0  0  0  0  0  0  0  ...    0    0    0    0    0    0    0    0   \n",
       "4  0  0  0  0  0  0  0  0  0  0  ...    0    0    0    0    0    0    0    0   \n",
       "\n",
       "   783  target  \n",
       "0    0       5  \n",
       "1    0       0  \n",
       "2    0       4  \n",
       "3    0       1  \n",
       "4    0       9  \n",
       "\n",
       "[5 rows x 785 columns]"
      ]
     },
     "execution_count": 7,
     "metadata": {},
     "output_type": "execute_result"
    }
   ],
   "source": [
    "df1['target'] = df1_target[0]\n",
    "df1.head()"
   ]
  },
  {
   "cell_type": "markdown",
   "id": "42812e09",
   "metadata": {},
   "source": [
    "# We did the merging for X_train and y_train, now lets do it for X_test and y_test"
   ]
  },
  {
   "cell_type": "code",
   "execution_count": 8,
   "id": "267c1a58",
   "metadata": {},
   "outputs": [
    {
     "data": {
      "text/html": [
       "<div>\n",
       "<style scoped>\n",
       "    .dataframe tbody tr th:only-of-type {\n",
       "        vertical-align: middle;\n",
       "    }\n",
       "\n",
       "    .dataframe tbody tr th {\n",
       "        vertical-align: top;\n",
       "    }\n",
       "\n",
       "    .dataframe thead th {\n",
       "        text-align: right;\n",
       "    }\n",
       "</style>\n",
       "<table border=\"1\" class=\"dataframe\">\n",
       "  <thead>\n",
       "    <tr style=\"text-align: right;\">\n",
       "      <th></th>\n",
       "      <th>0</th>\n",
       "      <th>1</th>\n",
       "      <th>2</th>\n",
       "      <th>3</th>\n",
       "      <th>4</th>\n",
       "      <th>5</th>\n",
       "      <th>6</th>\n",
       "      <th>7</th>\n",
       "      <th>8</th>\n",
       "      <th>9</th>\n",
       "      <th>...</th>\n",
       "      <th>775</th>\n",
       "      <th>776</th>\n",
       "      <th>777</th>\n",
       "      <th>778</th>\n",
       "      <th>779</th>\n",
       "      <th>780</th>\n",
       "      <th>781</th>\n",
       "      <th>782</th>\n",
       "      <th>783</th>\n",
       "      <th>target</th>\n",
       "    </tr>\n",
       "  </thead>\n",
       "  <tbody>\n",
       "    <tr>\n",
       "      <th>0</th>\n",
       "      <td>0</td>\n",
       "      <td>0</td>\n",
       "      <td>0</td>\n",
       "      <td>0</td>\n",
       "      <td>0</td>\n",
       "      <td>0</td>\n",
       "      <td>0</td>\n",
       "      <td>0</td>\n",
       "      <td>0</td>\n",
       "      <td>0</td>\n",
       "      <td>...</td>\n",
       "      <td>0</td>\n",
       "      <td>0</td>\n",
       "      <td>0</td>\n",
       "      <td>0</td>\n",
       "      <td>0</td>\n",
       "      <td>0</td>\n",
       "      <td>0</td>\n",
       "      <td>0</td>\n",
       "      <td>0</td>\n",
       "      <td>7</td>\n",
       "    </tr>\n",
       "    <tr>\n",
       "      <th>1</th>\n",
       "      <td>0</td>\n",
       "      <td>0</td>\n",
       "      <td>0</td>\n",
       "      <td>0</td>\n",
       "      <td>0</td>\n",
       "      <td>0</td>\n",
       "      <td>0</td>\n",
       "      <td>0</td>\n",
       "      <td>0</td>\n",
       "      <td>0</td>\n",
       "      <td>...</td>\n",
       "      <td>0</td>\n",
       "      <td>0</td>\n",
       "      <td>0</td>\n",
       "      <td>0</td>\n",
       "      <td>0</td>\n",
       "      <td>0</td>\n",
       "      <td>0</td>\n",
       "      <td>0</td>\n",
       "      <td>0</td>\n",
       "      <td>2</td>\n",
       "    </tr>\n",
       "    <tr>\n",
       "      <th>2</th>\n",
       "      <td>0</td>\n",
       "      <td>0</td>\n",
       "      <td>0</td>\n",
       "      <td>0</td>\n",
       "      <td>0</td>\n",
       "      <td>0</td>\n",
       "      <td>0</td>\n",
       "      <td>0</td>\n",
       "      <td>0</td>\n",
       "      <td>0</td>\n",
       "      <td>...</td>\n",
       "      <td>0</td>\n",
       "      <td>0</td>\n",
       "      <td>0</td>\n",
       "      <td>0</td>\n",
       "      <td>0</td>\n",
       "      <td>0</td>\n",
       "      <td>0</td>\n",
       "      <td>0</td>\n",
       "      <td>0</td>\n",
       "      <td>1</td>\n",
       "    </tr>\n",
       "    <tr>\n",
       "      <th>3</th>\n",
       "      <td>0</td>\n",
       "      <td>0</td>\n",
       "      <td>0</td>\n",
       "      <td>0</td>\n",
       "      <td>0</td>\n",
       "      <td>0</td>\n",
       "      <td>0</td>\n",
       "      <td>0</td>\n",
       "      <td>0</td>\n",
       "      <td>0</td>\n",
       "      <td>...</td>\n",
       "      <td>0</td>\n",
       "      <td>0</td>\n",
       "      <td>0</td>\n",
       "      <td>0</td>\n",
       "      <td>0</td>\n",
       "      <td>0</td>\n",
       "      <td>0</td>\n",
       "      <td>0</td>\n",
       "      <td>0</td>\n",
       "      <td>0</td>\n",
       "    </tr>\n",
       "    <tr>\n",
       "      <th>4</th>\n",
       "      <td>0</td>\n",
       "      <td>0</td>\n",
       "      <td>0</td>\n",
       "      <td>0</td>\n",
       "      <td>0</td>\n",
       "      <td>0</td>\n",
       "      <td>0</td>\n",
       "      <td>0</td>\n",
       "      <td>0</td>\n",
       "      <td>0</td>\n",
       "      <td>...</td>\n",
       "      <td>0</td>\n",
       "      <td>0</td>\n",
       "      <td>0</td>\n",
       "      <td>0</td>\n",
       "      <td>0</td>\n",
       "      <td>0</td>\n",
       "      <td>0</td>\n",
       "      <td>0</td>\n",
       "      <td>0</td>\n",
       "      <td>4</td>\n",
       "    </tr>\n",
       "  </tbody>\n",
       "</table>\n",
       "<p>5 rows × 785 columns</p>\n",
       "</div>"
      ],
      "text/plain": [
       "   0  1  2  3  4  5  6  7  8  9  ...  775  776  777  778  779  780  781  782  \\\n",
       "0  0  0  0  0  0  0  0  0  0  0  ...    0    0    0    0    0    0    0    0   \n",
       "1  0  0  0  0  0  0  0  0  0  0  ...    0    0    0    0    0    0    0    0   \n",
       "2  0  0  0  0  0  0  0  0  0  0  ...    0    0    0    0    0    0    0    0   \n",
       "3  0  0  0  0  0  0  0  0  0  0  ...    0    0    0    0    0    0    0    0   \n",
       "4  0  0  0  0  0  0  0  0  0  0  ...    0    0    0    0    0    0    0    0   \n",
       "\n",
       "   783  target  \n",
       "0    0       7  \n",
       "1    0       2  \n",
       "2    0       1  \n",
       "3    0       0  \n",
       "4    0       4  \n",
       "\n",
       "[5 rows x 785 columns]"
      ]
     },
     "execution_count": 8,
     "metadata": {},
     "output_type": "execute_result"
    }
   ],
   "source": [
    "x_test2 = x_test.reshape(len(x_test), 28 * 28)\n",
    "df2 = pd.DataFrame(x_test2)\n",
    "df2_target = pd.DataFrame(y_test)\n",
    "df2['target'] = df2_target[0]\n",
    "df2.head()\n",
    "\n",
    "##MERGING HAS BEEN DONE. WE NOW HAVE DF1 and DF2"
   ]
  },
  {
   "cell_type": "code",
   "execution_count": 9,
   "id": "abcf9ad0",
   "metadata": {},
   "outputs": [
    {
     "data": {
      "text/html": [
       "<div>\n",
       "<style scoped>\n",
       "    .dataframe tbody tr th:only-of-type {\n",
       "        vertical-align: middle;\n",
       "    }\n",
       "\n",
       "    .dataframe tbody tr th {\n",
       "        vertical-align: top;\n",
       "    }\n",
       "\n",
       "    .dataframe thead th {\n",
       "        text-align: right;\n",
       "    }\n",
       "</style>\n",
       "<table border=\"1\" class=\"dataframe\">\n",
       "  <thead>\n",
       "    <tr style=\"text-align: right;\">\n",
       "      <th></th>\n",
       "      <th>0</th>\n",
       "      <th>1</th>\n",
       "      <th>2</th>\n",
       "      <th>3</th>\n",
       "      <th>4</th>\n",
       "      <th>5</th>\n",
       "      <th>6</th>\n",
       "      <th>7</th>\n",
       "      <th>8</th>\n",
       "      <th>9</th>\n",
       "      <th>...</th>\n",
       "      <th>775</th>\n",
       "      <th>776</th>\n",
       "      <th>777</th>\n",
       "      <th>778</th>\n",
       "      <th>779</th>\n",
       "      <th>780</th>\n",
       "      <th>781</th>\n",
       "      <th>782</th>\n",
       "      <th>783</th>\n",
       "      <th>target</th>\n",
       "    </tr>\n",
       "  </thead>\n",
       "  <tbody>\n",
       "    <tr>\n",
       "      <th>0</th>\n",
       "      <td>0</td>\n",
       "      <td>0</td>\n",
       "      <td>0</td>\n",
       "      <td>0</td>\n",
       "      <td>0</td>\n",
       "      <td>0</td>\n",
       "      <td>0</td>\n",
       "      <td>0</td>\n",
       "      <td>0</td>\n",
       "      <td>0</td>\n",
       "      <td>...</td>\n",
       "      <td>0</td>\n",
       "      <td>0</td>\n",
       "      <td>0</td>\n",
       "      <td>0</td>\n",
       "      <td>0</td>\n",
       "      <td>0</td>\n",
       "      <td>0</td>\n",
       "      <td>0</td>\n",
       "      <td>0</td>\n",
       "      <td>5</td>\n",
       "    </tr>\n",
       "    <tr>\n",
       "      <th>1</th>\n",
       "      <td>0</td>\n",
       "      <td>0</td>\n",
       "      <td>0</td>\n",
       "      <td>0</td>\n",
       "      <td>0</td>\n",
       "      <td>0</td>\n",
       "      <td>0</td>\n",
       "      <td>0</td>\n",
       "      <td>0</td>\n",
       "      <td>0</td>\n",
       "      <td>...</td>\n",
       "      <td>0</td>\n",
       "      <td>0</td>\n",
       "      <td>0</td>\n",
       "      <td>0</td>\n",
       "      <td>0</td>\n",
       "      <td>0</td>\n",
       "      <td>0</td>\n",
       "      <td>0</td>\n",
       "      <td>0</td>\n",
       "      <td>0</td>\n",
       "    </tr>\n",
       "    <tr>\n",
       "      <th>2</th>\n",
       "      <td>0</td>\n",
       "      <td>0</td>\n",
       "      <td>0</td>\n",
       "      <td>0</td>\n",
       "      <td>0</td>\n",
       "      <td>0</td>\n",
       "      <td>0</td>\n",
       "      <td>0</td>\n",
       "      <td>0</td>\n",
       "      <td>0</td>\n",
       "      <td>...</td>\n",
       "      <td>0</td>\n",
       "      <td>0</td>\n",
       "      <td>0</td>\n",
       "      <td>0</td>\n",
       "      <td>0</td>\n",
       "      <td>0</td>\n",
       "      <td>0</td>\n",
       "      <td>0</td>\n",
       "      <td>0</td>\n",
       "      <td>4</td>\n",
       "    </tr>\n",
       "    <tr>\n",
       "      <th>3</th>\n",
       "      <td>0</td>\n",
       "      <td>0</td>\n",
       "      <td>0</td>\n",
       "      <td>0</td>\n",
       "      <td>0</td>\n",
       "      <td>0</td>\n",
       "      <td>0</td>\n",
       "      <td>0</td>\n",
       "      <td>0</td>\n",
       "      <td>0</td>\n",
       "      <td>...</td>\n",
       "      <td>0</td>\n",
       "      <td>0</td>\n",
       "      <td>0</td>\n",
       "      <td>0</td>\n",
       "      <td>0</td>\n",
       "      <td>0</td>\n",
       "      <td>0</td>\n",
       "      <td>0</td>\n",
       "      <td>0</td>\n",
       "      <td>1</td>\n",
       "    </tr>\n",
       "    <tr>\n",
       "      <th>4</th>\n",
       "      <td>0</td>\n",
       "      <td>0</td>\n",
       "      <td>0</td>\n",
       "      <td>0</td>\n",
       "      <td>0</td>\n",
       "      <td>0</td>\n",
       "      <td>0</td>\n",
       "      <td>0</td>\n",
       "      <td>0</td>\n",
       "      <td>0</td>\n",
       "      <td>...</td>\n",
       "      <td>0</td>\n",
       "      <td>0</td>\n",
       "      <td>0</td>\n",
       "      <td>0</td>\n",
       "      <td>0</td>\n",
       "      <td>0</td>\n",
       "      <td>0</td>\n",
       "      <td>0</td>\n",
       "      <td>0</td>\n",
       "      <td>9</td>\n",
       "    </tr>\n",
       "    <tr>\n",
       "      <th>...</th>\n",
       "      <td>...</td>\n",
       "      <td>...</td>\n",
       "      <td>...</td>\n",
       "      <td>...</td>\n",
       "      <td>...</td>\n",
       "      <td>...</td>\n",
       "      <td>...</td>\n",
       "      <td>...</td>\n",
       "      <td>...</td>\n",
       "      <td>...</td>\n",
       "      <td>...</td>\n",
       "      <td>...</td>\n",
       "      <td>...</td>\n",
       "      <td>...</td>\n",
       "      <td>...</td>\n",
       "      <td>...</td>\n",
       "      <td>...</td>\n",
       "      <td>...</td>\n",
       "      <td>...</td>\n",
       "      <td>...</td>\n",
       "      <td>...</td>\n",
       "    </tr>\n",
       "    <tr>\n",
       "      <th>69995</th>\n",
       "      <td>0</td>\n",
       "      <td>0</td>\n",
       "      <td>0</td>\n",
       "      <td>0</td>\n",
       "      <td>0</td>\n",
       "      <td>0</td>\n",
       "      <td>0</td>\n",
       "      <td>0</td>\n",
       "      <td>0</td>\n",
       "      <td>0</td>\n",
       "      <td>...</td>\n",
       "      <td>0</td>\n",
       "      <td>0</td>\n",
       "      <td>0</td>\n",
       "      <td>0</td>\n",
       "      <td>0</td>\n",
       "      <td>0</td>\n",
       "      <td>0</td>\n",
       "      <td>0</td>\n",
       "      <td>0</td>\n",
       "      <td>2</td>\n",
       "    </tr>\n",
       "    <tr>\n",
       "      <th>69996</th>\n",
       "      <td>0</td>\n",
       "      <td>0</td>\n",
       "      <td>0</td>\n",
       "      <td>0</td>\n",
       "      <td>0</td>\n",
       "      <td>0</td>\n",
       "      <td>0</td>\n",
       "      <td>0</td>\n",
       "      <td>0</td>\n",
       "      <td>0</td>\n",
       "      <td>...</td>\n",
       "      <td>0</td>\n",
       "      <td>0</td>\n",
       "      <td>0</td>\n",
       "      <td>0</td>\n",
       "      <td>0</td>\n",
       "      <td>0</td>\n",
       "      <td>0</td>\n",
       "      <td>0</td>\n",
       "      <td>0</td>\n",
       "      <td>3</td>\n",
       "    </tr>\n",
       "    <tr>\n",
       "      <th>69997</th>\n",
       "      <td>0</td>\n",
       "      <td>0</td>\n",
       "      <td>0</td>\n",
       "      <td>0</td>\n",
       "      <td>0</td>\n",
       "      <td>0</td>\n",
       "      <td>0</td>\n",
       "      <td>0</td>\n",
       "      <td>0</td>\n",
       "      <td>0</td>\n",
       "      <td>...</td>\n",
       "      <td>0</td>\n",
       "      <td>0</td>\n",
       "      <td>0</td>\n",
       "      <td>0</td>\n",
       "      <td>0</td>\n",
       "      <td>0</td>\n",
       "      <td>0</td>\n",
       "      <td>0</td>\n",
       "      <td>0</td>\n",
       "      <td>4</td>\n",
       "    </tr>\n",
       "    <tr>\n",
       "      <th>69998</th>\n",
       "      <td>0</td>\n",
       "      <td>0</td>\n",
       "      <td>0</td>\n",
       "      <td>0</td>\n",
       "      <td>0</td>\n",
       "      <td>0</td>\n",
       "      <td>0</td>\n",
       "      <td>0</td>\n",
       "      <td>0</td>\n",
       "      <td>0</td>\n",
       "      <td>...</td>\n",
       "      <td>0</td>\n",
       "      <td>0</td>\n",
       "      <td>0</td>\n",
       "      <td>0</td>\n",
       "      <td>0</td>\n",
       "      <td>0</td>\n",
       "      <td>0</td>\n",
       "      <td>0</td>\n",
       "      <td>0</td>\n",
       "      <td>5</td>\n",
       "    </tr>\n",
       "    <tr>\n",
       "      <th>69999</th>\n",
       "      <td>0</td>\n",
       "      <td>0</td>\n",
       "      <td>0</td>\n",
       "      <td>0</td>\n",
       "      <td>0</td>\n",
       "      <td>0</td>\n",
       "      <td>0</td>\n",
       "      <td>0</td>\n",
       "      <td>0</td>\n",
       "      <td>0</td>\n",
       "      <td>...</td>\n",
       "      <td>0</td>\n",
       "      <td>0</td>\n",
       "      <td>0</td>\n",
       "      <td>0</td>\n",
       "      <td>0</td>\n",
       "      <td>0</td>\n",
       "      <td>0</td>\n",
       "      <td>0</td>\n",
       "      <td>0</td>\n",
       "      <td>6</td>\n",
       "    </tr>\n",
       "  </tbody>\n",
       "</table>\n",
       "<p>70000 rows × 785 columns</p>\n",
       "</div>"
      ],
      "text/plain": [
       "       0  1  2  3  4  5  6  7  8  9  ...  775  776  777  778  779  780  781  \\\n",
       "0      0  0  0  0  0  0  0  0  0  0  ...    0    0    0    0    0    0    0   \n",
       "1      0  0  0  0  0  0  0  0  0  0  ...    0    0    0    0    0    0    0   \n",
       "2      0  0  0  0  0  0  0  0  0  0  ...    0    0    0    0    0    0    0   \n",
       "3      0  0  0  0  0  0  0  0  0  0  ...    0    0    0    0    0    0    0   \n",
       "4      0  0  0  0  0  0  0  0  0  0  ...    0    0    0    0    0    0    0   \n",
       "...   .. .. .. .. .. .. .. .. .. ..  ...  ...  ...  ...  ...  ...  ...  ...   \n",
       "69995  0  0  0  0  0  0  0  0  0  0  ...    0    0    0    0    0    0    0   \n",
       "69996  0  0  0  0  0  0  0  0  0  0  ...    0    0    0    0    0    0    0   \n",
       "69997  0  0  0  0  0  0  0  0  0  0  ...    0    0    0    0    0    0    0   \n",
       "69998  0  0  0  0  0  0  0  0  0  0  ...    0    0    0    0    0    0    0   \n",
       "69999  0  0  0  0  0  0  0  0  0  0  ...    0    0    0    0    0    0    0   \n",
       "\n",
       "       782  783  target  \n",
       "0        0    0       5  \n",
       "1        0    0       0  \n",
       "2        0    0       4  \n",
       "3        0    0       1  \n",
       "4        0    0       9  \n",
       "...    ...  ...     ...  \n",
       "69995    0    0       2  \n",
       "69996    0    0       3  \n",
       "69997    0    0       4  \n",
       "69998    0    0       5  \n",
       "69999    0    0       6  \n",
       "\n",
       "[70000 rows x 785 columns]"
      ]
     },
     "execution_count": 9,
     "metadata": {},
     "output_type": "execute_result"
    }
   ],
   "source": [
    "##NOW GETTING THE DF IN WHICH WE WILL MERGE ALL OF THESE\n",
    "df3 = pd.concat([df1, df2], ignore_index = True)\n",
    "df3"
   ]
  },
  {
   "cell_type": "code",
   "execution_count": 10,
   "id": "50d285aa",
   "metadata": {},
   "outputs": [
    {
     "data": {
      "text/html": [
       "<div>\n",
       "<style scoped>\n",
       "    .dataframe tbody tr th:only-of-type {\n",
       "        vertical-align: middle;\n",
       "    }\n",
       "\n",
       "    .dataframe tbody tr th {\n",
       "        vertical-align: top;\n",
       "    }\n",
       "\n",
       "    .dataframe thead th {\n",
       "        text-align: right;\n",
       "    }\n",
       "</style>\n",
       "<table border=\"1\" class=\"dataframe\">\n",
       "  <thead>\n",
       "    <tr style=\"text-align: right;\">\n",
       "      <th></th>\n",
       "      <th>0</th>\n",
       "      <th>1</th>\n",
       "      <th>2</th>\n",
       "      <th>3</th>\n",
       "      <th>4</th>\n",
       "      <th>5</th>\n",
       "      <th>6</th>\n",
       "      <th>7</th>\n",
       "      <th>8</th>\n",
       "      <th>9</th>\n",
       "      <th>...</th>\n",
       "      <th>775</th>\n",
       "      <th>776</th>\n",
       "      <th>777</th>\n",
       "      <th>778</th>\n",
       "      <th>779</th>\n",
       "      <th>780</th>\n",
       "      <th>781</th>\n",
       "      <th>782</th>\n",
       "      <th>783</th>\n",
       "      <th>target</th>\n",
       "    </tr>\n",
       "  </thead>\n",
       "  <tbody>\n",
       "    <tr>\n",
       "      <th>3787</th>\n",
       "      <td>0</td>\n",
       "      <td>0</td>\n",
       "      <td>0</td>\n",
       "      <td>0</td>\n",
       "      <td>0</td>\n",
       "      <td>0</td>\n",
       "      <td>0</td>\n",
       "      <td>0</td>\n",
       "      <td>0</td>\n",
       "      <td>0</td>\n",
       "      <td>...</td>\n",
       "      <td>0</td>\n",
       "      <td>0</td>\n",
       "      <td>0</td>\n",
       "      <td>0</td>\n",
       "      <td>0</td>\n",
       "      <td>0</td>\n",
       "      <td>0</td>\n",
       "      <td>0</td>\n",
       "      <td>0</td>\n",
       "      <td>9</td>\n",
       "    </tr>\n",
       "    <tr>\n",
       "      <th>57724</th>\n",
       "      <td>0</td>\n",
       "      <td>0</td>\n",
       "      <td>0</td>\n",
       "      <td>0</td>\n",
       "      <td>0</td>\n",
       "      <td>0</td>\n",
       "      <td>0</td>\n",
       "      <td>0</td>\n",
       "      <td>0</td>\n",
       "      <td>0</td>\n",
       "      <td>...</td>\n",
       "      <td>0</td>\n",
       "      <td>0</td>\n",
       "      <td>0</td>\n",
       "      <td>0</td>\n",
       "      <td>0</td>\n",
       "      <td>0</td>\n",
       "      <td>0</td>\n",
       "      <td>0</td>\n",
       "      <td>0</td>\n",
       "      <td>4</td>\n",
       "    </tr>\n",
       "    <tr>\n",
       "      <th>22576</th>\n",
       "      <td>0</td>\n",
       "      <td>0</td>\n",
       "      <td>0</td>\n",
       "      <td>0</td>\n",
       "      <td>0</td>\n",
       "      <td>0</td>\n",
       "      <td>0</td>\n",
       "      <td>0</td>\n",
       "      <td>0</td>\n",
       "      <td>0</td>\n",
       "      <td>...</td>\n",
       "      <td>0</td>\n",
       "      <td>0</td>\n",
       "      <td>0</td>\n",
       "      <td>0</td>\n",
       "      <td>0</td>\n",
       "      <td>0</td>\n",
       "      <td>0</td>\n",
       "      <td>0</td>\n",
       "      <td>0</td>\n",
       "      <td>9</td>\n",
       "    </tr>\n",
       "    <tr>\n",
       "      <th>53743</th>\n",
       "      <td>0</td>\n",
       "      <td>0</td>\n",
       "      <td>0</td>\n",
       "      <td>0</td>\n",
       "      <td>0</td>\n",
       "      <td>0</td>\n",
       "      <td>0</td>\n",
       "      <td>0</td>\n",
       "      <td>0</td>\n",
       "      <td>0</td>\n",
       "      <td>...</td>\n",
       "      <td>0</td>\n",
       "      <td>0</td>\n",
       "      <td>0</td>\n",
       "      <td>0</td>\n",
       "      <td>0</td>\n",
       "      <td>0</td>\n",
       "      <td>0</td>\n",
       "      <td>0</td>\n",
       "      <td>0</td>\n",
       "      <td>8</td>\n",
       "    </tr>\n",
       "    <tr>\n",
       "      <th>58755</th>\n",
       "      <td>0</td>\n",
       "      <td>0</td>\n",
       "      <td>0</td>\n",
       "      <td>0</td>\n",
       "      <td>0</td>\n",
       "      <td>0</td>\n",
       "      <td>0</td>\n",
       "      <td>0</td>\n",
       "      <td>0</td>\n",
       "      <td>0</td>\n",
       "      <td>...</td>\n",
       "      <td>0</td>\n",
       "      <td>0</td>\n",
       "      <td>0</td>\n",
       "      <td>0</td>\n",
       "      <td>0</td>\n",
       "      <td>0</td>\n",
       "      <td>0</td>\n",
       "      <td>0</td>\n",
       "      <td>0</td>\n",
       "      <td>6</td>\n",
       "    </tr>\n",
       "    <tr>\n",
       "      <th>...</th>\n",
       "      <td>...</td>\n",
       "      <td>...</td>\n",
       "      <td>...</td>\n",
       "      <td>...</td>\n",
       "      <td>...</td>\n",
       "      <td>...</td>\n",
       "      <td>...</td>\n",
       "      <td>...</td>\n",
       "      <td>...</td>\n",
       "      <td>...</td>\n",
       "      <td>...</td>\n",
       "      <td>...</td>\n",
       "      <td>...</td>\n",
       "      <td>...</td>\n",
       "      <td>...</td>\n",
       "      <td>...</td>\n",
       "      <td>...</td>\n",
       "      <td>...</td>\n",
       "      <td>...</td>\n",
       "      <td>...</td>\n",
       "      <td>...</td>\n",
       "    </tr>\n",
       "    <tr>\n",
       "      <th>24327</th>\n",
       "      <td>0</td>\n",
       "      <td>0</td>\n",
       "      <td>0</td>\n",
       "      <td>0</td>\n",
       "      <td>0</td>\n",
       "      <td>0</td>\n",
       "      <td>0</td>\n",
       "      <td>0</td>\n",
       "      <td>0</td>\n",
       "      <td>0</td>\n",
       "      <td>...</td>\n",
       "      <td>0</td>\n",
       "      <td>0</td>\n",
       "      <td>0</td>\n",
       "      <td>0</td>\n",
       "      <td>0</td>\n",
       "      <td>0</td>\n",
       "      <td>0</td>\n",
       "      <td>0</td>\n",
       "      <td>0</td>\n",
       "      <td>4</td>\n",
       "    </tr>\n",
       "    <tr>\n",
       "      <th>55761</th>\n",
       "      <td>0</td>\n",
       "      <td>0</td>\n",
       "      <td>0</td>\n",
       "      <td>0</td>\n",
       "      <td>0</td>\n",
       "      <td>0</td>\n",
       "      <td>0</td>\n",
       "      <td>0</td>\n",
       "      <td>0</td>\n",
       "      <td>0</td>\n",
       "      <td>...</td>\n",
       "      <td>0</td>\n",
       "      <td>0</td>\n",
       "      <td>0</td>\n",
       "      <td>0</td>\n",
       "      <td>0</td>\n",
       "      <td>0</td>\n",
       "      <td>0</td>\n",
       "      <td>0</td>\n",
       "      <td>0</td>\n",
       "      <td>8</td>\n",
       "    </tr>\n",
       "    <tr>\n",
       "      <th>22908</th>\n",
       "      <td>0</td>\n",
       "      <td>0</td>\n",
       "      <td>0</td>\n",
       "      <td>0</td>\n",
       "      <td>0</td>\n",
       "      <td>0</td>\n",
       "      <td>0</td>\n",
       "      <td>0</td>\n",
       "      <td>0</td>\n",
       "      <td>0</td>\n",
       "      <td>...</td>\n",
       "      <td>0</td>\n",
       "      <td>0</td>\n",
       "      <td>0</td>\n",
       "      <td>0</td>\n",
       "      <td>0</td>\n",
       "      <td>0</td>\n",
       "      <td>0</td>\n",
       "      <td>0</td>\n",
       "      <td>0</td>\n",
       "      <td>6</td>\n",
       "    </tr>\n",
       "    <tr>\n",
       "      <th>42251</th>\n",
       "      <td>0</td>\n",
       "      <td>0</td>\n",
       "      <td>0</td>\n",
       "      <td>0</td>\n",
       "      <td>0</td>\n",
       "      <td>0</td>\n",
       "      <td>0</td>\n",
       "      <td>0</td>\n",
       "      <td>0</td>\n",
       "      <td>0</td>\n",
       "      <td>...</td>\n",
       "      <td>0</td>\n",
       "      <td>0</td>\n",
       "      <td>0</td>\n",
       "      <td>0</td>\n",
       "      <td>0</td>\n",
       "      <td>0</td>\n",
       "      <td>0</td>\n",
       "      <td>0</td>\n",
       "      <td>0</td>\n",
       "      <td>3</td>\n",
       "    </tr>\n",
       "    <tr>\n",
       "      <th>54348</th>\n",
       "      <td>0</td>\n",
       "      <td>0</td>\n",
       "      <td>0</td>\n",
       "      <td>0</td>\n",
       "      <td>0</td>\n",
       "      <td>0</td>\n",
       "      <td>0</td>\n",
       "      <td>0</td>\n",
       "      <td>0</td>\n",
       "      <td>0</td>\n",
       "      <td>...</td>\n",
       "      <td>0</td>\n",
       "      <td>0</td>\n",
       "      <td>0</td>\n",
       "      <td>0</td>\n",
       "      <td>0</td>\n",
       "      <td>0</td>\n",
       "      <td>0</td>\n",
       "      <td>0</td>\n",
       "      <td>0</td>\n",
       "      <td>6</td>\n",
       "    </tr>\n",
       "  </tbody>\n",
       "</table>\n",
       "<p>46900 rows × 785 columns</p>\n",
       "</div>"
      ],
      "text/plain": [
       "       0  1  2  3  4  5  6  7  8  9  ...  775  776  777  778  779  780  781  \\\n",
       "3787   0  0  0  0  0  0  0  0  0  0  ...    0    0    0    0    0    0    0   \n",
       "57724  0  0  0  0  0  0  0  0  0  0  ...    0    0    0    0    0    0    0   \n",
       "22576  0  0  0  0  0  0  0  0  0  0  ...    0    0    0    0    0    0    0   \n",
       "53743  0  0  0  0  0  0  0  0  0  0  ...    0    0    0    0    0    0    0   \n",
       "58755  0  0  0  0  0  0  0  0  0  0  ...    0    0    0    0    0    0    0   \n",
       "...   .. .. .. .. .. .. .. .. .. ..  ...  ...  ...  ...  ...  ...  ...  ...   \n",
       "24327  0  0  0  0  0  0  0  0  0  0  ...    0    0    0    0    0    0    0   \n",
       "55761  0  0  0  0  0  0  0  0  0  0  ...    0    0    0    0    0    0    0   \n",
       "22908  0  0  0  0  0  0  0  0  0  0  ...    0    0    0    0    0    0    0   \n",
       "42251  0  0  0  0  0  0  0  0  0  0  ...    0    0    0    0    0    0    0   \n",
       "54348  0  0  0  0  0  0  0  0  0  0  ...    0    0    0    0    0    0    0   \n",
       "\n",
       "       782  783  target  \n",
       "3787     0    0       9  \n",
       "57724    0    0       4  \n",
       "22576    0    0       9  \n",
       "53743    0    0       8  \n",
       "58755    0    0       6  \n",
       "...    ...  ...     ...  \n",
       "24327    0    0       4  \n",
       "55761    0    0       8  \n",
       "22908    0    0       6  \n",
       "42251    0    0       3  \n",
       "54348    0    0       6  \n",
       "\n",
       "[46900 rows x 785 columns]"
      ]
     },
     "execution_count": 10,
     "metadata": {},
     "output_type": "execute_result"
    }
   ],
   "source": [
    "# y = df3['target']\n",
    "# y = pd.DataFrame(y)\n",
    "# y.head()\n",
    "df_train = df3.sample(frac=0.67,random_state=8)\n",
    "df_test = df3.drop(df_train.index)\n",
    "df_train"
   ]
  },
  {
   "cell_type": "code",
   "execution_count": 11,
   "id": "a91bbcfd",
   "metadata": {},
   "outputs": [
    {
     "data": {
      "text/html": [
       "<div>\n",
       "<style scoped>\n",
       "    .dataframe tbody tr th:only-of-type {\n",
       "        vertical-align: middle;\n",
       "    }\n",
       "\n",
       "    .dataframe tbody tr th {\n",
       "        vertical-align: top;\n",
       "    }\n",
       "\n",
       "    .dataframe thead th {\n",
       "        text-align: right;\n",
       "    }\n",
       "</style>\n",
       "<table border=\"1\" class=\"dataframe\">\n",
       "  <thead>\n",
       "    <tr style=\"text-align: right;\">\n",
       "      <th></th>\n",
       "      <th>target</th>\n",
       "    </tr>\n",
       "  </thead>\n",
       "  <tbody>\n",
       "    <tr>\n",
       "      <th>3787</th>\n",
       "      <td>9</td>\n",
       "    </tr>\n",
       "    <tr>\n",
       "      <th>57724</th>\n",
       "      <td>4</td>\n",
       "    </tr>\n",
       "    <tr>\n",
       "      <th>22576</th>\n",
       "      <td>9</td>\n",
       "    </tr>\n",
       "    <tr>\n",
       "      <th>53743</th>\n",
       "      <td>8</td>\n",
       "    </tr>\n",
       "    <tr>\n",
       "      <th>58755</th>\n",
       "      <td>6</td>\n",
       "    </tr>\n",
       "  </tbody>\n",
       "</table>\n",
       "</div>"
      ],
      "text/plain": [
       "       target\n",
       "3787        9\n",
       "57724       4\n",
       "22576       9\n",
       "53743       8\n",
       "58755       6"
      ]
     },
     "execution_count": 11,
     "metadata": {},
     "output_type": "execute_result"
    }
   ],
   "source": [
    "y_train = df_train['target']\n",
    "y_train = pd.DataFrame(y_train)\n",
    "y_train.head()\n",
    "# df_train = df_train.drop('target', axis = 1, inplace = True)\n",
    "# df_train.head()"
   ]
  },
  {
   "cell_type": "code",
   "execution_count": 12,
   "id": "b4613f2a",
   "metadata": {},
   "outputs": [],
   "source": [
    "df_train = df_train.drop('target', axis=1)\n"
   ]
  },
  {
   "cell_type": "code",
   "execution_count": 13,
   "id": "e2be42aa",
   "metadata": {},
   "outputs": [
    {
     "data": {
      "text/html": [
       "<div>\n",
       "<style scoped>\n",
       "    .dataframe tbody tr th:only-of-type {\n",
       "        vertical-align: middle;\n",
       "    }\n",
       "\n",
       "    .dataframe tbody tr th {\n",
       "        vertical-align: top;\n",
       "    }\n",
       "\n",
       "    .dataframe thead th {\n",
       "        text-align: right;\n",
       "    }\n",
       "</style>\n",
       "<table border=\"1\" class=\"dataframe\">\n",
       "  <thead>\n",
       "    <tr style=\"text-align: right;\">\n",
       "      <th></th>\n",
       "      <th>0</th>\n",
       "      <th>1</th>\n",
       "      <th>2</th>\n",
       "      <th>3</th>\n",
       "      <th>4</th>\n",
       "      <th>5</th>\n",
       "      <th>6</th>\n",
       "      <th>7</th>\n",
       "      <th>8</th>\n",
       "      <th>9</th>\n",
       "      <th>...</th>\n",
       "      <th>775</th>\n",
       "      <th>776</th>\n",
       "      <th>777</th>\n",
       "      <th>778</th>\n",
       "      <th>779</th>\n",
       "      <th>780</th>\n",
       "      <th>781</th>\n",
       "      <th>782</th>\n",
       "      <th>783</th>\n",
       "      <th>target</th>\n",
       "    </tr>\n",
       "  </thead>\n",
       "  <tbody>\n",
       "    <tr>\n",
       "      <th>3</th>\n",
       "      <td>0</td>\n",
       "      <td>0</td>\n",
       "      <td>0</td>\n",
       "      <td>0</td>\n",
       "      <td>0</td>\n",
       "      <td>0</td>\n",
       "      <td>0</td>\n",
       "      <td>0</td>\n",
       "      <td>0</td>\n",
       "      <td>0</td>\n",
       "      <td>...</td>\n",
       "      <td>0</td>\n",
       "      <td>0</td>\n",
       "      <td>0</td>\n",
       "      <td>0</td>\n",
       "      <td>0</td>\n",
       "      <td>0</td>\n",
       "      <td>0</td>\n",
       "      <td>0</td>\n",
       "      <td>0</td>\n",
       "      <td>1</td>\n",
       "    </tr>\n",
       "    <tr>\n",
       "      <th>6</th>\n",
       "      <td>0</td>\n",
       "      <td>0</td>\n",
       "      <td>0</td>\n",
       "      <td>0</td>\n",
       "      <td>0</td>\n",
       "      <td>0</td>\n",
       "      <td>0</td>\n",
       "      <td>0</td>\n",
       "      <td>0</td>\n",
       "      <td>0</td>\n",
       "      <td>...</td>\n",
       "      <td>0</td>\n",
       "      <td>0</td>\n",
       "      <td>0</td>\n",
       "      <td>0</td>\n",
       "      <td>0</td>\n",
       "      <td>0</td>\n",
       "      <td>0</td>\n",
       "      <td>0</td>\n",
       "      <td>0</td>\n",
       "      <td>1</td>\n",
       "    </tr>\n",
       "    <tr>\n",
       "      <th>8</th>\n",
       "      <td>0</td>\n",
       "      <td>0</td>\n",
       "      <td>0</td>\n",
       "      <td>0</td>\n",
       "      <td>0</td>\n",
       "      <td>0</td>\n",
       "      <td>0</td>\n",
       "      <td>0</td>\n",
       "      <td>0</td>\n",
       "      <td>0</td>\n",
       "      <td>...</td>\n",
       "      <td>0</td>\n",
       "      <td>0</td>\n",
       "      <td>0</td>\n",
       "      <td>0</td>\n",
       "      <td>0</td>\n",
       "      <td>0</td>\n",
       "      <td>0</td>\n",
       "      <td>0</td>\n",
       "      <td>0</td>\n",
       "      <td>1</td>\n",
       "    </tr>\n",
       "    <tr>\n",
       "      <th>12</th>\n",
       "      <td>0</td>\n",
       "      <td>0</td>\n",
       "      <td>0</td>\n",
       "      <td>0</td>\n",
       "      <td>0</td>\n",
       "      <td>0</td>\n",
       "      <td>0</td>\n",
       "      <td>0</td>\n",
       "      <td>0</td>\n",
       "      <td>0</td>\n",
       "      <td>...</td>\n",
       "      <td>0</td>\n",
       "      <td>0</td>\n",
       "      <td>0</td>\n",
       "      <td>0</td>\n",
       "      <td>0</td>\n",
       "      <td>0</td>\n",
       "      <td>0</td>\n",
       "      <td>0</td>\n",
       "      <td>0</td>\n",
       "      <td>3</td>\n",
       "    </tr>\n",
       "    <tr>\n",
       "      <th>13</th>\n",
       "      <td>0</td>\n",
       "      <td>0</td>\n",
       "      <td>0</td>\n",
       "      <td>0</td>\n",
       "      <td>0</td>\n",
       "      <td>0</td>\n",
       "      <td>0</td>\n",
       "      <td>0</td>\n",
       "      <td>0</td>\n",
       "      <td>0</td>\n",
       "      <td>...</td>\n",
       "      <td>0</td>\n",
       "      <td>0</td>\n",
       "      <td>0</td>\n",
       "      <td>0</td>\n",
       "      <td>0</td>\n",
       "      <td>0</td>\n",
       "      <td>0</td>\n",
       "      <td>0</td>\n",
       "      <td>0</td>\n",
       "      <td>6</td>\n",
       "    </tr>\n",
       "    <tr>\n",
       "      <th>...</th>\n",
       "      <td>...</td>\n",
       "      <td>...</td>\n",
       "      <td>...</td>\n",
       "      <td>...</td>\n",
       "      <td>...</td>\n",
       "      <td>...</td>\n",
       "      <td>...</td>\n",
       "      <td>...</td>\n",
       "      <td>...</td>\n",
       "      <td>...</td>\n",
       "      <td>...</td>\n",
       "      <td>...</td>\n",
       "      <td>...</td>\n",
       "      <td>...</td>\n",
       "      <td>...</td>\n",
       "      <td>...</td>\n",
       "      <td>...</td>\n",
       "      <td>...</td>\n",
       "      <td>...</td>\n",
       "      <td>...</td>\n",
       "      <td>...</td>\n",
       "    </tr>\n",
       "    <tr>\n",
       "      <th>69985</th>\n",
       "      <td>0</td>\n",
       "      <td>0</td>\n",
       "      <td>0</td>\n",
       "      <td>0</td>\n",
       "      <td>0</td>\n",
       "      <td>0</td>\n",
       "      <td>0</td>\n",
       "      <td>0</td>\n",
       "      <td>0</td>\n",
       "      <td>0</td>\n",
       "      <td>...</td>\n",
       "      <td>0</td>\n",
       "      <td>0</td>\n",
       "      <td>0</td>\n",
       "      <td>0</td>\n",
       "      <td>0</td>\n",
       "      <td>0</td>\n",
       "      <td>0</td>\n",
       "      <td>0</td>\n",
       "      <td>0</td>\n",
       "      <td>2</td>\n",
       "    </tr>\n",
       "    <tr>\n",
       "      <th>69991</th>\n",
       "      <td>0</td>\n",
       "      <td>0</td>\n",
       "      <td>0</td>\n",
       "      <td>0</td>\n",
       "      <td>0</td>\n",
       "      <td>0</td>\n",
       "      <td>0</td>\n",
       "      <td>0</td>\n",
       "      <td>0</td>\n",
       "      <td>0</td>\n",
       "      <td>...</td>\n",
       "      <td>0</td>\n",
       "      <td>0</td>\n",
       "      <td>0</td>\n",
       "      <td>0</td>\n",
       "      <td>0</td>\n",
       "      <td>0</td>\n",
       "      <td>0</td>\n",
       "      <td>0</td>\n",
       "      <td>0</td>\n",
       "      <td>8</td>\n",
       "    </tr>\n",
       "    <tr>\n",
       "      <th>69992</th>\n",
       "      <td>0</td>\n",
       "      <td>0</td>\n",
       "      <td>0</td>\n",
       "      <td>0</td>\n",
       "      <td>0</td>\n",
       "      <td>0</td>\n",
       "      <td>0</td>\n",
       "      <td>0</td>\n",
       "      <td>0</td>\n",
       "      <td>0</td>\n",
       "      <td>...</td>\n",
       "      <td>0</td>\n",
       "      <td>0</td>\n",
       "      <td>0</td>\n",
       "      <td>0</td>\n",
       "      <td>0</td>\n",
       "      <td>0</td>\n",
       "      <td>0</td>\n",
       "      <td>0</td>\n",
       "      <td>0</td>\n",
       "      <td>9</td>\n",
       "    </tr>\n",
       "    <tr>\n",
       "      <th>69994</th>\n",
       "      <td>0</td>\n",
       "      <td>0</td>\n",
       "      <td>0</td>\n",
       "      <td>0</td>\n",
       "      <td>0</td>\n",
       "      <td>0</td>\n",
       "      <td>0</td>\n",
       "      <td>0</td>\n",
       "      <td>0</td>\n",
       "      <td>0</td>\n",
       "      <td>...</td>\n",
       "      <td>0</td>\n",
       "      <td>0</td>\n",
       "      <td>0</td>\n",
       "      <td>0</td>\n",
       "      <td>0</td>\n",
       "      <td>0</td>\n",
       "      <td>0</td>\n",
       "      <td>0</td>\n",
       "      <td>0</td>\n",
       "      <td>1</td>\n",
       "    </tr>\n",
       "    <tr>\n",
       "      <th>69995</th>\n",
       "      <td>0</td>\n",
       "      <td>0</td>\n",
       "      <td>0</td>\n",
       "      <td>0</td>\n",
       "      <td>0</td>\n",
       "      <td>0</td>\n",
       "      <td>0</td>\n",
       "      <td>0</td>\n",
       "      <td>0</td>\n",
       "      <td>0</td>\n",
       "      <td>...</td>\n",
       "      <td>0</td>\n",
       "      <td>0</td>\n",
       "      <td>0</td>\n",
       "      <td>0</td>\n",
       "      <td>0</td>\n",
       "      <td>0</td>\n",
       "      <td>0</td>\n",
       "      <td>0</td>\n",
       "      <td>0</td>\n",
       "      <td>2</td>\n",
       "    </tr>\n",
       "  </tbody>\n",
       "</table>\n",
       "<p>23100 rows × 785 columns</p>\n",
       "</div>"
      ],
      "text/plain": [
       "       0  1  2  3  4  5  6  7  8  9  ...  775  776  777  778  779  780  781  \\\n",
       "3      0  0  0  0  0  0  0  0  0  0  ...    0    0    0    0    0    0    0   \n",
       "6      0  0  0  0  0  0  0  0  0  0  ...    0    0    0    0    0    0    0   \n",
       "8      0  0  0  0  0  0  0  0  0  0  ...    0    0    0    0    0    0    0   \n",
       "12     0  0  0  0  0  0  0  0  0  0  ...    0    0    0    0    0    0    0   \n",
       "13     0  0  0  0  0  0  0  0  0  0  ...    0    0    0    0    0    0    0   \n",
       "...   .. .. .. .. .. .. .. .. .. ..  ...  ...  ...  ...  ...  ...  ...  ...   \n",
       "69985  0  0  0  0  0  0  0  0  0  0  ...    0    0    0    0    0    0    0   \n",
       "69991  0  0  0  0  0  0  0  0  0  0  ...    0    0    0    0    0    0    0   \n",
       "69992  0  0  0  0  0  0  0  0  0  0  ...    0    0    0    0    0    0    0   \n",
       "69994  0  0  0  0  0  0  0  0  0  0  ...    0    0    0    0    0    0    0   \n",
       "69995  0  0  0  0  0  0  0  0  0  0  ...    0    0    0    0    0    0    0   \n",
       "\n",
       "       782  783  target  \n",
       "3        0    0       1  \n",
       "6        0    0       1  \n",
       "8        0    0       1  \n",
       "12       0    0       3  \n",
       "13       0    0       6  \n",
       "...    ...  ...     ...  \n",
       "69985    0    0       2  \n",
       "69991    0    0       8  \n",
       "69992    0    0       9  \n",
       "69994    0    0       1  \n",
       "69995    0    0       2  \n",
       "\n",
       "[23100 rows x 785 columns]"
      ]
     },
     "execution_count": 13,
     "metadata": {},
     "output_type": "execute_result"
    }
   ],
   "source": [
    "df_train.head()\n",
    "df_test"
   ]
  },
  {
   "cell_type": "code",
   "execution_count": 14,
   "id": "33a98206",
   "metadata": {},
   "outputs": [
    {
     "data": {
      "text/html": [
       "<div>\n",
       "<style scoped>\n",
       "    .dataframe tbody tr th:only-of-type {\n",
       "        vertical-align: middle;\n",
       "    }\n",
       "\n",
       "    .dataframe tbody tr th {\n",
       "        vertical-align: top;\n",
       "    }\n",
       "\n",
       "    .dataframe thead th {\n",
       "        text-align: right;\n",
       "    }\n",
       "</style>\n",
       "<table border=\"1\" class=\"dataframe\">\n",
       "  <thead>\n",
       "    <tr style=\"text-align: right;\">\n",
       "      <th></th>\n",
       "      <th>target</th>\n",
       "    </tr>\n",
       "  </thead>\n",
       "  <tbody>\n",
       "    <tr>\n",
       "      <th>3</th>\n",
       "      <td>1</td>\n",
       "    </tr>\n",
       "    <tr>\n",
       "      <th>6</th>\n",
       "      <td>1</td>\n",
       "    </tr>\n",
       "    <tr>\n",
       "      <th>8</th>\n",
       "      <td>1</td>\n",
       "    </tr>\n",
       "    <tr>\n",
       "      <th>12</th>\n",
       "      <td>3</td>\n",
       "    </tr>\n",
       "    <tr>\n",
       "      <th>13</th>\n",
       "      <td>6</td>\n",
       "    </tr>\n",
       "  </tbody>\n",
       "</table>\n",
       "</div>"
      ],
      "text/plain": [
       "    target\n",
       "3        1\n",
       "6        1\n",
       "8        1\n",
       "12       3\n",
       "13       6"
      ]
     },
     "execution_count": 14,
     "metadata": {},
     "output_type": "execute_result"
    }
   ],
   "source": [
    "y_test = df_test['target']\n",
    "y_test = pd.DataFrame(y_test)\n",
    "y_test.head()"
   ]
  },
  {
   "cell_type": "code",
   "execution_count": 15,
   "id": "d8a79c5b",
   "metadata": {},
   "outputs": [],
   "source": [
    "df_test = df_test.drop('target', axis=1)\n"
   ]
  },
  {
   "cell_type": "code",
   "execution_count": 16,
   "id": "c9a8c82c",
   "metadata": {},
   "outputs": [
    {
     "data": {
      "text/html": [
       "<div>\n",
       "<style scoped>\n",
       "    .dataframe tbody tr th:only-of-type {\n",
       "        vertical-align: middle;\n",
       "    }\n",
       "\n",
       "    .dataframe tbody tr th {\n",
       "        vertical-align: top;\n",
       "    }\n",
       "\n",
       "    .dataframe thead th {\n",
       "        text-align: right;\n",
       "    }\n",
       "</style>\n",
       "<table border=\"1\" class=\"dataframe\">\n",
       "  <thead>\n",
       "    <tr style=\"text-align: right;\">\n",
       "      <th></th>\n",
       "      <th>0</th>\n",
       "      <th>1</th>\n",
       "      <th>2</th>\n",
       "      <th>3</th>\n",
       "      <th>4</th>\n",
       "      <th>5</th>\n",
       "      <th>6</th>\n",
       "      <th>7</th>\n",
       "      <th>8</th>\n",
       "      <th>9</th>\n",
       "      <th>...</th>\n",
       "      <th>774</th>\n",
       "      <th>775</th>\n",
       "      <th>776</th>\n",
       "      <th>777</th>\n",
       "      <th>778</th>\n",
       "      <th>779</th>\n",
       "      <th>780</th>\n",
       "      <th>781</th>\n",
       "      <th>782</th>\n",
       "      <th>783</th>\n",
       "    </tr>\n",
       "  </thead>\n",
       "  <tbody>\n",
       "    <tr>\n",
       "      <th>3</th>\n",
       "      <td>0</td>\n",
       "      <td>0</td>\n",
       "      <td>0</td>\n",
       "      <td>0</td>\n",
       "      <td>0</td>\n",
       "      <td>0</td>\n",
       "      <td>0</td>\n",
       "      <td>0</td>\n",
       "      <td>0</td>\n",
       "      <td>0</td>\n",
       "      <td>...</td>\n",
       "      <td>0</td>\n",
       "      <td>0</td>\n",
       "      <td>0</td>\n",
       "      <td>0</td>\n",
       "      <td>0</td>\n",
       "      <td>0</td>\n",
       "      <td>0</td>\n",
       "      <td>0</td>\n",
       "      <td>0</td>\n",
       "      <td>0</td>\n",
       "    </tr>\n",
       "    <tr>\n",
       "      <th>6</th>\n",
       "      <td>0</td>\n",
       "      <td>0</td>\n",
       "      <td>0</td>\n",
       "      <td>0</td>\n",
       "      <td>0</td>\n",
       "      <td>0</td>\n",
       "      <td>0</td>\n",
       "      <td>0</td>\n",
       "      <td>0</td>\n",
       "      <td>0</td>\n",
       "      <td>...</td>\n",
       "      <td>0</td>\n",
       "      <td>0</td>\n",
       "      <td>0</td>\n",
       "      <td>0</td>\n",
       "      <td>0</td>\n",
       "      <td>0</td>\n",
       "      <td>0</td>\n",
       "      <td>0</td>\n",
       "      <td>0</td>\n",
       "      <td>0</td>\n",
       "    </tr>\n",
       "    <tr>\n",
       "      <th>8</th>\n",
       "      <td>0</td>\n",
       "      <td>0</td>\n",
       "      <td>0</td>\n",
       "      <td>0</td>\n",
       "      <td>0</td>\n",
       "      <td>0</td>\n",
       "      <td>0</td>\n",
       "      <td>0</td>\n",
       "      <td>0</td>\n",
       "      <td>0</td>\n",
       "      <td>...</td>\n",
       "      <td>0</td>\n",
       "      <td>0</td>\n",
       "      <td>0</td>\n",
       "      <td>0</td>\n",
       "      <td>0</td>\n",
       "      <td>0</td>\n",
       "      <td>0</td>\n",
       "      <td>0</td>\n",
       "      <td>0</td>\n",
       "      <td>0</td>\n",
       "    </tr>\n",
       "    <tr>\n",
       "      <th>12</th>\n",
       "      <td>0</td>\n",
       "      <td>0</td>\n",
       "      <td>0</td>\n",
       "      <td>0</td>\n",
       "      <td>0</td>\n",
       "      <td>0</td>\n",
       "      <td>0</td>\n",
       "      <td>0</td>\n",
       "      <td>0</td>\n",
       "      <td>0</td>\n",
       "      <td>...</td>\n",
       "      <td>0</td>\n",
       "      <td>0</td>\n",
       "      <td>0</td>\n",
       "      <td>0</td>\n",
       "      <td>0</td>\n",
       "      <td>0</td>\n",
       "      <td>0</td>\n",
       "      <td>0</td>\n",
       "      <td>0</td>\n",
       "      <td>0</td>\n",
       "    </tr>\n",
       "    <tr>\n",
       "      <th>13</th>\n",
       "      <td>0</td>\n",
       "      <td>0</td>\n",
       "      <td>0</td>\n",
       "      <td>0</td>\n",
       "      <td>0</td>\n",
       "      <td>0</td>\n",
       "      <td>0</td>\n",
       "      <td>0</td>\n",
       "      <td>0</td>\n",
       "      <td>0</td>\n",
       "      <td>...</td>\n",
       "      <td>0</td>\n",
       "      <td>0</td>\n",
       "      <td>0</td>\n",
       "      <td>0</td>\n",
       "      <td>0</td>\n",
       "      <td>0</td>\n",
       "      <td>0</td>\n",
       "      <td>0</td>\n",
       "      <td>0</td>\n",
       "      <td>0</td>\n",
       "    </tr>\n",
       "  </tbody>\n",
       "</table>\n",
       "<p>5 rows × 784 columns</p>\n",
       "</div>"
      ],
      "text/plain": [
       "    0    1    2    3    4    5    6    7    8    9    ...  774  775  776  777  \\\n",
       "3     0    0    0    0    0    0    0    0    0    0  ...    0    0    0    0   \n",
       "6     0    0    0    0    0    0    0    0    0    0  ...    0    0    0    0   \n",
       "8     0    0    0    0    0    0    0    0    0    0  ...    0    0    0    0   \n",
       "12    0    0    0    0    0    0    0    0    0    0  ...    0    0    0    0   \n",
       "13    0    0    0    0    0    0    0    0    0    0  ...    0    0    0    0   \n",
       "\n",
       "    778  779  780  781  782  783  \n",
       "3     0    0    0    0    0    0  \n",
       "6     0    0    0    0    0    0  \n",
       "8     0    0    0    0    0    0  \n",
       "12    0    0    0    0    0    0  \n",
       "13    0    0    0    0    0    0  \n",
       "\n",
       "[5 rows x 784 columns]"
      ]
     },
     "execution_count": 16,
     "metadata": {},
     "output_type": "execute_result"
    }
   ],
   "source": [
    "df_test.head()"
   ]
  },
  {
   "cell_type": "markdown",
   "id": "64a6a937",
   "metadata": {},
   "source": [
    "# Converting these into NumPy arrays for use in the ANN model"
   ]
  },
  {
   "cell_type": "code",
   "execution_count": 17,
   "id": "93ea9bbd",
   "metadata": {},
   "outputs": [],
   "source": [
    "x_train = df_train.to_numpy()\n",
    "x_train\n",
    "x_test = df_test.to_numpy()\n",
    "y_train = y_train.to_numpy()\n",
    "y_test = y_test.to_numpy()"
   ]
  },
  {
   "cell_type": "markdown",
   "id": "1dab5059",
   "metadata": {},
   "source": [
    "# Performing the required pre-processing"
   ]
  },
  {
   "cell_type": "code",
   "execution_count": 18,
   "id": "013718ef",
   "metadata": {},
   "outputs": [],
   "source": [
    "x_train = x_train/255\n",
    "x_test = x_test/255"
   ]
  },
  {
   "cell_type": "code",
   "execution_count": 19,
   "id": "6e90e73f",
   "metadata": {},
   "outputs": [],
   "source": [
    "#x_train[0]"
   ]
  },
  {
   "cell_type": "code",
   "execution_count": 20,
   "id": "30e524ac",
   "metadata": {},
   "outputs": [],
   "source": [
    "X_trainf = x_train.reshape(len(x_train), 28 * 28)\n",
    "#we choose to flatten the data in order to make the first input layer of the neural network have 784 values, since we currently have values stored in 28*28 form"
   ]
  },
  {
   "cell_type": "code",
   "execution_count": 21,
   "id": "51ffb7f2",
   "metadata": {},
   "outputs": [],
   "source": [
    "X_testf = x_test.reshape(len(x_test), 28*28)"
   ]
  },
  {
   "cell_type": "markdown",
   "id": "53aa609c",
   "metadata": {},
   "source": [
    "# MODEL 1 -- 150 neurons, 2 layers, sigmoid"
   ]
  },
  {
   "cell_type": "code",
   "execution_count": 22,
   "id": "caf827f2",
   "metadata": {},
   "outputs": [
    {
     "name": "stdout",
     "output_type": "stream",
     "text": [
      "Epoch 1/5\n",
      "1466/1466 [==============================] - 2s 1ms/step - loss: 0.5690 - accuracy: 0.8600\n",
      "Epoch 2/5\n",
      "1466/1466 [==============================] - 2s 1ms/step - loss: 0.2084 - accuracy: 0.9393\n",
      "Epoch 3/5\n",
      "1466/1466 [==============================] - 2s 1ms/step - loss: 0.1519 - accuracy: 0.9550\n",
      "Epoch 4/5\n",
      "1466/1466 [==============================] - 2s 1ms/step - loss: 0.1183 - accuracy: 0.9647\n",
      "Epoch 5/5\n",
      "1466/1466 [==============================] - 2s 1ms/step - loss: 0.0948 - accuracy: 0.9724\n"
     ]
    },
    {
     "data": {
      "text/plain": [
       "<keras.callbacks.History at 0x1bd9f9bc880>"
      ]
     },
     "execution_count": 22,
     "metadata": {},
     "output_type": "execute_result"
    }
   ],
   "source": [
    "model1 = keras.Sequential([\n",
    "    keras.layers.Dense(75, input_shape=(784,), activation = 'sigmoid'), #we call it dense since every node in one layer is connected to every node in the next layer    \n",
    "    keras.layers.Dense(75, activation = 'sigmoid'),\n",
    "    keras.layers.Dense(10, activation = 'softmax')\n",
    "])\n",
    "\n",
    "model1.compile(optimizer = 'adam', loss = 'sparse_categorical_crossentropy', metrics = ['accuracy'])\n",
    "model1.fit(X_trainf, y_train, epochs = 5)\n",
    "\n"
   ]
  },
  {
   "cell_type": "code",
   "execution_count": 23,
   "id": "c3c1a32d",
   "metadata": {},
   "outputs": [
    {
     "name": "stdout",
     "output_type": "stream",
     "text": [
      "722/722 [==============================] - 1s 938us/step - loss: 0.1289 - accuracy: 0.9604\n"
     ]
    },
    {
     "data": {
      "text/plain": [
       "[0.1289404332637787, 0.9603896141052246]"
      ]
     },
     "execution_count": 23,
     "metadata": {},
     "output_type": "execute_result"
    }
   ],
   "source": [
    "model1.evaluate(X_testf, y_test)"
   ]
  },
  {
   "cell_type": "code",
   "execution_count": 24,
   "id": "8521a0cc",
   "metadata": {},
   "outputs": [
    {
     "name": "stdout",
     "output_type": "stream",
     "text": [
      "722/722 [==============================] - 1s 828us/step\n"
     ]
    },
    {
     "data": {
      "text/plain": [
       "<tf.Tensor: shape=(10, 10), dtype=int32, numpy=\n",
       "array([[2206,    0,    0,    3,    2,    4,    8,    0,   10,    5],\n",
       "       [   1, 2549,    6,   17,    0,    4,    1,   11,   26,   10],\n",
       "       [  10,    4, 2204,   41,   15,    3,    8,   28,   33,    3],\n",
       "       [   1,    1,   10, 2225,    0,   15,    1,   22,   15,   11],\n",
       "       [   3,    0,    6,    3, 2165,    2,    7,    5,    5,   69],\n",
       "       [  12,    1,    3,   55,    7, 1964,    6,    3,   20,   15],\n",
       "       [  20,    5,    1,    1,   14,   20, 2236,    2,   22,    0],\n",
       "       [   5,    6,    9,    7,   20,    1,    1, 2301,    1,   19],\n",
       "       [   8,    9,    2,   38,    3,   11,    9,    6, 2102,   26],\n",
       "       [  10,    1,    0,   24,   23,    4,    0,   28,    8, 2233]])>"
      ]
     },
     "execution_count": 24,
     "metadata": {},
     "output_type": "execute_result"
    }
   ],
   "source": [
    "y_predict = model1.predict(X_testf)\n",
    "# y_predict[0]\n",
    "#np.argmax(y_predict[0]) #gives the maximum value out of the given ones\n",
    "predicted_labels = [np.argmax(i) for i in y_predict] #we are getting exactly what has been predicted and putting it into a predicted labels array\n",
    "cm = tf.math.confusion_matrix(labels=y_test,predictions=predicted_labels) #tensorflow has inbuilt provisions to build confusion matrices\n",
    "cm"
   ]
  },
  {
   "cell_type": "markdown",
   "id": "5f886009",
   "metadata": {},
   "source": [
    "# MODEL 2 -- 100 Neurons, 3 Hidden Layers"
   ]
  },
  {
   "cell_type": "code",
   "execution_count": 25,
   "id": "8f767b23",
   "metadata": {},
   "outputs": [
    {
     "name": "stdout",
     "output_type": "stream",
     "text": [
      "Epoch 1/5\n",
      "1466/1466 [==============================] - 2s 1ms/step - loss: 1.1605 - accuracy: 0.6883\n",
      "Epoch 2/5\n",
      "1466/1466 [==============================] - 2s 1ms/step - loss: 0.3753 - accuracy: 0.9122\n",
      "Epoch 3/5\n",
      "1466/1466 [==============================] - 2s 1ms/step - loss: 0.2316 - accuracy: 0.9403\n",
      "Epoch 4/5\n",
      "1466/1466 [==============================] - 2s 1ms/step - loss: 0.1772 - accuracy: 0.9533\n",
      "Epoch 5/5\n",
      "1466/1466 [==============================] - 2s 1ms/step - loss: 0.1458 - accuracy: 0.9599\n"
     ]
    },
    {
     "data": {
      "text/plain": [
       "<keras.callbacks.History at 0x1bda03b3700>"
      ]
     },
     "execution_count": 25,
     "metadata": {},
     "output_type": "execute_result"
    }
   ],
   "source": [
    "model2 = keras.Sequential([\n",
    "    keras.layers.Dense(50, input_shape=(784,), activation = 'sigmoid'), #we call it dense since every node in one layer is connected to every node in the next layer    \n",
    "    keras.layers.Dense(30, activation = 'sigmoid'),\n",
    "    keras.layers.Dense(20, activation = 'sigmoid'),\n",
    "    keras.layers.Dense(10, activation = 'softmax')\n",
    "])\n",
    "\n",
    "model2.compile(optimizer = 'adam', loss = 'sparse_categorical_crossentropy', metrics = ['accuracy'])\n",
    "model2.fit(X_trainf, y_train, epochs = 5)\n"
   ]
  },
  {
   "cell_type": "code",
   "execution_count": 26,
   "id": "55504971",
   "metadata": {},
   "outputs": [
    {
     "name": "stdout",
     "output_type": "stream",
     "text": [
      "722/722 [==============================] - 1s 1ms/step - loss: 0.1806 - accuracy: 0.9487\n"
     ]
    },
    {
     "data": {
      "text/plain": [
       "[0.18061915040016174, 0.9486579895019531]"
      ]
     },
     "execution_count": 26,
     "metadata": {},
     "output_type": "execute_result"
    }
   ],
   "source": [
    "model2.evaluate(X_testf, y_test)"
   ]
  },
  {
   "cell_type": "code",
   "execution_count": 27,
   "id": "807c2048",
   "metadata": {},
   "outputs": [
    {
     "name": "stdout",
     "output_type": "stream",
     "text": [
      "722/722 [==============================] - 1s 899us/step\n"
     ]
    }
   ],
   "source": [
    "y_predict = model2.predict(X_testf)"
   ]
  },
  {
   "cell_type": "code",
   "execution_count": 28,
   "id": "dd8dd0ff",
   "metadata": {},
   "outputs": [
    {
     "data": {
      "text/plain": [
       "array([6.3200999e-04, 9.9367148e-01, 2.7148605e-03, 3.9194074e-05,\n",
       "       3.2150249e-06, 2.3001796e-05, 9.7261648e-07, 6.8616739e-04,\n",
       "       2.1563331e-03, 7.2624542e-05], dtype=float32)"
      ]
     },
     "execution_count": 28,
     "metadata": {},
     "output_type": "execute_result"
    }
   ],
   "source": [
    "y_predict[0]"
   ]
  },
  {
   "cell_type": "code",
   "execution_count": 29,
   "id": "652886ba",
   "metadata": {},
   "outputs": [
    {
     "data": {
      "text/plain": [
       "1"
      ]
     },
     "execution_count": 29,
     "metadata": {},
     "output_type": "execute_result"
    }
   ],
   "source": [
    "np.argmax(y_predict[0]) #gives the maximum value out of the given ones"
   ]
  },
  {
   "cell_type": "code",
   "execution_count": 30,
   "id": "ad400561",
   "metadata": {},
   "outputs": [],
   "source": [
    "predicted_labels = [np.argmax(i) for i in y_predict] #we are getting exactly what has been predicted and putting it into a predicted labels array"
   ]
  },
  {
   "cell_type": "code",
   "execution_count": 31,
   "id": "a23be6f9",
   "metadata": {},
   "outputs": [],
   "source": [
    "cm = tf.math.confusion_matrix(labels=y_test,predictions=predicted_labels) #tensorflow has inbuilt provisions to build confusion matrices\n"
   ]
  },
  {
   "cell_type": "code",
   "execution_count": 32,
   "id": "33451208",
   "metadata": {},
   "outputs": [
    {
     "data": {
      "text/plain": [
       "<tf.Tensor: shape=(10, 10), dtype=int32, numpy=\n",
       "array([[2172,    1,    5,    2,   19,   12,   10,    0,   12,    5],\n",
       "       [   0, 2568,   14,    7,    0,    2,    1,    7,   23,    3],\n",
       "       [  14,   13, 2194,   16,   20,    6,   18,   32,   35,    1],\n",
       "       [   2,    3,   22, 2125,    1,   52,    8,   34,   47,    7],\n",
       "       [   2,    4,    8,    2, 2167,    2,   13,   10,    5,   52],\n",
       "       [  11,    1,   11,   86,    6, 1890,   29,    0,   39,   13],\n",
       "       [   6,    4,   16,    1,   18,   21, 2235,    0,   20,    0],\n",
       "       [   2,   10,   16,    2,   20,    1,    0, 2276,    9,   34],\n",
       "       [   8,   24,    4,   17,    4,    8,   25,    8, 2103,   13],\n",
       "       [  10,    5,    2,   20,   54,    4,    0,   30,   22, 2184]])>"
      ]
     },
     "execution_count": 32,
     "metadata": {},
     "output_type": "execute_result"
    }
   ],
   "source": [
    "cm #this is the confusion matrix, we are supposed to do this for all 15 of the models. Preferable if we beautify this a bit using matPlotLib, or seaborn if permitted by sir"
   ]
  },
  {
   "cell_type": "markdown",
   "id": "b2ec1f62",
   "metadata": {},
   "source": [
    "# MODEL 3 -- 150 Neurons, 2 Hidden Layers, ReLU"
   ]
  },
  {
   "cell_type": "code",
   "execution_count": 33,
   "id": "5ac6530c",
   "metadata": {},
   "outputs": [
    {
     "name": "stdout",
     "output_type": "stream",
     "text": [
      "Epoch 1/5\n",
      "1466/1466 [==============================] - 2s 1ms/step - loss: 0.2890 - accuracy: 0.9143\n",
      "Epoch 2/5\n",
      "1466/1466 [==============================] - 2s 1ms/step - loss: 0.1226 - accuracy: 0.9631\n",
      "Epoch 3/5\n",
      "1466/1466 [==============================] - 2s 1ms/step - loss: 0.0885 - accuracy: 0.9730\n",
      "Epoch 4/5\n",
      "1466/1466 [==============================] - 2s 1ms/step - loss: 0.0681 - accuracy: 0.9784\n",
      "Epoch 5/5\n",
      "1466/1466 [==============================] - 2s 1ms/step - loss: 0.0538 - accuracy: 0.9829\n"
     ]
    },
    {
     "data": {
      "text/plain": [
       "<keras.callbacks.History at 0x1bda0317640>"
      ]
     },
     "execution_count": 33,
     "metadata": {},
     "output_type": "execute_result"
    }
   ],
   "source": [
    "model3 = keras.Sequential([\n",
    "    keras.layers.Dense(75, input_shape=(784,), activation = 'relu'), #we call it dense since every node in one layer is connected to every node in the next layer    \n",
    "    keras.layers.Dense(75, activation = 'relu'),\n",
    "    keras.layers.Dense(10, activation = 'softmax')\n",
    "])\n",
    "\n",
    "model3.compile(optimizer = 'adam', loss = 'sparse_categorical_crossentropy', metrics = ['accuracy'])\n",
    "model3.fit(X_trainf, y_train, epochs = 5)\n"
   ]
  },
  {
   "cell_type": "code",
   "execution_count": 34,
   "id": "eb4921d7",
   "metadata": {},
   "outputs": [
    {
     "name": "stdout",
     "output_type": "stream",
     "text": [
      "722/722 [==============================] - 1s 1ms/step - loss: 0.1084 - accuracy: 0.9678\n"
     ]
    },
    {
     "data": {
      "text/plain": [
       "[0.10837101936340332, 0.9678354859352112]"
      ]
     },
     "execution_count": 34,
     "metadata": {},
     "output_type": "execute_result"
    }
   ],
   "source": [
    "model3.evaluate(X_testf, y_test)"
   ]
  },
  {
   "cell_type": "code",
   "execution_count": 35,
   "id": "68c2ac70",
   "metadata": {},
   "outputs": [
    {
     "name": "stdout",
     "output_type": "stream",
     "text": [
      "722/722 [==============================] - 1s 941us/step\n"
     ]
    },
    {
     "data": {
      "text/plain": [
       "<tf.Tensor: shape=(10, 10), dtype=int32, numpy=\n",
       "array([[2213,    0,    2,    2,    0,    5,   12,    0,    2,    2],\n",
       "       [   6, 2581,   10,    5,    1,    5,    5,    4,    2,    6],\n",
       "       [  12,    4, 2287,   17,    6,    2,    2,   10,    8,    1],\n",
       "       [   1,    1,    7, 2244,    0,   24,    2,    9,    3,   10],\n",
       "       [   3,    2,    9,    0, 2209,    6,    7,    5,    1,   23],\n",
       "       [   4,    1,    2,   28,    2, 2023,   13,    2,    4,    7],\n",
       "       [  16,    2,    5,    1,    6,    7, 2283,    0,    1,    0],\n",
       "       [   9,    7,   24,   10,   17,    2,    0, 2269,    3,   29],\n",
       "       [  20,   16,   22,   55,    9,   32,   19,    1, 2016,   24],\n",
       "       [  14,    3,    0,   13,   38,   12,    0,   18,    1, 2232]])>"
      ]
     },
     "execution_count": 35,
     "metadata": {},
     "output_type": "execute_result"
    }
   ],
   "source": [
    "y_predict = model3.predict(X_testf)\n",
    "# y_predict[0]\n",
    "#np.argmax(y_predict[0]) #gives the maximum value out of the given ones\n",
    "predicted_labels = [np.argmax(i) for i in y_predict] #we are getting exactly what has been predicted and putting it into a predicted labels array\n",
    "cm = tf.math.confusion_matrix(labels=y_test,predictions=predicted_labels) #tensorflow has inbuilt provisions to build confusion matrices\n",
    "cm"
   ]
  },
  {
   "cell_type": "code",
   "execution_count": 36,
   "id": "ccf49409",
   "metadata": {},
   "outputs": [
    {
     "name": "stdout",
     "output_type": "stream",
     "text": [
      "Epoch 1/5\n",
      "1466/1466 [==============================] - 2s 1ms/step - loss: 0.3005 - accuracy: 0.9129\n",
      "Epoch 2/5\n",
      "1466/1466 [==============================] - 2s 1ms/step - loss: 0.1411 - accuracy: 0.9578\n",
      "Epoch 3/5\n",
      "1466/1466 [==============================] - 2s 1ms/step - loss: 0.0994 - accuracy: 0.9700\n",
      "Epoch 4/5\n",
      "1466/1466 [==============================] - 2s 1ms/step - loss: 0.0754 - accuracy: 0.9774\n",
      "Epoch 5/5\n",
      "1466/1466 [==============================] - 2s 1ms/step - loss: 0.0570 - accuracy: 0.9826\n"
     ]
    },
    {
     "data": {
      "text/plain": [
       "<keras.callbacks.History at 0x1bde5c73b80>"
      ]
     },
     "execution_count": 36,
     "metadata": {},
     "output_type": "execute_result"
    }
   ],
   "source": [
    "model4 = keras.Sequential([\n",
    "    keras.layers.Dense(75, input_shape=(784,), activation = 'tanh'), #we call it dense since every node in one layer is connected to every node in the next layer    \n",
    "    keras.layers.Dense(75, activation = 'tanh'),\n",
    "    keras.layers.Dense(10, activation = 'softmax')\n",
    "])\n",
    "\n",
    "model4.compile(optimizer = 'adam', loss = 'sparse_categorical_crossentropy', metrics = ['accuracy'])\n",
    "model4.fit(X_trainf, y_train, epochs = 5)\n"
   ]
  },
  {
   "cell_type": "code",
   "execution_count": 37,
   "id": "a70c315e",
   "metadata": {},
   "outputs": [
    {
     "name": "stdout",
     "output_type": "stream",
     "text": [
      "722/722 [==============================] - 1s 1ms/step - loss: 0.1089 - accuracy: 0.9668\n"
     ]
    },
    {
     "data": {
      "text/plain": [
       "[0.10889414697885513, 0.9667532444000244]"
      ]
     },
     "execution_count": 37,
     "metadata": {},
     "output_type": "execute_result"
    }
   ],
   "source": [
    "model4.evaluate(X_testf, y_test)"
   ]
  },
  {
   "cell_type": "code",
   "execution_count": 38,
   "id": "d8c63119",
   "metadata": {},
   "outputs": [
    {
     "name": "stdout",
     "output_type": "stream",
     "text": [
      "722/722 [==============================] - 1s 985us/step\n"
     ]
    },
    {
     "data": {
      "text/plain": [
       "<tf.Tensor: shape=(10, 10), dtype=int32, numpy=\n",
       "array([[2194,    0,    5,    3,    2,    8,   19,    0,    5,    2],\n",
       "       [   1, 2601,    3,    3,    0,    0,    3,    2,    6,    6],\n",
       "       [   7,    8, 2276,   13,   15,    3,    4,    9,   13,    1],\n",
       "       [   2,    2,   13, 2227,    1,   15,    2,   11,   20,    8],\n",
       "       [   1,    5,    6,    2, 2206,    3,    6,    1,    4,   31],\n",
       "       [   3,    2,    3,   42,    5, 1980,   23,    2,   20,    6],\n",
       "       [   9,    6,    3,    1,   23,    7, 2262,    2,    8,    0],\n",
       "       [   4,   19,   23,   14,   22,    2,    1, 2248,   11,   26],\n",
       "       [   5,   13,    9,   17,    4,    9,   13,    2, 2133,    9],\n",
       "       [   6,    5,    6,   22,   47,   12,    1,   17,   10, 2205]])>"
      ]
     },
     "execution_count": 38,
     "metadata": {},
     "output_type": "execute_result"
    }
   ],
   "source": [
    "y_predict = model4.predict(X_testf)\n",
    "# y_predict[0]\n",
    "#np.argmax(y_predict[0]) #gives the maximum value out of the given ones\n",
    "predicted_labels = [np.argmax(i) for i in y_predict] #we are getting exactly what has been predicted and putting it into a predicted labels array\n",
    "cm = tf.math.confusion_matrix(labels=y_test,predictions=predicted_labels) #tensorflow has inbuilt provisions to build confusion matrices\n",
    "cm"
   ]
  },
  {
   "cell_type": "code",
   "execution_count": 39,
   "id": "ebb3ba9f",
   "metadata": {},
   "outputs": [
    {
     "name": "stdout",
     "output_type": "stream",
     "text": [
      "Epoch 1/5\n",
      "1466/1466 [==============================] - 3s 2ms/step - loss: 0.3709 - accuracy: 0.8880\n",
      "Epoch 2/5\n",
      "1466/1466 [==============================] - 2s 2ms/step - loss: 0.1593 - accuracy: 0.9522\n",
      "Epoch 3/5\n",
      "1466/1466 [==============================] - 2s 2ms/step - loss: 0.1178 - accuracy: 0.9645\n",
      "Epoch 4/5\n",
      "1466/1466 [==============================] - 2s 2ms/step - loss: 0.0970 - accuracy: 0.9706\n",
      "Epoch 5/5\n",
      "1466/1466 [==============================] - 2s 2ms/step - loss: 0.0830 - accuracy: 0.9743\n"
     ]
    },
    {
     "data": {
      "text/plain": [
       "<keras.callbacks.History at 0x1bda015ed90>"
      ]
     },
     "execution_count": 39,
     "metadata": {},
     "output_type": "execute_result"
    }
   ],
   "source": [
    "model5 = keras.Sequential([\n",
    "    keras.layers.Dense(50, input_shape=(784,), activation = 'relu'), #we call it dense since every node in one layer is connected to every node in the next layer    \n",
    "    keras.layers.Dense(30, activation = 'relu'),\n",
    "    keras.layers.Dense(20, activation = 'relu'),\n",
    "    keras.layers.Dense(10, activation = 'softmax')\n",
    "])\n",
    "\n",
    "model5.compile(optimizer = 'adam', loss = 'sparse_categorical_crossentropy', metrics = ['accuracy'])\n",
    "model5.fit(X_trainf, y_train, epochs = 5)"
   ]
  },
  {
   "cell_type": "code",
   "execution_count": 40,
   "id": "51cb4539",
   "metadata": {},
   "outputs": [
    {
     "name": "stdout",
     "output_type": "stream",
     "text": [
      "722/722 [==============================] - 1s 1ms/step - loss: 0.1272 - accuracy: 0.9613\n"
     ]
    },
    {
     "data": {
      "text/plain": [
       "[0.12721951305866241, 0.9613419771194458]"
      ]
     },
     "execution_count": 40,
     "metadata": {},
     "output_type": "execute_result"
    }
   ],
   "source": [
    "model5.evaluate(X_testf, y_test)"
   ]
  },
  {
   "cell_type": "code",
   "execution_count": 41,
   "id": "cfe6cc11",
   "metadata": {},
   "outputs": [
    {
     "name": "stdout",
     "output_type": "stream",
     "text": [
      "722/722 [==============================] - 1s 1ms/step\n"
     ]
    },
    {
     "data": {
      "text/plain": [
       "<tf.Tensor: shape=(10, 10), dtype=int32, numpy=\n",
       "array([[2181,    0,    4,    2,    6,    9,   14,    2,   19,    1],\n",
       "       [   1, 2590,    4,    5,    2,    0,    6,    7,    8,    2],\n",
       "       [  15,    8, 2234,   18,   17,    5,    7,   16,   25,    4],\n",
       "       [   2,    2,   15, 2225,    2,   15,    1,   14,   14,   11],\n",
       "       [   1,    3,    3,    0, 2232,    1,    5,    9,    0,   11],\n",
       "       [   6,    2,    5,   54,   14, 1961,    7,   12,   14,   11],\n",
       "       [  16,    9,    3,    0,   30,   24, 2226,    0,   13,    0],\n",
       "       [   3,    5,   16,   17,   17,    2,    0, 2296,    1,   13],\n",
       "       [   5,   22,    8,   22,   14,    9,   12,    9, 2101,   12],\n",
       "       [   9,    2,    3,   28,   74,    4,    0,   39,   11, 2161]])>"
      ]
     },
     "execution_count": 41,
     "metadata": {},
     "output_type": "execute_result"
    }
   ],
   "source": [
    "y_predict = model5.predict(X_testf)\n",
    "# y_predict[0]\n",
    "#np.argmax(y_predict[0]) #gives the maximum value out of the given ones\n",
    "predicted_labels = [np.argmax(i) for i in y_predict] #we are getting exactly what has been predicted and putting it into a predicted labels array\n",
    "cm = tf.math.confusion_matrix(labels=y_test,predictions=predicted_labels) #tensorflow has inbuilt provisions to build confusion matrices\n",
    "cm"
   ]
  },
  {
   "cell_type": "code",
   "execution_count": 42,
   "id": "43316d38",
   "metadata": {},
   "outputs": [
    {
     "name": "stdout",
     "output_type": "stream",
     "text": [
      "Epoch 1/5\n",
      "1466/1466 [==============================] - 3s 2ms/step - loss: 0.3832 - accuracy: 0.9008\n",
      "Epoch 2/5\n",
      "1466/1466 [==============================] - 2s 2ms/step - loss: 0.1617 - accuracy: 0.9523\n",
      "Epoch 3/5\n",
      "1466/1466 [==============================] - 2s 2ms/step - loss: 0.1164 - accuracy: 0.9651\n",
      "Epoch 4/5\n",
      "1466/1466 [==============================] - 2s 2ms/step - loss: 0.0924 - accuracy: 0.9723\n",
      "Epoch 5/5\n",
      "1466/1466 [==============================] - 2s 2ms/step - loss: 0.0757 - accuracy: 0.9776\n"
     ]
    },
    {
     "data": {
      "text/plain": [
       "<keras.callbacks.History at 0x1bdcf24a160>"
      ]
     },
     "execution_count": 42,
     "metadata": {},
     "output_type": "execute_result"
    }
   ],
   "source": [
    "model6 = keras.Sequential([\n",
    "    keras.layers.Dense(50, input_shape=(784,), activation = 'tanh'), #we call it dense since every node in one layer is connected to every node in the next layer    \n",
    "    keras.layers.Dense(30, activation = 'tanh'),\n",
    "    keras.layers.Dense(20, activation = 'tanh'),\n",
    "    keras.layers.Dense(10, activation = 'softmax')\n",
    "])\n",
    "\n",
    "model6.compile(optimizer = 'adam', loss = 'sparse_categorical_crossentropy', metrics = ['accuracy'])\n",
    "model6.fit(X_trainf, y_train, epochs = 5)"
   ]
  },
  {
   "cell_type": "code",
   "execution_count": 43,
   "id": "68e24b97",
   "metadata": {},
   "outputs": [
    {
     "name": "stdout",
     "output_type": "stream",
     "text": [
      "722/722 [==============================] - 1s 1ms/step - loss: 0.1194 - accuracy: 0.9663\n"
     ]
    },
    {
     "data": {
      "text/plain": [
       "[0.11939489841461182, 0.9663203358650208]"
      ]
     },
     "execution_count": 43,
     "metadata": {},
     "output_type": "execute_result"
    }
   ],
   "source": [
    "model6.evaluate(X_testf, y_test)"
   ]
  },
  {
   "cell_type": "code",
   "execution_count": 44,
   "id": "144b807d",
   "metadata": {},
   "outputs": [
    {
     "name": "stdout",
     "output_type": "stream",
     "text": [
      "722/722 [==============================] - 1s 1ms/step\n"
     ]
    },
    {
     "data": {
      "text/plain": [
       "<tf.Tensor: shape=(10, 10), dtype=int32, numpy=\n",
       "array([[2211,    0,    1,    1,    1,    7,    7,    0,    8,    2],\n",
       "       [   2, 2573,   10,    7,    0,    0,    8,    7,   12,    6],\n",
       "       [   6,    3, 2269,   14,    8,    3,    9,   15,   19,    3],\n",
       "       [   3,    1,   14, 2190,    3,   31,    0,   30,   19,   10],\n",
       "       [   5,    3,    4,    2, 2192,    2,    6,   10,    3,   38],\n",
       "       [   5,    2,    3,   29,    3, 1996,   12,    8,   17,   11],\n",
       "       [  17,    2,    3,    1,   12,   16, 2260,    1,    9,    0],\n",
       "       [   5,    8,   13,    1,    8,    2,    2, 2303,    4,   24],\n",
       "       [  12,   16,   10,   14,    5,   16,   11,    6, 2112,   12],\n",
       "       [  11,    0,    2,   16,   27,   10,    1,   39,    9, 2216]])>"
      ]
     },
     "execution_count": 44,
     "metadata": {},
     "output_type": "execute_result"
    }
   ],
   "source": [
    "y_predict = model6.predict(X_testf)\n",
    "# y_predict[0]\n",
    "#np.argmax(y_predict[0]) #gives the maximum value out of the given ones\n",
    "predicted_labels = [np.argmax(i) for i in y_predict] #we are getting exactly what has been predicted and putting it into a predicted labels array\n",
    "cm = tf.math.confusion_matrix(labels=y_test,predictions=predicted_labels) #tensorflow has inbuilt provisions to build confusion matrices\n",
    "cm"
   ]
  },
  {
   "cell_type": "code",
   "execution_count": 45,
   "id": "ee1ff63d",
   "metadata": {},
   "outputs": [
    {
     "name": "stdout",
     "output_type": "stream",
     "text": [
      "Epoch 1/5\n",
      "1466/1466 [==============================] - 3s 2ms/step - loss: 0.4823 - accuracy: 0.8726\n",
      "Epoch 2/5\n",
      "1466/1466 [==============================] - 2s 2ms/step - loss: 0.1979 - accuracy: 0.9414\n",
      "Epoch 3/5\n",
      "1466/1466 [==============================] - 2s 2ms/step - loss: 0.1463 - accuracy: 0.9564\n",
      "Epoch 4/5\n",
      "1466/1466 [==============================] - 2s 2ms/step - loss: 0.1171 - accuracy: 0.9654\n",
      "Epoch 5/5\n",
      "1466/1466 [==============================] - 2s 2ms/step - loss: 0.0987 - accuracy: 0.9705\n"
     ]
    },
    {
     "data": {
      "text/plain": [
       "<keras.callbacks.History at 0x1bdd1ede3a0>"
      ]
     },
     "execution_count": 45,
     "metadata": {},
     "output_type": "execute_result"
    }
   ],
   "source": [
    "model7 = keras.Sequential([\n",
    "    keras.layers.Dense(50, input_shape=(784,), activation = 'sigmoid'), #we call it dense since every node in one layer is connected to every node in the next layer    \n",
    "    keras.layers.Dense(30, activation = 'relu'),\n",
    "    keras.layers.Dense(20, activation = 'tanh'),\n",
    "    keras.layers.Dense(10, activation = 'softmax')\n",
    "])\n",
    "\n",
    "model7.compile(optimizer = 'adam', loss = 'sparse_categorical_crossentropy', metrics = ['accuracy'])\n",
    "model7.fit(X_trainf, y_train, epochs = 5)"
   ]
  },
  {
   "cell_type": "code",
   "execution_count": 46,
   "id": "1bbe0dbc",
   "metadata": {},
   "outputs": [
    {
     "name": "stdout",
     "output_type": "stream",
     "text": [
      "722/722 [==============================] - 1s 1ms/step - loss: 0.1287 - accuracy: 0.9625\n"
     ]
    },
    {
     "data": {
      "text/plain": [
       "[0.12869030237197876, 0.9625108242034912]"
      ]
     },
     "execution_count": 46,
     "metadata": {},
     "output_type": "execute_result"
    }
   ],
   "source": [
    "model7.evaluate(X_testf, y_test)"
   ]
  },
  {
   "cell_type": "code",
   "execution_count": 47,
   "id": "88a9c9d4",
   "metadata": {},
   "outputs": [
    {
     "name": "stdout",
     "output_type": "stream",
     "text": [
      "722/722 [==============================] - 1s 1ms/step\n"
     ]
    },
    {
     "data": {
      "text/plain": [
       "<tf.Tensor: shape=(10, 10), dtype=int32, numpy=\n",
       "array([[2206,    0,    0,    3,    2,    4,    8,    0,   10,    5],\n",
       "       [   1, 2549,    6,   17,    0,    4,    1,   11,   26,   10],\n",
       "       [  10,    4, 2204,   41,   15,    3,    8,   28,   33,    3],\n",
       "       [   1,    1,   10, 2225,    0,   15,    1,   22,   15,   11],\n",
       "       [   3,    0,    6,    3, 2165,    2,    7,    5,    5,   69],\n",
       "       [  12,    1,    3,   55,    7, 1964,    6,    3,   20,   15],\n",
       "       [  20,    5,    1,    1,   14,   20, 2236,    2,   22,    0],\n",
       "       [   5,    6,    9,    7,   20,    1,    1, 2301,    1,   19],\n",
       "       [   8,    9,    2,   38,    3,   11,    9,    6, 2102,   26],\n",
       "       [  10,    1,    0,   24,   23,    4,    0,   28,    8, 2233]])>"
      ]
     },
     "execution_count": 47,
     "metadata": {},
     "output_type": "execute_result"
    }
   ],
   "source": [
    "y_predict = model1.predict(X_testf)\n",
    "# y_predict[0]\n",
    "#np.argmax(y_predict[0]) #gives the maximum value out of the given ones\n",
    "predicted_labels = [np.argmax(i) for i in y_predict] #we are getting exactly what has been predicted and putting it into a predicted labels array\n",
    "cm = tf.math.confusion_matrix(labels=y_test,predictions=predicted_labels) #tensorflow has inbuilt provisions to build confusion matrices\n",
    "cm"
   ]
  },
  {
   "cell_type": "code",
   "execution_count": 48,
   "id": "d94fbfab",
   "metadata": {},
   "outputs": [
    {
     "name": "stdout",
     "output_type": "stream",
     "text": [
      "Epoch 1/5\n",
      "1466/1466 [==============================] - 3s 2ms/step - loss: 0.4111 - accuracy: 0.8878\n",
      "Epoch 2/5\n",
      "1466/1466 [==============================] - 2s 2ms/step - loss: 0.1836 - accuracy: 0.9449\n",
      "Epoch 3/5\n",
      "1466/1466 [==============================] - 2s 2ms/step - loss: 0.1346 - accuracy: 0.9596\n",
      "Epoch 4/5\n",
      "1466/1466 [==============================] - 2s 2ms/step - loss: 0.1055 - accuracy: 0.9684\n",
      "Epoch 5/5\n",
      "1466/1466 [==============================] - 2s 2ms/step - loss: 0.0844 - accuracy: 0.9739\n"
     ]
    },
    {
     "data": {
      "text/plain": [
       "<keras.callbacks.History at 0x1bdd0e38c10>"
      ]
     },
     "execution_count": 48,
     "metadata": {},
     "output_type": "execute_result"
    }
   ],
   "source": [
    "model8 = keras.Sequential([\n",
    "    keras.layers.Dense(75, input_shape=(784,), activation = 'sigmoid'), #we call it dense since every node in one layer is connected to every node in the next layer    \n",
    "    keras.layers.Dense(75, activation = 'relu'),\n",
    "    keras.layers.Dense(10, activation = 'softmax')\n",
    "])\n",
    "\n",
    "model8.compile(optimizer = 'adam', loss = 'sparse_categorical_crossentropy', metrics = ['accuracy'])\n",
    "model8.fit(X_trainf, y_train, epochs = 5)\n"
   ]
  },
  {
   "cell_type": "code",
   "execution_count": 49,
   "id": "0ee818b7",
   "metadata": {},
   "outputs": [
    {
     "name": "stdout",
     "output_type": "stream",
     "text": [
      "722/722 [==============================] - 1s 1ms/step - loss: 0.1185 - accuracy: 0.9630\n"
     ]
    },
    {
     "data": {
      "text/plain": [
       "[0.11847444623708725, 0.9629870057106018]"
      ]
     },
     "execution_count": 49,
     "metadata": {},
     "output_type": "execute_result"
    }
   ],
   "source": [
    "model8.evaluate(X_testf, y_test)"
   ]
  },
  {
   "cell_type": "code",
   "execution_count": 50,
   "id": "fa90c7b1",
   "metadata": {},
   "outputs": [
    {
     "name": "stdout",
     "output_type": "stream",
     "text": [
      "722/722 [==============================] - 1s 1ms/step\n"
     ]
    },
    {
     "data": {
      "text/plain": [
       "<tf.Tensor: shape=(10, 10), dtype=int32, numpy=\n",
       "array([[2190,    0,    4,    1,    5,    6,   17,    1,   13,    1],\n",
       "       [   1, 2594,    8,    1,    0,    3,    4,    3,    9,    2],\n",
       "       [   4,    7, 2283,    0,    9,    3,    4,   12,   27,    0],\n",
       "       [   4,    7,   36, 2064,    2,   67,    5,   25,   82,    9],\n",
       "       [   2,    3,    8,    0, 2211,    1,    7,    4,    4,   25],\n",
       "       [   6,    4,    7,   16,    8, 1985,   17,    2,   30,   11],\n",
       "       [  11,    5,    5,    0,   11,   15, 2257,    0,   17,    0],\n",
       "       [   4,   10,   18,    2,   23,    1,    1, 2288,    3,   20],\n",
       "       [   5,   13,    8,    4,    4,    8,    9,    2, 2147,   14],\n",
       "       [   7,    2,    0,    8,   35,    3,    1,   23,   26, 2226]])>"
      ]
     },
     "execution_count": 50,
     "metadata": {},
     "output_type": "execute_result"
    }
   ],
   "source": [
    "y_predict = model8.predict(X_testf)\n",
    "# y_predict[0]\n",
    "#np.argmax(y_predict[0]) #gives the maximum value out of the given ones\n",
    "predicted_labels = [np.argmax(i) for i in y_predict] #we are getting exactly what has been predicted and putting it into a predicted labels array\n",
    "cm = tf.math.confusion_matrix(labels=y_test,predictions=predicted_labels) #tensorflow has inbuilt provisions to build confusion matrices\n",
    "cm"
   ]
  },
  {
   "cell_type": "code",
   "execution_count": 51,
   "id": "ce818f4e",
   "metadata": {},
   "outputs": [
    {
     "name": "stdout",
     "output_type": "stream",
     "text": [
      "Epoch 1/5\n",
      "1466/1466 [==============================] - 3s 2ms/step - loss: 0.3860 - accuracy: 0.8921\n",
      "Epoch 2/5\n",
      "1466/1466 [==============================] - 2s 2ms/step - loss: 0.1806 - accuracy: 0.9459\n",
      "Epoch 3/5\n",
      "1466/1466 [==============================] - 2s 2ms/step - loss: 0.1304 - accuracy: 0.9610\n",
      "Epoch 4/5\n",
      "1466/1466 [==============================] - 2s 2ms/step - loss: 0.1002 - accuracy: 0.9695\n",
      "Epoch 5/5\n",
      "1466/1466 [==============================] - 2s 2ms/step - loss: 0.0794 - accuracy: 0.9749\n"
     ]
    },
    {
     "data": {
      "text/plain": [
       "<keras.callbacks.History at 0x1bdf87162b0>"
      ]
     },
     "execution_count": 51,
     "metadata": {},
     "output_type": "execute_result"
    }
   ],
   "source": [
    "model9 = keras.Sequential([\n",
    "    keras.layers.Dense(75, input_shape=(784,), activation = 'sigmoid'), #we call it dense since every node in one layer is connected to every node in the next layer    \n",
    "    keras.layers.Dense(75, activation = 'tanh'),\n",
    "    keras.layers.Dense(10, activation = 'softmax')\n",
    "])\n",
    "\n",
    "model9.compile(optimizer = 'adam', loss = 'sparse_categorical_crossentropy', metrics = ['accuracy'])\n",
    "model9.fit(X_trainf, y_train, epochs = 5)"
   ]
  },
  {
   "cell_type": "code",
   "execution_count": 52,
   "id": "3de04589",
   "metadata": {},
   "outputs": [
    {
     "name": "stdout",
     "output_type": "stream",
     "text": [
      "722/722 [==============================] - 1s 1ms/step - loss: 0.1050 - accuracy: 0.9677\n"
     ]
    },
    {
     "data": {
      "text/plain": [
       "[0.10500309616327286, 0.9677489399909973]"
      ]
     },
     "execution_count": 52,
     "metadata": {},
     "output_type": "execute_result"
    }
   ],
   "source": [
    "model9.evaluate(X_testf, y_test)"
   ]
  },
  {
   "cell_type": "code",
   "execution_count": 53,
   "id": "4bb5d403",
   "metadata": {},
   "outputs": [
    {
     "name": "stdout",
     "output_type": "stream",
     "text": [
      "722/722 [==============================] - 1s 1ms/step\n"
     ]
    },
    {
     "data": {
      "text/plain": [
       "<tf.Tensor: shape=(10, 10), dtype=int32, numpy=\n",
       "array([[2200,    0,    2,    2,    2,    8,   13,    1,    6,    4],\n",
       "       [   1, 2593,    7,    3,    0,    3,    3,    7,    5,    3],\n",
       "       [  13,    7, 2264,   11,    7,    5,    4,   17,   16,    5],\n",
       "       [   3,    2,   13, 2197,    0,   33,    0,   20,   17,   16],\n",
       "       [   3,    3,    4,    0, 2201,    2,    5,    5,    3,   39],\n",
       "       [   4,    3,    4,   20,    5, 2017,   10,    0,   11,   12],\n",
       "       [  16,    7,    3,    1,   15,   21, 2246,    5,    7,    0],\n",
       "       [   8,   11,   11,    2,   16,    2,    1, 2299,    2,   18],\n",
       "       [  10,   22,    7,   14,    5,   18,   12,    3, 2092,   31],\n",
       "       [   5,    4,    0,   14,   30,    5,    0,   22,    5, 2246]])>"
      ]
     },
     "execution_count": 53,
     "metadata": {},
     "output_type": "execute_result"
    }
   ],
   "source": [
    "y_predict = model9.predict(X_testf)\n",
    "# y_predict[0]\n",
    "#np.argmax(y_predict[0]) #gives the maximum value out of the given ones\n",
    "predicted_labels = [np.argmax(i) for i in y_predict] #we are getting exactly what has been predicted and putting it into a predicted labels array\n",
    "cm = tf.math.confusion_matrix(labels=y_test,predictions=predicted_labels) #tensorflow has inbuilt provisions to build confusion matrices\n",
    "cm"
   ]
  },
  {
   "cell_type": "code",
   "execution_count": 54,
   "id": "427f2642",
   "metadata": {},
   "outputs": [
    {
     "name": "stdout",
     "output_type": "stream",
     "text": [
      "Epoch 1/5\n",
      "1466/1466 [==============================] - 3s 2ms/step - loss: 0.2756 - accuracy: 0.9205\n",
      "Epoch 2/5\n",
      "1466/1466 [==============================] - 3s 2ms/step - loss: 0.1217 - accuracy: 0.9632\n",
      "Epoch 3/5\n",
      "1466/1466 [==============================] - 3s 2ms/step - loss: 0.0821 - accuracy: 0.9753\n",
      "Epoch 4/5\n",
      "1466/1466 [==============================] - 3s 2ms/step - loss: 0.0632 - accuracy: 0.9795\n",
      "Epoch 5/5\n",
      "1466/1466 [==============================] - 3s 2ms/step - loss: 0.0477 - accuracy: 0.9849\n"
     ]
    },
    {
     "data": {
      "text/plain": [
       "<keras.callbacks.History at 0x1bdd0330df0>"
      ]
     },
     "execution_count": 54,
     "metadata": {},
     "output_type": "execute_result"
    }
   ],
   "source": [
    "model10 = keras.Sequential([\n",
    "    keras.layers.Dense(75, input_shape=(784,), activation = 'relu'), #we call it dense since every node in one layer is connected to every node in the next layer    \n",
    "    keras.layers.Dense(75, activation = 'tanh'),\n",
    "    keras.layers.Dense(10, activation = 'softmax')\n",
    "])\n",
    "\n",
    "model10.compile(optimizer = 'adam', loss = 'sparse_categorical_crossentropy', metrics = ['accuracy'])\n",
    "model10.fit(X_trainf, y_train, epochs = 5)"
   ]
  },
  {
   "cell_type": "code",
   "execution_count": 55,
   "id": "41742bc7",
   "metadata": {},
   "outputs": [
    {
     "name": "stdout",
     "output_type": "stream",
     "text": [
      "722/722 [==============================] - 1s 1ms/step - loss: 0.1044 - accuracy: 0.9682\n"
     ]
    },
    {
     "data": {
      "text/plain": [
       "[0.10436118394136429, 0.9681817889213562]"
      ]
     },
     "execution_count": 55,
     "metadata": {},
     "output_type": "execute_result"
    }
   ],
   "source": [
    "model10.evaluate(X_testf, y_test)"
   ]
  },
  {
   "cell_type": "code",
   "execution_count": 56,
   "id": "03ee929d",
   "metadata": {},
   "outputs": [
    {
     "name": "stdout",
     "output_type": "stream",
     "text": [
      "722/722 [==============================] - 1s 1ms/step\n"
     ]
    },
    {
     "data": {
      "text/plain": [
       "<tf.Tensor: shape=(10, 10), dtype=int32, numpy=\n",
       "array([[2187,    0,    2,    3,    0,    2,   13,    0,   24,    7],\n",
       "       [   0, 2583,    4,    4,    0,    0,    1,   10,   15,    8],\n",
       "       [   4,    8, 2228,   34,    7,    2,    6,   13,   44,    3],\n",
       "       [   0,    1,   10, 2181,    1,   30,    1,   19,   36,   22],\n",
       "       [   2,    5,    4,    1, 2166,    1,    8,    5,    3,   70],\n",
       "       [   6,    1,    2,   24,    3, 2006,    5,    2,   25,   12],\n",
       "       [   8,    5,    2,    2,    3,   24, 2267,    0,   10,    0],\n",
       "       [   2,    0,   13,    1,   15,    2,    0, 2314,    5,   18],\n",
       "       [   2,    3,    1,    7,    4,    7,    1,    3, 2152,   34],\n",
       "       [   2,    0,    0,    5,   11,    3,    1,   19,    9, 2281]])>"
      ]
     },
     "execution_count": 56,
     "metadata": {},
     "output_type": "execute_result"
    }
   ],
   "source": [
    "y_predict = model10.predict(X_testf)\n",
    "# y_predict[0]\n",
    "#np.argmax(y_predict[0]) #gives the maximum value out of the given ones\n",
    "predicted_labels = [np.argmax(i) for i in y_predict] #we are getting exactly what has been predicted and putting it into a predicted labels array\n",
    "cm = tf.math.confusion_matrix(labels=y_test,predictions=predicted_labels) #tensorflow has inbuilt provisions to build confusion matrices\n",
    "cm"
   ]
  },
  {
   "cell_type": "code",
   "execution_count": 57,
   "id": "346a9e81",
   "metadata": {},
   "outputs": [
    {
     "name": "stdout",
     "output_type": "stream",
     "text": [
      "Epoch 1/5\n",
      "1466/1466 [==============================] - 3s 2ms/step - loss: 0.8663 - accuracy: 0.7774\n",
      "Epoch 2/5\n",
      "1466/1466 [==============================] - 3s 2ms/step - loss: 0.2622 - accuracy: 0.9290\n",
      "Epoch 3/5\n",
      "1466/1466 [==============================] - 3s 2ms/step - loss: 0.1846 - accuracy: 0.9483\n",
      "Epoch 4/5\n",
      "1466/1466 [==============================] - 3s 2ms/step - loss: 0.1418 - accuracy: 0.9607\n",
      "Epoch 5/5\n",
      "1466/1466 [==============================] - 3s 2ms/step - loss: 0.1148 - accuracy: 0.9676\n"
     ]
    },
    {
     "data": {
      "text/plain": [
       "<keras.callbacks.History at 0x1bdc470e8b0>"
      ]
     },
     "execution_count": 57,
     "metadata": {},
     "output_type": "execute_result"
    }
   ],
   "source": [
    "model11 = keras.Sequential([\n",
    "    keras.layers.Dense(60, input_shape=(784,), activation = 'sigmoid'), #we call it dense since every node in one layer is connected to every node in the next layer    \n",
    "    keras.layers.Dense(50, activation = 'sigmoid'),\n",
    "    keras.layers.Dense(40, activation = 'sigmoid'),\n",
    "    keras.layers.Dense(10, activation = 'softmax')\n",
    "])\n",
    "\n",
    "model11.compile(optimizer = 'adam', loss = 'sparse_categorical_crossentropy', metrics = ['accuracy'])\n",
    "model11.fit(X_trainf, y_train, epochs = 5)"
   ]
  },
  {
   "cell_type": "code",
   "execution_count": 58,
   "id": "835381c6",
   "metadata": {},
   "outputs": [
    {
     "name": "stdout",
     "output_type": "stream",
     "text": [
      "722/722 [==============================] - 2s 2ms/step - loss: 0.1448 - accuracy: 0.9581\n"
     ]
    },
    {
     "data": {
      "text/plain": [
       "[0.14475764334201813, 0.9581385254859924]"
      ]
     },
     "execution_count": 58,
     "metadata": {},
     "output_type": "execute_result"
    }
   ],
   "source": [
    "model11.evaluate(X_testf, y_test)"
   ]
  },
  {
   "cell_type": "code",
   "execution_count": 59,
   "id": "79659279",
   "metadata": {},
   "outputs": [
    {
     "name": "stdout",
     "output_type": "stream",
     "text": [
      "722/722 [==============================] - 1s 2ms/step\n"
     ]
    },
    {
     "data": {
      "text/plain": [
       "<tf.Tensor: shape=(10, 10), dtype=int32, numpy=\n",
       "array([[2191,    0,   10,    2,    3,    5,   12,    3,   11,    1],\n",
       "       [   1, 2571,    7,    9,    0,    5,    1,    7,   15,    9],\n",
       "       [   9,   10, 2242,   18,   10,    8,   10,   13,   25,    4],\n",
       "       [   1,    3,   19, 2163,    0,   37,    0,   21,   46,   11],\n",
       "       [   2,    4,    8,    1, 2170,    3,   11,    3,   12,   51],\n",
       "       [   7,    1,    5,   27,   10, 1989,   11,    2,   27,    7],\n",
       "       [  14,    7,    8,    1,   18,   37, 2225,    0,   11,    0],\n",
       "       [  10,   10,   18,    5,   19,    3,    1, 2262,    8,   34],\n",
       "       [   5,   11,    6,   21,    4,   24,    6,    3, 2121,   13],\n",
       "       [   8,    2,    4,   17,   30,   10,    1,   29,   31, 2199]])>"
      ]
     },
     "execution_count": 59,
     "metadata": {},
     "output_type": "execute_result"
    }
   ],
   "source": [
    "y_predict = model11.predict(X_testf)\n",
    "# y_predict[0]\n",
    "#np.argmax(y_predict[0]) #gives the maximum value out of the given ones\n",
    "predicted_labels = [np.argmax(i) for i in y_predict] #we are getting exactly what has been predicted and putting it into a predicted labels array\n",
    "cm = tf.math.confusion_matrix(labels=y_test,predictions=predicted_labels) #tensorflow has inbuilt provisions to build confusion matrices\n",
    "cm"
   ]
  },
  {
   "cell_type": "code",
   "execution_count": 60,
   "id": "56611146",
   "metadata": {},
   "outputs": [
    {
     "name": "stdout",
     "output_type": "stream",
     "text": [
      "Epoch 1/5\n",
      "1466/1466 [==============================] - 3s 2ms/step - loss: 0.3207 - accuracy: 0.9052\n",
      "Epoch 2/5\n",
      "1466/1466 [==============================] - 3s 2ms/step - loss: 0.1456 - accuracy: 0.9567\n",
      "Epoch 3/5\n",
      "1466/1466 [==============================] - 3s 2ms/step - loss: 0.1091 - accuracy: 0.9664\n",
      "Epoch 4/5\n",
      "1466/1466 [==============================] - 3s 2ms/step - loss: 0.0860 - accuracy: 0.9730\n",
      "Epoch 5/5\n",
      "1466/1466 [==============================] - 3s 2ms/step - loss: 0.0712 - accuracy: 0.9780\n"
     ]
    },
    {
     "data": {
      "text/plain": [
       "<keras.callbacks.History at 0x1bdc6e02f10>"
      ]
     },
     "execution_count": 60,
     "metadata": {},
     "output_type": "execute_result"
    }
   ],
   "source": [
    "model12 = keras.Sequential([\n",
    "    keras.layers.Dense(60, input_shape=(784,), activation = 'relu'), #we call it dense since every node in one layer is connected to every node in the next layer    \n",
    "    keras.layers.Dense(50, activation = 'relu'),\n",
    "    keras.layers.Dense(40, activation = 'relu'),\n",
    "    keras.layers.Dense(10, activation = 'softmax')\n",
    "])\n",
    "\n",
    "model12.compile(optimizer = 'adam', loss = 'sparse_categorical_crossentropy', metrics = ['accuracy'])\n",
    "model12.fit(X_trainf, y_train, epochs = 5)"
   ]
  },
  {
   "cell_type": "code",
   "execution_count": 61,
   "id": "a0ef774d",
   "metadata": {},
   "outputs": [
    {
     "name": "stdout",
     "output_type": "stream",
     "text": [
      "722/722 [==============================] - 1s 1ms/step - loss: 0.1155 - accuracy: 0.9664\n"
     ]
    },
    {
     "data": {
      "text/plain": [
       "[0.11545099318027496, 0.9664069414138794]"
      ]
     },
     "execution_count": 61,
     "metadata": {},
     "output_type": "execute_result"
    }
   ],
   "source": [
    "model12.evaluate(X_testf, y_test)"
   ]
  },
  {
   "cell_type": "code",
   "execution_count": 62,
   "id": "4319d8b1",
   "metadata": {},
   "outputs": [
    {
     "name": "stdout",
     "output_type": "stream",
     "text": [
      "722/722 [==============================] - 1s 1ms/step\n"
     ]
    },
    {
     "data": {
      "text/plain": [
       "<tf.Tensor: shape=(10, 10), dtype=int32, numpy=\n",
       "array([[2209,    0,    5,    1,    1,    0,    6,    1,   14,    1],\n",
       "       [   0, 2588,    5,    4,    0,    0,    3,    6,   11,    8],\n",
       "       [   6,    7, 2272,   17,    8,    1,    3,    8,   25,    2],\n",
       "       [   1,    1,   21, 2222,    0,   17,    0,    8,   22,    9],\n",
       "       [   1,    3,   10,    0, 2199,    0,   11,    8,    4,   29],\n",
       "       [   9,    1,    5,   44,    3, 1970,    9,    2,   28,   15],\n",
       "       [  21,    7,    5,    2,   12,   18, 2235,    0,   21,    0],\n",
       "       [   5,    5,   19,    8,   17,    1,    0, 2281,    6,   28],\n",
       "       [   6,    5,   12,   19,    7,    8,    2,    4, 2138,   13],\n",
       "       [   8,    1,    3,   36,   39,    2,    1,   17,   14, 2210]])>"
      ]
     },
     "execution_count": 62,
     "metadata": {},
     "output_type": "execute_result"
    }
   ],
   "source": [
    "y_predict = model12.predict(X_testf)\n",
    "# y_predict[0]\n",
    "#np.argmax(y_predict[0]) #gives the maximum value out of the given ones\n",
    "predicted_labels = [np.argmax(i) for i in y_predict] #we are getting exactly what has been predicted and putting it into a predicted labels array\n",
    "cm = tf.math.confusion_matrix(labels=y_test,predictions=predicted_labels) #tensorflow has inbuilt provisions to build confusion matrices\n",
    "cm"
   ]
  },
  {
   "cell_type": "code",
   "execution_count": 63,
   "id": "dc100913",
   "metadata": {},
   "outputs": [
    {
     "name": "stdout",
     "output_type": "stream",
     "text": [
      "Epoch 1/5\n",
      "1466/1466 [==============================] - 3s 2ms/step - loss: 0.3119 - accuracy: 0.9121\n",
      "Epoch 2/5\n",
      "1466/1466 [==============================] - 3s 2ms/step - loss: 0.1436 - accuracy: 0.9574\n",
      "Epoch 3/5\n",
      "1466/1466 [==============================] - 3s 2ms/step - loss: 0.1050 - accuracy: 0.9686\n",
      "Epoch 4/5\n",
      "1466/1466 [==============================] - 3s 2ms/step - loss: 0.0807 - accuracy: 0.9747\n",
      "Epoch 5/5\n",
      "1466/1466 [==============================] - 3s 2ms/step - loss: 0.0656 - accuracy: 0.9795\n"
     ]
    },
    {
     "data": {
      "text/plain": [
       "<keras.callbacks.History at 0x1bdc70db910>"
      ]
     },
     "execution_count": 63,
     "metadata": {},
     "output_type": "execute_result"
    }
   ],
   "source": [
    "model13 = keras.Sequential([\n",
    "    keras.layers.Dense(60, input_shape=(784,), activation = 'tanh'), #we call it dense since every node in one layer is connected to every node in the next layer    \n",
    "    keras.layers.Dense(50, activation = 'tanh'),\n",
    "    keras.layers.Dense(40, activation = 'tanh'),\n",
    "    keras.layers.Dense(10, activation = 'softmax')\n",
    "])\n",
    "\n",
    "model13.compile(optimizer = 'adam', loss = 'sparse_categorical_crossentropy', metrics = ['accuracy'])\n",
    "model13.fit(X_trainf, y_train, epochs = 5)"
   ]
  },
  {
   "cell_type": "code",
   "execution_count": 64,
   "id": "685a7e73",
   "metadata": {},
   "outputs": [
    {
     "name": "stdout",
     "output_type": "stream",
     "text": [
      "722/722 [==============================] - 1s 1ms/step - loss: 0.1200 - accuracy: 0.9635\n"
     ]
    },
    {
     "data": {
      "text/plain": [
       "[0.11999968439340591, 0.9635065197944641]"
      ]
     },
     "execution_count": 64,
     "metadata": {},
     "output_type": "execute_result"
    }
   ],
   "source": [
    "model13.evaluate(X_testf, y_test)"
   ]
  },
  {
   "cell_type": "code",
   "execution_count": 65,
   "id": "1c0ae0f3",
   "metadata": {},
   "outputs": [
    {
     "name": "stdout",
     "output_type": "stream",
     "text": [
      "722/722 [==============================] - 1s 1ms/step\n"
     ]
    },
    {
     "data": {
      "text/plain": [
       "<tf.Tensor: shape=(10, 10), dtype=int32, numpy=\n",
       "array([[2162,    0,    3,    4,    3,   11,   31,    1,   12,   11],\n",
       "       [   0, 2566,    7,   10,    4,    1,    5,    7,   20,    5],\n",
       "       [   3,    1, 2271,   17,   10,    5,   11,    5,   25,    1],\n",
       "       [   1,    0,   13, 2152,    3,   60,    4,   22,   34,   12],\n",
       "       [   1,    2,    8,    2, 2198,    2,    9,    4,    8,   31],\n",
       "       [   1,    1,    0,   27,    6, 2012,    5,    2,   19,   13],\n",
       "       [   6,    1,    2,    1,    8,   31, 2257,    0,   14,    1],\n",
       "       [   3,    7,   15,    2,   15,    2,    0, 2287,    7,   32],\n",
       "       [   5,    5,    4,   19,    3,   21,   12,    2, 2134,    9],\n",
       "       [   4,    2,    1,   14,   37,   11,    3,   17,   24, 2218]])>"
      ]
     },
     "execution_count": 65,
     "metadata": {},
     "output_type": "execute_result"
    }
   ],
   "source": [
    "y_predict = model13.predict(X_testf)\n",
    "# y_predict[0]\n",
    "#np.argmax(y_predict[0]) #gives the maximum value out of the given ones\n",
    "predicted_labels = [np.argmax(i) for i in y_predict] #we are getting exactly what has been predicted and putting it into a predicted labels array\n",
    "cm = tf.math.confusion_matrix(labels=y_test,predictions=predicted_labels) #tensorflow has inbuilt provisions to build confusion matrices\n",
    "cm"
   ]
  },
  {
   "cell_type": "code",
   "execution_count": 66,
   "id": "a2cbe391",
   "metadata": {},
   "outputs": [
    {
     "name": "stdout",
     "output_type": "stream",
     "text": [
      "Epoch 1/5\n",
      "1466/1466 [==============================] - 3s 2ms/step - loss: 0.4159 - accuracy: 0.8816\n",
      "Epoch 2/5\n",
      "1466/1466 [==============================] - 3s 2ms/step - loss: 0.1837 - accuracy: 0.9454\n",
      "Epoch 3/5\n",
      "1466/1466 [==============================] - 4s 3ms/step - loss: 0.1347 - accuracy: 0.9599\n",
      "Epoch 4/5\n",
      "1466/1466 [==============================] - 3s 2ms/step - loss: 0.1088 - accuracy: 0.9671\n",
      "Epoch 5/5\n",
      "1466/1466 [==============================] - 3s 2ms/step - loss: 0.0889 - accuracy: 0.9729\n"
     ]
    },
    {
     "data": {
      "text/plain": [
       "<keras.callbacks.History at 0x1bdc4674a90>"
      ]
     },
     "execution_count": 66,
     "metadata": {},
     "output_type": "execute_result"
    }
   ],
   "source": [
    "model14 = keras.Sequential([\n",
    "    keras.layers.Dense(60, input_shape=(784,), activation = 'sigmoid'), #we call it dense since every node in one layer is connected to every node in the next layer    \n",
    "    keras.layers.Dense(50, activation = 'relu'),\n",
    "    keras.layers.Dense(40, activation = 'tanh'),\n",
    "    keras.layers.Dense(10, activation = 'softmax')\n",
    "])\n",
    "\n",
    "model14.compile(optimizer = 'adam', loss = 'sparse_categorical_crossentropy', metrics = ['accuracy'])\n",
    "model14.fit(X_trainf, y_train, epochs = 5)"
   ]
  },
  {
   "cell_type": "code",
   "execution_count": 67,
   "id": "d9fbda52",
   "metadata": {},
   "outputs": [
    {
     "name": "stdout",
     "output_type": "stream",
     "text": [
      "722/722 [==============================] - 1s 2ms/step - loss: 0.1297 - accuracy: 0.9597\n"
     ]
    },
    {
     "data": {
      "text/plain": [
       "[0.1296979784965515, 0.9597402811050415]"
      ]
     },
     "execution_count": 67,
     "metadata": {},
     "output_type": "execute_result"
    }
   ],
   "source": [
    "model14.evaluate(X_testf, y_test)"
   ]
  },
  {
   "cell_type": "code",
   "execution_count": 68,
   "id": "60d2fab0",
   "metadata": {},
   "outputs": [
    {
     "name": "stdout",
     "output_type": "stream",
     "text": [
      "722/722 [==============================] - 1s 1ms/step\n"
     ]
    },
    {
     "data": {
      "text/plain": [
       "<tf.Tensor: shape=(10, 10), dtype=int32, numpy=\n",
       "array([[2180,    0,    1,    1,   12,    5,   16,    1,   16,    6],\n",
       "       [   1, 2572,    8,    3,    6,    5,    2,    3,   15,   10],\n",
       "       [   8,   12, 2247,    9,   16,    3,    9,   14,   26,    5],\n",
       "       [   2,    3,   20, 2116,    2,   40,    1,   18,   65,   34],\n",
       "       [   1,    4,    4,    0, 2219,    1,    7,    3,    3,   23],\n",
       "       [  12,    2,    2,   21,   16, 1961,    9,    3,   38,   22],\n",
       "       [  11,    4,    2,    1,   18,   23, 2243,    0,   19,    0],\n",
       "       [   3,    7,   16,    3,   27,    1,    0, 2256,    9,   48],\n",
       "       [   9,    7,    3,    6,   12,    9,    7,    1, 2138,   22],\n",
       "       [   4,    1,    0,    4,   50,    3,    1,   13,   17, 2238]])>"
      ]
     },
     "execution_count": 68,
     "metadata": {},
     "output_type": "execute_result"
    }
   ],
   "source": [
    "y_predict = model14.predict(X_testf)\n",
    "# y_predict[0]\n",
    "#np.argmax(y_predict[0]) #gives the maximum value out of the given ones\n",
    "predicted_labels = [np.argmax(i) for i in y_predict] #we are getting exactly what has been predicted and putting it into a predicted labels array\n",
    "cm = tf.math.confusion_matrix(labels=y_test,predictions=predicted_labels) #tensorflow has inbuilt provisions to build confusion matrices\n",
    "cm"
   ]
  },
  {
   "cell_type": "code",
   "execution_count": 69,
   "id": "64650d49",
   "metadata": {},
   "outputs": [
    {
     "name": "stdout",
     "output_type": "stream",
     "text": [
      "Epoch 1/5\n",
      "1466/1466 [==============================] - 3s 2ms/step - loss: 0.4478 - accuracy: 0.8771\n",
      "Epoch 2/5\n",
      "1466/1466 [==============================] - 3s 2ms/step - loss: 0.1970 - accuracy: 0.9433\n",
      "Epoch 3/5\n",
      "1466/1466 [==============================] - 3s 2ms/step - loss: 0.1491 - accuracy: 0.9552\n",
      "Epoch 4/5\n",
      "1466/1466 [==============================] - 3s 2ms/step - loss: 0.1185 - accuracy: 0.9644\n",
      "Epoch 5/5\n",
      "1466/1466 [==============================] - 3s 2ms/step - loss: 0.0976 - accuracy: 0.9703\n"
     ]
    },
    {
     "data": {
      "text/plain": [
       "<keras.callbacks.History at 0x1bdc6f94af0>"
      ]
     },
     "execution_count": 69,
     "metadata": {},
     "output_type": "execute_result"
    }
   ],
   "source": [
    "model15 = keras.Sequential([\n",
    "    keras.layers.Dense(50, input_shape=(784,), activation = 'sigmoid'), #we call it dense since every node in one layer is connected to every node in the next layer    \n",
    "    keras.layers.Dense(50, activation = 'relu'),\n",
    "    keras.layers.Dense(10, activation = 'softmax')\n",
    "])\n",
    "\n",
    "model15.compile(optimizer = 'adam', loss = 'sparse_categorical_crossentropy', metrics = ['accuracy'])\n",
    "model15.fit(X_trainf, y_train, epochs = 5)"
   ]
  },
  {
   "cell_type": "code",
   "execution_count": 70,
   "id": "9aa0d0f6",
   "metadata": {},
   "outputs": [
    {
     "name": "stdout",
     "output_type": "stream",
     "text": [
      "722/722 [==============================] - 1s 1ms/step - loss: 0.1326 - accuracy: 0.9591\n"
     ]
    },
    {
     "data": {
      "text/plain": [
       "[0.1325998604297638, 0.9591342210769653]"
      ]
     },
     "execution_count": 70,
     "metadata": {},
     "output_type": "execute_result"
    }
   ],
   "source": [
    "model15.evaluate(X_testf, y_test)"
   ]
  },
  {
   "cell_type": "code",
   "execution_count": 71,
   "id": "e0a5d08b",
   "metadata": {},
   "outputs": [
    {
     "name": "stdout",
     "output_type": "stream",
     "text": [
      "722/722 [==============================] - 1s 1ms/step\n"
     ]
    },
    {
     "data": {
      "text/plain": [
       "<tf.Tensor: shape=(10, 10), dtype=int32, numpy=\n",
       "array([[2205,    0,    1,    2,    3,    4,   10,    1,    6,    6],\n",
       "       [   1, 2572,    7,   10,    0,    4,    8,    7,    9,    7],\n",
       "       [  15,    7, 2229,   15,   13,    7,   13,   22,   18,   10],\n",
       "       [   6,    3,   18, 2150,    2,   49,    1,   25,   19,   28],\n",
       "       [   2,    2,    7,    0, 2173,    3,    9,    3,    2,   64],\n",
       "       [  10,    1,    4,   21,    9, 2006,    7,    2,   14,   12],\n",
       "       [  22,    5,    2,    1,   14,   18, 2251,    1,    6,    1],\n",
       "       [   6,    9,   10,    1,   13,    1,    2, 2276,    2,   50],\n",
       "       [  13,   20,    5,   29,    7,   28,   16,    5, 2035,   56],\n",
       "       [   8,    1,    0,   14,   22,    6,    0,   18,    3, 2259]])>"
      ]
     },
     "execution_count": 71,
     "metadata": {},
     "output_type": "execute_result"
    }
   ],
   "source": [
    "y_predict = model15.predict(X_testf)\n",
    "# y_predict[0]\n",
    "#np.argmax(y_predict[0]) #gives the maximum value out of the given ones\n",
    "predicted_labels = [np.argmax(i) for i in y_predict] #we are getting exactly what has been predicted and putting it into a predicted labels array\n",
    "cm = tf.math.confusion_matrix(labels=y_test,predictions=predicted_labels) #tensorflow has inbuilt provisions to build confusion matrices\n",
    "cm"
   ]
  }
 ],
 "metadata": {
  "kernelspec": {
   "display_name": "Python 3 (ipykernel)",
   "language": "python",
   "name": "python3"
  },
  "language_info": {
   "codemirror_mode": {
    "name": "ipython",
    "version": 3
   },
   "file_extension": ".py",
   "mimetype": "text/x-python",
   "name": "python",
   "nbconvert_exporter": "python",
   "pygments_lexer": "ipython3",
   "version": "3.9.16"
  }
 },
 "nbformat": 4,
 "nbformat_minor": 5
}
