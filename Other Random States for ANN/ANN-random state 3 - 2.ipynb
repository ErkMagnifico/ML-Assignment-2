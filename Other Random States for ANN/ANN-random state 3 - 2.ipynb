{
 "cells": [
  {
   "cell_type": "code",
   "execution_count": 1,
   "id": "036874ec",
   "metadata": {},
   "outputs": [],
   "source": [
    "import numpy as np\n",
    "import pandas as pd\n",
    "import tensorflow as tf\n",
    "from tensorflow import keras"
   ]
  },
  {
   "cell_type": "code",
   "execution_count": 2,
   "id": "5a726a2f",
   "metadata": {},
   "outputs": [],
   "source": [
    "(x_train, y_train), (x_test, y_test) = keras.datasets.mnist.load_data()\n"
   ]
  },
  {
   "cell_type": "code",
   "execution_count": 3,
   "id": "562846dd",
   "metadata": {},
   "outputs": [],
   "source": [
    "x_train2 = x_train.reshape(len(x_train), 28 * 28)\n",
    "df1 = pd.DataFrame(x_train2)\n"
   ]
  },
  {
   "cell_type": "code",
   "execution_count": 4,
   "id": "be135681",
   "metadata": {},
   "outputs": [
    {
     "data": {
      "text/html": [
       "<div>\n",
       "<style scoped>\n",
       "    .dataframe tbody tr th:only-of-type {\n",
       "        vertical-align: middle;\n",
       "    }\n",
       "\n",
       "    .dataframe tbody tr th {\n",
       "        vertical-align: top;\n",
       "    }\n",
       "\n",
       "    .dataframe thead th {\n",
       "        text-align: right;\n",
       "    }\n",
       "</style>\n",
       "<table border=\"1\" class=\"dataframe\">\n",
       "  <thead>\n",
       "    <tr style=\"text-align: right;\">\n",
       "      <th></th>\n",
       "      <th>0</th>\n",
       "      <th>1</th>\n",
       "      <th>2</th>\n",
       "      <th>3</th>\n",
       "      <th>4</th>\n",
       "      <th>5</th>\n",
       "      <th>6</th>\n",
       "      <th>7</th>\n",
       "      <th>8</th>\n",
       "      <th>9</th>\n",
       "      <th>...</th>\n",
       "      <th>774</th>\n",
       "      <th>775</th>\n",
       "      <th>776</th>\n",
       "      <th>777</th>\n",
       "      <th>778</th>\n",
       "      <th>779</th>\n",
       "      <th>780</th>\n",
       "      <th>781</th>\n",
       "      <th>782</th>\n",
       "      <th>783</th>\n",
       "    </tr>\n",
       "  </thead>\n",
       "  <tbody>\n",
       "    <tr>\n",
       "      <th>0</th>\n",
       "      <td>0</td>\n",
       "      <td>0</td>\n",
       "      <td>0</td>\n",
       "      <td>0</td>\n",
       "      <td>0</td>\n",
       "      <td>0</td>\n",
       "      <td>0</td>\n",
       "      <td>0</td>\n",
       "      <td>0</td>\n",
       "      <td>0</td>\n",
       "      <td>...</td>\n",
       "      <td>0</td>\n",
       "      <td>0</td>\n",
       "      <td>0</td>\n",
       "      <td>0</td>\n",
       "      <td>0</td>\n",
       "      <td>0</td>\n",
       "      <td>0</td>\n",
       "      <td>0</td>\n",
       "      <td>0</td>\n",
       "      <td>0</td>\n",
       "    </tr>\n",
       "    <tr>\n",
       "      <th>1</th>\n",
       "      <td>0</td>\n",
       "      <td>0</td>\n",
       "      <td>0</td>\n",
       "      <td>0</td>\n",
       "      <td>0</td>\n",
       "      <td>0</td>\n",
       "      <td>0</td>\n",
       "      <td>0</td>\n",
       "      <td>0</td>\n",
       "      <td>0</td>\n",
       "      <td>...</td>\n",
       "      <td>0</td>\n",
       "      <td>0</td>\n",
       "      <td>0</td>\n",
       "      <td>0</td>\n",
       "      <td>0</td>\n",
       "      <td>0</td>\n",
       "      <td>0</td>\n",
       "      <td>0</td>\n",
       "      <td>0</td>\n",
       "      <td>0</td>\n",
       "    </tr>\n",
       "    <tr>\n",
       "      <th>2</th>\n",
       "      <td>0</td>\n",
       "      <td>0</td>\n",
       "      <td>0</td>\n",
       "      <td>0</td>\n",
       "      <td>0</td>\n",
       "      <td>0</td>\n",
       "      <td>0</td>\n",
       "      <td>0</td>\n",
       "      <td>0</td>\n",
       "      <td>0</td>\n",
       "      <td>...</td>\n",
       "      <td>0</td>\n",
       "      <td>0</td>\n",
       "      <td>0</td>\n",
       "      <td>0</td>\n",
       "      <td>0</td>\n",
       "      <td>0</td>\n",
       "      <td>0</td>\n",
       "      <td>0</td>\n",
       "      <td>0</td>\n",
       "      <td>0</td>\n",
       "    </tr>\n",
       "    <tr>\n",
       "      <th>3</th>\n",
       "      <td>0</td>\n",
       "      <td>0</td>\n",
       "      <td>0</td>\n",
       "      <td>0</td>\n",
       "      <td>0</td>\n",
       "      <td>0</td>\n",
       "      <td>0</td>\n",
       "      <td>0</td>\n",
       "      <td>0</td>\n",
       "      <td>0</td>\n",
       "      <td>...</td>\n",
       "      <td>0</td>\n",
       "      <td>0</td>\n",
       "      <td>0</td>\n",
       "      <td>0</td>\n",
       "      <td>0</td>\n",
       "      <td>0</td>\n",
       "      <td>0</td>\n",
       "      <td>0</td>\n",
       "      <td>0</td>\n",
       "      <td>0</td>\n",
       "    </tr>\n",
       "    <tr>\n",
       "      <th>4</th>\n",
       "      <td>0</td>\n",
       "      <td>0</td>\n",
       "      <td>0</td>\n",
       "      <td>0</td>\n",
       "      <td>0</td>\n",
       "      <td>0</td>\n",
       "      <td>0</td>\n",
       "      <td>0</td>\n",
       "      <td>0</td>\n",
       "      <td>0</td>\n",
       "      <td>...</td>\n",
       "      <td>0</td>\n",
       "      <td>0</td>\n",
       "      <td>0</td>\n",
       "      <td>0</td>\n",
       "      <td>0</td>\n",
       "      <td>0</td>\n",
       "      <td>0</td>\n",
       "      <td>0</td>\n",
       "      <td>0</td>\n",
       "      <td>0</td>\n",
       "    </tr>\n",
       "    <tr>\n",
       "      <th>...</th>\n",
       "      <td>...</td>\n",
       "      <td>...</td>\n",
       "      <td>...</td>\n",
       "      <td>...</td>\n",
       "      <td>...</td>\n",
       "      <td>...</td>\n",
       "      <td>...</td>\n",
       "      <td>...</td>\n",
       "      <td>...</td>\n",
       "      <td>...</td>\n",
       "      <td>...</td>\n",
       "      <td>...</td>\n",
       "      <td>...</td>\n",
       "      <td>...</td>\n",
       "      <td>...</td>\n",
       "      <td>...</td>\n",
       "      <td>...</td>\n",
       "      <td>...</td>\n",
       "      <td>...</td>\n",
       "      <td>...</td>\n",
       "      <td>...</td>\n",
       "    </tr>\n",
       "    <tr>\n",
       "      <th>59995</th>\n",
       "      <td>0</td>\n",
       "      <td>0</td>\n",
       "      <td>0</td>\n",
       "      <td>0</td>\n",
       "      <td>0</td>\n",
       "      <td>0</td>\n",
       "      <td>0</td>\n",
       "      <td>0</td>\n",
       "      <td>0</td>\n",
       "      <td>0</td>\n",
       "      <td>...</td>\n",
       "      <td>0</td>\n",
       "      <td>0</td>\n",
       "      <td>0</td>\n",
       "      <td>0</td>\n",
       "      <td>0</td>\n",
       "      <td>0</td>\n",
       "      <td>0</td>\n",
       "      <td>0</td>\n",
       "      <td>0</td>\n",
       "      <td>0</td>\n",
       "    </tr>\n",
       "    <tr>\n",
       "      <th>59996</th>\n",
       "      <td>0</td>\n",
       "      <td>0</td>\n",
       "      <td>0</td>\n",
       "      <td>0</td>\n",
       "      <td>0</td>\n",
       "      <td>0</td>\n",
       "      <td>0</td>\n",
       "      <td>0</td>\n",
       "      <td>0</td>\n",
       "      <td>0</td>\n",
       "      <td>...</td>\n",
       "      <td>0</td>\n",
       "      <td>0</td>\n",
       "      <td>0</td>\n",
       "      <td>0</td>\n",
       "      <td>0</td>\n",
       "      <td>0</td>\n",
       "      <td>0</td>\n",
       "      <td>0</td>\n",
       "      <td>0</td>\n",
       "      <td>0</td>\n",
       "    </tr>\n",
       "    <tr>\n",
       "      <th>59997</th>\n",
       "      <td>0</td>\n",
       "      <td>0</td>\n",
       "      <td>0</td>\n",
       "      <td>0</td>\n",
       "      <td>0</td>\n",
       "      <td>0</td>\n",
       "      <td>0</td>\n",
       "      <td>0</td>\n",
       "      <td>0</td>\n",
       "      <td>0</td>\n",
       "      <td>...</td>\n",
       "      <td>0</td>\n",
       "      <td>0</td>\n",
       "      <td>0</td>\n",
       "      <td>0</td>\n",
       "      <td>0</td>\n",
       "      <td>0</td>\n",
       "      <td>0</td>\n",
       "      <td>0</td>\n",
       "      <td>0</td>\n",
       "      <td>0</td>\n",
       "    </tr>\n",
       "    <tr>\n",
       "      <th>59998</th>\n",
       "      <td>0</td>\n",
       "      <td>0</td>\n",
       "      <td>0</td>\n",
       "      <td>0</td>\n",
       "      <td>0</td>\n",
       "      <td>0</td>\n",
       "      <td>0</td>\n",
       "      <td>0</td>\n",
       "      <td>0</td>\n",
       "      <td>0</td>\n",
       "      <td>...</td>\n",
       "      <td>0</td>\n",
       "      <td>0</td>\n",
       "      <td>0</td>\n",
       "      <td>0</td>\n",
       "      <td>0</td>\n",
       "      <td>0</td>\n",
       "      <td>0</td>\n",
       "      <td>0</td>\n",
       "      <td>0</td>\n",
       "      <td>0</td>\n",
       "    </tr>\n",
       "    <tr>\n",
       "      <th>59999</th>\n",
       "      <td>0</td>\n",
       "      <td>0</td>\n",
       "      <td>0</td>\n",
       "      <td>0</td>\n",
       "      <td>0</td>\n",
       "      <td>0</td>\n",
       "      <td>0</td>\n",
       "      <td>0</td>\n",
       "      <td>0</td>\n",
       "      <td>0</td>\n",
       "      <td>...</td>\n",
       "      <td>0</td>\n",
       "      <td>0</td>\n",
       "      <td>0</td>\n",
       "      <td>0</td>\n",
       "      <td>0</td>\n",
       "      <td>0</td>\n",
       "      <td>0</td>\n",
       "      <td>0</td>\n",
       "      <td>0</td>\n",
       "      <td>0</td>\n",
       "    </tr>\n",
       "  </tbody>\n",
       "</table>\n",
       "<p>60000 rows × 784 columns</p>\n",
       "</div>"
      ],
      "text/plain": [
       "       0    1    2    3    4    5    6    7    8    9    ...  774  775  776  \\\n",
       "0        0    0    0    0    0    0    0    0    0    0  ...    0    0    0   \n",
       "1        0    0    0    0    0    0    0    0    0    0  ...    0    0    0   \n",
       "2        0    0    0    0    0    0    0    0    0    0  ...    0    0    0   \n",
       "3        0    0    0    0    0    0    0    0    0    0  ...    0    0    0   \n",
       "4        0    0    0    0    0    0    0    0    0    0  ...    0    0    0   \n",
       "...    ...  ...  ...  ...  ...  ...  ...  ...  ...  ...  ...  ...  ...  ...   \n",
       "59995    0    0    0    0    0    0    0    0    0    0  ...    0    0    0   \n",
       "59996    0    0    0    0    0    0    0    0    0    0  ...    0    0    0   \n",
       "59997    0    0    0    0    0    0    0    0    0    0  ...    0    0    0   \n",
       "59998    0    0    0    0    0    0    0    0    0    0  ...    0    0    0   \n",
       "59999    0    0    0    0    0    0    0    0    0    0  ...    0    0    0   \n",
       "\n",
       "       777  778  779  780  781  782  783  \n",
       "0        0    0    0    0    0    0    0  \n",
       "1        0    0    0    0    0    0    0  \n",
       "2        0    0    0    0    0    0    0  \n",
       "3        0    0    0    0    0    0    0  \n",
       "4        0    0    0    0    0    0    0  \n",
       "...    ...  ...  ...  ...  ...  ...  ...  \n",
       "59995    0    0    0    0    0    0    0  \n",
       "59996    0    0    0    0    0    0    0  \n",
       "59997    0    0    0    0    0    0    0  \n",
       "59998    0    0    0    0    0    0    0  \n",
       "59999    0    0    0    0    0    0    0  \n",
       "\n",
       "[60000 rows x 784 columns]"
      ]
     },
     "execution_count": 4,
     "metadata": {},
     "output_type": "execute_result"
    }
   ],
   "source": [
    "df1"
   ]
  },
  {
   "cell_type": "code",
   "execution_count": 5,
   "id": "e5fb2452",
   "metadata": {},
   "outputs": [],
   "source": [
    "df1_target = pd.DataFrame(y_train)"
   ]
  },
  {
   "cell_type": "code",
   "execution_count": 6,
   "id": "90285008",
   "metadata": {},
   "outputs": [
    {
     "data": {
      "text/html": [
       "<div>\n",
       "<style scoped>\n",
       "    .dataframe tbody tr th:only-of-type {\n",
       "        vertical-align: middle;\n",
       "    }\n",
       "\n",
       "    .dataframe tbody tr th {\n",
       "        vertical-align: top;\n",
       "    }\n",
       "\n",
       "    .dataframe thead th {\n",
       "        text-align: right;\n",
       "    }\n",
       "</style>\n",
       "<table border=\"1\" class=\"dataframe\">\n",
       "  <thead>\n",
       "    <tr style=\"text-align: right;\">\n",
       "      <th></th>\n",
       "      <th>0</th>\n",
       "    </tr>\n",
       "  </thead>\n",
       "  <tbody>\n",
       "    <tr>\n",
       "      <th>0</th>\n",
       "      <td>5</td>\n",
       "    </tr>\n",
       "    <tr>\n",
       "      <th>1</th>\n",
       "      <td>0</td>\n",
       "    </tr>\n",
       "    <tr>\n",
       "      <th>2</th>\n",
       "      <td>4</td>\n",
       "    </tr>\n",
       "    <tr>\n",
       "      <th>3</th>\n",
       "      <td>1</td>\n",
       "    </tr>\n",
       "    <tr>\n",
       "      <th>4</th>\n",
       "      <td>9</td>\n",
       "    </tr>\n",
       "    <tr>\n",
       "      <th>...</th>\n",
       "      <td>...</td>\n",
       "    </tr>\n",
       "    <tr>\n",
       "      <th>59995</th>\n",
       "      <td>8</td>\n",
       "    </tr>\n",
       "    <tr>\n",
       "      <th>59996</th>\n",
       "      <td>3</td>\n",
       "    </tr>\n",
       "    <tr>\n",
       "      <th>59997</th>\n",
       "      <td>5</td>\n",
       "    </tr>\n",
       "    <tr>\n",
       "      <th>59998</th>\n",
       "      <td>6</td>\n",
       "    </tr>\n",
       "    <tr>\n",
       "      <th>59999</th>\n",
       "      <td>8</td>\n",
       "    </tr>\n",
       "  </tbody>\n",
       "</table>\n",
       "<p>60000 rows × 1 columns</p>\n",
       "</div>"
      ],
      "text/plain": [
       "       0\n",
       "0      5\n",
       "1      0\n",
       "2      4\n",
       "3      1\n",
       "4      9\n",
       "...   ..\n",
       "59995  8\n",
       "59996  3\n",
       "59997  5\n",
       "59998  6\n",
       "59999  8\n",
       "\n",
       "[60000 rows x 1 columns]"
      ]
     },
     "execution_count": 6,
     "metadata": {},
     "output_type": "execute_result"
    }
   ],
   "source": [
    "df1_target"
   ]
  },
  {
   "cell_type": "code",
   "execution_count": 7,
   "id": "70101328",
   "metadata": {},
   "outputs": [
    {
     "data": {
      "text/html": [
       "<div>\n",
       "<style scoped>\n",
       "    .dataframe tbody tr th:only-of-type {\n",
       "        vertical-align: middle;\n",
       "    }\n",
       "\n",
       "    .dataframe tbody tr th {\n",
       "        vertical-align: top;\n",
       "    }\n",
       "\n",
       "    .dataframe thead th {\n",
       "        text-align: right;\n",
       "    }\n",
       "</style>\n",
       "<table border=\"1\" class=\"dataframe\">\n",
       "  <thead>\n",
       "    <tr style=\"text-align: right;\">\n",
       "      <th></th>\n",
       "      <th>0</th>\n",
       "      <th>1</th>\n",
       "      <th>2</th>\n",
       "      <th>3</th>\n",
       "      <th>4</th>\n",
       "      <th>5</th>\n",
       "      <th>6</th>\n",
       "      <th>7</th>\n",
       "      <th>8</th>\n",
       "      <th>9</th>\n",
       "      <th>...</th>\n",
       "      <th>775</th>\n",
       "      <th>776</th>\n",
       "      <th>777</th>\n",
       "      <th>778</th>\n",
       "      <th>779</th>\n",
       "      <th>780</th>\n",
       "      <th>781</th>\n",
       "      <th>782</th>\n",
       "      <th>783</th>\n",
       "      <th>target</th>\n",
       "    </tr>\n",
       "  </thead>\n",
       "  <tbody>\n",
       "    <tr>\n",
       "      <th>0</th>\n",
       "      <td>0</td>\n",
       "      <td>0</td>\n",
       "      <td>0</td>\n",
       "      <td>0</td>\n",
       "      <td>0</td>\n",
       "      <td>0</td>\n",
       "      <td>0</td>\n",
       "      <td>0</td>\n",
       "      <td>0</td>\n",
       "      <td>0</td>\n",
       "      <td>...</td>\n",
       "      <td>0</td>\n",
       "      <td>0</td>\n",
       "      <td>0</td>\n",
       "      <td>0</td>\n",
       "      <td>0</td>\n",
       "      <td>0</td>\n",
       "      <td>0</td>\n",
       "      <td>0</td>\n",
       "      <td>0</td>\n",
       "      <td>5</td>\n",
       "    </tr>\n",
       "    <tr>\n",
       "      <th>1</th>\n",
       "      <td>0</td>\n",
       "      <td>0</td>\n",
       "      <td>0</td>\n",
       "      <td>0</td>\n",
       "      <td>0</td>\n",
       "      <td>0</td>\n",
       "      <td>0</td>\n",
       "      <td>0</td>\n",
       "      <td>0</td>\n",
       "      <td>0</td>\n",
       "      <td>...</td>\n",
       "      <td>0</td>\n",
       "      <td>0</td>\n",
       "      <td>0</td>\n",
       "      <td>0</td>\n",
       "      <td>0</td>\n",
       "      <td>0</td>\n",
       "      <td>0</td>\n",
       "      <td>0</td>\n",
       "      <td>0</td>\n",
       "      <td>0</td>\n",
       "    </tr>\n",
       "    <tr>\n",
       "      <th>2</th>\n",
       "      <td>0</td>\n",
       "      <td>0</td>\n",
       "      <td>0</td>\n",
       "      <td>0</td>\n",
       "      <td>0</td>\n",
       "      <td>0</td>\n",
       "      <td>0</td>\n",
       "      <td>0</td>\n",
       "      <td>0</td>\n",
       "      <td>0</td>\n",
       "      <td>...</td>\n",
       "      <td>0</td>\n",
       "      <td>0</td>\n",
       "      <td>0</td>\n",
       "      <td>0</td>\n",
       "      <td>0</td>\n",
       "      <td>0</td>\n",
       "      <td>0</td>\n",
       "      <td>0</td>\n",
       "      <td>0</td>\n",
       "      <td>4</td>\n",
       "    </tr>\n",
       "    <tr>\n",
       "      <th>3</th>\n",
       "      <td>0</td>\n",
       "      <td>0</td>\n",
       "      <td>0</td>\n",
       "      <td>0</td>\n",
       "      <td>0</td>\n",
       "      <td>0</td>\n",
       "      <td>0</td>\n",
       "      <td>0</td>\n",
       "      <td>0</td>\n",
       "      <td>0</td>\n",
       "      <td>...</td>\n",
       "      <td>0</td>\n",
       "      <td>0</td>\n",
       "      <td>0</td>\n",
       "      <td>0</td>\n",
       "      <td>0</td>\n",
       "      <td>0</td>\n",
       "      <td>0</td>\n",
       "      <td>0</td>\n",
       "      <td>0</td>\n",
       "      <td>1</td>\n",
       "    </tr>\n",
       "    <tr>\n",
       "      <th>4</th>\n",
       "      <td>0</td>\n",
       "      <td>0</td>\n",
       "      <td>0</td>\n",
       "      <td>0</td>\n",
       "      <td>0</td>\n",
       "      <td>0</td>\n",
       "      <td>0</td>\n",
       "      <td>0</td>\n",
       "      <td>0</td>\n",
       "      <td>0</td>\n",
       "      <td>...</td>\n",
       "      <td>0</td>\n",
       "      <td>0</td>\n",
       "      <td>0</td>\n",
       "      <td>0</td>\n",
       "      <td>0</td>\n",
       "      <td>0</td>\n",
       "      <td>0</td>\n",
       "      <td>0</td>\n",
       "      <td>0</td>\n",
       "      <td>9</td>\n",
       "    </tr>\n",
       "  </tbody>\n",
       "</table>\n",
       "<p>5 rows × 785 columns</p>\n",
       "</div>"
      ],
      "text/plain": [
       "   0  1  2  3  4  5  6  7  8  9  ...  775  776  777  778  779  780  781  782  \\\n",
       "0  0  0  0  0  0  0  0  0  0  0  ...    0    0    0    0    0    0    0    0   \n",
       "1  0  0  0  0  0  0  0  0  0  0  ...    0    0    0    0    0    0    0    0   \n",
       "2  0  0  0  0  0  0  0  0  0  0  ...    0    0    0    0    0    0    0    0   \n",
       "3  0  0  0  0  0  0  0  0  0  0  ...    0    0    0    0    0    0    0    0   \n",
       "4  0  0  0  0  0  0  0  0  0  0  ...    0    0    0    0    0    0    0    0   \n",
       "\n",
       "   783  target  \n",
       "0    0       5  \n",
       "1    0       0  \n",
       "2    0       4  \n",
       "3    0       1  \n",
       "4    0       9  \n",
       "\n",
       "[5 rows x 785 columns]"
      ]
     },
     "execution_count": 7,
     "metadata": {},
     "output_type": "execute_result"
    }
   ],
   "source": [
    "df1['target'] = df1_target[0]\n",
    "df1.head()"
   ]
  },
  {
   "cell_type": "markdown",
   "id": "42812e09",
   "metadata": {},
   "source": [
    "# We did the merging for X_train and y_train, now lets do it for X_test and y_test"
   ]
  },
  {
   "cell_type": "code",
   "execution_count": 8,
   "id": "267c1a58",
   "metadata": {},
   "outputs": [
    {
     "data": {
      "text/html": [
       "<div>\n",
       "<style scoped>\n",
       "    .dataframe tbody tr th:only-of-type {\n",
       "        vertical-align: middle;\n",
       "    }\n",
       "\n",
       "    .dataframe tbody tr th {\n",
       "        vertical-align: top;\n",
       "    }\n",
       "\n",
       "    .dataframe thead th {\n",
       "        text-align: right;\n",
       "    }\n",
       "</style>\n",
       "<table border=\"1\" class=\"dataframe\">\n",
       "  <thead>\n",
       "    <tr style=\"text-align: right;\">\n",
       "      <th></th>\n",
       "      <th>0</th>\n",
       "      <th>1</th>\n",
       "      <th>2</th>\n",
       "      <th>3</th>\n",
       "      <th>4</th>\n",
       "      <th>5</th>\n",
       "      <th>6</th>\n",
       "      <th>7</th>\n",
       "      <th>8</th>\n",
       "      <th>9</th>\n",
       "      <th>...</th>\n",
       "      <th>775</th>\n",
       "      <th>776</th>\n",
       "      <th>777</th>\n",
       "      <th>778</th>\n",
       "      <th>779</th>\n",
       "      <th>780</th>\n",
       "      <th>781</th>\n",
       "      <th>782</th>\n",
       "      <th>783</th>\n",
       "      <th>target</th>\n",
       "    </tr>\n",
       "  </thead>\n",
       "  <tbody>\n",
       "    <tr>\n",
       "      <th>0</th>\n",
       "      <td>0</td>\n",
       "      <td>0</td>\n",
       "      <td>0</td>\n",
       "      <td>0</td>\n",
       "      <td>0</td>\n",
       "      <td>0</td>\n",
       "      <td>0</td>\n",
       "      <td>0</td>\n",
       "      <td>0</td>\n",
       "      <td>0</td>\n",
       "      <td>...</td>\n",
       "      <td>0</td>\n",
       "      <td>0</td>\n",
       "      <td>0</td>\n",
       "      <td>0</td>\n",
       "      <td>0</td>\n",
       "      <td>0</td>\n",
       "      <td>0</td>\n",
       "      <td>0</td>\n",
       "      <td>0</td>\n",
       "      <td>7</td>\n",
       "    </tr>\n",
       "    <tr>\n",
       "      <th>1</th>\n",
       "      <td>0</td>\n",
       "      <td>0</td>\n",
       "      <td>0</td>\n",
       "      <td>0</td>\n",
       "      <td>0</td>\n",
       "      <td>0</td>\n",
       "      <td>0</td>\n",
       "      <td>0</td>\n",
       "      <td>0</td>\n",
       "      <td>0</td>\n",
       "      <td>...</td>\n",
       "      <td>0</td>\n",
       "      <td>0</td>\n",
       "      <td>0</td>\n",
       "      <td>0</td>\n",
       "      <td>0</td>\n",
       "      <td>0</td>\n",
       "      <td>0</td>\n",
       "      <td>0</td>\n",
       "      <td>0</td>\n",
       "      <td>2</td>\n",
       "    </tr>\n",
       "    <tr>\n",
       "      <th>2</th>\n",
       "      <td>0</td>\n",
       "      <td>0</td>\n",
       "      <td>0</td>\n",
       "      <td>0</td>\n",
       "      <td>0</td>\n",
       "      <td>0</td>\n",
       "      <td>0</td>\n",
       "      <td>0</td>\n",
       "      <td>0</td>\n",
       "      <td>0</td>\n",
       "      <td>...</td>\n",
       "      <td>0</td>\n",
       "      <td>0</td>\n",
       "      <td>0</td>\n",
       "      <td>0</td>\n",
       "      <td>0</td>\n",
       "      <td>0</td>\n",
       "      <td>0</td>\n",
       "      <td>0</td>\n",
       "      <td>0</td>\n",
       "      <td>1</td>\n",
       "    </tr>\n",
       "    <tr>\n",
       "      <th>3</th>\n",
       "      <td>0</td>\n",
       "      <td>0</td>\n",
       "      <td>0</td>\n",
       "      <td>0</td>\n",
       "      <td>0</td>\n",
       "      <td>0</td>\n",
       "      <td>0</td>\n",
       "      <td>0</td>\n",
       "      <td>0</td>\n",
       "      <td>0</td>\n",
       "      <td>...</td>\n",
       "      <td>0</td>\n",
       "      <td>0</td>\n",
       "      <td>0</td>\n",
       "      <td>0</td>\n",
       "      <td>0</td>\n",
       "      <td>0</td>\n",
       "      <td>0</td>\n",
       "      <td>0</td>\n",
       "      <td>0</td>\n",
       "      <td>0</td>\n",
       "    </tr>\n",
       "    <tr>\n",
       "      <th>4</th>\n",
       "      <td>0</td>\n",
       "      <td>0</td>\n",
       "      <td>0</td>\n",
       "      <td>0</td>\n",
       "      <td>0</td>\n",
       "      <td>0</td>\n",
       "      <td>0</td>\n",
       "      <td>0</td>\n",
       "      <td>0</td>\n",
       "      <td>0</td>\n",
       "      <td>...</td>\n",
       "      <td>0</td>\n",
       "      <td>0</td>\n",
       "      <td>0</td>\n",
       "      <td>0</td>\n",
       "      <td>0</td>\n",
       "      <td>0</td>\n",
       "      <td>0</td>\n",
       "      <td>0</td>\n",
       "      <td>0</td>\n",
       "      <td>4</td>\n",
       "    </tr>\n",
       "  </tbody>\n",
       "</table>\n",
       "<p>5 rows × 785 columns</p>\n",
       "</div>"
      ],
      "text/plain": [
       "   0  1  2  3  4  5  6  7  8  9  ...  775  776  777  778  779  780  781  782  \\\n",
       "0  0  0  0  0  0  0  0  0  0  0  ...    0    0    0    0    0    0    0    0   \n",
       "1  0  0  0  0  0  0  0  0  0  0  ...    0    0    0    0    0    0    0    0   \n",
       "2  0  0  0  0  0  0  0  0  0  0  ...    0    0    0    0    0    0    0    0   \n",
       "3  0  0  0  0  0  0  0  0  0  0  ...    0    0    0    0    0    0    0    0   \n",
       "4  0  0  0  0  0  0  0  0  0  0  ...    0    0    0    0    0    0    0    0   \n",
       "\n",
       "   783  target  \n",
       "0    0       7  \n",
       "1    0       2  \n",
       "2    0       1  \n",
       "3    0       0  \n",
       "4    0       4  \n",
       "\n",
       "[5 rows x 785 columns]"
      ]
     },
     "execution_count": 8,
     "metadata": {},
     "output_type": "execute_result"
    }
   ],
   "source": [
    "x_test2 = x_test.reshape(len(x_test), 28 * 28)\n",
    "df2 = pd.DataFrame(x_test2)\n",
    "df2_target = pd.DataFrame(y_test)\n",
    "df2['target'] = df2_target[0]\n",
    "df2.head()\n",
    "\n",
    "##MERGING HAS BEEN DONE. WE NOW HAVE DF1 and DF2"
   ]
  },
  {
   "cell_type": "code",
   "execution_count": 9,
   "id": "abcf9ad0",
   "metadata": {},
   "outputs": [
    {
     "data": {
      "text/html": [
       "<div>\n",
       "<style scoped>\n",
       "    .dataframe tbody tr th:only-of-type {\n",
       "        vertical-align: middle;\n",
       "    }\n",
       "\n",
       "    .dataframe tbody tr th {\n",
       "        vertical-align: top;\n",
       "    }\n",
       "\n",
       "    .dataframe thead th {\n",
       "        text-align: right;\n",
       "    }\n",
       "</style>\n",
       "<table border=\"1\" class=\"dataframe\">\n",
       "  <thead>\n",
       "    <tr style=\"text-align: right;\">\n",
       "      <th></th>\n",
       "      <th>0</th>\n",
       "      <th>1</th>\n",
       "      <th>2</th>\n",
       "      <th>3</th>\n",
       "      <th>4</th>\n",
       "      <th>5</th>\n",
       "      <th>6</th>\n",
       "      <th>7</th>\n",
       "      <th>8</th>\n",
       "      <th>9</th>\n",
       "      <th>...</th>\n",
       "      <th>775</th>\n",
       "      <th>776</th>\n",
       "      <th>777</th>\n",
       "      <th>778</th>\n",
       "      <th>779</th>\n",
       "      <th>780</th>\n",
       "      <th>781</th>\n",
       "      <th>782</th>\n",
       "      <th>783</th>\n",
       "      <th>target</th>\n",
       "    </tr>\n",
       "  </thead>\n",
       "  <tbody>\n",
       "    <tr>\n",
       "      <th>0</th>\n",
       "      <td>0</td>\n",
       "      <td>0</td>\n",
       "      <td>0</td>\n",
       "      <td>0</td>\n",
       "      <td>0</td>\n",
       "      <td>0</td>\n",
       "      <td>0</td>\n",
       "      <td>0</td>\n",
       "      <td>0</td>\n",
       "      <td>0</td>\n",
       "      <td>...</td>\n",
       "      <td>0</td>\n",
       "      <td>0</td>\n",
       "      <td>0</td>\n",
       "      <td>0</td>\n",
       "      <td>0</td>\n",
       "      <td>0</td>\n",
       "      <td>0</td>\n",
       "      <td>0</td>\n",
       "      <td>0</td>\n",
       "      <td>5</td>\n",
       "    </tr>\n",
       "    <tr>\n",
       "      <th>1</th>\n",
       "      <td>0</td>\n",
       "      <td>0</td>\n",
       "      <td>0</td>\n",
       "      <td>0</td>\n",
       "      <td>0</td>\n",
       "      <td>0</td>\n",
       "      <td>0</td>\n",
       "      <td>0</td>\n",
       "      <td>0</td>\n",
       "      <td>0</td>\n",
       "      <td>...</td>\n",
       "      <td>0</td>\n",
       "      <td>0</td>\n",
       "      <td>0</td>\n",
       "      <td>0</td>\n",
       "      <td>0</td>\n",
       "      <td>0</td>\n",
       "      <td>0</td>\n",
       "      <td>0</td>\n",
       "      <td>0</td>\n",
       "      <td>0</td>\n",
       "    </tr>\n",
       "    <tr>\n",
       "      <th>2</th>\n",
       "      <td>0</td>\n",
       "      <td>0</td>\n",
       "      <td>0</td>\n",
       "      <td>0</td>\n",
       "      <td>0</td>\n",
       "      <td>0</td>\n",
       "      <td>0</td>\n",
       "      <td>0</td>\n",
       "      <td>0</td>\n",
       "      <td>0</td>\n",
       "      <td>...</td>\n",
       "      <td>0</td>\n",
       "      <td>0</td>\n",
       "      <td>0</td>\n",
       "      <td>0</td>\n",
       "      <td>0</td>\n",
       "      <td>0</td>\n",
       "      <td>0</td>\n",
       "      <td>0</td>\n",
       "      <td>0</td>\n",
       "      <td>4</td>\n",
       "    </tr>\n",
       "    <tr>\n",
       "      <th>3</th>\n",
       "      <td>0</td>\n",
       "      <td>0</td>\n",
       "      <td>0</td>\n",
       "      <td>0</td>\n",
       "      <td>0</td>\n",
       "      <td>0</td>\n",
       "      <td>0</td>\n",
       "      <td>0</td>\n",
       "      <td>0</td>\n",
       "      <td>0</td>\n",
       "      <td>...</td>\n",
       "      <td>0</td>\n",
       "      <td>0</td>\n",
       "      <td>0</td>\n",
       "      <td>0</td>\n",
       "      <td>0</td>\n",
       "      <td>0</td>\n",
       "      <td>0</td>\n",
       "      <td>0</td>\n",
       "      <td>0</td>\n",
       "      <td>1</td>\n",
       "    </tr>\n",
       "    <tr>\n",
       "      <th>4</th>\n",
       "      <td>0</td>\n",
       "      <td>0</td>\n",
       "      <td>0</td>\n",
       "      <td>0</td>\n",
       "      <td>0</td>\n",
       "      <td>0</td>\n",
       "      <td>0</td>\n",
       "      <td>0</td>\n",
       "      <td>0</td>\n",
       "      <td>0</td>\n",
       "      <td>...</td>\n",
       "      <td>0</td>\n",
       "      <td>0</td>\n",
       "      <td>0</td>\n",
       "      <td>0</td>\n",
       "      <td>0</td>\n",
       "      <td>0</td>\n",
       "      <td>0</td>\n",
       "      <td>0</td>\n",
       "      <td>0</td>\n",
       "      <td>9</td>\n",
       "    </tr>\n",
       "    <tr>\n",
       "      <th>...</th>\n",
       "      <td>...</td>\n",
       "      <td>...</td>\n",
       "      <td>...</td>\n",
       "      <td>...</td>\n",
       "      <td>...</td>\n",
       "      <td>...</td>\n",
       "      <td>...</td>\n",
       "      <td>...</td>\n",
       "      <td>...</td>\n",
       "      <td>...</td>\n",
       "      <td>...</td>\n",
       "      <td>...</td>\n",
       "      <td>...</td>\n",
       "      <td>...</td>\n",
       "      <td>...</td>\n",
       "      <td>...</td>\n",
       "      <td>...</td>\n",
       "      <td>...</td>\n",
       "      <td>...</td>\n",
       "      <td>...</td>\n",
       "      <td>...</td>\n",
       "    </tr>\n",
       "    <tr>\n",
       "      <th>69995</th>\n",
       "      <td>0</td>\n",
       "      <td>0</td>\n",
       "      <td>0</td>\n",
       "      <td>0</td>\n",
       "      <td>0</td>\n",
       "      <td>0</td>\n",
       "      <td>0</td>\n",
       "      <td>0</td>\n",
       "      <td>0</td>\n",
       "      <td>0</td>\n",
       "      <td>...</td>\n",
       "      <td>0</td>\n",
       "      <td>0</td>\n",
       "      <td>0</td>\n",
       "      <td>0</td>\n",
       "      <td>0</td>\n",
       "      <td>0</td>\n",
       "      <td>0</td>\n",
       "      <td>0</td>\n",
       "      <td>0</td>\n",
       "      <td>2</td>\n",
       "    </tr>\n",
       "    <tr>\n",
       "      <th>69996</th>\n",
       "      <td>0</td>\n",
       "      <td>0</td>\n",
       "      <td>0</td>\n",
       "      <td>0</td>\n",
       "      <td>0</td>\n",
       "      <td>0</td>\n",
       "      <td>0</td>\n",
       "      <td>0</td>\n",
       "      <td>0</td>\n",
       "      <td>0</td>\n",
       "      <td>...</td>\n",
       "      <td>0</td>\n",
       "      <td>0</td>\n",
       "      <td>0</td>\n",
       "      <td>0</td>\n",
       "      <td>0</td>\n",
       "      <td>0</td>\n",
       "      <td>0</td>\n",
       "      <td>0</td>\n",
       "      <td>0</td>\n",
       "      <td>3</td>\n",
       "    </tr>\n",
       "    <tr>\n",
       "      <th>69997</th>\n",
       "      <td>0</td>\n",
       "      <td>0</td>\n",
       "      <td>0</td>\n",
       "      <td>0</td>\n",
       "      <td>0</td>\n",
       "      <td>0</td>\n",
       "      <td>0</td>\n",
       "      <td>0</td>\n",
       "      <td>0</td>\n",
       "      <td>0</td>\n",
       "      <td>...</td>\n",
       "      <td>0</td>\n",
       "      <td>0</td>\n",
       "      <td>0</td>\n",
       "      <td>0</td>\n",
       "      <td>0</td>\n",
       "      <td>0</td>\n",
       "      <td>0</td>\n",
       "      <td>0</td>\n",
       "      <td>0</td>\n",
       "      <td>4</td>\n",
       "    </tr>\n",
       "    <tr>\n",
       "      <th>69998</th>\n",
       "      <td>0</td>\n",
       "      <td>0</td>\n",
       "      <td>0</td>\n",
       "      <td>0</td>\n",
       "      <td>0</td>\n",
       "      <td>0</td>\n",
       "      <td>0</td>\n",
       "      <td>0</td>\n",
       "      <td>0</td>\n",
       "      <td>0</td>\n",
       "      <td>...</td>\n",
       "      <td>0</td>\n",
       "      <td>0</td>\n",
       "      <td>0</td>\n",
       "      <td>0</td>\n",
       "      <td>0</td>\n",
       "      <td>0</td>\n",
       "      <td>0</td>\n",
       "      <td>0</td>\n",
       "      <td>0</td>\n",
       "      <td>5</td>\n",
       "    </tr>\n",
       "    <tr>\n",
       "      <th>69999</th>\n",
       "      <td>0</td>\n",
       "      <td>0</td>\n",
       "      <td>0</td>\n",
       "      <td>0</td>\n",
       "      <td>0</td>\n",
       "      <td>0</td>\n",
       "      <td>0</td>\n",
       "      <td>0</td>\n",
       "      <td>0</td>\n",
       "      <td>0</td>\n",
       "      <td>...</td>\n",
       "      <td>0</td>\n",
       "      <td>0</td>\n",
       "      <td>0</td>\n",
       "      <td>0</td>\n",
       "      <td>0</td>\n",
       "      <td>0</td>\n",
       "      <td>0</td>\n",
       "      <td>0</td>\n",
       "      <td>0</td>\n",
       "      <td>6</td>\n",
       "    </tr>\n",
       "  </tbody>\n",
       "</table>\n",
       "<p>70000 rows × 785 columns</p>\n",
       "</div>"
      ],
      "text/plain": [
       "       0  1  2  3  4  5  6  7  8  9  ...  775  776  777  778  779  780  781  \\\n",
       "0      0  0  0  0  0  0  0  0  0  0  ...    0    0    0    0    0    0    0   \n",
       "1      0  0  0  0  0  0  0  0  0  0  ...    0    0    0    0    0    0    0   \n",
       "2      0  0  0  0  0  0  0  0  0  0  ...    0    0    0    0    0    0    0   \n",
       "3      0  0  0  0  0  0  0  0  0  0  ...    0    0    0    0    0    0    0   \n",
       "4      0  0  0  0  0  0  0  0  0  0  ...    0    0    0    0    0    0    0   \n",
       "...   .. .. .. .. .. .. .. .. .. ..  ...  ...  ...  ...  ...  ...  ...  ...   \n",
       "69995  0  0  0  0  0  0  0  0  0  0  ...    0    0    0    0    0    0    0   \n",
       "69996  0  0  0  0  0  0  0  0  0  0  ...    0    0    0    0    0    0    0   \n",
       "69997  0  0  0  0  0  0  0  0  0  0  ...    0    0    0    0    0    0    0   \n",
       "69998  0  0  0  0  0  0  0  0  0  0  ...    0    0    0    0    0    0    0   \n",
       "69999  0  0  0  0  0  0  0  0  0  0  ...    0    0    0    0    0    0    0   \n",
       "\n",
       "       782  783  target  \n",
       "0        0    0       5  \n",
       "1        0    0       0  \n",
       "2        0    0       4  \n",
       "3        0    0       1  \n",
       "4        0    0       9  \n",
       "...    ...  ...     ...  \n",
       "69995    0    0       2  \n",
       "69996    0    0       3  \n",
       "69997    0    0       4  \n",
       "69998    0    0       5  \n",
       "69999    0    0       6  \n",
       "\n",
       "[70000 rows x 785 columns]"
      ]
     },
     "execution_count": 9,
     "metadata": {},
     "output_type": "execute_result"
    }
   ],
   "source": [
    "##NOW GETTING THE DF IN WHICH WE WILL MERGE ALL OF THESE\n",
    "df3 = pd.concat([df1, df2], ignore_index = True)\n",
    "df3"
   ]
  },
  {
   "cell_type": "code",
   "execution_count": 10,
   "id": "50d285aa",
   "metadata": {},
   "outputs": [
    {
     "data": {
      "text/html": [
       "<div>\n",
       "<style scoped>\n",
       "    .dataframe tbody tr th:only-of-type {\n",
       "        vertical-align: middle;\n",
       "    }\n",
       "\n",
       "    .dataframe tbody tr th {\n",
       "        vertical-align: top;\n",
       "    }\n",
       "\n",
       "    .dataframe thead th {\n",
       "        text-align: right;\n",
       "    }\n",
       "</style>\n",
       "<table border=\"1\" class=\"dataframe\">\n",
       "  <thead>\n",
       "    <tr style=\"text-align: right;\">\n",
       "      <th></th>\n",
       "      <th>0</th>\n",
       "      <th>1</th>\n",
       "      <th>2</th>\n",
       "      <th>3</th>\n",
       "      <th>4</th>\n",
       "      <th>5</th>\n",
       "      <th>6</th>\n",
       "      <th>7</th>\n",
       "      <th>8</th>\n",
       "      <th>9</th>\n",
       "      <th>...</th>\n",
       "      <th>775</th>\n",
       "      <th>776</th>\n",
       "      <th>777</th>\n",
       "      <th>778</th>\n",
       "      <th>779</th>\n",
       "      <th>780</th>\n",
       "      <th>781</th>\n",
       "      <th>782</th>\n",
       "      <th>783</th>\n",
       "      <th>target</th>\n",
       "    </tr>\n",
       "  </thead>\n",
       "  <tbody>\n",
       "    <tr>\n",
       "      <th>46730</th>\n",
       "      <td>0</td>\n",
       "      <td>0</td>\n",
       "      <td>0</td>\n",
       "      <td>0</td>\n",
       "      <td>0</td>\n",
       "      <td>0</td>\n",
       "      <td>0</td>\n",
       "      <td>0</td>\n",
       "      <td>0</td>\n",
       "      <td>0</td>\n",
       "      <td>...</td>\n",
       "      <td>0</td>\n",
       "      <td>0</td>\n",
       "      <td>0</td>\n",
       "      <td>0</td>\n",
       "      <td>0</td>\n",
       "      <td>0</td>\n",
       "      <td>0</td>\n",
       "      <td>0</td>\n",
       "      <td>0</td>\n",
       "      <td>8</td>\n",
       "    </tr>\n",
       "    <tr>\n",
       "      <th>48393</th>\n",
       "      <td>0</td>\n",
       "      <td>0</td>\n",
       "      <td>0</td>\n",
       "      <td>0</td>\n",
       "      <td>0</td>\n",
       "      <td>0</td>\n",
       "      <td>0</td>\n",
       "      <td>0</td>\n",
       "      <td>0</td>\n",
       "      <td>0</td>\n",
       "      <td>...</td>\n",
       "      <td>0</td>\n",
       "      <td>0</td>\n",
       "      <td>0</td>\n",
       "      <td>0</td>\n",
       "      <td>0</td>\n",
       "      <td>0</td>\n",
       "      <td>0</td>\n",
       "      <td>0</td>\n",
       "      <td>0</td>\n",
       "      <td>4</td>\n",
       "    </tr>\n",
       "    <tr>\n",
       "      <th>41416</th>\n",
       "      <td>0</td>\n",
       "      <td>0</td>\n",
       "      <td>0</td>\n",
       "      <td>0</td>\n",
       "      <td>0</td>\n",
       "      <td>0</td>\n",
       "      <td>0</td>\n",
       "      <td>0</td>\n",
       "      <td>0</td>\n",
       "      <td>0</td>\n",
       "      <td>...</td>\n",
       "      <td>0</td>\n",
       "      <td>0</td>\n",
       "      <td>0</td>\n",
       "      <td>0</td>\n",
       "      <td>0</td>\n",
       "      <td>0</td>\n",
       "      <td>0</td>\n",
       "      <td>0</td>\n",
       "      <td>0</td>\n",
       "      <td>8</td>\n",
       "    </tr>\n",
       "    <tr>\n",
       "      <th>34506</th>\n",
       "      <td>0</td>\n",
       "      <td>0</td>\n",
       "      <td>0</td>\n",
       "      <td>0</td>\n",
       "      <td>0</td>\n",
       "      <td>0</td>\n",
       "      <td>0</td>\n",
       "      <td>0</td>\n",
       "      <td>0</td>\n",
       "      <td>0</td>\n",
       "      <td>...</td>\n",
       "      <td>0</td>\n",
       "      <td>0</td>\n",
       "      <td>0</td>\n",
       "      <td>0</td>\n",
       "      <td>0</td>\n",
       "      <td>0</td>\n",
       "      <td>0</td>\n",
       "      <td>0</td>\n",
       "      <td>0</td>\n",
       "      <td>7</td>\n",
       "    </tr>\n",
       "    <tr>\n",
       "      <th>43725</th>\n",
       "      <td>0</td>\n",
       "      <td>0</td>\n",
       "      <td>0</td>\n",
       "      <td>0</td>\n",
       "      <td>0</td>\n",
       "      <td>0</td>\n",
       "      <td>0</td>\n",
       "      <td>0</td>\n",
       "      <td>0</td>\n",
       "      <td>0</td>\n",
       "      <td>...</td>\n",
       "      <td>0</td>\n",
       "      <td>0</td>\n",
       "      <td>0</td>\n",
       "      <td>0</td>\n",
       "      <td>0</td>\n",
       "      <td>0</td>\n",
       "      <td>0</td>\n",
       "      <td>0</td>\n",
       "      <td>0</td>\n",
       "      <td>7</td>\n",
       "    </tr>\n",
       "    <tr>\n",
       "      <th>...</th>\n",
       "      <td>...</td>\n",
       "      <td>...</td>\n",
       "      <td>...</td>\n",
       "      <td>...</td>\n",
       "      <td>...</td>\n",
       "      <td>...</td>\n",
       "      <td>...</td>\n",
       "      <td>...</td>\n",
       "      <td>...</td>\n",
       "      <td>...</td>\n",
       "      <td>...</td>\n",
       "      <td>...</td>\n",
       "      <td>...</td>\n",
       "      <td>...</td>\n",
       "      <td>...</td>\n",
       "      <td>...</td>\n",
       "      <td>...</td>\n",
       "      <td>...</td>\n",
       "      <td>...</td>\n",
       "      <td>...</td>\n",
       "      <td>...</td>\n",
       "    </tr>\n",
       "    <tr>\n",
       "      <th>12056</th>\n",
       "      <td>0</td>\n",
       "      <td>0</td>\n",
       "      <td>0</td>\n",
       "      <td>0</td>\n",
       "      <td>0</td>\n",
       "      <td>0</td>\n",
       "      <td>0</td>\n",
       "      <td>0</td>\n",
       "      <td>0</td>\n",
       "      <td>0</td>\n",
       "      <td>...</td>\n",
       "      <td>0</td>\n",
       "      <td>0</td>\n",
       "      <td>0</td>\n",
       "      <td>0</td>\n",
       "      <td>0</td>\n",
       "      <td>0</td>\n",
       "      <td>0</td>\n",
       "      <td>0</td>\n",
       "      <td>0</td>\n",
       "      <td>1</td>\n",
       "    </tr>\n",
       "    <tr>\n",
       "      <th>393</th>\n",
       "      <td>0</td>\n",
       "      <td>0</td>\n",
       "      <td>0</td>\n",
       "      <td>0</td>\n",
       "      <td>0</td>\n",
       "      <td>0</td>\n",
       "      <td>0</td>\n",
       "      <td>0</td>\n",
       "      <td>0</td>\n",
       "      <td>0</td>\n",
       "      <td>...</td>\n",
       "      <td>0</td>\n",
       "      <td>0</td>\n",
       "      <td>0</td>\n",
       "      <td>0</td>\n",
       "      <td>0</td>\n",
       "      <td>0</td>\n",
       "      <td>0</td>\n",
       "      <td>0</td>\n",
       "      <td>0</td>\n",
       "      <td>8</td>\n",
       "    </tr>\n",
       "    <tr>\n",
       "      <th>63024</th>\n",
       "      <td>0</td>\n",
       "      <td>0</td>\n",
       "      <td>0</td>\n",
       "      <td>0</td>\n",
       "      <td>0</td>\n",
       "      <td>0</td>\n",
       "      <td>0</td>\n",
       "      <td>0</td>\n",
       "      <td>0</td>\n",
       "      <td>0</td>\n",
       "      <td>...</td>\n",
       "      <td>0</td>\n",
       "      <td>0</td>\n",
       "      <td>0</td>\n",
       "      <td>0</td>\n",
       "      <td>0</td>\n",
       "      <td>0</td>\n",
       "      <td>0</td>\n",
       "      <td>0</td>\n",
       "      <td>0</td>\n",
       "      <td>4</td>\n",
       "    </tr>\n",
       "    <tr>\n",
       "      <th>11837</th>\n",
       "      <td>0</td>\n",
       "      <td>0</td>\n",
       "      <td>0</td>\n",
       "      <td>0</td>\n",
       "      <td>0</td>\n",
       "      <td>0</td>\n",
       "      <td>0</td>\n",
       "      <td>0</td>\n",
       "      <td>0</td>\n",
       "      <td>0</td>\n",
       "      <td>...</td>\n",
       "      <td>0</td>\n",
       "      <td>0</td>\n",
       "      <td>0</td>\n",
       "      <td>0</td>\n",
       "      <td>0</td>\n",
       "      <td>0</td>\n",
       "      <td>0</td>\n",
       "      <td>0</td>\n",
       "      <td>0</td>\n",
       "      <td>3</td>\n",
       "    </tr>\n",
       "    <tr>\n",
       "      <th>57774</th>\n",
       "      <td>0</td>\n",
       "      <td>0</td>\n",
       "      <td>0</td>\n",
       "      <td>0</td>\n",
       "      <td>0</td>\n",
       "      <td>0</td>\n",
       "      <td>0</td>\n",
       "      <td>0</td>\n",
       "      <td>0</td>\n",
       "      <td>0</td>\n",
       "      <td>...</td>\n",
       "      <td>0</td>\n",
       "      <td>0</td>\n",
       "      <td>0</td>\n",
       "      <td>0</td>\n",
       "      <td>0</td>\n",
       "      <td>0</td>\n",
       "      <td>0</td>\n",
       "      <td>0</td>\n",
       "      <td>0</td>\n",
       "      <td>7</td>\n",
       "    </tr>\n",
       "  </tbody>\n",
       "</table>\n",
       "<p>46900 rows × 785 columns</p>\n",
       "</div>"
      ],
      "text/plain": [
       "       0  1  2  3  4  5  6  7  8  9  ...  775  776  777  778  779  780  781  \\\n",
       "46730  0  0  0  0  0  0  0  0  0  0  ...    0    0    0    0    0    0    0   \n",
       "48393  0  0  0  0  0  0  0  0  0  0  ...    0    0    0    0    0    0    0   \n",
       "41416  0  0  0  0  0  0  0  0  0  0  ...    0    0    0    0    0    0    0   \n",
       "34506  0  0  0  0  0  0  0  0  0  0  ...    0    0    0    0    0    0    0   \n",
       "43725  0  0  0  0  0  0  0  0  0  0  ...    0    0    0    0    0    0    0   \n",
       "...   .. .. .. .. .. .. .. .. .. ..  ...  ...  ...  ...  ...  ...  ...  ...   \n",
       "12056  0  0  0  0  0  0  0  0  0  0  ...    0    0    0    0    0    0    0   \n",
       "393    0  0  0  0  0  0  0  0  0  0  ...    0    0    0    0    0    0    0   \n",
       "63024  0  0  0  0  0  0  0  0  0  0  ...    0    0    0    0    0    0    0   \n",
       "11837  0  0  0  0  0  0  0  0  0  0  ...    0    0    0    0    0    0    0   \n",
       "57774  0  0  0  0  0  0  0  0  0  0  ...    0    0    0    0    0    0    0   \n",
       "\n",
       "       782  783  target  \n",
       "46730    0    0       8  \n",
       "48393    0    0       4  \n",
       "41416    0    0       8  \n",
       "34506    0    0       7  \n",
       "43725    0    0       7  \n",
       "...    ...  ...     ...  \n",
       "12056    0    0       1  \n",
       "393      0    0       8  \n",
       "63024    0    0       4  \n",
       "11837    0    0       3  \n",
       "57774    0    0       7  \n",
       "\n",
       "[46900 rows x 785 columns]"
      ]
     },
     "execution_count": 10,
     "metadata": {},
     "output_type": "execute_result"
    }
   ],
   "source": [
    "# y = df3['target']\n",
    "# y = pd.DataFrame(y)\n",
    "# y.head()\n",
    "df_train = df3.sample(frac=0.67,random_state=42)\n",
    "df_test = df3.drop(df_train.index)\n",
    "df_train"
   ]
  },
  {
   "cell_type": "code",
   "execution_count": 11,
   "id": "a91bbcfd",
   "metadata": {},
   "outputs": [
    {
     "data": {
      "text/html": [
       "<div>\n",
       "<style scoped>\n",
       "    .dataframe tbody tr th:only-of-type {\n",
       "        vertical-align: middle;\n",
       "    }\n",
       "\n",
       "    .dataframe tbody tr th {\n",
       "        vertical-align: top;\n",
       "    }\n",
       "\n",
       "    .dataframe thead th {\n",
       "        text-align: right;\n",
       "    }\n",
       "</style>\n",
       "<table border=\"1\" class=\"dataframe\">\n",
       "  <thead>\n",
       "    <tr style=\"text-align: right;\">\n",
       "      <th></th>\n",
       "      <th>target</th>\n",
       "    </tr>\n",
       "  </thead>\n",
       "  <tbody>\n",
       "    <tr>\n",
       "      <th>46730</th>\n",
       "      <td>8</td>\n",
       "    </tr>\n",
       "    <tr>\n",
       "      <th>48393</th>\n",
       "      <td>4</td>\n",
       "    </tr>\n",
       "    <tr>\n",
       "      <th>41416</th>\n",
       "      <td>8</td>\n",
       "    </tr>\n",
       "    <tr>\n",
       "      <th>34506</th>\n",
       "      <td>7</td>\n",
       "    </tr>\n",
       "    <tr>\n",
       "      <th>43725</th>\n",
       "      <td>7</td>\n",
       "    </tr>\n",
       "  </tbody>\n",
       "</table>\n",
       "</div>"
      ],
      "text/plain": [
       "       target\n",
       "46730       8\n",
       "48393       4\n",
       "41416       8\n",
       "34506       7\n",
       "43725       7"
      ]
     },
     "execution_count": 11,
     "metadata": {},
     "output_type": "execute_result"
    }
   ],
   "source": [
    "y_train = df_train['target']\n",
    "y_train = pd.DataFrame(y_train)\n",
    "y_train.head()\n",
    "# df_train = df_train.drop('target', axis = 1, inplace = True)\n",
    "# df_train.head()"
   ]
  },
  {
   "cell_type": "code",
   "execution_count": 12,
   "id": "b4613f2a",
   "metadata": {},
   "outputs": [],
   "source": [
    "df_train = df_train.drop('target', axis=1)\n"
   ]
  },
  {
   "cell_type": "code",
   "execution_count": 13,
   "id": "e2be42aa",
   "metadata": {},
   "outputs": [
    {
     "data": {
      "text/html": [
       "<div>\n",
       "<style scoped>\n",
       "    .dataframe tbody tr th:only-of-type {\n",
       "        vertical-align: middle;\n",
       "    }\n",
       "\n",
       "    .dataframe tbody tr th {\n",
       "        vertical-align: top;\n",
       "    }\n",
       "\n",
       "    .dataframe thead th {\n",
       "        text-align: right;\n",
       "    }\n",
       "</style>\n",
       "<table border=\"1\" class=\"dataframe\">\n",
       "  <thead>\n",
       "    <tr style=\"text-align: right;\">\n",
       "      <th></th>\n",
       "      <th>0</th>\n",
       "      <th>1</th>\n",
       "      <th>2</th>\n",
       "      <th>3</th>\n",
       "      <th>4</th>\n",
       "      <th>5</th>\n",
       "      <th>6</th>\n",
       "      <th>7</th>\n",
       "      <th>8</th>\n",
       "      <th>9</th>\n",
       "      <th>...</th>\n",
       "      <th>775</th>\n",
       "      <th>776</th>\n",
       "      <th>777</th>\n",
       "      <th>778</th>\n",
       "      <th>779</th>\n",
       "      <th>780</th>\n",
       "      <th>781</th>\n",
       "      <th>782</th>\n",
       "      <th>783</th>\n",
       "      <th>target</th>\n",
       "    </tr>\n",
       "  </thead>\n",
       "  <tbody>\n",
       "    <tr>\n",
       "      <th>2</th>\n",
       "      <td>0</td>\n",
       "      <td>0</td>\n",
       "      <td>0</td>\n",
       "      <td>0</td>\n",
       "      <td>0</td>\n",
       "      <td>0</td>\n",
       "      <td>0</td>\n",
       "      <td>0</td>\n",
       "      <td>0</td>\n",
       "      <td>0</td>\n",
       "      <td>...</td>\n",
       "      <td>0</td>\n",
       "      <td>0</td>\n",
       "      <td>0</td>\n",
       "      <td>0</td>\n",
       "      <td>0</td>\n",
       "      <td>0</td>\n",
       "      <td>0</td>\n",
       "      <td>0</td>\n",
       "      <td>0</td>\n",
       "      <td>4</td>\n",
       "    </tr>\n",
       "    <tr>\n",
       "      <th>5</th>\n",
       "      <td>0</td>\n",
       "      <td>0</td>\n",
       "      <td>0</td>\n",
       "      <td>0</td>\n",
       "      <td>0</td>\n",
       "      <td>0</td>\n",
       "      <td>0</td>\n",
       "      <td>0</td>\n",
       "      <td>0</td>\n",
       "      <td>0</td>\n",
       "      <td>...</td>\n",
       "      <td>0</td>\n",
       "      <td>0</td>\n",
       "      <td>0</td>\n",
       "      <td>0</td>\n",
       "      <td>0</td>\n",
       "      <td>0</td>\n",
       "      <td>0</td>\n",
       "      <td>0</td>\n",
       "      <td>0</td>\n",
       "      <td>2</td>\n",
       "    </tr>\n",
       "    <tr>\n",
       "      <th>10</th>\n",
       "      <td>0</td>\n",
       "      <td>0</td>\n",
       "      <td>0</td>\n",
       "      <td>0</td>\n",
       "      <td>0</td>\n",
       "      <td>0</td>\n",
       "      <td>0</td>\n",
       "      <td>0</td>\n",
       "      <td>0</td>\n",
       "      <td>0</td>\n",
       "      <td>...</td>\n",
       "      <td>0</td>\n",
       "      <td>0</td>\n",
       "      <td>0</td>\n",
       "      <td>0</td>\n",
       "      <td>0</td>\n",
       "      <td>0</td>\n",
       "      <td>0</td>\n",
       "      <td>0</td>\n",
       "      <td>0</td>\n",
       "      <td>3</td>\n",
       "    </tr>\n",
       "    <tr>\n",
       "      <th>12</th>\n",
       "      <td>0</td>\n",
       "      <td>0</td>\n",
       "      <td>0</td>\n",
       "      <td>0</td>\n",
       "      <td>0</td>\n",
       "      <td>0</td>\n",
       "      <td>0</td>\n",
       "      <td>0</td>\n",
       "      <td>0</td>\n",
       "      <td>0</td>\n",
       "      <td>...</td>\n",
       "      <td>0</td>\n",
       "      <td>0</td>\n",
       "      <td>0</td>\n",
       "      <td>0</td>\n",
       "      <td>0</td>\n",
       "      <td>0</td>\n",
       "      <td>0</td>\n",
       "      <td>0</td>\n",
       "      <td>0</td>\n",
       "      <td>3</td>\n",
       "    </tr>\n",
       "    <tr>\n",
       "      <th>15</th>\n",
       "      <td>0</td>\n",
       "      <td>0</td>\n",
       "      <td>0</td>\n",
       "      <td>0</td>\n",
       "      <td>0</td>\n",
       "      <td>0</td>\n",
       "      <td>0</td>\n",
       "      <td>0</td>\n",
       "      <td>0</td>\n",
       "      <td>0</td>\n",
       "      <td>...</td>\n",
       "      <td>0</td>\n",
       "      <td>0</td>\n",
       "      <td>0</td>\n",
       "      <td>0</td>\n",
       "      <td>0</td>\n",
       "      <td>0</td>\n",
       "      <td>0</td>\n",
       "      <td>0</td>\n",
       "      <td>0</td>\n",
       "      <td>7</td>\n",
       "    </tr>\n",
       "    <tr>\n",
       "      <th>...</th>\n",
       "      <td>...</td>\n",
       "      <td>...</td>\n",
       "      <td>...</td>\n",
       "      <td>...</td>\n",
       "      <td>...</td>\n",
       "      <td>...</td>\n",
       "      <td>...</td>\n",
       "      <td>...</td>\n",
       "      <td>...</td>\n",
       "      <td>...</td>\n",
       "      <td>...</td>\n",
       "      <td>...</td>\n",
       "      <td>...</td>\n",
       "      <td>...</td>\n",
       "      <td>...</td>\n",
       "      <td>...</td>\n",
       "      <td>...</td>\n",
       "      <td>...</td>\n",
       "      <td>...</td>\n",
       "      <td>...</td>\n",
       "      <td>...</td>\n",
       "    </tr>\n",
       "    <tr>\n",
       "      <th>69982</th>\n",
       "      <td>0</td>\n",
       "      <td>0</td>\n",
       "      <td>0</td>\n",
       "      <td>0</td>\n",
       "      <td>0</td>\n",
       "      <td>0</td>\n",
       "      <td>0</td>\n",
       "      <td>0</td>\n",
       "      <td>0</td>\n",
       "      <td>0</td>\n",
       "      <td>...</td>\n",
       "      <td>0</td>\n",
       "      <td>0</td>\n",
       "      <td>0</td>\n",
       "      <td>0</td>\n",
       "      <td>0</td>\n",
       "      <td>0</td>\n",
       "      <td>0</td>\n",
       "      <td>0</td>\n",
       "      <td>0</td>\n",
       "      <td>5</td>\n",
       "    </tr>\n",
       "    <tr>\n",
       "      <th>69985</th>\n",
       "      <td>0</td>\n",
       "      <td>0</td>\n",
       "      <td>0</td>\n",
       "      <td>0</td>\n",
       "      <td>0</td>\n",
       "      <td>0</td>\n",
       "      <td>0</td>\n",
       "      <td>0</td>\n",
       "      <td>0</td>\n",
       "      <td>0</td>\n",
       "      <td>...</td>\n",
       "      <td>0</td>\n",
       "      <td>0</td>\n",
       "      <td>0</td>\n",
       "      <td>0</td>\n",
       "      <td>0</td>\n",
       "      <td>0</td>\n",
       "      <td>0</td>\n",
       "      <td>0</td>\n",
       "      <td>0</td>\n",
       "      <td>2</td>\n",
       "    </tr>\n",
       "    <tr>\n",
       "      <th>69988</th>\n",
       "      <td>0</td>\n",
       "      <td>0</td>\n",
       "      <td>0</td>\n",
       "      <td>0</td>\n",
       "      <td>0</td>\n",
       "      <td>0</td>\n",
       "      <td>0</td>\n",
       "      <td>0</td>\n",
       "      <td>0</td>\n",
       "      <td>0</td>\n",
       "      <td>...</td>\n",
       "      <td>0</td>\n",
       "      <td>0</td>\n",
       "      <td>0</td>\n",
       "      <td>0</td>\n",
       "      <td>0</td>\n",
       "      <td>0</td>\n",
       "      <td>0</td>\n",
       "      <td>0</td>\n",
       "      <td>0</td>\n",
       "      <td>5</td>\n",
       "    </tr>\n",
       "    <tr>\n",
       "      <th>69989</th>\n",
       "      <td>0</td>\n",
       "      <td>0</td>\n",
       "      <td>0</td>\n",
       "      <td>0</td>\n",
       "      <td>0</td>\n",
       "      <td>0</td>\n",
       "      <td>0</td>\n",
       "      <td>0</td>\n",
       "      <td>0</td>\n",
       "      <td>0</td>\n",
       "      <td>...</td>\n",
       "      <td>0</td>\n",
       "      <td>0</td>\n",
       "      <td>0</td>\n",
       "      <td>0</td>\n",
       "      <td>0</td>\n",
       "      <td>0</td>\n",
       "      <td>0</td>\n",
       "      <td>0</td>\n",
       "      <td>0</td>\n",
       "      <td>6</td>\n",
       "    </tr>\n",
       "    <tr>\n",
       "      <th>69996</th>\n",
       "      <td>0</td>\n",
       "      <td>0</td>\n",
       "      <td>0</td>\n",
       "      <td>0</td>\n",
       "      <td>0</td>\n",
       "      <td>0</td>\n",
       "      <td>0</td>\n",
       "      <td>0</td>\n",
       "      <td>0</td>\n",
       "      <td>0</td>\n",
       "      <td>...</td>\n",
       "      <td>0</td>\n",
       "      <td>0</td>\n",
       "      <td>0</td>\n",
       "      <td>0</td>\n",
       "      <td>0</td>\n",
       "      <td>0</td>\n",
       "      <td>0</td>\n",
       "      <td>0</td>\n",
       "      <td>0</td>\n",
       "      <td>3</td>\n",
       "    </tr>\n",
       "  </tbody>\n",
       "</table>\n",
       "<p>23100 rows × 785 columns</p>\n",
       "</div>"
      ],
      "text/plain": [
       "       0  1  2  3  4  5  6  7  8  9  ...  775  776  777  778  779  780  781  \\\n",
       "2      0  0  0  0  0  0  0  0  0  0  ...    0    0    0    0    0    0    0   \n",
       "5      0  0  0  0  0  0  0  0  0  0  ...    0    0    0    0    0    0    0   \n",
       "10     0  0  0  0  0  0  0  0  0  0  ...    0    0    0    0    0    0    0   \n",
       "12     0  0  0  0  0  0  0  0  0  0  ...    0    0    0    0    0    0    0   \n",
       "15     0  0  0  0  0  0  0  0  0  0  ...    0    0    0    0    0    0    0   \n",
       "...   .. .. .. .. .. .. .. .. .. ..  ...  ...  ...  ...  ...  ...  ...  ...   \n",
       "69982  0  0  0  0  0  0  0  0  0  0  ...    0    0    0    0    0    0    0   \n",
       "69985  0  0  0  0  0  0  0  0  0  0  ...    0    0    0    0    0    0    0   \n",
       "69988  0  0  0  0  0  0  0  0  0  0  ...    0    0    0    0    0    0    0   \n",
       "69989  0  0  0  0  0  0  0  0  0  0  ...    0    0    0    0    0    0    0   \n",
       "69996  0  0  0  0  0  0  0  0  0  0  ...    0    0    0    0    0    0    0   \n",
       "\n",
       "       782  783  target  \n",
       "2        0    0       4  \n",
       "5        0    0       2  \n",
       "10       0    0       3  \n",
       "12       0    0       3  \n",
       "15       0    0       7  \n",
       "...    ...  ...     ...  \n",
       "69982    0    0       5  \n",
       "69985    0    0       2  \n",
       "69988    0    0       5  \n",
       "69989    0    0       6  \n",
       "69996    0    0       3  \n",
       "\n",
       "[23100 rows x 785 columns]"
      ]
     },
     "execution_count": 13,
     "metadata": {},
     "output_type": "execute_result"
    }
   ],
   "source": [
    "df_train.head()\n",
    "df_test"
   ]
  },
  {
   "cell_type": "code",
   "execution_count": 14,
   "id": "33a98206",
   "metadata": {},
   "outputs": [
    {
     "data": {
      "text/html": [
       "<div>\n",
       "<style scoped>\n",
       "    .dataframe tbody tr th:only-of-type {\n",
       "        vertical-align: middle;\n",
       "    }\n",
       "\n",
       "    .dataframe tbody tr th {\n",
       "        vertical-align: top;\n",
       "    }\n",
       "\n",
       "    .dataframe thead th {\n",
       "        text-align: right;\n",
       "    }\n",
       "</style>\n",
       "<table border=\"1\" class=\"dataframe\">\n",
       "  <thead>\n",
       "    <tr style=\"text-align: right;\">\n",
       "      <th></th>\n",
       "      <th>target</th>\n",
       "    </tr>\n",
       "  </thead>\n",
       "  <tbody>\n",
       "    <tr>\n",
       "      <th>2</th>\n",
       "      <td>4</td>\n",
       "    </tr>\n",
       "    <tr>\n",
       "      <th>5</th>\n",
       "      <td>2</td>\n",
       "    </tr>\n",
       "    <tr>\n",
       "      <th>10</th>\n",
       "      <td>3</td>\n",
       "    </tr>\n",
       "    <tr>\n",
       "      <th>12</th>\n",
       "      <td>3</td>\n",
       "    </tr>\n",
       "    <tr>\n",
       "      <th>15</th>\n",
       "      <td>7</td>\n",
       "    </tr>\n",
       "  </tbody>\n",
       "</table>\n",
       "</div>"
      ],
      "text/plain": [
       "    target\n",
       "2        4\n",
       "5        2\n",
       "10       3\n",
       "12       3\n",
       "15       7"
      ]
     },
     "execution_count": 14,
     "metadata": {},
     "output_type": "execute_result"
    }
   ],
   "source": [
    "y_test = df_test['target']\n",
    "y_test = pd.DataFrame(y_test)\n",
    "y_test.head()"
   ]
  },
  {
   "cell_type": "code",
   "execution_count": 15,
   "id": "d8a79c5b",
   "metadata": {},
   "outputs": [],
   "source": [
    "df_test = df_test.drop('target', axis=1)\n"
   ]
  },
  {
   "cell_type": "code",
   "execution_count": 16,
   "id": "c9a8c82c",
   "metadata": {},
   "outputs": [
    {
     "data": {
      "text/html": [
       "<div>\n",
       "<style scoped>\n",
       "    .dataframe tbody tr th:only-of-type {\n",
       "        vertical-align: middle;\n",
       "    }\n",
       "\n",
       "    .dataframe tbody tr th {\n",
       "        vertical-align: top;\n",
       "    }\n",
       "\n",
       "    .dataframe thead th {\n",
       "        text-align: right;\n",
       "    }\n",
       "</style>\n",
       "<table border=\"1\" class=\"dataframe\">\n",
       "  <thead>\n",
       "    <tr style=\"text-align: right;\">\n",
       "      <th></th>\n",
       "      <th>0</th>\n",
       "      <th>1</th>\n",
       "      <th>2</th>\n",
       "      <th>3</th>\n",
       "      <th>4</th>\n",
       "      <th>5</th>\n",
       "      <th>6</th>\n",
       "      <th>7</th>\n",
       "      <th>8</th>\n",
       "      <th>9</th>\n",
       "      <th>...</th>\n",
       "      <th>774</th>\n",
       "      <th>775</th>\n",
       "      <th>776</th>\n",
       "      <th>777</th>\n",
       "      <th>778</th>\n",
       "      <th>779</th>\n",
       "      <th>780</th>\n",
       "      <th>781</th>\n",
       "      <th>782</th>\n",
       "      <th>783</th>\n",
       "    </tr>\n",
       "  </thead>\n",
       "  <tbody>\n",
       "    <tr>\n",
       "      <th>2</th>\n",
       "      <td>0</td>\n",
       "      <td>0</td>\n",
       "      <td>0</td>\n",
       "      <td>0</td>\n",
       "      <td>0</td>\n",
       "      <td>0</td>\n",
       "      <td>0</td>\n",
       "      <td>0</td>\n",
       "      <td>0</td>\n",
       "      <td>0</td>\n",
       "      <td>...</td>\n",
       "      <td>0</td>\n",
       "      <td>0</td>\n",
       "      <td>0</td>\n",
       "      <td>0</td>\n",
       "      <td>0</td>\n",
       "      <td>0</td>\n",
       "      <td>0</td>\n",
       "      <td>0</td>\n",
       "      <td>0</td>\n",
       "      <td>0</td>\n",
       "    </tr>\n",
       "    <tr>\n",
       "      <th>5</th>\n",
       "      <td>0</td>\n",
       "      <td>0</td>\n",
       "      <td>0</td>\n",
       "      <td>0</td>\n",
       "      <td>0</td>\n",
       "      <td>0</td>\n",
       "      <td>0</td>\n",
       "      <td>0</td>\n",
       "      <td>0</td>\n",
       "      <td>0</td>\n",
       "      <td>...</td>\n",
       "      <td>0</td>\n",
       "      <td>0</td>\n",
       "      <td>0</td>\n",
       "      <td>0</td>\n",
       "      <td>0</td>\n",
       "      <td>0</td>\n",
       "      <td>0</td>\n",
       "      <td>0</td>\n",
       "      <td>0</td>\n",
       "      <td>0</td>\n",
       "    </tr>\n",
       "    <tr>\n",
       "      <th>10</th>\n",
       "      <td>0</td>\n",
       "      <td>0</td>\n",
       "      <td>0</td>\n",
       "      <td>0</td>\n",
       "      <td>0</td>\n",
       "      <td>0</td>\n",
       "      <td>0</td>\n",
       "      <td>0</td>\n",
       "      <td>0</td>\n",
       "      <td>0</td>\n",
       "      <td>...</td>\n",
       "      <td>0</td>\n",
       "      <td>0</td>\n",
       "      <td>0</td>\n",
       "      <td>0</td>\n",
       "      <td>0</td>\n",
       "      <td>0</td>\n",
       "      <td>0</td>\n",
       "      <td>0</td>\n",
       "      <td>0</td>\n",
       "      <td>0</td>\n",
       "    </tr>\n",
       "    <tr>\n",
       "      <th>12</th>\n",
       "      <td>0</td>\n",
       "      <td>0</td>\n",
       "      <td>0</td>\n",
       "      <td>0</td>\n",
       "      <td>0</td>\n",
       "      <td>0</td>\n",
       "      <td>0</td>\n",
       "      <td>0</td>\n",
       "      <td>0</td>\n",
       "      <td>0</td>\n",
       "      <td>...</td>\n",
       "      <td>0</td>\n",
       "      <td>0</td>\n",
       "      <td>0</td>\n",
       "      <td>0</td>\n",
       "      <td>0</td>\n",
       "      <td>0</td>\n",
       "      <td>0</td>\n",
       "      <td>0</td>\n",
       "      <td>0</td>\n",
       "      <td>0</td>\n",
       "    </tr>\n",
       "    <tr>\n",
       "      <th>15</th>\n",
       "      <td>0</td>\n",
       "      <td>0</td>\n",
       "      <td>0</td>\n",
       "      <td>0</td>\n",
       "      <td>0</td>\n",
       "      <td>0</td>\n",
       "      <td>0</td>\n",
       "      <td>0</td>\n",
       "      <td>0</td>\n",
       "      <td>0</td>\n",
       "      <td>...</td>\n",
       "      <td>0</td>\n",
       "      <td>0</td>\n",
       "      <td>0</td>\n",
       "      <td>0</td>\n",
       "      <td>0</td>\n",
       "      <td>0</td>\n",
       "      <td>0</td>\n",
       "      <td>0</td>\n",
       "      <td>0</td>\n",
       "      <td>0</td>\n",
       "    </tr>\n",
       "  </tbody>\n",
       "</table>\n",
       "<p>5 rows × 784 columns</p>\n",
       "</div>"
      ],
      "text/plain": [
       "    0    1    2    3    4    5    6    7    8    9    ...  774  775  776  777  \\\n",
       "2     0    0    0    0    0    0    0    0    0    0  ...    0    0    0    0   \n",
       "5     0    0    0    0    0    0    0    0    0    0  ...    0    0    0    0   \n",
       "10    0    0    0    0    0    0    0    0    0    0  ...    0    0    0    0   \n",
       "12    0    0    0    0    0    0    0    0    0    0  ...    0    0    0    0   \n",
       "15    0    0    0    0    0    0    0    0    0    0  ...    0    0    0    0   \n",
       "\n",
       "    778  779  780  781  782  783  \n",
       "2     0    0    0    0    0    0  \n",
       "5     0    0    0    0    0    0  \n",
       "10    0    0    0    0    0    0  \n",
       "12    0    0    0    0    0    0  \n",
       "15    0    0    0    0    0    0  \n",
       "\n",
       "[5 rows x 784 columns]"
      ]
     },
     "execution_count": 16,
     "metadata": {},
     "output_type": "execute_result"
    }
   ],
   "source": [
    "df_test.head()"
   ]
  },
  {
   "cell_type": "markdown",
   "id": "64a6a937",
   "metadata": {},
   "source": [
    "# Converting these into NumPy arrays for use in the ANN model"
   ]
  },
  {
   "cell_type": "code",
   "execution_count": 17,
   "id": "93ea9bbd",
   "metadata": {},
   "outputs": [],
   "source": [
    "x_train = df_train.to_numpy()\n",
    "x_train\n",
    "x_test = df_test.to_numpy()\n",
    "y_train = y_train.to_numpy()\n",
    "y_test = y_test.to_numpy()"
   ]
  },
  {
   "cell_type": "markdown",
   "id": "1dab5059",
   "metadata": {},
   "source": [
    "# Performing the required pre-processing"
   ]
  },
  {
   "cell_type": "code",
   "execution_count": 18,
   "id": "013718ef",
   "metadata": {},
   "outputs": [],
   "source": [
    "x_train = x_train/255\n",
    "x_test = x_test/255"
   ]
  },
  {
   "cell_type": "code",
   "execution_count": 19,
   "id": "6e90e73f",
   "metadata": {},
   "outputs": [],
   "source": [
    "#x_train[0]"
   ]
  },
  {
   "cell_type": "code",
   "execution_count": 20,
   "id": "30e524ac",
   "metadata": {},
   "outputs": [],
   "source": [
    "X_trainf = x_train.reshape(len(x_train), 28 * 28)\n",
    "#we choose to flatten the data in order to make the first input layer of the neural network have 784 values, since we currently have values stored in 28*28 form"
   ]
  },
  {
   "cell_type": "code",
   "execution_count": 21,
   "id": "51ffb7f2",
   "metadata": {},
   "outputs": [],
   "source": [
    "X_testf = x_test.reshape(len(x_test), 28*28)"
   ]
  },
  {
   "cell_type": "markdown",
   "id": "53aa609c",
   "metadata": {},
   "source": [
    "# MODEL 1 -- 150 neurons, 2 layers, sigmoid"
   ]
  },
  {
   "cell_type": "code",
   "execution_count": 22,
   "id": "caf827f2",
   "metadata": {},
   "outputs": [
    {
     "name": "stdout",
     "output_type": "stream",
     "text": [
      "Epoch 1/5\n",
      "1466/1466 [==============================] - 2s 1ms/step - loss: 0.5886 - accuracy: 0.8512\n",
      "Epoch 2/5\n",
      "1466/1466 [==============================] - 2s 1ms/step - loss: 0.2142 - accuracy: 0.9365\n",
      "Epoch 3/5\n",
      "1466/1466 [==============================] - 2s 1ms/step - loss: 0.1554 - accuracy: 0.9539\n",
      "Epoch 4/5\n",
      "1466/1466 [==============================] - 2s 1ms/step - loss: 0.1204 - accuracy: 0.9645\n",
      "Epoch 5/5\n",
      "1466/1466 [==============================] - 2s 1ms/step - loss: 0.0973 - accuracy: 0.9715\n"
     ]
    },
    {
     "data": {
      "text/plain": [
       "<keras.callbacks.History at 0x2b4f6f2e880>"
      ]
     },
     "execution_count": 22,
     "metadata": {},
     "output_type": "execute_result"
    }
   ],
   "source": [
    "model1 = keras.Sequential([\n",
    "    keras.layers.Dense(75, input_shape=(784,), activation = 'sigmoid'), #we call it dense since every node in one layer is connected to every node in the next layer    \n",
    "    keras.layers.Dense(75, activation = 'sigmoid'),\n",
    "    keras.layers.Dense(10, activation = 'softmax')\n",
    "])\n",
    "\n",
    "model1.compile(optimizer = 'adam', loss = 'sparse_categorical_crossentropy', metrics = ['accuracy'])\n",
    "model1.fit(X_trainf, y_train, epochs = 5)\n",
    "\n"
   ]
  },
  {
   "cell_type": "code",
   "execution_count": 23,
   "id": "c3c1a32d",
   "metadata": {},
   "outputs": [
    {
     "name": "stdout",
     "output_type": "stream",
     "text": [
      "722/722 [==============================] - 1s 982us/step - loss: 0.1226 - accuracy: 0.9632\n"
     ]
    },
    {
     "data": {
      "text/plain": [
       "[0.12262634932994843, 0.963246762752533]"
      ]
     },
     "execution_count": 23,
     "metadata": {},
     "output_type": "execute_result"
    }
   ],
   "source": [
    "model1.evaluate(X_testf, y_test)"
   ]
  },
  {
   "cell_type": "code",
   "execution_count": 24,
   "id": "8521a0cc",
   "metadata": {},
   "outputs": [
    {
     "name": "stdout",
     "output_type": "stream",
     "text": [
      "722/722 [==============================] - 1s 784us/step\n"
     ]
    },
    {
     "data": {
      "text/plain": [
       "<tf.Tensor: shape=(10, 10), dtype=int32, numpy=\n",
       "array([[2216,    1,    1,    2,    3,    2,    7,    1,    3,    8],\n",
       "       [   1, 2607,   10,    3,    3,    1,    3,    9,    4,    6],\n",
       "       [  14,    2, 2249,    1,   14,    0,    7,   17,    3,    0],\n",
       "       [   6,   12,   36, 2281,    2,   20,    2,   21,   12,    9],\n",
       "       [   3,    6,    7,    0, 2238,    1,   12,    5,    4,   61],\n",
       "       [  26,    8,    7,   24,    9, 1927,   37,    4,   13,   11],\n",
       "       [  15,    7,    3,    0,    8,    8, 2160,    0,    8,    0],\n",
       "       [   7,    8,   16,    4,    7,    0,    0, 2264,    2,   26],\n",
       "       [  23,   26,   26,   10,    6,   12,   22,    6, 2135,   19],\n",
       "       [   9,    8,    4,   10,   26,    6,    1,   24,    8, 2174]])>"
      ]
     },
     "execution_count": 24,
     "metadata": {},
     "output_type": "execute_result"
    }
   ],
   "source": [
    "y_predict = model1.predict(X_testf)\n",
    "# y_predict[0]\n",
    "#np.argmax(y_predict[0]) #gives the maximum value out of the given ones\n",
    "predicted_labels = [np.argmax(i) for i in y_predict] #we are getting exactly what has been predicted and putting it into a predicted labels array\n",
    "cm = tf.math.confusion_matrix(labels=y_test,predictions=predicted_labels) #tensorflow has inbuilt provisions to build confusion matrices\n",
    "cm"
   ]
  },
  {
   "cell_type": "markdown",
   "id": "5f886009",
   "metadata": {},
   "source": [
    "# MODEL 2 -- 100 Neurons, 3 Hidden Layers"
   ]
  },
  {
   "cell_type": "code",
   "execution_count": 25,
   "id": "8f767b23",
   "metadata": {},
   "outputs": [
    {
     "name": "stdout",
     "output_type": "stream",
     "text": [
      "Epoch 1/5\n",
      "1466/1466 [==============================] - 2s 1ms/step - loss: 1.0750 - accuracy: 0.7381\n",
      "Epoch 2/5\n",
      "1466/1466 [==============================] - 2s 1ms/step - loss: 0.3247 - accuracy: 0.9197\n",
      "Epoch 3/5\n",
      "1466/1466 [==============================] - 2s 1ms/step - loss: 0.2156 - accuracy: 0.9423\n",
      "Epoch 4/5\n",
      "1466/1466 [==============================] - 2s 1ms/step - loss: 0.1672 - accuracy: 0.9546\n",
      "Epoch 5/5\n",
      "1466/1466 [==============================] - 2s 1ms/step - loss: 0.1373 - accuracy: 0.9622\n"
     ]
    },
    {
     "data": {
      "text/plain": [
       "<keras.callbacks.History at 0x2b4f7925f10>"
      ]
     },
     "execution_count": 25,
     "metadata": {},
     "output_type": "execute_result"
    }
   ],
   "source": [
    "model2 = keras.Sequential([\n",
    "    keras.layers.Dense(50, input_shape=(784,), activation = 'sigmoid'), #we call it dense since every node in one layer is connected to every node in the next layer    \n",
    "    keras.layers.Dense(30, activation = 'sigmoid'),\n",
    "    keras.layers.Dense(20, activation = 'sigmoid'),\n",
    "    keras.layers.Dense(10, activation = 'softmax')\n",
    "])\n",
    "\n",
    "model2.compile(optimizer = 'adam', loss = 'sparse_categorical_crossentropy', metrics = ['accuracy'])\n",
    "model2.fit(X_trainf, y_train, epochs = 5)\n"
   ]
  },
  {
   "cell_type": "code",
   "execution_count": 26,
   "id": "55504971",
   "metadata": {},
   "outputs": [
    {
     "name": "stdout",
     "output_type": "stream",
     "text": [
      "722/722 [==============================] - 1s 1ms/step - loss: 0.1587 - accuracy: 0.9547\n"
     ]
    },
    {
     "data": {
      "text/plain": [
       "[0.1586770862340927, 0.9546753168106079]"
      ]
     },
     "execution_count": 26,
     "metadata": {},
     "output_type": "execute_result"
    }
   ],
   "source": [
    "model2.evaluate(X_testf, y_test)"
   ]
  },
  {
   "cell_type": "code",
   "execution_count": 27,
   "id": "807c2048",
   "metadata": {},
   "outputs": [
    {
     "name": "stdout",
     "output_type": "stream",
     "text": [
      "722/722 [==============================] - 1s 868us/step\n"
     ]
    }
   ],
   "source": [
    "y_predict = model2.predict(X_testf)"
   ]
  },
  {
   "cell_type": "code",
   "execution_count": 28,
   "id": "dd8dd0ff",
   "metadata": {},
   "outputs": [
    {
     "data": {
      "text/plain": [
       "array([1.2552934e-05, 2.5209551e-05, 1.0056124e-03, 7.0695287e-06,\n",
       "       9.8430461e-01, 3.0137846e-04, 1.0331342e-03, 4.2952041e-04,\n",
       "       4.2106295e-03, 8.6702518e-03], dtype=float32)"
      ]
     },
     "execution_count": 28,
     "metadata": {},
     "output_type": "execute_result"
    }
   ],
   "source": [
    "y_predict[0]"
   ]
  },
  {
   "cell_type": "code",
   "execution_count": 29,
   "id": "652886ba",
   "metadata": {},
   "outputs": [
    {
     "data": {
      "text/plain": [
       "4"
      ]
     },
     "execution_count": 29,
     "metadata": {},
     "output_type": "execute_result"
    }
   ],
   "source": [
    "np.argmax(y_predict[0]) #gives the maximum value out of the given ones"
   ]
  },
  {
   "cell_type": "code",
   "execution_count": 30,
   "id": "ad400561",
   "metadata": {},
   "outputs": [],
   "source": [
    "predicted_labels = [np.argmax(i) for i in y_predict] #we are getting exactly what has been predicted and putting it into a predicted labels array"
   ]
  },
  {
   "cell_type": "code",
   "execution_count": 31,
   "id": "a23be6f9",
   "metadata": {},
   "outputs": [],
   "source": [
    "cm = tf.math.confusion_matrix(labels=y_test,predictions=predicted_labels) #tensorflow has inbuilt provisions to build confusion matrices\n"
   ]
  },
  {
   "cell_type": "code",
   "execution_count": 32,
   "id": "33451208",
   "metadata": {},
   "outputs": [
    {
     "data": {
      "text/plain": [
       "<tf.Tensor: shape=(10, 10), dtype=int32, numpy=\n",
       "array([[2190,    1,   13,    5,    3,   11,    6,    8,    5,    2],\n",
       "       [   0, 2578,   15,    5,    0,    0,    2,   10,   19,   18],\n",
       "       [  22,    5, 2211,   16,   16,    0,    3,   13,   17,    4],\n",
       "       [  11,    3,   26, 2270,    0,   34,    1,   26,   18,   12],\n",
       "       [   1,    8,    8,    0, 2215,    2,   10,    9,   10,   74],\n",
       "       [  20,    4,    2,   31,    3, 1950,   16,    2,   26,   12],\n",
       "       [  19,    6,    6,    0,   17,   22, 2121,    0,   18,    0],\n",
       "       [   5,    6,   17,    9,    8,    2,    0, 2252,    3,   32],\n",
       "       [   4,   23,   24,   31,    6,   20,    7,    2, 2134,   34],\n",
       "       [   5,    3,    2,   21,   42,   12,    1,   37,   15, 2132]])>"
      ]
     },
     "execution_count": 32,
     "metadata": {},
     "output_type": "execute_result"
    }
   ],
   "source": [
    "cm #this is the confusion matrix, we are supposed to do this for all 15 of the models. Preferable if we beautify this a bit using matPlotLib, or seaborn if permitted by sir"
   ]
  },
  {
   "cell_type": "markdown",
   "id": "b2ec1f62",
   "metadata": {},
   "source": [
    "# MODEL 3 -- 150 Neurons, 2 Hidden Layers, ReLU"
   ]
  },
  {
   "cell_type": "code",
   "execution_count": 33,
   "id": "5ac6530c",
   "metadata": {},
   "outputs": [
    {
     "name": "stdout",
     "output_type": "stream",
     "text": [
      "Epoch 1/5\n",
      "1466/1466 [==============================] - 2s 1ms/step - loss: 0.2881 - accuracy: 0.9172\n",
      "Epoch 2/5\n",
      "1466/1466 [==============================] - 2s 1ms/step - loss: 0.1244 - accuracy: 0.9614\n",
      "Epoch 3/5\n",
      "1466/1466 [==============================] - 2s 1ms/step - loss: 0.0882 - accuracy: 0.9725\n",
      "Epoch 4/5\n",
      "1466/1466 [==============================] - 2s 1ms/step - loss: 0.0679 - accuracy: 0.9786\n",
      "Epoch 5/5\n",
      "1466/1466 [==============================] - 2s 1ms/step - loss: 0.0531 - accuracy: 0.9827\n"
     ]
    },
    {
     "data": {
      "text/plain": [
       "<keras.callbacks.History at 0x2b4ff2dd250>"
      ]
     },
     "execution_count": 33,
     "metadata": {},
     "output_type": "execute_result"
    }
   ],
   "source": [
    "model3 = keras.Sequential([\n",
    "    keras.layers.Dense(75, input_shape=(784,), activation = 'relu'), #we call it dense since every node in one layer is connected to every node in the next layer    \n",
    "    keras.layers.Dense(75, activation = 'relu'),\n",
    "    keras.layers.Dense(10, activation = 'softmax')\n",
    "])\n",
    "\n",
    "model3.compile(optimizer = 'adam', loss = 'sparse_categorical_crossentropy', metrics = ['accuracy'])\n",
    "model3.fit(X_trainf, y_train, epochs = 5)\n"
   ]
  },
  {
   "cell_type": "code",
   "execution_count": 34,
   "id": "eb4921d7",
   "metadata": {},
   "outputs": [
    {
     "name": "stdout",
     "output_type": "stream",
     "text": [
      "722/722 [==============================] - 1s 1ms/step - loss: 0.1111 - accuracy: 0.9671\n"
     ]
    },
    {
     "data": {
      "text/plain": [
       "[0.11110863834619522, 0.9671428799629211]"
      ]
     },
     "execution_count": 34,
     "metadata": {},
     "output_type": "execute_result"
    }
   ],
   "source": [
    "model3.evaluate(X_testf, y_test)"
   ]
  },
  {
   "cell_type": "code",
   "execution_count": 35,
   "id": "68c2ac70",
   "metadata": {},
   "outputs": [
    {
     "name": "stdout",
     "output_type": "stream",
     "text": [
      "722/722 [==============================] - 1s 860us/step\n"
     ]
    },
    {
     "data": {
      "text/plain": [
       "<tf.Tensor: shape=(10, 10), dtype=int32, numpy=\n",
       "array([[2189,    1,   15,    6,    3,    5,   12,    4,    8,    1],\n",
       "       [   1, 2613,    8,    5,    2,    0,    2,    9,    4,    3],\n",
       "       [   2,    4, 2262,    9,    8,    1,    2,   10,    9,    0],\n",
       "       [   0,    5,   24, 2333,    1,    8,    1,    5,   21,    3],\n",
       "       [   0,    6,   13,    0, 2247,    1,   25,    7,    8,   30],\n",
       "       [   4,    3,    7,   53,    5, 1918,   16,    4,   40,   16],\n",
       "       [  10,    7,    1,    1,    0,    1, 2177,    0,   12,    0],\n",
       "       [   1,    6,   30,    1,    2,    1,    1, 2271,    8,   13],\n",
       "       [   4,   15,   25,   24,    3,    6,   13,    4, 2186,    5],\n",
       "       [   1,    5,    4,   29,   28,    6,    3,   20,   29, 2145]])>"
      ]
     },
     "execution_count": 35,
     "metadata": {},
     "output_type": "execute_result"
    }
   ],
   "source": [
    "y_predict = model3.predict(X_testf)\n",
    "# y_predict[0]\n",
    "#np.argmax(y_predict[0]) #gives the maximum value out of the given ones\n",
    "predicted_labels = [np.argmax(i) for i in y_predict] #we are getting exactly what has been predicted and putting it into a predicted labels array\n",
    "cm = tf.math.confusion_matrix(labels=y_test,predictions=predicted_labels) #tensorflow has inbuilt provisions to build confusion matrices\n",
    "cm"
   ]
  },
  {
   "cell_type": "code",
   "execution_count": 36,
   "id": "ccf49409",
   "metadata": {},
   "outputs": [
    {
     "name": "stdout",
     "output_type": "stream",
     "text": [
      "Epoch 1/5\n",
      "1466/1466 [==============================] - 2s 1ms/step - loss: 0.3016 - accuracy: 0.9133\n",
      "Epoch 2/5\n",
      "1466/1466 [==============================] - 2s 1ms/step - loss: 0.1424 - accuracy: 0.9575\n",
      "Epoch 3/5\n",
      "1466/1466 [==============================] - 2s 1ms/step - loss: 0.0996 - accuracy: 0.9695\n",
      "Epoch 4/5\n",
      "1466/1466 [==============================] - 2s 1ms/step - loss: 0.0742 - accuracy: 0.9773\n",
      "Epoch 5/5\n",
      "1466/1466 [==============================] - 2s 1ms/step - loss: 0.0604 - accuracy: 0.9813\n"
     ]
    },
    {
     "data": {
      "text/plain": [
       "<keras.callbacks.History at 0x2b4ff213bb0>"
      ]
     },
     "execution_count": 36,
     "metadata": {},
     "output_type": "execute_result"
    }
   ],
   "source": [
    "model4 = keras.Sequential([\n",
    "    keras.layers.Dense(75, input_shape=(784,), activation = 'tanh'), #we call it dense since every node in one layer is connected to every node in the next layer    \n",
    "    keras.layers.Dense(75, activation = 'tanh'),\n",
    "    keras.layers.Dense(10, activation = 'softmax')\n",
    "])\n",
    "\n",
    "model4.compile(optimizer = 'adam', loss = 'sparse_categorical_crossentropy', metrics = ['accuracy'])\n",
    "model4.fit(X_trainf, y_train, epochs = 5)\n"
   ]
  },
  {
   "cell_type": "code",
   "execution_count": 37,
   "id": "a70c315e",
   "metadata": {},
   "outputs": [
    {
     "name": "stdout",
     "output_type": "stream",
     "text": [
      "722/722 [==============================] - 1s 980us/step - loss: 0.1038 - accuracy: 0.9690\n"
     ]
    },
    {
     "data": {
      "text/plain": [
       "[0.10376088321208954, 0.9690476059913635]"
      ]
     },
     "execution_count": 37,
     "metadata": {},
     "output_type": "execute_result"
    }
   ],
   "source": [
    "model4.evaluate(X_testf, y_test)"
   ]
  },
  {
   "cell_type": "code",
   "execution_count": 38,
   "id": "d8c63119",
   "metadata": {},
   "outputs": [
    {
     "name": "stdout",
     "output_type": "stream",
     "text": [
      "722/722 [==============================] - 1s 862us/step\n"
     ]
    },
    {
     "data": {
      "text/plain": [
       "<tf.Tensor: shape=(10, 10), dtype=int32, numpy=\n",
       "array([[2204,    1,    3,    6,    3,   10,    8,    2,    6,    1],\n",
       "       [   1, 2609,    7,    5,    4,    0,    4,    9,    8,    0],\n",
       "       [  12,    3, 2210,   24,   13,    3,    4,   21,   17,    0],\n",
       "       [   0,    2,    7, 2311,    0,   37,    2,   12,   28,    2],\n",
       "       [   1,    1,    4,    0, 2295,    4,    8,    5,    4,   15],\n",
       "       [   9,    0,    3,   20,    2, 1996,   17,    1,   13,    5],\n",
       "       [  10,    8,    3,    1,    9,   13, 2160,    0,    5,    0],\n",
       "       [   3,    7,    9,    4,   13,    3,    0, 2277,    4,   14],\n",
       "       [   5,   10,    6,   12,    8,   16,   13,    4, 2205,    6],\n",
       "       [   2,    5,    1,   17,   70,   20,    2,   23,   12, 2118]])>"
      ]
     },
     "execution_count": 38,
     "metadata": {},
     "output_type": "execute_result"
    }
   ],
   "source": [
    "y_predict = model4.predict(X_testf)\n",
    "# y_predict[0]\n",
    "#np.argmax(y_predict[0]) #gives the maximum value out of the given ones\n",
    "predicted_labels = [np.argmax(i) for i in y_predict] #we are getting exactly what has been predicted and putting it into a predicted labels array\n",
    "cm = tf.math.confusion_matrix(labels=y_test,predictions=predicted_labels) #tensorflow has inbuilt provisions to build confusion matrices\n",
    "cm"
   ]
  },
  {
   "cell_type": "code",
   "execution_count": 39,
   "id": "ebb3ba9f",
   "metadata": {},
   "outputs": [
    {
     "name": "stdout",
     "output_type": "stream",
     "text": [
      "Epoch 1/5\n",
      "1466/1466 [==============================] - 2s 1ms/step - loss: 0.3862 - accuracy: 0.8861\n",
      "Epoch 2/5\n",
      "1466/1466 [==============================] - 2s 1ms/step - loss: 0.1704 - accuracy: 0.9486\n",
      "Epoch 3/5\n",
      "1466/1466 [==============================] - 2s 1ms/step - loss: 0.1253 - accuracy: 0.9618\n",
      "Epoch 4/5\n",
      "1466/1466 [==============================] - 2s 1ms/step - loss: 0.0993 - accuracy: 0.9697\n",
      "Epoch 5/5\n",
      "1466/1466 [==============================] - 2s 1ms/step - loss: 0.0844 - accuracy: 0.9728\n"
     ]
    },
    {
     "data": {
      "text/plain": [
       "<keras.callbacks.History at 0x2b4ff922be0>"
      ]
     },
     "execution_count": 39,
     "metadata": {},
     "output_type": "execute_result"
    }
   ],
   "source": [
    "model5 = keras.Sequential([\n",
    "    keras.layers.Dense(50, input_shape=(784,), activation = 'relu'), #we call it dense since every node in one layer is connected to every node in the next layer    \n",
    "    keras.layers.Dense(30, activation = 'relu'),\n",
    "    keras.layers.Dense(20, activation = 'relu'),\n",
    "    keras.layers.Dense(10, activation = 'softmax')\n",
    "])\n",
    "\n",
    "model5.compile(optimizer = 'adam', loss = 'sparse_categorical_crossentropy', metrics = ['accuracy'])\n",
    "model5.fit(X_trainf, y_train, epochs = 5)"
   ]
  },
  {
   "cell_type": "code",
   "execution_count": 40,
   "id": "51cb4539",
   "metadata": {},
   "outputs": [
    {
     "name": "stdout",
     "output_type": "stream",
     "text": [
      "722/722 [==============================] - 1s 1ms/step - loss: 0.1148 - accuracy: 0.9668\n"
     ]
    },
    {
     "data": {
      "text/plain": [
       "[0.11481737345457077, 0.9668398499488831]"
      ]
     },
     "execution_count": 40,
     "metadata": {},
     "output_type": "execute_result"
    }
   ],
   "source": [
    "model5.evaluate(X_testf, y_test)"
   ]
  },
  {
   "cell_type": "code",
   "execution_count": 41,
   "id": "cfe6cc11",
   "metadata": {},
   "outputs": [
    {
     "name": "stdout",
     "output_type": "stream",
     "text": [
      "722/722 [==============================] - 1s 1ms/step\n"
     ]
    },
    {
     "data": {
      "text/plain": [
       "<tf.Tensor: shape=(10, 10), dtype=int32, numpy=\n",
       "array([[2212,    0,    3,    2,    1,    4,    6,    6,    6,    4],\n",
       "       [   1, 2611,    6,    2,    5,    1,    4,    7,    7,    3],\n",
       "       [  12,    9, 2229,    7,   11,    3,    5,   11,   19,    1],\n",
       "       [   2,    9,   33, 2253,    2,   36,    1,   16,   41,    8],\n",
       "       [   3,    3,   10,    0, 2278,    1,   11,    4,    2,   25],\n",
       "       [   8,    2,    3,   21,    2, 1979,   17,    1,   16,   17],\n",
       "       [  27,    5,    3,    0,    3,    9, 2154,    0,    8,    0],\n",
       "       [   0,   12,   15,    0,    8,    0,    0, 2272,    7,   20],\n",
       "       [   6,   16,   15,    3,    3,   15,   16,    4, 2192,   15],\n",
       "       [   2,    2,    0,    4,   55,   12,    0,   23,   18, 2154]])>"
      ]
     },
     "execution_count": 41,
     "metadata": {},
     "output_type": "execute_result"
    }
   ],
   "source": [
    "y_predict = model5.predict(X_testf)\n",
    "# y_predict[0]\n",
    "#np.argmax(y_predict[0]) #gives the maximum value out of the given ones\n",
    "predicted_labels = [np.argmax(i) for i in y_predict] #we are getting exactly what has been predicted and putting it into a predicted labels array\n",
    "cm = tf.math.confusion_matrix(labels=y_test,predictions=predicted_labels) #tensorflow has inbuilt provisions to build confusion matrices\n",
    "cm"
   ]
  },
  {
   "cell_type": "code",
   "execution_count": 42,
   "id": "43316d38",
   "metadata": {},
   "outputs": [
    {
     "name": "stdout",
     "output_type": "stream",
     "text": [
      "Epoch 1/5\n",
      "1466/1466 [==============================] - 2s 1ms/step - loss: 0.3795 - accuracy: 0.9033\n",
      "Epoch 2/5\n",
      "1466/1466 [==============================] - 2s 1ms/step - loss: 0.1626 - accuracy: 0.9536\n",
      "Epoch 3/5\n",
      "1466/1466 [==============================] - 2s 1ms/step - loss: 0.1199 - accuracy: 0.9640\n",
      "Epoch 4/5\n",
      "1466/1466 [==============================] - 2s 1ms/step - loss: 0.0935 - accuracy: 0.9723\n",
      "Epoch 5/5\n",
      "1466/1466 [==============================] - 2s 1ms/step - loss: 0.0759 - accuracy: 0.9767\n"
     ]
    },
    {
     "data": {
      "text/plain": [
       "<keras.callbacks.History at 0x2b4ffcebfd0>"
      ]
     },
     "execution_count": 42,
     "metadata": {},
     "output_type": "execute_result"
    }
   ],
   "source": [
    "model6 = keras.Sequential([\n",
    "    keras.layers.Dense(50, input_shape=(784,), activation = 'tanh'), #we call it dense since every node in one layer is connected to every node in the next layer    \n",
    "    keras.layers.Dense(30, activation = 'tanh'),\n",
    "    keras.layers.Dense(20, activation = 'tanh'),\n",
    "    keras.layers.Dense(10, activation = 'softmax')\n",
    "])\n",
    "\n",
    "model6.compile(optimizer = 'adam', loss = 'sparse_categorical_crossentropy', metrics = ['accuracy'])\n",
    "model6.fit(X_trainf, y_train, epochs = 5)"
   ]
  },
  {
   "cell_type": "code",
   "execution_count": 43,
   "id": "68e24b97",
   "metadata": {},
   "outputs": [
    {
     "name": "stdout",
     "output_type": "stream",
     "text": [
      "722/722 [==============================] - 2s 2ms/step - loss: 0.1435 - accuracy: 0.9575\n"
     ]
    },
    {
     "data": {
      "text/plain": [
       "[0.14349910616874695, 0.9575324654579163]"
      ]
     },
     "execution_count": 43,
     "metadata": {},
     "output_type": "execute_result"
    }
   ],
   "source": [
    "model6.evaluate(X_testf, y_test)"
   ]
  },
  {
   "cell_type": "code",
   "execution_count": 44,
   "id": "144b807d",
   "metadata": {},
   "outputs": [
    {
     "name": "stdout",
     "output_type": "stream",
     "text": [
      "722/722 [==============================] - 1s 1ms/step\n"
     ]
    },
    {
     "data": {
      "text/plain": [
       "<tf.Tensor: shape=(10, 10), dtype=int32, numpy=\n",
       "array([[2215,    0,    6,    1,    3,    2,    4,    0,   13,    0],\n",
       "       [   1, 2610,    8,    1,   10,    0,    1,    3,    9,    4],\n",
       "       [  17,    6, 2245,    4,    8,    1,    3,   10,   13,    0],\n",
       "       [  12,   16,   48, 2177,    0,   17,    2,   12,  108,    9],\n",
       "       [   1,    4,   11,    1, 2287,    2,    9,    6,    4,   12],\n",
       "       [  39,    9,    5,   25,    8, 1896,   23,    1,   46,   14],\n",
       "       [  20,    4,    7,    1,    7,    9, 2145,    0,   16,    0],\n",
       "       [   4,    9,   31,    2,   16,    0,    0, 2242,    9,   21],\n",
       "       [   8,   12,    9,    4,    4,    2,    7,    2, 2231,    6],\n",
       "       [  11,    4,    1,    7,  102,    3,    1,   21,   49, 2071]])>"
      ]
     },
     "execution_count": 44,
     "metadata": {},
     "output_type": "execute_result"
    }
   ],
   "source": [
    "y_predict = model6.predict(X_testf)\n",
    "# y_predict[0]\n",
    "#np.argmax(y_predict[0]) #gives the maximum value out of the given ones\n",
    "predicted_labels = [np.argmax(i) for i in y_predict] #we are getting exactly what has been predicted and putting it into a predicted labels array\n",
    "cm = tf.math.confusion_matrix(labels=y_test,predictions=predicted_labels) #tensorflow has inbuilt provisions to build confusion matrices\n",
    "cm"
   ]
  },
  {
   "cell_type": "code",
   "execution_count": 45,
   "id": "ee1ff63d",
   "metadata": {},
   "outputs": [
    {
     "name": "stdout",
     "output_type": "stream",
     "text": [
      "Epoch 1/5\n",
      "1466/1466 [==============================] - 3s 1ms/step - loss: 0.4866 - accuracy: 0.8748\n",
      "Epoch 2/5\n",
      "1466/1466 [==============================] - 2s 1ms/step - loss: 0.1945 - accuracy: 0.9435\n",
      "Epoch 3/5\n",
      "1466/1466 [==============================] - 2s 1ms/step - loss: 0.1437 - accuracy: 0.9580\n",
      "Epoch 4/5\n",
      "1466/1466 [==============================] - 2s 1ms/step - loss: 0.1159 - accuracy: 0.9661\n",
      "Epoch 5/5\n",
      "1466/1466 [==============================] - 2s 1ms/step - loss: 0.0967 - accuracy: 0.9707\n"
     ]
    },
    {
     "data": {
      "text/plain": [
       "<keras.callbacks.History at 0x2b4b36c4520>"
      ]
     },
     "execution_count": 45,
     "metadata": {},
     "output_type": "execute_result"
    }
   ],
   "source": [
    "model7 = keras.Sequential([\n",
    "    keras.layers.Dense(50, input_shape=(784,), activation = 'sigmoid'), #we call it dense since every node in one layer is connected to every node in the next layer    \n",
    "    keras.layers.Dense(30, activation = 'relu'),\n",
    "    keras.layers.Dense(20, activation = 'tanh'),\n",
    "    keras.layers.Dense(10, activation = 'softmax')\n",
    "])\n",
    "\n",
    "model7.compile(optimizer = 'adam', loss = 'sparse_categorical_crossentropy', metrics = ['accuracy'])\n",
    "model7.fit(X_trainf, y_train, epochs = 5)"
   ]
  },
  {
   "cell_type": "code",
   "execution_count": 46,
   "id": "1bbe0dbc",
   "metadata": {},
   "outputs": [
    {
     "name": "stdout",
     "output_type": "stream",
     "text": [
      "722/722 [==============================] - 1s 1ms/step - loss: 0.1300 - accuracy: 0.9614\n"
     ]
    },
    {
     "data": {
      "text/plain": [
       "[0.12995396554470062, 0.9613853096961975]"
      ]
     },
     "execution_count": 46,
     "metadata": {},
     "output_type": "execute_result"
    }
   ],
   "source": [
    "model7.evaluate(X_testf, y_test)"
   ]
  },
  {
   "cell_type": "code",
   "execution_count": 47,
   "id": "88a9c9d4",
   "metadata": {},
   "outputs": [
    {
     "name": "stdout",
     "output_type": "stream",
     "text": [
      "722/722 [==============================] - 1s 898us/step\n"
     ]
    },
    {
     "data": {
      "text/plain": [
       "<tf.Tensor: shape=(10, 10), dtype=int32, numpy=\n",
       "array([[2216,    1,    1,    2,    3,    2,    7,    1,    3,    8],\n",
       "       [   1, 2607,   10,    3,    3,    1,    3,    9,    4,    6],\n",
       "       [  14,    2, 2249,    1,   14,    0,    7,   17,    3,    0],\n",
       "       [   6,   12,   36, 2281,    2,   20,    2,   21,   12,    9],\n",
       "       [   3,    6,    7,    0, 2238,    1,   12,    5,    4,   61],\n",
       "       [  26,    8,    7,   24,    9, 1927,   37,    4,   13,   11],\n",
       "       [  15,    7,    3,    0,    8,    8, 2160,    0,    8,    0],\n",
       "       [   7,    8,   16,    4,    7,    0,    0, 2264,    2,   26],\n",
       "       [  23,   26,   26,   10,    6,   12,   22,    6, 2135,   19],\n",
       "       [   9,    8,    4,   10,   26,    6,    1,   24,    8, 2174]])>"
      ]
     },
     "execution_count": 47,
     "metadata": {},
     "output_type": "execute_result"
    }
   ],
   "source": [
    "y_predict = model1.predict(X_testf)\n",
    "# y_predict[0]\n",
    "#np.argmax(y_predict[0]) #gives the maximum value out of the given ones\n",
    "predicted_labels = [np.argmax(i) for i in y_predict] #we are getting exactly what has been predicted and putting it into a predicted labels array\n",
    "cm = tf.math.confusion_matrix(labels=y_test,predictions=predicted_labels) #tensorflow has inbuilt provisions to build confusion matrices\n",
    "cm"
   ]
  },
  {
   "cell_type": "code",
   "execution_count": 48,
   "id": "d94fbfab",
   "metadata": {},
   "outputs": [
    {
     "name": "stdout",
     "output_type": "stream",
     "text": [
      "Epoch 1/5\n",
      "1466/1466 [==============================] - 3s 1ms/step - loss: 0.4355 - accuracy: 0.8778\n",
      "Epoch 2/5\n",
      "1466/1466 [==============================] - 2s 1ms/step - loss: 0.1894 - accuracy: 0.9426\n",
      "Epoch 3/5\n",
      "1466/1466 [==============================] - 2s 1ms/step - loss: 0.1389 - accuracy: 0.9574\n",
      "Epoch 4/5\n",
      "1466/1466 [==============================] - 2s 1ms/step - loss: 0.1077 - accuracy: 0.9679\n",
      "Epoch 5/5\n",
      "1466/1466 [==============================] - 2s 1ms/step - loss: 0.0858 - accuracy: 0.9737\n"
     ]
    },
    {
     "data": {
      "text/plain": [
       "<keras.callbacks.History at 0x2b511b22f10>"
      ]
     },
     "execution_count": 48,
     "metadata": {},
     "output_type": "execute_result"
    }
   ],
   "source": [
    "model8 = keras.Sequential([\n",
    "    keras.layers.Dense(75, input_shape=(784,), activation = 'sigmoid'), #we call it dense since every node in one layer is connected to every node in the next layer    \n",
    "    keras.layers.Dense(75, activation = 'relu'),\n",
    "    keras.layers.Dense(10, activation = 'softmax')\n",
    "])\n",
    "\n",
    "model8.compile(optimizer = 'adam', loss = 'sparse_categorical_crossentropy', metrics = ['accuracy'])\n",
    "model8.fit(X_trainf, y_train, epochs = 5)\n"
   ]
  },
  {
   "cell_type": "code",
   "execution_count": 49,
   "id": "0ee818b7",
   "metadata": {},
   "outputs": [
    {
     "name": "stdout",
     "output_type": "stream",
     "text": [
      "722/722 [==============================] - 1s 1ms/step - loss: 0.1077 - accuracy: 0.9665\n"
     ]
    },
    {
     "data": {
      "text/plain": [
       "[0.10767311602830887, 0.9664502143859863]"
      ]
     },
     "execution_count": 49,
     "metadata": {},
     "output_type": "execute_result"
    }
   ],
   "source": [
    "model8.evaluate(X_testf, y_test)"
   ]
  },
  {
   "cell_type": "code",
   "execution_count": 50,
   "id": "fa90c7b1",
   "metadata": {},
   "outputs": [
    {
     "name": "stdout",
     "output_type": "stream",
     "text": [
      "722/722 [==============================] - 1s 967us/step\n"
     ]
    },
    {
     "data": {
      "text/plain": [
       "<tf.Tensor: shape=(10, 10), dtype=int32, numpy=\n",
       "array([[2201,    0,   15,    5,    1,    4,    9,    0,    7,    2],\n",
       "       [   1, 2608,   11,    4,    4,    0,    3,    8,    4,    4],\n",
       "       [   8,    3, 2252,    7,   11,    1,    3,   10,   12,    0],\n",
       "       [   3,    7,   23, 2299,    1,   16,    2,   17,   27,    6],\n",
       "       [   1,    4,   19,    0, 2250,    0,   10,    7,    7,   39],\n",
       "       [  11,    7,    6,   31,    5, 1960,   19,    2,   14,   11],\n",
       "       [  18,    6,    5,    0,    4,   13, 2156,    0,    7,    0],\n",
       "       [   4,    6,   17,    4,    8,    0,    1, 2274,    5,   15],\n",
       "       [   5,   18,   13,   32,    4,    8,    9,    5, 2179,   12],\n",
       "       [   5,    9,    2,   12,   42,    9,    1,   29,   15, 2146]])>"
      ]
     },
     "execution_count": 50,
     "metadata": {},
     "output_type": "execute_result"
    }
   ],
   "source": [
    "y_predict = model8.predict(X_testf)\n",
    "# y_predict[0]\n",
    "#np.argmax(y_predict[0]) #gives the maximum value out of the given ones\n",
    "predicted_labels = [np.argmax(i) for i in y_predict] #we are getting exactly what has been predicted and putting it into a predicted labels array\n",
    "cm = tf.math.confusion_matrix(labels=y_test,predictions=predicted_labels) #tensorflow has inbuilt provisions to build confusion matrices\n",
    "cm"
   ]
  },
  {
   "cell_type": "code",
   "execution_count": 51,
   "id": "ce818f4e",
   "metadata": {},
   "outputs": [
    {
     "name": "stdout",
     "output_type": "stream",
     "text": [
      "Epoch 1/5\n",
      "1466/1466 [==============================] - 2s 1ms/step - loss: 0.3973 - accuracy: 0.8906\n",
      "Epoch 2/5\n",
      "1466/1466 [==============================] - 2s 1ms/step - loss: 0.1824 - accuracy: 0.9456\n",
      "Epoch 3/5\n",
      "1466/1466 [==============================] - 2s 2ms/step - loss: 0.1305 - accuracy: 0.9610\n",
      "Epoch 4/5\n",
      "1466/1466 [==============================] - 2s 1ms/step - loss: 0.0992 - accuracy: 0.9697\n",
      "Epoch 5/5\n",
      "1466/1466 [==============================] - 2s 1ms/step - loss: 0.0788 - accuracy: 0.9759\n"
     ]
    },
    {
     "data": {
      "text/plain": [
       "<keras.callbacks.History at 0x2b4ff6d85e0>"
      ]
     },
     "execution_count": 51,
     "metadata": {},
     "output_type": "execute_result"
    }
   ],
   "source": [
    "model9 = keras.Sequential([\n",
    "    keras.layers.Dense(75, input_shape=(784,), activation = 'sigmoid'), #we call it dense since every node in one layer is connected to every node in the next layer    \n",
    "    keras.layers.Dense(75, activation = 'tanh'),\n",
    "    keras.layers.Dense(10, activation = 'softmax')\n",
    "])\n",
    "\n",
    "model9.compile(optimizer = 'adam', loss = 'sparse_categorical_crossentropy', metrics = ['accuracy'])\n",
    "model9.fit(X_trainf, y_train, epochs = 5)"
   ]
  },
  {
   "cell_type": "code",
   "execution_count": 52,
   "id": "3de04589",
   "metadata": {},
   "outputs": [
    {
     "name": "stdout",
     "output_type": "stream",
     "text": [
      "722/722 [==============================] - 1s 1ms/step - loss: 0.0995 - accuracy: 0.9697\n"
     ]
    },
    {
     "data": {
      "text/plain": [
       "[0.09952650219202042, 0.9696536660194397]"
      ]
     },
     "execution_count": 52,
     "metadata": {},
     "output_type": "execute_result"
    }
   ],
   "source": [
    "model9.evaluate(X_testf, y_test)"
   ]
  },
  {
   "cell_type": "code",
   "execution_count": 53,
   "id": "4bb5d403",
   "metadata": {},
   "outputs": [
    {
     "name": "stdout",
     "output_type": "stream",
     "text": [
      "722/722 [==============================] - 1s 976us/step\n"
     ]
    },
    {
     "data": {
      "text/plain": [
       "<tf.Tensor: shape=(10, 10), dtype=int32, numpy=\n",
       "array([[2199,    0,    3,    3,    5,    7,    9,    2,    9,    7],\n",
       "       [   1, 2594,   12,    5,    6,    1,    4,   10,    7,    7],\n",
       "       [   9,    4, 2248,    5,   11,    1,    3,   11,   14,    1],\n",
       "       [   3,    3,   26, 2288,    1,   37,    2,   15,   24,    2],\n",
       "       [   2,    4,    6,    0, 2295,    1,    6,    4,    4,   15],\n",
       "       [   7,    3,    2,   23,    6, 1980,   19,    0,   16,   10],\n",
       "       [   9,    5,    3,    1,   11,   10, 2165,    0,    5,    0],\n",
       "       [   1,    7,   16,    3,   12,    0,    0, 2276,    8,   11],\n",
       "       [   5,   10,   13,   11,    2,   12,    6,    1, 2216,    9],\n",
       "       [   3,    4,    1,   10,   61,   14,    0,   24,   15, 2138]])>"
      ]
     },
     "execution_count": 53,
     "metadata": {},
     "output_type": "execute_result"
    }
   ],
   "source": [
    "y_predict = model9.predict(X_testf)\n",
    "# y_predict[0]\n",
    "#np.argmax(y_predict[0]) #gives the maximum value out of the given ones\n",
    "predicted_labels = [np.argmax(i) for i in y_predict] #we are getting exactly what has been predicted and putting it into a predicted labels array\n",
    "cm = tf.math.confusion_matrix(labels=y_test,predictions=predicted_labels) #tensorflow has inbuilt provisions to build confusion matrices\n",
    "cm"
   ]
  },
  {
   "cell_type": "code",
   "execution_count": 54,
   "id": "427f2642",
   "metadata": {},
   "outputs": [
    {
     "name": "stdout",
     "output_type": "stream",
     "text": [
      "Epoch 1/5\n",
      "1466/1466 [==============================] - 2s 1ms/step - loss: 0.2748 - accuracy: 0.9209\n",
      "Epoch 2/5\n",
      "1466/1466 [==============================] - 2s 1ms/step - loss: 0.1145 - accuracy: 0.9657\n",
      "Epoch 3/5\n",
      "1466/1466 [==============================] - 2s 1ms/step - loss: 0.0795 - accuracy: 0.9755\n",
      "Epoch 4/5\n",
      "1466/1466 [==============================] - 2s 1ms/step - loss: 0.0603 - accuracy: 0.9812\n",
      "Epoch 5/5\n",
      "1466/1466 [==============================] - 2s 2ms/step - loss: 0.0467 - accuracy: 0.9850\n"
     ]
    },
    {
     "data": {
      "text/plain": [
       "<keras.callbacks.History at 0x2b505550190>"
      ]
     },
     "execution_count": 54,
     "metadata": {},
     "output_type": "execute_result"
    }
   ],
   "source": [
    "model10 = keras.Sequential([\n",
    "    keras.layers.Dense(75, input_shape=(784,), activation = 'relu'), #we call it dense since every node in one layer is connected to every node in the next layer    \n",
    "    keras.layers.Dense(75, activation = 'tanh'),\n",
    "    keras.layers.Dense(10, activation = 'softmax')\n",
    "])\n",
    "\n",
    "model10.compile(optimizer = 'adam', loss = 'sparse_categorical_crossentropy', metrics = ['accuracy'])\n",
    "model10.fit(X_trainf, y_train, epochs = 5)"
   ]
  },
  {
   "cell_type": "code",
   "execution_count": 55,
   "id": "41742bc7",
   "metadata": {},
   "outputs": [
    {
     "name": "stdout",
     "output_type": "stream",
     "text": [
      "722/722 [==============================] - 1s 1ms/step - loss: 0.0863 - accuracy: 0.9740\n"
     ]
    },
    {
     "data": {
      "text/plain": [
       "[0.08630749583244324, 0.9740259647369385]"
      ]
     },
     "execution_count": 55,
     "metadata": {},
     "output_type": "execute_result"
    }
   ],
   "source": [
    "model10.evaluate(X_testf, y_test)"
   ]
  },
  {
   "cell_type": "code",
   "execution_count": 56,
   "id": "03ee929d",
   "metadata": {},
   "outputs": [
    {
     "name": "stdout",
     "output_type": "stream",
     "text": [
      "722/722 [==============================] - 1s 1ms/step\n"
     ]
    },
    {
     "data": {
      "text/plain": [
       "<tf.Tensor: shape=(10, 10), dtype=int32, numpy=\n",
       "array([[2215,    2,    4,    2,    2,    4,    7,    2,    5,    1],\n",
       "       [   1, 2614,    7,    2,    2,    0,    2,   10,    7,    2],\n",
       "       [  14,    6, 2252,    6,    6,    0,    2,    7,   12,    2],\n",
       "       [   1,    7,   20, 2319,    1,    9,    1,   13,   24,    6],\n",
       "       [   8,    3,    7,    0, 2253,    0,    5,    8,    4,   49],\n",
       "       [  13,    2,    4,   27,    2, 1978,    8,    0,   25,    7],\n",
       "       [  12,    7,    1,    1,    5,    3, 2167,    0,   13,    0],\n",
       "       [   2,    7,   15,    1,    4,    2,    1, 2294,    4,    4],\n",
       "       [   9,   12,    5,   10,    4,    6,    5,    6, 2218,   10],\n",
       "       [   4,    6,    1,    8,   14,   10,    0,   25,   12, 2190]])>"
      ]
     },
     "execution_count": 56,
     "metadata": {},
     "output_type": "execute_result"
    }
   ],
   "source": [
    "y_predict = model10.predict(X_testf)\n",
    "# y_predict[0]\n",
    "#np.argmax(y_predict[0]) #gives the maximum value out of the given ones\n",
    "predicted_labels = [np.argmax(i) for i in y_predict] #we are getting exactly what has been predicted and putting it into a predicted labels array\n",
    "cm = tf.math.confusion_matrix(labels=y_test,predictions=predicted_labels) #tensorflow has inbuilt provisions to build confusion matrices\n",
    "cm"
   ]
  },
  {
   "cell_type": "code",
   "execution_count": 57,
   "id": "346a9e81",
   "metadata": {},
   "outputs": [
    {
     "name": "stdout",
     "output_type": "stream",
     "text": [
      "Epoch 1/5\n",
      "1466/1466 [==============================] - 2s 1ms/step - loss: 0.8557 - accuracy: 0.7776\n",
      "Epoch 2/5\n",
      "1466/1466 [==============================] - 2s 1ms/step - loss: 0.2447 - accuracy: 0.9337\n",
      "Epoch 3/5\n",
      "1466/1466 [==============================] - 2s 1ms/step - loss: 0.1722 - accuracy: 0.9519\n",
      "Epoch 4/5\n",
      "1466/1466 [==============================] - 2s 2ms/step - loss: 0.1331 - accuracy: 0.9623\n",
      "Epoch 5/5\n",
      "1466/1466 [==============================] - 2s 1ms/step - loss: 0.1086 - accuracy: 0.9691\n"
     ]
    },
    {
     "data": {
      "text/plain": [
       "<keras.callbacks.History at 0x2b506870850>"
      ]
     },
     "execution_count": 57,
     "metadata": {},
     "output_type": "execute_result"
    }
   ],
   "source": [
    "model11 = keras.Sequential([\n",
    "    keras.layers.Dense(60, input_shape=(784,), activation = 'sigmoid'), #we call it dense since every node in one layer is connected to every node in the next layer    \n",
    "    keras.layers.Dense(50, activation = 'sigmoid'),\n",
    "    keras.layers.Dense(40, activation = 'sigmoid'),\n",
    "    keras.layers.Dense(10, activation = 'softmax')\n",
    "])\n",
    "\n",
    "model11.compile(optimizer = 'adam', loss = 'sparse_categorical_crossentropy', metrics = ['accuracy'])\n",
    "model11.fit(X_trainf, y_train, epochs = 5)"
   ]
  },
  {
   "cell_type": "code",
   "execution_count": 58,
   "id": "835381c6",
   "metadata": {},
   "outputs": [
    {
     "name": "stdout",
     "output_type": "stream",
     "text": [
      "722/722 [==============================] - 1s 1ms/step - loss: 0.1317 - accuracy: 0.9607\n"
     ]
    },
    {
     "data": {
      "text/plain": [
       "[0.13165366649627686, 0.9607359170913696]"
      ]
     },
     "execution_count": 58,
     "metadata": {},
     "output_type": "execute_result"
    }
   ],
   "source": [
    "model11.evaluate(X_testf, y_test)"
   ]
  },
  {
   "cell_type": "code",
   "execution_count": 59,
   "id": "79659279",
   "metadata": {},
   "outputs": [
    {
     "name": "stdout",
     "output_type": "stream",
     "text": [
      "722/722 [==============================] - 1s 1ms/step\n"
     ]
    },
    {
     "data": {
      "text/plain": [
       "<tf.Tensor: shape=(10, 10), dtype=int32, numpy=\n",
       "array([[2206,    1,    3,    4,    5,    4,    9,    2,    9,    1],\n",
       "       [   1, 2596,   14,    5,    6,    2,    2,    9,   11,    1],\n",
       "       [  20,    6, 2209,   11,   18,    1,    7,    7,   28,    0],\n",
       "       [   1,    8,   34, 2260,    3,   29,    1,   14,   43,    8],\n",
       "       [   1,    3,   13,    0, 2285,    0,   10,    5,    6,   14],\n",
       "       [  18,    2,    3,   25,    6, 1947,   17,    1,   39,    8],\n",
       "       [  11,    5,    5,    0,    9,    9, 2160,    0,   10,    0],\n",
       "       [   6,    9,   22,    5,   17,    1,    1, 2245,    6,   22],\n",
       "       [   6,   20,   15,    8,    6,    9,    7,    6, 2204,    4],\n",
       "       [   6,    5,    1,   16,   82,   20,    2,   22,   35, 2081]])>"
      ]
     },
     "execution_count": 59,
     "metadata": {},
     "output_type": "execute_result"
    }
   ],
   "source": [
    "y_predict = model11.predict(X_testf)\n",
    "# y_predict[0]\n",
    "#np.argmax(y_predict[0]) #gives the maximum value out of the given ones\n",
    "predicted_labels = [np.argmax(i) for i in y_predict] #we are getting exactly what has been predicted and putting it into a predicted labels array\n",
    "cm = tf.math.confusion_matrix(labels=y_test,predictions=predicted_labels) #tensorflow has inbuilt provisions to build confusion matrices\n",
    "cm"
   ]
  },
  {
   "cell_type": "code",
   "execution_count": 60,
   "id": "56611146",
   "metadata": {},
   "outputs": [
    {
     "name": "stdout",
     "output_type": "stream",
     "text": [
      "Epoch 1/5\n",
      "1466/1466 [==============================] - 3s 2ms/step - loss: 0.3351 - accuracy: 0.9020\n",
      "Epoch 2/5\n",
      "1466/1466 [==============================] - 2s 2ms/step - loss: 0.1468 - accuracy: 0.9558\n",
      "Epoch 3/5\n",
      "1466/1466 [==============================] - 2s 1ms/step - loss: 0.1082 - accuracy: 0.9661\n",
      "Epoch 4/5\n",
      "1466/1466 [==============================] - 2s 1ms/step - loss: 0.0830 - accuracy: 0.9741\n",
      "Epoch 5/5\n",
      "1466/1466 [==============================] - 2s 2ms/step - loss: 0.0679 - accuracy: 0.9780\n"
     ]
    },
    {
     "data": {
      "text/plain": [
       "<keras.callbacks.History at 0x2b507ec0a60>"
      ]
     },
     "execution_count": 60,
     "metadata": {},
     "output_type": "execute_result"
    }
   ],
   "source": [
    "model12 = keras.Sequential([\n",
    "    keras.layers.Dense(60, input_shape=(784,), activation = 'relu'), #we call it dense since every node in one layer is connected to every node in the next layer    \n",
    "    keras.layers.Dense(50, activation = 'relu'),\n",
    "    keras.layers.Dense(40, activation = 'relu'),\n",
    "    keras.layers.Dense(10, activation = 'softmax')\n",
    "])\n",
    "\n",
    "model12.compile(optimizer = 'adam', loss = 'sparse_categorical_crossentropy', metrics = ['accuracy'])\n",
    "model12.fit(X_trainf, y_train, epochs = 5)"
   ]
  },
  {
   "cell_type": "code",
   "execution_count": 61,
   "id": "a0ef774d",
   "metadata": {},
   "outputs": [
    {
     "name": "stdout",
     "output_type": "stream",
     "text": [
      "722/722 [==============================] - 1s 1ms/step - loss: 0.1280 - accuracy: 0.9633\n"
     ]
    },
    {
     "data": {
      "text/plain": [
       "[0.12796370685100555, 0.9632900357246399]"
      ]
     },
     "execution_count": 61,
     "metadata": {},
     "output_type": "execute_result"
    }
   ],
   "source": [
    "model12.evaluate(X_testf, y_test)"
   ]
  },
  {
   "cell_type": "code",
   "execution_count": 62,
   "id": "4319d8b1",
   "metadata": {},
   "outputs": [
    {
     "name": "stdout",
     "output_type": "stream",
     "text": [
      "722/722 [==============================] - 1s 1ms/step\n"
     ]
    },
    {
     "data": {
      "text/plain": [
       "<tf.Tensor: shape=(10, 10), dtype=int32, numpy=\n",
       "array([[2229,    0,    1,    0,    0,    0,    5,    1,    6,    2],\n",
       "       [   1, 2597,   13,    0,    3,    0,    4,    9,   18,    2],\n",
       "       [  26,    4, 2243,    4,   10,    0,    1,    6,   11,    2],\n",
       "       [  10,    8,   37, 2219,    2,   42,    2,   11,   57,   13],\n",
       "       [   3,    6,   18,    0, 2266,    0,    6,   13,    6,   19],\n",
       "       [  24,    5,    4,   13,    2, 1938,   32,    3,   28,   17],\n",
       "       [  28,    6,    6,    0,    8,    7, 2145,    0,    9,    0],\n",
       "       [  11,    7,   28,    1,    6,    0,    1, 2256,    7,   17],\n",
       "       [  20,    6,   16,    5,    7,    3,   12,    3, 2197,   16],\n",
       "       [   7,    4,    2,    1,   38,    6,    3,   21,   26, 2162]])>"
      ]
     },
     "execution_count": 62,
     "metadata": {},
     "output_type": "execute_result"
    }
   ],
   "source": [
    "y_predict = model12.predict(X_testf)\n",
    "# y_predict[0]\n",
    "#np.argmax(y_predict[0]) #gives the maximum value out of the given ones\n",
    "predicted_labels = [np.argmax(i) for i in y_predict] #we are getting exactly what has been predicted and putting it into a predicted labels array\n",
    "cm = tf.math.confusion_matrix(labels=y_test,predictions=predicted_labels) #tensorflow has inbuilt provisions to build confusion matrices\n",
    "cm"
   ]
  },
  {
   "cell_type": "code",
   "execution_count": 63,
   "id": "dc100913",
   "metadata": {},
   "outputs": [
    {
     "name": "stdout",
     "output_type": "stream",
     "text": [
      "Epoch 1/5\n",
      "1466/1466 [==============================] - 3s 1ms/step - loss: 0.3193 - accuracy: 0.9087\n",
      "Epoch 2/5\n",
      "1466/1466 [==============================] - 2s 2ms/step - loss: 0.1475 - accuracy: 0.9555\n",
      "Epoch 3/5\n",
      "1466/1466 [==============================] - 2s 2ms/step - loss: 0.1052 - accuracy: 0.9678\n",
      "Epoch 4/5\n",
      "1466/1466 [==============================] - 2s 2ms/step - loss: 0.0816 - accuracy: 0.9743\n",
      "Epoch 5/5\n",
      "1466/1466 [==============================] - 2s 2ms/step - loss: 0.0664 - accuracy: 0.9796\n"
     ]
    },
    {
     "data": {
      "text/plain": [
       "<keras.callbacks.History at 0x2b507ef3100>"
      ]
     },
     "execution_count": 63,
     "metadata": {},
     "output_type": "execute_result"
    }
   ],
   "source": [
    "model13 = keras.Sequential([\n",
    "    keras.layers.Dense(60, input_shape=(784,), activation = 'tanh'), #we call it dense since every node in one layer is connected to every node in the next layer    \n",
    "    keras.layers.Dense(50, activation = 'tanh'),\n",
    "    keras.layers.Dense(40, activation = 'tanh'),\n",
    "    keras.layers.Dense(10, activation = 'softmax')\n",
    "])\n",
    "\n",
    "model13.compile(optimizer = 'adam', loss = 'sparse_categorical_crossentropy', metrics = ['accuracy'])\n",
    "model13.fit(X_trainf, y_train, epochs = 5)"
   ]
  },
  {
   "cell_type": "code",
   "execution_count": 64,
   "id": "685a7e73",
   "metadata": {},
   "outputs": [
    {
     "name": "stdout",
     "output_type": "stream",
     "text": [
      "722/722 [==============================] - 1s 1ms/step - loss: 0.1062 - accuracy: 0.9687\n"
     ]
    },
    {
     "data": {
      "text/plain": [
       "[0.10622717440128326, 0.9687445759773254]"
      ]
     },
     "execution_count": 64,
     "metadata": {},
     "output_type": "execute_result"
    }
   ],
   "source": [
    "model13.evaluate(X_testf, y_test)"
   ]
  },
  {
   "cell_type": "code",
   "execution_count": 65,
   "id": "1c0ae0f3",
   "metadata": {},
   "outputs": [
    {
     "name": "stdout",
     "output_type": "stream",
     "text": [
      "722/722 [==============================] - 1s 1ms/step\n"
     ]
    },
    {
     "data": {
      "text/plain": [
       "<tf.Tensor: shape=(10, 10), dtype=int32, numpy=\n",
       "array([[2209,    1,    0,    5,    3,    9,    4,    0,    8,    5],\n",
       "       [   0, 2608,    8,    5,    6,    0,    5,    4,    9,    2],\n",
       "       [  16,    6, 2235,   18,   10,    0,    4,    7,   10,    1],\n",
       "       [   4,    4,   12, 2340,    0,   13,    0,    7,   17,    4],\n",
       "       [   1,    4,    4,    0, 2290,    1,    6,    5,    4,   22],\n",
       "       [   5,    5,    2,   52,    5, 1946,   16,    1,   27,    7],\n",
       "       [  12,    4,    3,    1,   12,    7, 2161,    0,    9,    0],\n",
       "       [   4,    8,   18,   10,   10,    5,    0, 2250,    5,   24],\n",
       "       [  10,    8,   12,   21,    4,   11,    4,    3, 2203,    9],\n",
       "       [   7,   10,    1,   23,   45,   13,    2,   17,   16, 2136]])>"
      ]
     },
     "execution_count": 65,
     "metadata": {},
     "output_type": "execute_result"
    }
   ],
   "source": [
    "y_predict = model13.predict(X_testf)\n",
    "# y_predict[0]\n",
    "#np.argmax(y_predict[0]) #gives the maximum value out of the given ones\n",
    "predicted_labels = [np.argmax(i) for i in y_predict] #we are getting exactly what has been predicted and putting it into a predicted labels array\n",
    "cm = tf.math.confusion_matrix(labels=y_test,predictions=predicted_labels) #tensorflow has inbuilt provisions to build confusion matrices\n",
    "cm"
   ]
  },
  {
   "cell_type": "code",
   "execution_count": 66,
   "id": "a2cbe391",
   "metadata": {},
   "outputs": [
    {
     "name": "stdout",
     "output_type": "stream",
     "text": [
      "Epoch 1/5\n",
      "1466/1466 [==============================] - 3s 2ms/step - loss: 0.4125 - accuracy: 0.8830\n",
      "Epoch 2/5\n",
      "1466/1466 [==============================] - 2s 2ms/step - loss: 0.1831 - accuracy: 0.9446\n",
      "Epoch 3/5\n",
      "1466/1466 [==============================] - 2s 2ms/step - loss: 0.1342 - accuracy: 0.9594\n",
      "Epoch 4/5\n",
      "1466/1466 [==============================] - 3s 2ms/step - loss: 0.1060 - accuracy: 0.9675\n",
      "Epoch 5/5\n",
      "1466/1466 [==============================] - 2s 2ms/step - loss: 0.0877 - accuracy: 0.9730\n"
     ]
    },
    {
     "data": {
      "text/plain": [
       "<keras.callbacks.History at 0x2b4ff922fa0>"
      ]
     },
     "execution_count": 66,
     "metadata": {},
     "output_type": "execute_result"
    }
   ],
   "source": [
    "model14 = keras.Sequential([\n",
    "    keras.layers.Dense(60, input_shape=(784,), activation = 'sigmoid'), #we call it dense since every node in one layer is connected to every node in the next layer    \n",
    "    keras.layers.Dense(50, activation = 'relu'),\n",
    "    keras.layers.Dense(40, activation = 'tanh'),\n",
    "    keras.layers.Dense(10, activation = 'softmax')\n",
    "])\n",
    "\n",
    "model14.compile(optimizer = 'adam', loss = 'sparse_categorical_crossentropy', metrics = ['accuracy'])\n",
    "model14.fit(X_trainf, y_train, epochs = 5)"
   ]
  },
  {
   "cell_type": "code",
   "execution_count": 67,
   "id": "d9fbda52",
   "metadata": {},
   "outputs": [
    {
     "name": "stdout",
     "output_type": "stream",
     "text": [
      "722/722 [==============================] - 1s 1ms/step - loss: 0.1215 - accuracy: 0.9642\n"
     ]
    },
    {
     "data": {
      "text/plain": [
       "[0.12149626761674881, 0.9642423987388611]"
      ]
     },
     "execution_count": 67,
     "metadata": {},
     "output_type": "execute_result"
    }
   ],
   "source": [
    "model14.evaluate(X_testf, y_test)"
   ]
  },
  {
   "cell_type": "code",
   "execution_count": 68,
   "id": "60d2fab0",
   "metadata": {},
   "outputs": [
    {
     "name": "stdout",
     "output_type": "stream",
     "text": [
      "722/722 [==============================] - 1s 1ms/step\n"
     ]
    },
    {
     "data": {
      "text/plain": [
       "<tf.Tensor: shape=(10, 10), dtype=int32, numpy=\n",
       "array([[2211,    0,    4,    5,    3,    5,    3,    1,    9,    3],\n",
       "       [   1, 2554,   17,   17,    4,    2,    3,   32,    9,    8],\n",
       "       [  12,    0, 2248,   12,   11,    0,    2,   12,   10,    0],\n",
       "       [   3,    1,   13, 2342,    0,   21,    0,   11,    9,    1],\n",
       "       [   3,    3,   14,    1, 2238,    1,    9,   11,    7,   50],\n",
       "       [  10,    1,    5,   42,    5, 1963,   15,    2,   17,    6],\n",
       "       [  23,    6,    3,    2,    6,   18, 2139,    1,   11,    0],\n",
       "       [   6,    2,   13,   10,    5,    1,    0, 2285,    2,   10],\n",
       "       [  10,   10,   14,   59,    2,    9,    3,    3, 2164,   11],\n",
       "       [   3,    3,    0,   26,   38,   14,    1,   37,   18, 2130]])>"
      ]
     },
     "execution_count": 68,
     "metadata": {},
     "output_type": "execute_result"
    }
   ],
   "source": [
    "y_predict = model14.predict(X_testf)\n",
    "# y_predict[0]\n",
    "#np.argmax(y_predict[0]) #gives the maximum value out of the given ones\n",
    "predicted_labels = [np.argmax(i) for i in y_predict] #we are getting exactly what has been predicted and putting it into a predicted labels array\n",
    "cm = tf.math.confusion_matrix(labels=y_test,predictions=predicted_labels) #tensorflow has inbuilt provisions to build confusion matrices\n",
    "cm"
   ]
  },
  {
   "cell_type": "code",
   "execution_count": 69,
   "id": "64650d49",
   "metadata": {},
   "outputs": [
    {
     "name": "stdout",
     "output_type": "stream",
     "text": [
      "Epoch 1/5\n",
      "1466/1466 [==============================] - 3s 2ms/step - loss: 0.4741 - accuracy: 0.8717\n",
      "Epoch 2/5\n",
      "1466/1466 [==============================] - 2s 2ms/step - loss: 0.2063 - accuracy: 0.9402\n",
      "Epoch 3/5\n",
      "1466/1466 [==============================] - 2s 2ms/step - loss: 0.1555 - accuracy: 0.9543\n",
      "Epoch 4/5\n",
      "1466/1466 [==============================] - 2s 2ms/step - loss: 0.1233 - accuracy: 0.9632\n",
      "Epoch 5/5\n",
      "1466/1466 [==============================] - 2s 2ms/step - loss: 0.1029 - accuracy: 0.9696\n"
     ]
    },
    {
     "data": {
      "text/plain": [
       "<keras.callbacks.History at 0x2b508411f70>"
      ]
     },
     "execution_count": 69,
     "metadata": {},
     "output_type": "execute_result"
    }
   ],
   "source": [
    "model15 = keras.Sequential([\n",
    "    keras.layers.Dense(50, input_shape=(784,), activation = 'sigmoid'), #we call it dense since every node in one layer is connected to every node in the next layer    \n",
    "    keras.layers.Dense(50, activation = 'relu'),\n",
    "    keras.layers.Dense(10, activation = 'softmax')\n",
    "])\n",
    "\n",
    "model15.compile(optimizer = 'adam', loss = 'sparse_categorical_crossentropy', metrics = ['accuracy'])\n",
    "model15.fit(X_trainf, y_train, epochs = 5)"
   ]
  },
  {
   "cell_type": "code",
   "execution_count": 70,
   "id": "9aa0d0f6",
   "metadata": {},
   "outputs": [
    {
     "name": "stdout",
     "output_type": "stream",
     "text": [
      "722/722 [==============================] - 1s 1ms/step - loss: 0.1284 - accuracy: 0.9608\n"
     ]
    },
    {
     "data": {
      "text/plain": [
       "[0.1284199208021164, 0.9608225226402283]"
      ]
     },
     "execution_count": 70,
     "metadata": {},
     "output_type": "execute_result"
    }
   ],
   "source": [
    "model15.evaluate(X_testf, y_test)"
   ]
  },
  {
   "cell_type": "code",
   "execution_count": 71,
   "id": "e0a5d08b",
   "metadata": {},
   "outputs": [
    {
     "name": "stdout",
     "output_type": "stream",
     "text": [
      "722/722 [==============================] - 1s 1ms/step\n"
     ]
    },
    {
     "data": {
      "text/plain": [
       "<tf.Tensor: shape=(10, 10), dtype=int32, numpy=\n",
       "array([[2189,    0,    5,    7,    0,   11,    9,    1,   15,    7],\n",
       "       [   1, 2596,    7,    5,    3,    1,    4,    9,   14,    7],\n",
       "       [   2,    6, 2194,   19,   13,    1,    3,   16,   52,    1],\n",
       "       [   2,    8,   19, 2263,    1,   28,    0,   15,   57,    8],\n",
       "       [   2,    5,   12,    0, 2217,    2,   10,    5,   20,   64],\n",
       "       [   8,    5,    3,   36,    2, 1949,   13,    0,   39,   11],\n",
       "       [  14,    4,    6,    0,    5,   15, 2147,    1,   17,    0],\n",
       "       [   6,    7,   16,    5,    8,    3,    0, 2249,   11,   29],\n",
       "       [   4,   15,    5,   11,    2,    9,    5,    0, 2227,    7],\n",
       "       [   6,    5,    0,   14,   31,   10,    2,   14,   24, 2164]])>"
      ]
     },
     "execution_count": 71,
     "metadata": {},
     "output_type": "execute_result"
    }
   ],
   "source": [
    "y_predict = model15.predict(X_testf)\n",
    "# y_predict[0]\n",
    "#np.argmax(y_predict[0]) #gives the maximum value out of the given ones\n",
    "predicted_labels = [np.argmax(i) for i in y_predict] #we are getting exactly what has been predicted and putting it into a predicted labels array\n",
    "cm = tf.math.confusion_matrix(labels=y_test,predictions=predicted_labels) #tensorflow has inbuilt provisions to build confusion matrices\n",
    "cm"
   ]
  }
 ],
 "metadata": {
  "kernelspec": {
   "display_name": "Python 3 (ipykernel)",
   "language": "python",
   "name": "python3"
  },
  "language_info": {
   "codemirror_mode": {
    "name": "ipython",
    "version": 3
   },
   "file_extension": ".py",
   "mimetype": "text/x-python",
   "name": "python",
   "nbconvert_exporter": "python",
   "pygments_lexer": "ipython3",
   "version": "3.9.16"
  }
 },
 "nbformat": 4,
 "nbformat_minor": 5
}
