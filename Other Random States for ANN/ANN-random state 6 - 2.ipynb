{
 "cells": [
  {
   "cell_type": "code",
   "execution_count": 1,
   "id": "036874ec",
   "metadata": {},
   "outputs": [],
   "source": [
    "import numpy as np\n",
    "import pandas as pd\n",
    "import tensorflow as tf\n",
    "from tensorflow import keras"
   ]
  },
  {
   "cell_type": "code",
   "execution_count": 2,
   "id": "5a726a2f",
   "metadata": {},
   "outputs": [],
   "source": [
    "(x_train, y_train), (x_test, y_test) = keras.datasets.mnist.load_data()\n"
   ]
  },
  {
   "cell_type": "code",
   "execution_count": 3,
   "id": "562846dd",
   "metadata": {},
   "outputs": [],
   "source": [
    "x_train2 = x_train.reshape(len(x_train), 28 * 28)\n",
    "df1 = pd.DataFrame(x_train2)\n"
   ]
  },
  {
   "cell_type": "code",
   "execution_count": 4,
   "id": "be135681",
   "metadata": {},
   "outputs": [
    {
     "data": {
      "text/html": [
       "<div>\n",
       "<style scoped>\n",
       "    .dataframe tbody tr th:only-of-type {\n",
       "        vertical-align: middle;\n",
       "    }\n",
       "\n",
       "    .dataframe tbody tr th {\n",
       "        vertical-align: top;\n",
       "    }\n",
       "\n",
       "    .dataframe thead th {\n",
       "        text-align: right;\n",
       "    }\n",
       "</style>\n",
       "<table border=\"1\" class=\"dataframe\">\n",
       "  <thead>\n",
       "    <tr style=\"text-align: right;\">\n",
       "      <th></th>\n",
       "      <th>0</th>\n",
       "      <th>1</th>\n",
       "      <th>2</th>\n",
       "      <th>3</th>\n",
       "      <th>4</th>\n",
       "      <th>5</th>\n",
       "      <th>6</th>\n",
       "      <th>7</th>\n",
       "      <th>8</th>\n",
       "      <th>9</th>\n",
       "      <th>...</th>\n",
       "      <th>774</th>\n",
       "      <th>775</th>\n",
       "      <th>776</th>\n",
       "      <th>777</th>\n",
       "      <th>778</th>\n",
       "      <th>779</th>\n",
       "      <th>780</th>\n",
       "      <th>781</th>\n",
       "      <th>782</th>\n",
       "      <th>783</th>\n",
       "    </tr>\n",
       "  </thead>\n",
       "  <tbody>\n",
       "    <tr>\n",
       "      <th>0</th>\n",
       "      <td>0</td>\n",
       "      <td>0</td>\n",
       "      <td>0</td>\n",
       "      <td>0</td>\n",
       "      <td>0</td>\n",
       "      <td>0</td>\n",
       "      <td>0</td>\n",
       "      <td>0</td>\n",
       "      <td>0</td>\n",
       "      <td>0</td>\n",
       "      <td>...</td>\n",
       "      <td>0</td>\n",
       "      <td>0</td>\n",
       "      <td>0</td>\n",
       "      <td>0</td>\n",
       "      <td>0</td>\n",
       "      <td>0</td>\n",
       "      <td>0</td>\n",
       "      <td>0</td>\n",
       "      <td>0</td>\n",
       "      <td>0</td>\n",
       "    </tr>\n",
       "    <tr>\n",
       "      <th>1</th>\n",
       "      <td>0</td>\n",
       "      <td>0</td>\n",
       "      <td>0</td>\n",
       "      <td>0</td>\n",
       "      <td>0</td>\n",
       "      <td>0</td>\n",
       "      <td>0</td>\n",
       "      <td>0</td>\n",
       "      <td>0</td>\n",
       "      <td>0</td>\n",
       "      <td>...</td>\n",
       "      <td>0</td>\n",
       "      <td>0</td>\n",
       "      <td>0</td>\n",
       "      <td>0</td>\n",
       "      <td>0</td>\n",
       "      <td>0</td>\n",
       "      <td>0</td>\n",
       "      <td>0</td>\n",
       "      <td>0</td>\n",
       "      <td>0</td>\n",
       "    </tr>\n",
       "    <tr>\n",
       "      <th>2</th>\n",
       "      <td>0</td>\n",
       "      <td>0</td>\n",
       "      <td>0</td>\n",
       "      <td>0</td>\n",
       "      <td>0</td>\n",
       "      <td>0</td>\n",
       "      <td>0</td>\n",
       "      <td>0</td>\n",
       "      <td>0</td>\n",
       "      <td>0</td>\n",
       "      <td>...</td>\n",
       "      <td>0</td>\n",
       "      <td>0</td>\n",
       "      <td>0</td>\n",
       "      <td>0</td>\n",
       "      <td>0</td>\n",
       "      <td>0</td>\n",
       "      <td>0</td>\n",
       "      <td>0</td>\n",
       "      <td>0</td>\n",
       "      <td>0</td>\n",
       "    </tr>\n",
       "    <tr>\n",
       "      <th>3</th>\n",
       "      <td>0</td>\n",
       "      <td>0</td>\n",
       "      <td>0</td>\n",
       "      <td>0</td>\n",
       "      <td>0</td>\n",
       "      <td>0</td>\n",
       "      <td>0</td>\n",
       "      <td>0</td>\n",
       "      <td>0</td>\n",
       "      <td>0</td>\n",
       "      <td>...</td>\n",
       "      <td>0</td>\n",
       "      <td>0</td>\n",
       "      <td>0</td>\n",
       "      <td>0</td>\n",
       "      <td>0</td>\n",
       "      <td>0</td>\n",
       "      <td>0</td>\n",
       "      <td>0</td>\n",
       "      <td>0</td>\n",
       "      <td>0</td>\n",
       "    </tr>\n",
       "    <tr>\n",
       "      <th>4</th>\n",
       "      <td>0</td>\n",
       "      <td>0</td>\n",
       "      <td>0</td>\n",
       "      <td>0</td>\n",
       "      <td>0</td>\n",
       "      <td>0</td>\n",
       "      <td>0</td>\n",
       "      <td>0</td>\n",
       "      <td>0</td>\n",
       "      <td>0</td>\n",
       "      <td>...</td>\n",
       "      <td>0</td>\n",
       "      <td>0</td>\n",
       "      <td>0</td>\n",
       "      <td>0</td>\n",
       "      <td>0</td>\n",
       "      <td>0</td>\n",
       "      <td>0</td>\n",
       "      <td>0</td>\n",
       "      <td>0</td>\n",
       "      <td>0</td>\n",
       "    </tr>\n",
       "    <tr>\n",
       "      <th>...</th>\n",
       "      <td>...</td>\n",
       "      <td>...</td>\n",
       "      <td>...</td>\n",
       "      <td>...</td>\n",
       "      <td>...</td>\n",
       "      <td>...</td>\n",
       "      <td>...</td>\n",
       "      <td>...</td>\n",
       "      <td>...</td>\n",
       "      <td>...</td>\n",
       "      <td>...</td>\n",
       "      <td>...</td>\n",
       "      <td>...</td>\n",
       "      <td>...</td>\n",
       "      <td>...</td>\n",
       "      <td>...</td>\n",
       "      <td>...</td>\n",
       "      <td>...</td>\n",
       "      <td>...</td>\n",
       "      <td>...</td>\n",
       "      <td>...</td>\n",
       "    </tr>\n",
       "    <tr>\n",
       "      <th>59995</th>\n",
       "      <td>0</td>\n",
       "      <td>0</td>\n",
       "      <td>0</td>\n",
       "      <td>0</td>\n",
       "      <td>0</td>\n",
       "      <td>0</td>\n",
       "      <td>0</td>\n",
       "      <td>0</td>\n",
       "      <td>0</td>\n",
       "      <td>0</td>\n",
       "      <td>...</td>\n",
       "      <td>0</td>\n",
       "      <td>0</td>\n",
       "      <td>0</td>\n",
       "      <td>0</td>\n",
       "      <td>0</td>\n",
       "      <td>0</td>\n",
       "      <td>0</td>\n",
       "      <td>0</td>\n",
       "      <td>0</td>\n",
       "      <td>0</td>\n",
       "    </tr>\n",
       "    <tr>\n",
       "      <th>59996</th>\n",
       "      <td>0</td>\n",
       "      <td>0</td>\n",
       "      <td>0</td>\n",
       "      <td>0</td>\n",
       "      <td>0</td>\n",
       "      <td>0</td>\n",
       "      <td>0</td>\n",
       "      <td>0</td>\n",
       "      <td>0</td>\n",
       "      <td>0</td>\n",
       "      <td>...</td>\n",
       "      <td>0</td>\n",
       "      <td>0</td>\n",
       "      <td>0</td>\n",
       "      <td>0</td>\n",
       "      <td>0</td>\n",
       "      <td>0</td>\n",
       "      <td>0</td>\n",
       "      <td>0</td>\n",
       "      <td>0</td>\n",
       "      <td>0</td>\n",
       "    </tr>\n",
       "    <tr>\n",
       "      <th>59997</th>\n",
       "      <td>0</td>\n",
       "      <td>0</td>\n",
       "      <td>0</td>\n",
       "      <td>0</td>\n",
       "      <td>0</td>\n",
       "      <td>0</td>\n",
       "      <td>0</td>\n",
       "      <td>0</td>\n",
       "      <td>0</td>\n",
       "      <td>0</td>\n",
       "      <td>...</td>\n",
       "      <td>0</td>\n",
       "      <td>0</td>\n",
       "      <td>0</td>\n",
       "      <td>0</td>\n",
       "      <td>0</td>\n",
       "      <td>0</td>\n",
       "      <td>0</td>\n",
       "      <td>0</td>\n",
       "      <td>0</td>\n",
       "      <td>0</td>\n",
       "    </tr>\n",
       "    <tr>\n",
       "      <th>59998</th>\n",
       "      <td>0</td>\n",
       "      <td>0</td>\n",
       "      <td>0</td>\n",
       "      <td>0</td>\n",
       "      <td>0</td>\n",
       "      <td>0</td>\n",
       "      <td>0</td>\n",
       "      <td>0</td>\n",
       "      <td>0</td>\n",
       "      <td>0</td>\n",
       "      <td>...</td>\n",
       "      <td>0</td>\n",
       "      <td>0</td>\n",
       "      <td>0</td>\n",
       "      <td>0</td>\n",
       "      <td>0</td>\n",
       "      <td>0</td>\n",
       "      <td>0</td>\n",
       "      <td>0</td>\n",
       "      <td>0</td>\n",
       "      <td>0</td>\n",
       "    </tr>\n",
       "    <tr>\n",
       "      <th>59999</th>\n",
       "      <td>0</td>\n",
       "      <td>0</td>\n",
       "      <td>0</td>\n",
       "      <td>0</td>\n",
       "      <td>0</td>\n",
       "      <td>0</td>\n",
       "      <td>0</td>\n",
       "      <td>0</td>\n",
       "      <td>0</td>\n",
       "      <td>0</td>\n",
       "      <td>...</td>\n",
       "      <td>0</td>\n",
       "      <td>0</td>\n",
       "      <td>0</td>\n",
       "      <td>0</td>\n",
       "      <td>0</td>\n",
       "      <td>0</td>\n",
       "      <td>0</td>\n",
       "      <td>0</td>\n",
       "      <td>0</td>\n",
       "      <td>0</td>\n",
       "    </tr>\n",
       "  </tbody>\n",
       "</table>\n",
       "<p>60000 rows × 784 columns</p>\n",
       "</div>"
      ],
      "text/plain": [
       "       0    1    2    3    4    5    6    7    8    9    ...  774  775  776  \\\n",
       "0        0    0    0    0    0    0    0    0    0    0  ...    0    0    0   \n",
       "1        0    0    0    0    0    0    0    0    0    0  ...    0    0    0   \n",
       "2        0    0    0    0    0    0    0    0    0    0  ...    0    0    0   \n",
       "3        0    0    0    0    0    0    0    0    0    0  ...    0    0    0   \n",
       "4        0    0    0    0    0    0    0    0    0    0  ...    0    0    0   \n",
       "...    ...  ...  ...  ...  ...  ...  ...  ...  ...  ...  ...  ...  ...  ...   \n",
       "59995    0    0    0    0    0    0    0    0    0    0  ...    0    0    0   \n",
       "59996    0    0    0    0    0    0    0    0    0    0  ...    0    0    0   \n",
       "59997    0    0    0    0    0    0    0    0    0    0  ...    0    0    0   \n",
       "59998    0    0    0    0    0    0    0    0    0    0  ...    0    0    0   \n",
       "59999    0    0    0    0    0    0    0    0    0    0  ...    0    0    0   \n",
       "\n",
       "       777  778  779  780  781  782  783  \n",
       "0        0    0    0    0    0    0    0  \n",
       "1        0    0    0    0    0    0    0  \n",
       "2        0    0    0    0    0    0    0  \n",
       "3        0    0    0    0    0    0    0  \n",
       "4        0    0    0    0    0    0    0  \n",
       "...    ...  ...  ...  ...  ...  ...  ...  \n",
       "59995    0    0    0    0    0    0    0  \n",
       "59996    0    0    0    0    0    0    0  \n",
       "59997    0    0    0    0    0    0    0  \n",
       "59998    0    0    0    0    0    0    0  \n",
       "59999    0    0    0    0    0    0    0  \n",
       "\n",
       "[60000 rows x 784 columns]"
      ]
     },
     "execution_count": 4,
     "metadata": {},
     "output_type": "execute_result"
    }
   ],
   "source": [
    "df1"
   ]
  },
  {
   "cell_type": "code",
   "execution_count": 5,
   "id": "e5fb2452",
   "metadata": {},
   "outputs": [],
   "source": [
    "df1_target = pd.DataFrame(y_train)"
   ]
  },
  {
   "cell_type": "code",
   "execution_count": 6,
   "id": "90285008",
   "metadata": {},
   "outputs": [
    {
     "data": {
      "text/html": [
       "<div>\n",
       "<style scoped>\n",
       "    .dataframe tbody tr th:only-of-type {\n",
       "        vertical-align: middle;\n",
       "    }\n",
       "\n",
       "    .dataframe tbody tr th {\n",
       "        vertical-align: top;\n",
       "    }\n",
       "\n",
       "    .dataframe thead th {\n",
       "        text-align: right;\n",
       "    }\n",
       "</style>\n",
       "<table border=\"1\" class=\"dataframe\">\n",
       "  <thead>\n",
       "    <tr style=\"text-align: right;\">\n",
       "      <th></th>\n",
       "      <th>0</th>\n",
       "    </tr>\n",
       "  </thead>\n",
       "  <tbody>\n",
       "    <tr>\n",
       "      <th>0</th>\n",
       "      <td>5</td>\n",
       "    </tr>\n",
       "    <tr>\n",
       "      <th>1</th>\n",
       "      <td>0</td>\n",
       "    </tr>\n",
       "    <tr>\n",
       "      <th>2</th>\n",
       "      <td>4</td>\n",
       "    </tr>\n",
       "    <tr>\n",
       "      <th>3</th>\n",
       "      <td>1</td>\n",
       "    </tr>\n",
       "    <tr>\n",
       "      <th>4</th>\n",
       "      <td>9</td>\n",
       "    </tr>\n",
       "    <tr>\n",
       "      <th>...</th>\n",
       "      <td>...</td>\n",
       "    </tr>\n",
       "    <tr>\n",
       "      <th>59995</th>\n",
       "      <td>8</td>\n",
       "    </tr>\n",
       "    <tr>\n",
       "      <th>59996</th>\n",
       "      <td>3</td>\n",
       "    </tr>\n",
       "    <tr>\n",
       "      <th>59997</th>\n",
       "      <td>5</td>\n",
       "    </tr>\n",
       "    <tr>\n",
       "      <th>59998</th>\n",
       "      <td>6</td>\n",
       "    </tr>\n",
       "    <tr>\n",
       "      <th>59999</th>\n",
       "      <td>8</td>\n",
       "    </tr>\n",
       "  </tbody>\n",
       "</table>\n",
       "<p>60000 rows × 1 columns</p>\n",
       "</div>"
      ],
      "text/plain": [
       "       0\n",
       "0      5\n",
       "1      0\n",
       "2      4\n",
       "3      1\n",
       "4      9\n",
       "...   ..\n",
       "59995  8\n",
       "59996  3\n",
       "59997  5\n",
       "59998  6\n",
       "59999  8\n",
       "\n",
       "[60000 rows x 1 columns]"
      ]
     },
     "execution_count": 6,
     "metadata": {},
     "output_type": "execute_result"
    }
   ],
   "source": [
    "df1_target"
   ]
  },
  {
   "cell_type": "code",
   "execution_count": 7,
   "id": "70101328",
   "metadata": {},
   "outputs": [
    {
     "data": {
      "text/html": [
       "<div>\n",
       "<style scoped>\n",
       "    .dataframe tbody tr th:only-of-type {\n",
       "        vertical-align: middle;\n",
       "    }\n",
       "\n",
       "    .dataframe tbody tr th {\n",
       "        vertical-align: top;\n",
       "    }\n",
       "\n",
       "    .dataframe thead th {\n",
       "        text-align: right;\n",
       "    }\n",
       "</style>\n",
       "<table border=\"1\" class=\"dataframe\">\n",
       "  <thead>\n",
       "    <tr style=\"text-align: right;\">\n",
       "      <th></th>\n",
       "      <th>0</th>\n",
       "      <th>1</th>\n",
       "      <th>2</th>\n",
       "      <th>3</th>\n",
       "      <th>4</th>\n",
       "      <th>5</th>\n",
       "      <th>6</th>\n",
       "      <th>7</th>\n",
       "      <th>8</th>\n",
       "      <th>9</th>\n",
       "      <th>...</th>\n",
       "      <th>775</th>\n",
       "      <th>776</th>\n",
       "      <th>777</th>\n",
       "      <th>778</th>\n",
       "      <th>779</th>\n",
       "      <th>780</th>\n",
       "      <th>781</th>\n",
       "      <th>782</th>\n",
       "      <th>783</th>\n",
       "      <th>target</th>\n",
       "    </tr>\n",
       "  </thead>\n",
       "  <tbody>\n",
       "    <tr>\n",
       "      <th>0</th>\n",
       "      <td>0</td>\n",
       "      <td>0</td>\n",
       "      <td>0</td>\n",
       "      <td>0</td>\n",
       "      <td>0</td>\n",
       "      <td>0</td>\n",
       "      <td>0</td>\n",
       "      <td>0</td>\n",
       "      <td>0</td>\n",
       "      <td>0</td>\n",
       "      <td>...</td>\n",
       "      <td>0</td>\n",
       "      <td>0</td>\n",
       "      <td>0</td>\n",
       "      <td>0</td>\n",
       "      <td>0</td>\n",
       "      <td>0</td>\n",
       "      <td>0</td>\n",
       "      <td>0</td>\n",
       "      <td>0</td>\n",
       "      <td>5</td>\n",
       "    </tr>\n",
       "    <tr>\n",
       "      <th>1</th>\n",
       "      <td>0</td>\n",
       "      <td>0</td>\n",
       "      <td>0</td>\n",
       "      <td>0</td>\n",
       "      <td>0</td>\n",
       "      <td>0</td>\n",
       "      <td>0</td>\n",
       "      <td>0</td>\n",
       "      <td>0</td>\n",
       "      <td>0</td>\n",
       "      <td>...</td>\n",
       "      <td>0</td>\n",
       "      <td>0</td>\n",
       "      <td>0</td>\n",
       "      <td>0</td>\n",
       "      <td>0</td>\n",
       "      <td>0</td>\n",
       "      <td>0</td>\n",
       "      <td>0</td>\n",
       "      <td>0</td>\n",
       "      <td>0</td>\n",
       "    </tr>\n",
       "    <tr>\n",
       "      <th>2</th>\n",
       "      <td>0</td>\n",
       "      <td>0</td>\n",
       "      <td>0</td>\n",
       "      <td>0</td>\n",
       "      <td>0</td>\n",
       "      <td>0</td>\n",
       "      <td>0</td>\n",
       "      <td>0</td>\n",
       "      <td>0</td>\n",
       "      <td>0</td>\n",
       "      <td>...</td>\n",
       "      <td>0</td>\n",
       "      <td>0</td>\n",
       "      <td>0</td>\n",
       "      <td>0</td>\n",
       "      <td>0</td>\n",
       "      <td>0</td>\n",
       "      <td>0</td>\n",
       "      <td>0</td>\n",
       "      <td>0</td>\n",
       "      <td>4</td>\n",
       "    </tr>\n",
       "    <tr>\n",
       "      <th>3</th>\n",
       "      <td>0</td>\n",
       "      <td>0</td>\n",
       "      <td>0</td>\n",
       "      <td>0</td>\n",
       "      <td>0</td>\n",
       "      <td>0</td>\n",
       "      <td>0</td>\n",
       "      <td>0</td>\n",
       "      <td>0</td>\n",
       "      <td>0</td>\n",
       "      <td>...</td>\n",
       "      <td>0</td>\n",
       "      <td>0</td>\n",
       "      <td>0</td>\n",
       "      <td>0</td>\n",
       "      <td>0</td>\n",
       "      <td>0</td>\n",
       "      <td>0</td>\n",
       "      <td>0</td>\n",
       "      <td>0</td>\n",
       "      <td>1</td>\n",
       "    </tr>\n",
       "    <tr>\n",
       "      <th>4</th>\n",
       "      <td>0</td>\n",
       "      <td>0</td>\n",
       "      <td>0</td>\n",
       "      <td>0</td>\n",
       "      <td>0</td>\n",
       "      <td>0</td>\n",
       "      <td>0</td>\n",
       "      <td>0</td>\n",
       "      <td>0</td>\n",
       "      <td>0</td>\n",
       "      <td>...</td>\n",
       "      <td>0</td>\n",
       "      <td>0</td>\n",
       "      <td>0</td>\n",
       "      <td>0</td>\n",
       "      <td>0</td>\n",
       "      <td>0</td>\n",
       "      <td>0</td>\n",
       "      <td>0</td>\n",
       "      <td>0</td>\n",
       "      <td>9</td>\n",
       "    </tr>\n",
       "  </tbody>\n",
       "</table>\n",
       "<p>5 rows × 785 columns</p>\n",
       "</div>"
      ],
      "text/plain": [
       "   0  1  2  3  4  5  6  7  8  9  ...  775  776  777  778  779  780  781  782  \\\n",
       "0  0  0  0  0  0  0  0  0  0  0  ...    0    0    0    0    0    0    0    0   \n",
       "1  0  0  0  0  0  0  0  0  0  0  ...    0    0    0    0    0    0    0    0   \n",
       "2  0  0  0  0  0  0  0  0  0  0  ...    0    0    0    0    0    0    0    0   \n",
       "3  0  0  0  0  0  0  0  0  0  0  ...    0    0    0    0    0    0    0    0   \n",
       "4  0  0  0  0  0  0  0  0  0  0  ...    0    0    0    0    0    0    0    0   \n",
       "\n",
       "   783  target  \n",
       "0    0       5  \n",
       "1    0       0  \n",
       "2    0       4  \n",
       "3    0       1  \n",
       "4    0       9  \n",
       "\n",
       "[5 rows x 785 columns]"
      ]
     },
     "execution_count": 7,
     "metadata": {},
     "output_type": "execute_result"
    }
   ],
   "source": [
    "df1['target'] = df1_target[0]\n",
    "df1.head()"
   ]
  },
  {
   "cell_type": "markdown",
   "id": "42812e09",
   "metadata": {},
   "source": [
    "# We did the merging for X_train and y_train, now lets do it for X_test and y_test"
   ]
  },
  {
   "cell_type": "code",
   "execution_count": 8,
   "id": "267c1a58",
   "metadata": {},
   "outputs": [
    {
     "data": {
      "text/html": [
       "<div>\n",
       "<style scoped>\n",
       "    .dataframe tbody tr th:only-of-type {\n",
       "        vertical-align: middle;\n",
       "    }\n",
       "\n",
       "    .dataframe tbody tr th {\n",
       "        vertical-align: top;\n",
       "    }\n",
       "\n",
       "    .dataframe thead th {\n",
       "        text-align: right;\n",
       "    }\n",
       "</style>\n",
       "<table border=\"1\" class=\"dataframe\">\n",
       "  <thead>\n",
       "    <tr style=\"text-align: right;\">\n",
       "      <th></th>\n",
       "      <th>0</th>\n",
       "      <th>1</th>\n",
       "      <th>2</th>\n",
       "      <th>3</th>\n",
       "      <th>4</th>\n",
       "      <th>5</th>\n",
       "      <th>6</th>\n",
       "      <th>7</th>\n",
       "      <th>8</th>\n",
       "      <th>9</th>\n",
       "      <th>...</th>\n",
       "      <th>775</th>\n",
       "      <th>776</th>\n",
       "      <th>777</th>\n",
       "      <th>778</th>\n",
       "      <th>779</th>\n",
       "      <th>780</th>\n",
       "      <th>781</th>\n",
       "      <th>782</th>\n",
       "      <th>783</th>\n",
       "      <th>target</th>\n",
       "    </tr>\n",
       "  </thead>\n",
       "  <tbody>\n",
       "    <tr>\n",
       "      <th>0</th>\n",
       "      <td>0</td>\n",
       "      <td>0</td>\n",
       "      <td>0</td>\n",
       "      <td>0</td>\n",
       "      <td>0</td>\n",
       "      <td>0</td>\n",
       "      <td>0</td>\n",
       "      <td>0</td>\n",
       "      <td>0</td>\n",
       "      <td>0</td>\n",
       "      <td>...</td>\n",
       "      <td>0</td>\n",
       "      <td>0</td>\n",
       "      <td>0</td>\n",
       "      <td>0</td>\n",
       "      <td>0</td>\n",
       "      <td>0</td>\n",
       "      <td>0</td>\n",
       "      <td>0</td>\n",
       "      <td>0</td>\n",
       "      <td>7</td>\n",
       "    </tr>\n",
       "    <tr>\n",
       "      <th>1</th>\n",
       "      <td>0</td>\n",
       "      <td>0</td>\n",
       "      <td>0</td>\n",
       "      <td>0</td>\n",
       "      <td>0</td>\n",
       "      <td>0</td>\n",
       "      <td>0</td>\n",
       "      <td>0</td>\n",
       "      <td>0</td>\n",
       "      <td>0</td>\n",
       "      <td>...</td>\n",
       "      <td>0</td>\n",
       "      <td>0</td>\n",
       "      <td>0</td>\n",
       "      <td>0</td>\n",
       "      <td>0</td>\n",
       "      <td>0</td>\n",
       "      <td>0</td>\n",
       "      <td>0</td>\n",
       "      <td>0</td>\n",
       "      <td>2</td>\n",
       "    </tr>\n",
       "    <tr>\n",
       "      <th>2</th>\n",
       "      <td>0</td>\n",
       "      <td>0</td>\n",
       "      <td>0</td>\n",
       "      <td>0</td>\n",
       "      <td>0</td>\n",
       "      <td>0</td>\n",
       "      <td>0</td>\n",
       "      <td>0</td>\n",
       "      <td>0</td>\n",
       "      <td>0</td>\n",
       "      <td>...</td>\n",
       "      <td>0</td>\n",
       "      <td>0</td>\n",
       "      <td>0</td>\n",
       "      <td>0</td>\n",
       "      <td>0</td>\n",
       "      <td>0</td>\n",
       "      <td>0</td>\n",
       "      <td>0</td>\n",
       "      <td>0</td>\n",
       "      <td>1</td>\n",
       "    </tr>\n",
       "    <tr>\n",
       "      <th>3</th>\n",
       "      <td>0</td>\n",
       "      <td>0</td>\n",
       "      <td>0</td>\n",
       "      <td>0</td>\n",
       "      <td>0</td>\n",
       "      <td>0</td>\n",
       "      <td>0</td>\n",
       "      <td>0</td>\n",
       "      <td>0</td>\n",
       "      <td>0</td>\n",
       "      <td>...</td>\n",
       "      <td>0</td>\n",
       "      <td>0</td>\n",
       "      <td>0</td>\n",
       "      <td>0</td>\n",
       "      <td>0</td>\n",
       "      <td>0</td>\n",
       "      <td>0</td>\n",
       "      <td>0</td>\n",
       "      <td>0</td>\n",
       "      <td>0</td>\n",
       "    </tr>\n",
       "    <tr>\n",
       "      <th>4</th>\n",
       "      <td>0</td>\n",
       "      <td>0</td>\n",
       "      <td>0</td>\n",
       "      <td>0</td>\n",
       "      <td>0</td>\n",
       "      <td>0</td>\n",
       "      <td>0</td>\n",
       "      <td>0</td>\n",
       "      <td>0</td>\n",
       "      <td>0</td>\n",
       "      <td>...</td>\n",
       "      <td>0</td>\n",
       "      <td>0</td>\n",
       "      <td>0</td>\n",
       "      <td>0</td>\n",
       "      <td>0</td>\n",
       "      <td>0</td>\n",
       "      <td>0</td>\n",
       "      <td>0</td>\n",
       "      <td>0</td>\n",
       "      <td>4</td>\n",
       "    </tr>\n",
       "  </tbody>\n",
       "</table>\n",
       "<p>5 rows × 785 columns</p>\n",
       "</div>"
      ],
      "text/plain": [
       "   0  1  2  3  4  5  6  7  8  9  ...  775  776  777  778  779  780  781  782  \\\n",
       "0  0  0  0  0  0  0  0  0  0  0  ...    0    0    0    0    0    0    0    0   \n",
       "1  0  0  0  0  0  0  0  0  0  0  ...    0    0    0    0    0    0    0    0   \n",
       "2  0  0  0  0  0  0  0  0  0  0  ...    0    0    0    0    0    0    0    0   \n",
       "3  0  0  0  0  0  0  0  0  0  0  ...    0    0    0    0    0    0    0    0   \n",
       "4  0  0  0  0  0  0  0  0  0  0  ...    0    0    0    0    0    0    0    0   \n",
       "\n",
       "   783  target  \n",
       "0    0       7  \n",
       "1    0       2  \n",
       "2    0       1  \n",
       "3    0       0  \n",
       "4    0       4  \n",
       "\n",
       "[5 rows x 785 columns]"
      ]
     },
     "execution_count": 8,
     "metadata": {},
     "output_type": "execute_result"
    }
   ],
   "source": [
    "x_test2 = x_test.reshape(len(x_test), 28 * 28)\n",
    "df2 = pd.DataFrame(x_test2)\n",
    "df2_target = pd.DataFrame(y_test)\n",
    "df2['target'] = df2_target[0]\n",
    "df2.head()\n",
    "\n",
    "##MERGING HAS BEEN DONE. WE NOW HAVE DF1 and DF2"
   ]
  },
  {
   "cell_type": "code",
   "execution_count": 9,
   "id": "abcf9ad0",
   "metadata": {},
   "outputs": [
    {
     "data": {
      "text/html": [
       "<div>\n",
       "<style scoped>\n",
       "    .dataframe tbody tr th:only-of-type {\n",
       "        vertical-align: middle;\n",
       "    }\n",
       "\n",
       "    .dataframe tbody tr th {\n",
       "        vertical-align: top;\n",
       "    }\n",
       "\n",
       "    .dataframe thead th {\n",
       "        text-align: right;\n",
       "    }\n",
       "</style>\n",
       "<table border=\"1\" class=\"dataframe\">\n",
       "  <thead>\n",
       "    <tr style=\"text-align: right;\">\n",
       "      <th></th>\n",
       "      <th>0</th>\n",
       "      <th>1</th>\n",
       "      <th>2</th>\n",
       "      <th>3</th>\n",
       "      <th>4</th>\n",
       "      <th>5</th>\n",
       "      <th>6</th>\n",
       "      <th>7</th>\n",
       "      <th>8</th>\n",
       "      <th>9</th>\n",
       "      <th>...</th>\n",
       "      <th>775</th>\n",
       "      <th>776</th>\n",
       "      <th>777</th>\n",
       "      <th>778</th>\n",
       "      <th>779</th>\n",
       "      <th>780</th>\n",
       "      <th>781</th>\n",
       "      <th>782</th>\n",
       "      <th>783</th>\n",
       "      <th>target</th>\n",
       "    </tr>\n",
       "  </thead>\n",
       "  <tbody>\n",
       "    <tr>\n",
       "      <th>0</th>\n",
       "      <td>0</td>\n",
       "      <td>0</td>\n",
       "      <td>0</td>\n",
       "      <td>0</td>\n",
       "      <td>0</td>\n",
       "      <td>0</td>\n",
       "      <td>0</td>\n",
       "      <td>0</td>\n",
       "      <td>0</td>\n",
       "      <td>0</td>\n",
       "      <td>...</td>\n",
       "      <td>0</td>\n",
       "      <td>0</td>\n",
       "      <td>0</td>\n",
       "      <td>0</td>\n",
       "      <td>0</td>\n",
       "      <td>0</td>\n",
       "      <td>0</td>\n",
       "      <td>0</td>\n",
       "      <td>0</td>\n",
       "      <td>5</td>\n",
       "    </tr>\n",
       "    <tr>\n",
       "      <th>1</th>\n",
       "      <td>0</td>\n",
       "      <td>0</td>\n",
       "      <td>0</td>\n",
       "      <td>0</td>\n",
       "      <td>0</td>\n",
       "      <td>0</td>\n",
       "      <td>0</td>\n",
       "      <td>0</td>\n",
       "      <td>0</td>\n",
       "      <td>0</td>\n",
       "      <td>...</td>\n",
       "      <td>0</td>\n",
       "      <td>0</td>\n",
       "      <td>0</td>\n",
       "      <td>0</td>\n",
       "      <td>0</td>\n",
       "      <td>0</td>\n",
       "      <td>0</td>\n",
       "      <td>0</td>\n",
       "      <td>0</td>\n",
       "      <td>0</td>\n",
       "    </tr>\n",
       "    <tr>\n",
       "      <th>2</th>\n",
       "      <td>0</td>\n",
       "      <td>0</td>\n",
       "      <td>0</td>\n",
       "      <td>0</td>\n",
       "      <td>0</td>\n",
       "      <td>0</td>\n",
       "      <td>0</td>\n",
       "      <td>0</td>\n",
       "      <td>0</td>\n",
       "      <td>0</td>\n",
       "      <td>...</td>\n",
       "      <td>0</td>\n",
       "      <td>0</td>\n",
       "      <td>0</td>\n",
       "      <td>0</td>\n",
       "      <td>0</td>\n",
       "      <td>0</td>\n",
       "      <td>0</td>\n",
       "      <td>0</td>\n",
       "      <td>0</td>\n",
       "      <td>4</td>\n",
       "    </tr>\n",
       "    <tr>\n",
       "      <th>3</th>\n",
       "      <td>0</td>\n",
       "      <td>0</td>\n",
       "      <td>0</td>\n",
       "      <td>0</td>\n",
       "      <td>0</td>\n",
       "      <td>0</td>\n",
       "      <td>0</td>\n",
       "      <td>0</td>\n",
       "      <td>0</td>\n",
       "      <td>0</td>\n",
       "      <td>...</td>\n",
       "      <td>0</td>\n",
       "      <td>0</td>\n",
       "      <td>0</td>\n",
       "      <td>0</td>\n",
       "      <td>0</td>\n",
       "      <td>0</td>\n",
       "      <td>0</td>\n",
       "      <td>0</td>\n",
       "      <td>0</td>\n",
       "      <td>1</td>\n",
       "    </tr>\n",
       "    <tr>\n",
       "      <th>4</th>\n",
       "      <td>0</td>\n",
       "      <td>0</td>\n",
       "      <td>0</td>\n",
       "      <td>0</td>\n",
       "      <td>0</td>\n",
       "      <td>0</td>\n",
       "      <td>0</td>\n",
       "      <td>0</td>\n",
       "      <td>0</td>\n",
       "      <td>0</td>\n",
       "      <td>...</td>\n",
       "      <td>0</td>\n",
       "      <td>0</td>\n",
       "      <td>0</td>\n",
       "      <td>0</td>\n",
       "      <td>0</td>\n",
       "      <td>0</td>\n",
       "      <td>0</td>\n",
       "      <td>0</td>\n",
       "      <td>0</td>\n",
       "      <td>9</td>\n",
       "    </tr>\n",
       "    <tr>\n",
       "      <th>...</th>\n",
       "      <td>...</td>\n",
       "      <td>...</td>\n",
       "      <td>...</td>\n",
       "      <td>...</td>\n",
       "      <td>...</td>\n",
       "      <td>...</td>\n",
       "      <td>...</td>\n",
       "      <td>...</td>\n",
       "      <td>...</td>\n",
       "      <td>...</td>\n",
       "      <td>...</td>\n",
       "      <td>...</td>\n",
       "      <td>...</td>\n",
       "      <td>...</td>\n",
       "      <td>...</td>\n",
       "      <td>...</td>\n",
       "      <td>...</td>\n",
       "      <td>...</td>\n",
       "      <td>...</td>\n",
       "      <td>...</td>\n",
       "      <td>...</td>\n",
       "    </tr>\n",
       "    <tr>\n",
       "      <th>69995</th>\n",
       "      <td>0</td>\n",
       "      <td>0</td>\n",
       "      <td>0</td>\n",
       "      <td>0</td>\n",
       "      <td>0</td>\n",
       "      <td>0</td>\n",
       "      <td>0</td>\n",
       "      <td>0</td>\n",
       "      <td>0</td>\n",
       "      <td>0</td>\n",
       "      <td>...</td>\n",
       "      <td>0</td>\n",
       "      <td>0</td>\n",
       "      <td>0</td>\n",
       "      <td>0</td>\n",
       "      <td>0</td>\n",
       "      <td>0</td>\n",
       "      <td>0</td>\n",
       "      <td>0</td>\n",
       "      <td>0</td>\n",
       "      <td>2</td>\n",
       "    </tr>\n",
       "    <tr>\n",
       "      <th>69996</th>\n",
       "      <td>0</td>\n",
       "      <td>0</td>\n",
       "      <td>0</td>\n",
       "      <td>0</td>\n",
       "      <td>0</td>\n",
       "      <td>0</td>\n",
       "      <td>0</td>\n",
       "      <td>0</td>\n",
       "      <td>0</td>\n",
       "      <td>0</td>\n",
       "      <td>...</td>\n",
       "      <td>0</td>\n",
       "      <td>0</td>\n",
       "      <td>0</td>\n",
       "      <td>0</td>\n",
       "      <td>0</td>\n",
       "      <td>0</td>\n",
       "      <td>0</td>\n",
       "      <td>0</td>\n",
       "      <td>0</td>\n",
       "      <td>3</td>\n",
       "    </tr>\n",
       "    <tr>\n",
       "      <th>69997</th>\n",
       "      <td>0</td>\n",
       "      <td>0</td>\n",
       "      <td>0</td>\n",
       "      <td>0</td>\n",
       "      <td>0</td>\n",
       "      <td>0</td>\n",
       "      <td>0</td>\n",
       "      <td>0</td>\n",
       "      <td>0</td>\n",
       "      <td>0</td>\n",
       "      <td>...</td>\n",
       "      <td>0</td>\n",
       "      <td>0</td>\n",
       "      <td>0</td>\n",
       "      <td>0</td>\n",
       "      <td>0</td>\n",
       "      <td>0</td>\n",
       "      <td>0</td>\n",
       "      <td>0</td>\n",
       "      <td>0</td>\n",
       "      <td>4</td>\n",
       "    </tr>\n",
       "    <tr>\n",
       "      <th>69998</th>\n",
       "      <td>0</td>\n",
       "      <td>0</td>\n",
       "      <td>0</td>\n",
       "      <td>0</td>\n",
       "      <td>0</td>\n",
       "      <td>0</td>\n",
       "      <td>0</td>\n",
       "      <td>0</td>\n",
       "      <td>0</td>\n",
       "      <td>0</td>\n",
       "      <td>...</td>\n",
       "      <td>0</td>\n",
       "      <td>0</td>\n",
       "      <td>0</td>\n",
       "      <td>0</td>\n",
       "      <td>0</td>\n",
       "      <td>0</td>\n",
       "      <td>0</td>\n",
       "      <td>0</td>\n",
       "      <td>0</td>\n",
       "      <td>5</td>\n",
       "    </tr>\n",
       "    <tr>\n",
       "      <th>69999</th>\n",
       "      <td>0</td>\n",
       "      <td>0</td>\n",
       "      <td>0</td>\n",
       "      <td>0</td>\n",
       "      <td>0</td>\n",
       "      <td>0</td>\n",
       "      <td>0</td>\n",
       "      <td>0</td>\n",
       "      <td>0</td>\n",
       "      <td>0</td>\n",
       "      <td>...</td>\n",
       "      <td>0</td>\n",
       "      <td>0</td>\n",
       "      <td>0</td>\n",
       "      <td>0</td>\n",
       "      <td>0</td>\n",
       "      <td>0</td>\n",
       "      <td>0</td>\n",
       "      <td>0</td>\n",
       "      <td>0</td>\n",
       "      <td>6</td>\n",
       "    </tr>\n",
       "  </tbody>\n",
       "</table>\n",
       "<p>70000 rows × 785 columns</p>\n",
       "</div>"
      ],
      "text/plain": [
       "       0  1  2  3  4  5  6  7  8  9  ...  775  776  777  778  779  780  781  \\\n",
       "0      0  0  0  0  0  0  0  0  0  0  ...    0    0    0    0    0    0    0   \n",
       "1      0  0  0  0  0  0  0  0  0  0  ...    0    0    0    0    0    0    0   \n",
       "2      0  0  0  0  0  0  0  0  0  0  ...    0    0    0    0    0    0    0   \n",
       "3      0  0  0  0  0  0  0  0  0  0  ...    0    0    0    0    0    0    0   \n",
       "4      0  0  0  0  0  0  0  0  0  0  ...    0    0    0    0    0    0    0   \n",
       "...   .. .. .. .. .. .. .. .. .. ..  ...  ...  ...  ...  ...  ...  ...  ...   \n",
       "69995  0  0  0  0  0  0  0  0  0  0  ...    0    0    0    0    0    0    0   \n",
       "69996  0  0  0  0  0  0  0  0  0  0  ...    0    0    0    0    0    0    0   \n",
       "69997  0  0  0  0  0  0  0  0  0  0  ...    0    0    0    0    0    0    0   \n",
       "69998  0  0  0  0  0  0  0  0  0  0  ...    0    0    0    0    0    0    0   \n",
       "69999  0  0  0  0  0  0  0  0  0  0  ...    0    0    0    0    0    0    0   \n",
       "\n",
       "       782  783  target  \n",
       "0        0    0       5  \n",
       "1        0    0       0  \n",
       "2        0    0       4  \n",
       "3        0    0       1  \n",
       "4        0    0       9  \n",
       "...    ...  ...     ...  \n",
       "69995    0    0       2  \n",
       "69996    0    0       3  \n",
       "69997    0    0       4  \n",
       "69998    0    0       5  \n",
       "69999    0    0       6  \n",
       "\n",
       "[70000 rows x 785 columns]"
      ]
     },
     "execution_count": 9,
     "metadata": {},
     "output_type": "execute_result"
    }
   ],
   "source": [
    "##NOW GETTING THE DF IN WHICH WE WILL MERGE ALL OF THESE\n",
    "df3 = pd.concat([df1, df2], ignore_index = True)\n",
    "df3"
   ]
  },
  {
   "cell_type": "code",
   "execution_count": 10,
   "id": "50d285aa",
   "metadata": {},
   "outputs": [
    {
     "data": {
      "text/html": [
       "<div>\n",
       "<style scoped>\n",
       "    .dataframe tbody tr th:only-of-type {\n",
       "        vertical-align: middle;\n",
       "    }\n",
       "\n",
       "    .dataframe tbody tr th {\n",
       "        vertical-align: top;\n",
       "    }\n",
       "\n",
       "    .dataframe thead th {\n",
       "        text-align: right;\n",
       "    }\n",
       "</style>\n",
       "<table border=\"1\" class=\"dataframe\">\n",
       "  <thead>\n",
       "    <tr style=\"text-align: right;\">\n",
       "      <th></th>\n",
       "      <th>0</th>\n",
       "      <th>1</th>\n",
       "      <th>2</th>\n",
       "      <th>3</th>\n",
       "      <th>4</th>\n",
       "      <th>5</th>\n",
       "      <th>6</th>\n",
       "      <th>7</th>\n",
       "      <th>8</th>\n",
       "      <th>9</th>\n",
       "      <th>...</th>\n",
       "      <th>775</th>\n",
       "      <th>776</th>\n",
       "      <th>777</th>\n",
       "      <th>778</th>\n",
       "      <th>779</th>\n",
       "      <th>780</th>\n",
       "      <th>781</th>\n",
       "      <th>782</th>\n",
       "      <th>783</th>\n",
       "      <th>target</th>\n",
       "    </tr>\n",
       "  </thead>\n",
       "  <tbody>\n",
       "    <tr>\n",
       "      <th>2294</th>\n",
       "      <td>0</td>\n",
       "      <td>0</td>\n",
       "      <td>0</td>\n",
       "      <td>0</td>\n",
       "      <td>0</td>\n",
       "      <td>0</td>\n",
       "      <td>0</td>\n",
       "      <td>0</td>\n",
       "      <td>0</td>\n",
       "      <td>0</td>\n",
       "      <td>...</td>\n",
       "      <td>0</td>\n",
       "      <td>0</td>\n",
       "      <td>0</td>\n",
       "      <td>0</td>\n",
       "      <td>0</td>\n",
       "      <td>0</td>\n",
       "      <td>0</td>\n",
       "      <td>0</td>\n",
       "      <td>0</td>\n",
       "      <td>4</td>\n",
       "    </tr>\n",
       "    <tr>\n",
       "      <th>42341</th>\n",
       "      <td>0</td>\n",
       "      <td>0</td>\n",
       "      <td>0</td>\n",
       "      <td>0</td>\n",
       "      <td>0</td>\n",
       "      <td>0</td>\n",
       "      <td>0</td>\n",
       "      <td>0</td>\n",
       "      <td>0</td>\n",
       "      <td>0</td>\n",
       "      <td>...</td>\n",
       "      <td>0</td>\n",
       "      <td>0</td>\n",
       "      <td>0</td>\n",
       "      <td>0</td>\n",
       "      <td>0</td>\n",
       "      <td>0</td>\n",
       "      <td>0</td>\n",
       "      <td>0</td>\n",
       "      <td>0</td>\n",
       "      <td>2</td>\n",
       "    </tr>\n",
       "    <tr>\n",
       "      <th>45427</th>\n",
       "      <td>0</td>\n",
       "      <td>0</td>\n",
       "      <td>0</td>\n",
       "      <td>0</td>\n",
       "      <td>0</td>\n",
       "      <td>0</td>\n",
       "      <td>0</td>\n",
       "      <td>0</td>\n",
       "      <td>0</td>\n",
       "      <td>0</td>\n",
       "      <td>...</td>\n",
       "      <td>0</td>\n",
       "      <td>0</td>\n",
       "      <td>0</td>\n",
       "      <td>0</td>\n",
       "      <td>0</td>\n",
       "      <td>0</td>\n",
       "      <td>0</td>\n",
       "      <td>0</td>\n",
       "      <td>0</td>\n",
       "      <td>8</td>\n",
       "    </tr>\n",
       "    <tr>\n",
       "      <th>47574</th>\n",
       "      <td>0</td>\n",
       "      <td>0</td>\n",
       "      <td>0</td>\n",
       "      <td>0</td>\n",
       "      <td>0</td>\n",
       "      <td>0</td>\n",
       "      <td>0</td>\n",
       "      <td>0</td>\n",
       "      <td>0</td>\n",
       "      <td>0</td>\n",
       "      <td>...</td>\n",
       "      <td>0</td>\n",
       "      <td>0</td>\n",
       "      <td>0</td>\n",
       "      <td>0</td>\n",
       "      <td>0</td>\n",
       "      <td>0</td>\n",
       "      <td>0</td>\n",
       "      <td>0</td>\n",
       "      <td>0</td>\n",
       "      <td>6</td>\n",
       "    </tr>\n",
       "    <tr>\n",
       "      <th>49490</th>\n",
       "      <td>0</td>\n",
       "      <td>0</td>\n",
       "      <td>0</td>\n",
       "      <td>0</td>\n",
       "      <td>0</td>\n",
       "      <td>0</td>\n",
       "      <td>0</td>\n",
       "      <td>0</td>\n",
       "      <td>0</td>\n",
       "      <td>0</td>\n",
       "      <td>...</td>\n",
       "      <td>0</td>\n",
       "      <td>0</td>\n",
       "      <td>0</td>\n",
       "      <td>0</td>\n",
       "      <td>0</td>\n",
       "      <td>0</td>\n",
       "      <td>0</td>\n",
       "      <td>0</td>\n",
       "      <td>0</td>\n",
       "      <td>5</td>\n",
       "    </tr>\n",
       "    <tr>\n",
       "      <th>...</th>\n",
       "      <td>...</td>\n",
       "      <td>...</td>\n",
       "      <td>...</td>\n",
       "      <td>...</td>\n",
       "      <td>...</td>\n",
       "      <td>...</td>\n",
       "      <td>...</td>\n",
       "      <td>...</td>\n",
       "      <td>...</td>\n",
       "      <td>...</td>\n",
       "      <td>...</td>\n",
       "      <td>...</td>\n",
       "      <td>...</td>\n",
       "      <td>...</td>\n",
       "      <td>...</td>\n",
       "      <td>...</td>\n",
       "      <td>...</td>\n",
       "      <td>...</td>\n",
       "      <td>...</td>\n",
       "      <td>...</td>\n",
       "      <td>...</td>\n",
       "    </tr>\n",
       "    <tr>\n",
       "      <th>3264</th>\n",
       "      <td>0</td>\n",
       "      <td>0</td>\n",
       "      <td>0</td>\n",
       "      <td>0</td>\n",
       "      <td>0</td>\n",
       "      <td>0</td>\n",
       "      <td>0</td>\n",
       "      <td>0</td>\n",
       "      <td>0</td>\n",
       "      <td>0</td>\n",
       "      <td>...</td>\n",
       "      <td>0</td>\n",
       "      <td>0</td>\n",
       "      <td>0</td>\n",
       "      <td>0</td>\n",
       "      <td>0</td>\n",
       "      <td>0</td>\n",
       "      <td>0</td>\n",
       "      <td>0</td>\n",
       "      <td>0</td>\n",
       "      <td>3</td>\n",
       "    </tr>\n",
       "    <tr>\n",
       "      <th>64875</th>\n",
       "      <td>0</td>\n",
       "      <td>0</td>\n",
       "      <td>0</td>\n",
       "      <td>0</td>\n",
       "      <td>0</td>\n",
       "      <td>0</td>\n",
       "      <td>0</td>\n",
       "      <td>0</td>\n",
       "      <td>0</td>\n",
       "      <td>0</td>\n",
       "      <td>...</td>\n",
       "      <td>0</td>\n",
       "      <td>0</td>\n",
       "      <td>0</td>\n",
       "      <td>0</td>\n",
       "      <td>0</td>\n",
       "      <td>0</td>\n",
       "      <td>0</td>\n",
       "      <td>0</td>\n",
       "      <td>0</td>\n",
       "      <td>6</td>\n",
       "    </tr>\n",
       "    <tr>\n",
       "      <th>17478</th>\n",
       "      <td>0</td>\n",
       "      <td>0</td>\n",
       "      <td>0</td>\n",
       "      <td>0</td>\n",
       "      <td>0</td>\n",
       "      <td>0</td>\n",
       "      <td>0</td>\n",
       "      <td>0</td>\n",
       "      <td>0</td>\n",
       "      <td>0</td>\n",
       "      <td>...</td>\n",
       "      <td>0</td>\n",
       "      <td>0</td>\n",
       "      <td>0</td>\n",
       "      <td>0</td>\n",
       "      <td>0</td>\n",
       "      <td>0</td>\n",
       "      <td>0</td>\n",
       "      <td>0</td>\n",
       "      <td>0</td>\n",
       "      <td>4</td>\n",
       "    </tr>\n",
       "    <tr>\n",
       "      <th>48812</th>\n",
       "      <td>0</td>\n",
       "      <td>0</td>\n",
       "      <td>0</td>\n",
       "      <td>0</td>\n",
       "      <td>0</td>\n",
       "      <td>0</td>\n",
       "      <td>0</td>\n",
       "      <td>0</td>\n",
       "      <td>0</td>\n",
       "      <td>0</td>\n",
       "      <td>...</td>\n",
       "      <td>0</td>\n",
       "      <td>0</td>\n",
       "      <td>0</td>\n",
       "      <td>0</td>\n",
       "      <td>0</td>\n",
       "      <td>0</td>\n",
       "      <td>0</td>\n",
       "      <td>0</td>\n",
       "      <td>0</td>\n",
       "      <td>5</td>\n",
       "    </tr>\n",
       "    <tr>\n",
       "      <th>35109</th>\n",
       "      <td>0</td>\n",
       "      <td>0</td>\n",
       "      <td>0</td>\n",
       "      <td>0</td>\n",
       "      <td>0</td>\n",
       "      <td>0</td>\n",
       "      <td>0</td>\n",
       "      <td>0</td>\n",
       "      <td>0</td>\n",
       "      <td>0</td>\n",
       "      <td>...</td>\n",
       "      <td>0</td>\n",
       "      <td>0</td>\n",
       "      <td>0</td>\n",
       "      <td>0</td>\n",
       "      <td>0</td>\n",
       "      <td>0</td>\n",
       "      <td>0</td>\n",
       "      <td>0</td>\n",
       "      <td>0</td>\n",
       "      <td>1</td>\n",
       "    </tr>\n",
       "  </tbody>\n",
       "</table>\n",
       "<p>46900 rows × 785 columns</p>\n",
       "</div>"
      ],
      "text/plain": [
       "       0  1  2  3  4  5  6  7  8  9  ...  775  776  777  778  779  780  781  \\\n",
       "2294   0  0  0  0  0  0  0  0  0  0  ...    0    0    0    0    0    0    0   \n",
       "42341  0  0  0  0  0  0  0  0  0  0  ...    0    0    0    0    0    0    0   \n",
       "45427  0  0  0  0  0  0  0  0  0  0  ...    0    0    0    0    0    0    0   \n",
       "47574  0  0  0  0  0  0  0  0  0  0  ...    0    0    0    0    0    0    0   \n",
       "49490  0  0  0  0  0  0  0  0  0  0  ...    0    0    0    0    0    0    0   \n",
       "...   .. .. .. .. .. .. .. .. .. ..  ...  ...  ...  ...  ...  ...  ...  ...   \n",
       "3264   0  0  0  0  0  0  0  0  0  0  ...    0    0    0    0    0    0    0   \n",
       "64875  0  0  0  0  0  0  0  0  0  0  ...    0    0    0    0    0    0    0   \n",
       "17478  0  0  0  0  0  0  0  0  0  0  ...    0    0    0    0    0    0    0   \n",
       "48812  0  0  0  0  0  0  0  0  0  0  ...    0    0    0    0    0    0    0   \n",
       "35109  0  0  0  0  0  0  0  0  0  0  ...    0    0    0    0    0    0    0   \n",
       "\n",
       "       782  783  target  \n",
       "2294     0    0       4  \n",
       "42341    0    0       2  \n",
       "45427    0    0       8  \n",
       "47574    0    0       6  \n",
       "49490    0    0       5  \n",
       "...    ...  ...     ...  \n",
       "3264     0    0       3  \n",
       "64875    0    0       6  \n",
       "17478    0    0       4  \n",
       "48812    0    0       5  \n",
       "35109    0    0       1  \n",
       "\n",
       "[46900 rows x 785 columns]"
      ]
     },
     "execution_count": 10,
     "metadata": {},
     "output_type": "execute_result"
    }
   ],
   "source": [
    "# y = df3['target']\n",
    "# y = pd.DataFrame(y)\n",
    "# y.head()\n",
    "df_train = df3.sample(frac=0.67,random_state=6)\n",
    "df_test = df3.drop(df_train.index)\n",
    "df_train"
   ]
  },
  {
   "cell_type": "code",
   "execution_count": 11,
   "id": "a91bbcfd",
   "metadata": {},
   "outputs": [
    {
     "data": {
      "text/html": [
       "<div>\n",
       "<style scoped>\n",
       "    .dataframe tbody tr th:only-of-type {\n",
       "        vertical-align: middle;\n",
       "    }\n",
       "\n",
       "    .dataframe tbody tr th {\n",
       "        vertical-align: top;\n",
       "    }\n",
       "\n",
       "    .dataframe thead th {\n",
       "        text-align: right;\n",
       "    }\n",
       "</style>\n",
       "<table border=\"1\" class=\"dataframe\">\n",
       "  <thead>\n",
       "    <tr style=\"text-align: right;\">\n",
       "      <th></th>\n",
       "      <th>target</th>\n",
       "    </tr>\n",
       "  </thead>\n",
       "  <tbody>\n",
       "    <tr>\n",
       "      <th>2294</th>\n",
       "      <td>4</td>\n",
       "    </tr>\n",
       "    <tr>\n",
       "      <th>42341</th>\n",
       "      <td>2</td>\n",
       "    </tr>\n",
       "    <tr>\n",
       "      <th>45427</th>\n",
       "      <td>8</td>\n",
       "    </tr>\n",
       "    <tr>\n",
       "      <th>47574</th>\n",
       "      <td>6</td>\n",
       "    </tr>\n",
       "    <tr>\n",
       "      <th>49490</th>\n",
       "      <td>5</td>\n",
       "    </tr>\n",
       "  </tbody>\n",
       "</table>\n",
       "</div>"
      ],
      "text/plain": [
       "       target\n",
       "2294        4\n",
       "42341       2\n",
       "45427       8\n",
       "47574       6\n",
       "49490       5"
      ]
     },
     "execution_count": 11,
     "metadata": {},
     "output_type": "execute_result"
    }
   ],
   "source": [
    "y_train = df_train['target']\n",
    "y_train = pd.DataFrame(y_train)\n",
    "y_train.head()\n",
    "# df_train = df_train.drop('target', axis = 1, inplace = True)\n",
    "# df_train.head()"
   ]
  },
  {
   "cell_type": "code",
   "execution_count": 12,
   "id": "b4613f2a",
   "metadata": {},
   "outputs": [],
   "source": [
    "df_train = df_train.drop('target', axis=1)\n"
   ]
  },
  {
   "cell_type": "code",
   "execution_count": 13,
   "id": "e2be42aa",
   "metadata": {},
   "outputs": [
    {
     "data": {
      "text/html": [
       "<div>\n",
       "<style scoped>\n",
       "    .dataframe tbody tr th:only-of-type {\n",
       "        vertical-align: middle;\n",
       "    }\n",
       "\n",
       "    .dataframe tbody tr th {\n",
       "        vertical-align: top;\n",
       "    }\n",
       "\n",
       "    .dataframe thead th {\n",
       "        text-align: right;\n",
       "    }\n",
       "</style>\n",
       "<table border=\"1\" class=\"dataframe\">\n",
       "  <thead>\n",
       "    <tr style=\"text-align: right;\">\n",
       "      <th></th>\n",
       "      <th>0</th>\n",
       "      <th>1</th>\n",
       "      <th>2</th>\n",
       "      <th>3</th>\n",
       "      <th>4</th>\n",
       "      <th>5</th>\n",
       "      <th>6</th>\n",
       "      <th>7</th>\n",
       "      <th>8</th>\n",
       "      <th>9</th>\n",
       "      <th>...</th>\n",
       "      <th>775</th>\n",
       "      <th>776</th>\n",
       "      <th>777</th>\n",
       "      <th>778</th>\n",
       "      <th>779</th>\n",
       "      <th>780</th>\n",
       "      <th>781</th>\n",
       "      <th>782</th>\n",
       "      <th>783</th>\n",
       "      <th>target</th>\n",
       "    </tr>\n",
       "  </thead>\n",
       "  <tbody>\n",
       "    <tr>\n",
       "      <th>0</th>\n",
       "      <td>0</td>\n",
       "      <td>0</td>\n",
       "      <td>0</td>\n",
       "      <td>0</td>\n",
       "      <td>0</td>\n",
       "      <td>0</td>\n",
       "      <td>0</td>\n",
       "      <td>0</td>\n",
       "      <td>0</td>\n",
       "      <td>0</td>\n",
       "      <td>...</td>\n",
       "      <td>0</td>\n",
       "      <td>0</td>\n",
       "      <td>0</td>\n",
       "      <td>0</td>\n",
       "      <td>0</td>\n",
       "      <td>0</td>\n",
       "      <td>0</td>\n",
       "      <td>0</td>\n",
       "      <td>0</td>\n",
       "      <td>5</td>\n",
       "    </tr>\n",
       "    <tr>\n",
       "      <th>3</th>\n",
       "      <td>0</td>\n",
       "      <td>0</td>\n",
       "      <td>0</td>\n",
       "      <td>0</td>\n",
       "      <td>0</td>\n",
       "      <td>0</td>\n",
       "      <td>0</td>\n",
       "      <td>0</td>\n",
       "      <td>0</td>\n",
       "      <td>0</td>\n",
       "      <td>...</td>\n",
       "      <td>0</td>\n",
       "      <td>0</td>\n",
       "      <td>0</td>\n",
       "      <td>0</td>\n",
       "      <td>0</td>\n",
       "      <td>0</td>\n",
       "      <td>0</td>\n",
       "      <td>0</td>\n",
       "      <td>0</td>\n",
       "      <td>1</td>\n",
       "    </tr>\n",
       "    <tr>\n",
       "      <th>5</th>\n",
       "      <td>0</td>\n",
       "      <td>0</td>\n",
       "      <td>0</td>\n",
       "      <td>0</td>\n",
       "      <td>0</td>\n",
       "      <td>0</td>\n",
       "      <td>0</td>\n",
       "      <td>0</td>\n",
       "      <td>0</td>\n",
       "      <td>0</td>\n",
       "      <td>...</td>\n",
       "      <td>0</td>\n",
       "      <td>0</td>\n",
       "      <td>0</td>\n",
       "      <td>0</td>\n",
       "      <td>0</td>\n",
       "      <td>0</td>\n",
       "      <td>0</td>\n",
       "      <td>0</td>\n",
       "      <td>0</td>\n",
       "      <td>2</td>\n",
       "    </tr>\n",
       "    <tr>\n",
       "      <th>6</th>\n",
       "      <td>0</td>\n",
       "      <td>0</td>\n",
       "      <td>0</td>\n",
       "      <td>0</td>\n",
       "      <td>0</td>\n",
       "      <td>0</td>\n",
       "      <td>0</td>\n",
       "      <td>0</td>\n",
       "      <td>0</td>\n",
       "      <td>0</td>\n",
       "      <td>...</td>\n",
       "      <td>0</td>\n",
       "      <td>0</td>\n",
       "      <td>0</td>\n",
       "      <td>0</td>\n",
       "      <td>0</td>\n",
       "      <td>0</td>\n",
       "      <td>0</td>\n",
       "      <td>0</td>\n",
       "      <td>0</td>\n",
       "      <td>1</td>\n",
       "    </tr>\n",
       "    <tr>\n",
       "      <th>10</th>\n",
       "      <td>0</td>\n",
       "      <td>0</td>\n",
       "      <td>0</td>\n",
       "      <td>0</td>\n",
       "      <td>0</td>\n",
       "      <td>0</td>\n",
       "      <td>0</td>\n",
       "      <td>0</td>\n",
       "      <td>0</td>\n",
       "      <td>0</td>\n",
       "      <td>...</td>\n",
       "      <td>0</td>\n",
       "      <td>0</td>\n",
       "      <td>0</td>\n",
       "      <td>0</td>\n",
       "      <td>0</td>\n",
       "      <td>0</td>\n",
       "      <td>0</td>\n",
       "      <td>0</td>\n",
       "      <td>0</td>\n",
       "      <td>3</td>\n",
       "    </tr>\n",
       "    <tr>\n",
       "      <th>...</th>\n",
       "      <td>...</td>\n",
       "      <td>...</td>\n",
       "      <td>...</td>\n",
       "      <td>...</td>\n",
       "      <td>...</td>\n",
       "      <td>...</td>\n",
       "      <td>...</td>\n",
       "      <td>...</td>\n",
       "      <td>...</td>\n",
       "      <td>...</td>\n",
       "      <td>...</td>\n",
       "      <td>...</td>\n",
       "      <td>...</td>\n",
       "      <td>...</td>\n",
       "      <td>...</td>\n",
       "      <td>...</td>\n",
       "      <td>...</td>\n",
       "      <td>...</td>\n",
       "      <td>...</td>\n",
       "      <td>...</td>\n",
       "      <td>...</td>\n",
       "    </tr>\n",
       "    <tr>\n",
       "      <th>69981</th>\n",
       "      <td>0</td>\n",
       "      <td>0</td>\n",
       "      <td>0</td>\n",
       "      <td>0</td>\n",
       "      <td>0</td>\n",
       "      <td>0</td>\n",
       "      <td>0</td>\n",
       "      <td>0</td>\n",
       "      <td>0</td>\n",
       "      <td>0</td>\n",
       "      <td>...</td>\n",
       "      <td>0</td>\n",
       "      <td>0</td>\n",
       "      <td>0</td>\n",
       "      <td>0</td>\n",
       "      <td>0</td>\n",
       "      <td>0</td>\n",
       "      <td>0</td>\n",
       "      <td>0</td>\n",
       "      <td>0</td>\n",
       "      <td>6</td>\n",
       "    </tr>\n",
       "    <tr>\n",
       "      <th>69985</th>\n",
       "      <td>0</td>\n",
       "      <td>0</td>\n",
       "      <td>0</td>\n",
       "      <td>0</td>\n",
       "      <td>0</td>\n",
       "      <td>0</td>\n",
       "      <td>0</td>\n",
       "      <td>0</td>\n",
       "      <td>0</td>\n",
       "      <td>0</td>\n",
       "      <td>...</td>\n",
       "      <td>0</td>\n",
       "      <td>0</td>\n",
       "      <td>0</td>\n",
       "      <td>0</td>\n",
       "      <td>0</td>\n",
       "      <td>0</td>\n",
       "      <td>0</td>\n",
       "      <td>0</td>\n",
       "      <td>0</td>\n",
       "      <td>2</td>\n",
       "    </tr>\n",
       "    <tr>\n",
       "      <th>69987</th>\n",
       "      <td>0</td>\n",
       "      <td>0</td>\n",
       "      <td>0</td>\n",
       "      <td>0</td>\n",
       "      <td>0</td>\n",
       "      <td>0</td>\n",
       "      <td>0</td>\n",
       "      <td>0</td>\n",
       "      <td>0</td>\n",
       "      <td>0</td>\n",
       "      <td>...</td>\n",
       "      <td>0</td>\n",
       "      <td>0</td>\n",
       "      <td>0</td>\n",
       "      <td>0</td>\n",
       "      <td>0</td>\n",
       "      <td>0</td>\n",
       "      <td>0</td>\n",
       "      <td>0</td>\n",
       "      <td>0</td>\n",
       "      <td>4</td>\n",
       "    </tr>\n",
       "    <tr>\n",
       "      <th>69995</th>\n",
       "      <td>0</td>\n",
       "      <td>0</td>\n",
       "      <td>0</td>\n",
       "      <td>0</td>\n",
       "      <td>0</td>\n",
       "      <td>0</td>\n",
       "      <td>0</td>\n",
       "      <td>0</td>\n",
       "      <td>0</td>\n",
       "      <td>0</td>\n",
       "      <td>...</td>\n",
       "      <td>0</td>\n",
       "      <td>0</td>\n",
       "      <td>0</td>\n",
       "      <td>0</td>\n",
       "      <td>0</td>\n",
       "      <td>0</td>\n",
       "      <td>0</td>\n",
       "      <td>0</td>\n",
       "      <td>0</td>\n",
       "      <td>2</td>\n",
       "    </tr>\n",
       "    <tr>\n",
       "      <th>69996</th>\n",
       "      <td>0</td>\n",
       "      <td>0</td>\n",
       "      <td>0</td>\n",
       "      <td>0</td>\n",
       "      <td>0</td>\n",
       "      <td>0</td>\n",
       "      <td>0</td>\n",
       "      <td>0</td>\n",
       "      <td>0</td>\n",
       "      <td>0</td>\n",
       "      <td>...</td>\n",
       "      <td>0</td>\n",
       "      <td>0</td>\n",
       "      <td>0</td>\n",
       "      <td>0</td>\n",
       "      <td>0</td>\n",
       "      <td>0</td>\n",
       "      <td>0</td>\n",
       "      <td>0</td>\n",
       "      <td>0</td>\n",
       "      <td>3</td>\n",
       "    </tr>\n",
       "  </tbody>\n",
       "</table>\n",
       "<p>23100 rows × 785 columns</p>\n",
       "</div>"
      ],
      "text/plain": [
       "       0  1  2  3  4  5  6  7  8  9  ...  775  776  777  778  779  780  781  \\\n",
       "0      0  0  0  0  0  0  0  0  0  0  ...    0    0    0    0    0    0    0   \n",
       "3      0  0  0  0  0  0  0  0  0  0  ...    0    0    0    0    0    0    0   \n",
       "5      0  0  0  0  0  0  0  0  0  0  ...    0    0    0    0    0    0    0   \n",
       "6      0  0  0  0  0  0  0  0  0  0  ...    0    0    0    0    0    0    0   \n",
       "10     0  0  0  0  0  0  0  0  0  0  ...    0    0    0    0    0    0    0   \n",
       "...   .. .. .. .. .. .. .. .. .. ..  ...  ...  ...  ...  ...  ...  ...  ...   \n",
       "69981  0  0  0  0  0  0  0  0  0  0  ...    0    0    0    0    0    0    0   \n",
       "69985  0  0  0  0  0  0  0  0  0  0  ...    0    0    0    0    0    0    0   \n",
       "69987  0  0  0  0  0  0  0  0  0  0  ...    0    0    0    0    0    0    0   \n",
       "69995  0  0  0  0  0  0  0  0  0  0  ...    0    0    0    0    0    0    0   \n",
       "69996  0  0  0  0  0  0  0  0  0  0  ...    0    0    0    0    0    0    0   \n",
       "\n",
       "       782  783  target  \n",
       "0        0    0       5  \n",
       "3        0    0       1  \n",
       "5        0    0       2  \n",
       "6        0    0       1  \n",
       "10       0    0       3  \n",
       "...    ...  ...     ...  \n",
       "69981    0    0       6  \n",
       "69985    0    0       2  \n",
       "69987    0    0       4  \n",
       "69995    0    0       2  \n",
       "69996    0    0       3  \n",
       "\n",
       "[23100 rows x 785 columns]"
      ]
     },
     "execution_count": 13,
     "metadata": {},
     "output_type": "execute_result"
    }
   ],
   "source": [
    "df_train.head()\n",
    "df_test"
   ]
  },
  {
   "cell_type": "code",
   "execution_count": 14,
   "id": "33a98206",
   "metadata": {},
   "outputs": [
    {
     "data": {
      "text/html": [
       "<div>\n",
       "<style scoped>\n",
       "    .dataframe tbody tr th:only-of-type {\n",
       "        vertical-align: middle;\n",
       "    }\n",
       "\n",
       "    .dataframe tbody tr th {\n",
       "        vertical-align: top;\n",
       "    }\n",
       "\n",
       "    .dataframe thead th {\n",
       "        text-align: right;\n",
       "    }\n",
       "</style>\n",
       "<table border=\"1\" class=\"dataframe\">\n",
       "  <thead>\n",
       "    <tr style=\"text-align: right;\">\n",
       "      <th></th>\n",
       "      <th>target</th>\n",
       "    </tr>\n",
       "  </thead>\n",
       "  <tbody>\n",
       "    <tr>\n",
       "      <th>0</th>\n",
       "      <td>5</td>\n",
       "    </tr>\n",
       "    <tr>\n",
       "      <th>3</th>\n",
       "      <td>1</td>\n",
       "    </tr>\n",
       "    <tr>\n",
       "      <th>5</th>\n",
       "      <td>2</td>\n",
       "    </tr>\n",
       "    <tr>\n",
       "      <th>6</th>\n",
       "      <td>1</td>\n",
       "    </tr>\n",
       "    <tr>\n",
       "      <th>10</th>\n",
       "      <td>3</td>\n",
       "    </tr>\n",
       "  </tbody>\n",
       "</table>\n",
       "</div>"
      ],
      "text/plain": [
       "    target\n",
       "0        5\n",
       "3        1\n",
       "5        2\n",
       "6        1\n",
       "10       3"
      ]
     },
     "execution_count": 14,
     "metadata": {},
     "output_type": "execute_result"
    }
   ],
   "source": [
    "y_test = df_test['target']\n",
    "y_test = pd.DataFrame(y_test)\n",
    "y_test.head()"
   ]
  },
  {
   "cell_type": "code",
   "execution_count": 15,
   "id": "d8a79c5b",
   "metadata": {},
   "outputs": [],
   "source": [
    "df_test = df_test.drop('target', axis=1)\n"
   ]
  },
  {
   "cell_type": "code",
   "execution_count": 16,
   "id": "c9a8c82c",
   "metadata": {},
   "outputs": [
    {
     "data": {
      "text/html": [
       "<div>\n",
       "<style scoped>\n",
       "    .dataframe tbody tr th:only-of-type {\n",
       "        vertical-align: middle;\n",
       "    }\n",
       "\n",
       "    .dataframe tbody tr th {\n",
       "        vertical-align: top;\n",
       "    }\n",
       "\n",
       "    .dataframe thead th {\n",
       "        text-align: right;\n",
       "    }\n",
       "</style>\n",
       "<table border=\"1\" class=\"dataframe\">\n",
       "  <thead>\n",
       "    <tr style=\"text-align: right;\">\n",
       "      <th></th>\n",
       "      <th>0</th>\n",
       "      <th>1</th>\n",
       "      <th>2</th>\n",
       "      <th>3</th>\n",
       "      <th>4</th>\n",
       "      <th>5</th>\n",
       "      <th>6</th>\n",
       "      <th>7</th>\n",
       "      <th>8</th>\n",
       "      <th>9</th>\n",
       "      <th>...</th>\n",
       "      <th>774</th>\n",
       "      <th>775</th>\n",
       "      <th>776</th>\n",
       "      <th>777</th>\n",
       "      <th>778</th>\n",
       "      <th>779</th>\n",
       "      <th>780</th>\n",
       "      <th>781</th>\n",
       "      <th>782</th>\n",
       "      <th>783</th>\n",
       "    </tr>\n",
       "  </thead>\n",
       "  <tbody>\n",
       "    <tr>\n",
       "      <th>0</th>\n",
       "      <td>0</td>\n",
       "      <td>0</td>\n",
       "      <td>0</td>\n",
       "      <td>0</td>\n",
       "      <td>0</td>\n",
       "      <td>0</td>\n",
       "      <td>0</td>\n",
       "      <td>0</td>\n",
       "      <td>0</td>\n",
       "      <td>0</td>\n",
       "      <td>...</td>\n",
       "      <td>0</td>\n",
       "      <td>0</td>\n",
       "      <td>0</td>\n",
       "      <td>0</td>\n",
       "      <td>0</td>\n",
       "      <td>0</td>\n",
       "      <td>0</td>\n",
       "      <td>0</td>\n",
       "      <td>0</td>\n",
       "      <td>0</td>\n",
       "    </tr>\n",
       "    <tr>\n",
       "      <th>3</th>\n",
       "      <td>0</td>\n",
       "      <td>0</td>\n",
       "      <td>0</td>\n",
       "      <td>0</td>\n",
       "      <td>0</td>\n",
       "      <td>0</td>\n",
       "      <td>0</td>\n",
       "      <td>0</td>\n",
       "      <td>0</td>\n",
       "      <td>0</td>\n",
       "      <td>...</td>\n",
       "      <td>0</td>\n",
       "      <td>0</td>\n",
       "      <td>0</td>\n",
       "      <td>0</td>\n",
       "      <td>0</td>\n",
       "      <td>0</td>\n",
       "      <td>0</td>\n",
       "      <td>0</td>\n",
       "      <td>0</td>\n",
       "      <td>0</td>\n",
       "    </tr>\n",
       "    <tr>\n",
       "      <th>5</th>\n",
       "      <td>0</td>\n",
       "      <td>0</td>\n",
       "      <td>0</td>\n",
       "      <td>0</td>\n",
       "      <td>0</td>\n",
       "      <td>0</td>\n",
       "      <td>0</td>\n",
       "      <td>0</td>\n",
       "      <td>0</td>\n",
       "      <td>0</td>\n",
       "      <td>...</td>\n",
       "      <td>0</td>\n",
       "      <td>0</td>\n",
       "      <td>0</td>\n",
       "      <td>0</td>\n",
       "      <td>0</td>\n",
       "      <td>0</td>\n",
       "      <td>0</td>\n",
       "      <td>0</td>\n",
       "      <td>0</td>\n",
       "      <td>0</td>\n",
       "    </tr>\n",
       "    <tr>\n",
       "      <th>6</th>\n",
       "      <td>0</td>\n",
       "      <td>0</td>\n",
       "      <td>0</td>\n",
       "      <td>0</td>\n",
       "      <td>0</td>\n",
       "      <td>0</td>\n",
       "      <td>0</td>\n",
       "      <td>0</td>\n",
       "      <td>0</td>\n",
       "      <td>0</td>\n",
       "      <td>...</td>\n",
       "      <td>0</td>\n",
       "      <td>0</td>\n",
       "      <td>0</td>\n",
       "      <td>0</td>\n",
       "      <td>0</td>\n",
       "      <td>0</td>\n",
       "      <td>0</td>\n",
       "      <td>0</td>\n",
       "      <td>0</td>\n",
       "      <td>0</td>\n",
       "    </tr>\n",
       "    <tr>\n",
       "      <th>10</th>\n",
       "      <td>0</td>\n",
       "      <td>0</td>\n",
       "      <td>0</td>\n",
       "      <td>0</td>\n",
       "      <td>0</td>\n",
       "      <td>0</td>\n",
       "      <td>0</td>\n",
       "      <td>0</td>\n",
       "      <td>0</td>\n",
       "      <td>0</td>\n",
       "      <td>...</td>\n",
       "      <td>0</td>\n",
       "      <td>0</td>\n",
       "      <td>0</td>\n",
       "      <td>0</td>\n",
       "      <td>0</td>\n",
       "      <td>0</td>\n",
       "      <td>0</td>\n",
       "      <td>0</td>\n",
       "      <td>0</td>\n",
       "      <td>0</td>\n",
       "    </tr>\n",
       "  </tbody>\n",
       "</table>\n",
       "<p>5 rows × 784 columns</p>\n",
       "</div>"
      ],
      "text/plain": [
       "    0    1    2    3    4    5    6    7    8    9    ...  774  775  776  777  \\\n",
       "0     0    0    0    0    0    0    0    0    0    0  ...    0    0    0    0   \n",
       "3     0    0    0    0    0    0    0    0    0    0  ...    0    0    0    0   \n",
       "5     0    0    0    0    0    0    0    0    0    0  ...    0    0    0    0   \n",
       "6     0    0    0    0    0    0    0    0    0    0  ...    0    0    0    0   \n",
       "10    0    0    0    0    0    0    0    0    0    0  ...    0    0    0    0   \n",
       "\n",
       "    778  779  780  781  782  783  \n",
       "0     0    0    0    0    0    0  \n",
       "3     0    0    0    0    0    0  \n",
       "5     0    0    0    0    0    0  \n",
       "6     0    0    0    0    0    0  \n",
       "10    0    0    0    0    0    0  \n",
       "\n",
       "[5 rows x 784 columns]"
      ]
     },
     "execution_count": 16,
     "metadata": {},
     "output_type": "execute_result"
    }
   ],
   "source": [
    "df_test.head()"
   ]
  },
  {
   "cell_type": "markdown",
   "id": "64a6a937",
   "metadata": {},
   "source": [
    "# Converting these into NumPy arrays for use in the ANN model"
   ]
  },
  {
   "cell_type": "code",
   "execution_count": 17,
   "id": "93ea9bbd",
   "metadata": {},
   "outputs": [],
   "source": [
    "x_train = df_train.to_numpy()\n",
    "x_train\n",
    "x_test = df_test.to_numpy()\n",
    "y_train = y_train.to_numpy()\n",
    "y_test = y_test.to_numpy()"
   ]
  },
  {
   "cell_type": "markdown",
   "id": "1dab5059",
   "metadata": {},
   "source": [
    "# Performing the required pre-processing"
   ]
  },
  {
   "cell_type": "code",
   "execution_count": 18,
   "id": "013718ef",
   "metadata": {},
   "outputs": [],
   "source": [
    "x_train = x_train/255\n",
    "x_test = x_test/255"
   ]
  },
  {
   "cell_type": "code",
   "execution_count": 19,
   "id": "6e90e73f",
   "metadata": {},
   "outputs": [],
   "source": [
    "#x_train[0]"
   ]
  },
  {
   "cell_type": "code",
   "execution_count": 20,
   "id": "30e524ac",
   "metadata": {},
   "outputs": [],
   "source": [
    "X_trainf = x_train.reshape(len(x_train), 28 * 28)\n",
    "#we choose to flatten the data in order to make the first input layer of the neural network have 784 values, since we currently have values stored in 28*28 form"
   ]
  },
  {
   "cell_type": "code",
   "execution_count": 21,
   "id": "51ffb7f2",
   "metadata": {},
   "outputs": [],
   "source": [
    "X_testf = x_test.reshape(len(x_test), 28*28)"
   ]
  },
  {
   "cell_type": "markdown",
   "id": "53aa609c",
   "metadata": {},
   "source": [
    "# MODEL 1 -- 150 neurons, 2 layers, sigmoid"
   ]
  },
  {
   "cell_type": "code",
   "execution_count": 22,
   "id": "caf827f2",
   "metadata": {},
   "outputs": [
    {
     "name": "stdout",
     "output_type": "stream",
     "text": [
      "Epoch 1/5\n",
      "1466/1466 [==============================] - 4s 2ms/step - loss: 0.5894 - accuracy: 0.8535\n",
      "Epoch 2/5\n",
      "1466/1466 [==============================] - 3s 2ms/step - loss: 0.2207 - accuracy: 0.9360\n",
      "Epoch 3/5\n",
      "1466/1466 [==============================] - 3s 2ms/step - loss: 0.1613 - accuracy: 0.9528\n",
      "Epoch 4/5\n",
      "1466/1466 [==============================] - 3s 2ms/step - loss: 0.1265 - accuracy: 0.9626\n",
      "Epoch 5/5\n",
      "1466/1466 [==============================] - 3s 2ms/step - loss: 0.1023 - accuracy: 0.9699\n"
     ]
    },
    {
     "data": {
      "text/plain": [
       "<keras.callbacks.History at 0x25ff118ba30>"
      ]
     },
     "execution_count": 22,
     "metadata": {},
     "output_type": "execute_result"
    }
   ],
   "source": [
    "model1 = keras.Sequential([\n",
    "    keras.layers.Dense(75, input_shape=(784,), activation = 'sigmoid'), #we call it dense since every node in one layer is connected to every node in the next layer    \n",
    "    keras.layers.Dense(75, activation = 'sigmoid'),\n",
    "    keras.layers.Dense(10, activation = 'softmax')\n",
    "])\n",
    "\n",
    "model1.compile(optimizer = 'adam', loss = 'sparse_categorical_crossentropy', metrics = ['accuracy'])\n",
    "model1.fit(X_trainf, y_train, epochs = 5)\n",
    "\n"
   ]
  },
  {
   "cell_type": "code",
   "execution_count": 23,
   "id": "c3c1a32d",
   "metadata": {},
   "outputs": [
    {
     "name": "stdout",
     "output_type": "stream",
     "text": [
      "722/722 [==============================] - 1s 1ms/step - loss: 0.1205 - accuracy: 0.9637\n"
     ]
    },
    {
     "data": {
      "text/plain": [
       "[0.1204783171415329, 0.9636796712875366]"
      ]
     },
     "execution_count": 23,
     "metadata": {},
     "output_type": "execute_result"
    }
   ],
   "source": [
    "model1.evaluate(X_testf, y_test)"
   ]
  },
  {
   "cell_type": "code",
   "execution_count": 24,
   "id": "8521a0cc",
   "metadata": {},
   "outputs": [
    {
     "name": "stdout",
     "output_type": "stream",
     "text": [
      "722/722 [==============================] - 1s 1ms/step\n"
     ]
    },
    {
     "data": {
      "text/plain": [
       "<tf.Tensor: shape=(10, 10), dtype=int32, numpy=\n",
       "array([[2326,    1,    7,    3,    3,    2,   12,    4,    5,    1],\n",
       "       [   0, 2527,   13,    1,    3,    2,    5,    4,    6,    4],\n",
       "       [   5,    3, 2223,   13,   15,    2,    7,   20,   12,    1],\n",
       "       [   4,    2,   24, 2197,    4,   36,    3,   26,   25,    5],\n",
       "       [   1,    2,    9,    1, 2251,    1,    9,    6,    5,   21],\n",
       "       [  15,    0,    5,   31,    7, 1988,   23,    5,   17,    4],\n",
       "       [  13,    0,    3,    0,    8,    8, 2189,    1,    7,    0],\n",
       "       [   3,   15,   13,    2,   11,    1,    2, 2311,    5,    9],\n",
       "       [  14,   13,   21,   18,    7,   15,   14,    7, 2123,   14],\n",
       "       [  10,    5,    0,   17,   79,   13,    1,   34,   11, 2126]])>"
      ]
     },
     "execution_count": 24,
     "metadata": {},
     "output_type": "execute_result"
    }
   ],
   "source": [
    "y_predict = model1.predict(X_testf)\n",
    "# y_predict[0]\n",
    "#np.argmax(y_predict[0]) #gives the maximum value out of the given ones\n",
    "predicted_labels = [np.argmax(i) for i in y_predict] #we are getting exactly what has been predicted and putting it into a predicted labels array\n",
    "cm = tf.math.confusion_matrix(labels=y_test,predictions=predicted_labels) #tensorflow has inbuilt provisions to build confusion matrices\n",
    "cm"
   ]
  },
  {
   "cell_type": "markdown",
   "id": "5f886009",
   "metadata": {},
   "source": [
    "# MODEL 2 -- 100 Neurons, 3 Hidden Layers"
   ]
  },
  {
   "cell_type": "code",
   "execution_count": 25,
   "id": "8f767b23",
   "metadata": {},
   "outputs": [
    {
     "name": "stdout",
     "output_type": "stream",
     "text": [
      "Epoch 1/5\n",
      "1466/1466 [==============================] - 3s 2ms/step - loss: 1.1074 - accuracy: 0.7304\n",
      "Epoch 2/5\n",
      "1466/1466 [==============================] - 3s 2ms/step - loss: 0.3644 - accuracy: 0.9134\n",
      "Epoch 3/5\n",
      "1466/1466 [==============================] - 3s 2ms/step - loss: 0.2350 - accuracy: 0.9383\n",
      "Epoch 4/5\n",
      "1466/1466 [==============================] - 3s 2ms/step - loss: 0.1784 - accuracy: 0.9514\n",
      "Epoch 5/5\n",
      "1466/1466 [==============================] - 3s 2ms/step - loss: 0.1452 - accuracy: 0.9591\n"
     ]
    },
    {
     "data": {
      "text/plain": [
       "<keras.callbacks.History at 0x25ff1a38880>"
      ]
     },
     "execution_count": 25,
     "metadata": {},
     "output_type": "execute_result"
    }
   ],
   "source": [
    "model2 = keras.Sequential([\n",
    "    keras.layers.Dense(50, input_shape=(784,), activation = 'sigmoid'), #we call it dense since every node in one layer is connected to every node in the next layer    \n",
    "    keras.layers.Dense(30, activation = 'sigmoid'),\n",
    "    keras.layers.Dense(20, activation = 'sigmoid'),\n",
    "    keras.layers.Dense(10, activation = 'softmax')\n",
    "])\n",
    "\n",
    "model2.compile(optimizer = 'adam', loss = 'sparse_categorical_crossentropy', metrics = ['accuracy'])\n",
    "model2.fit(X_trainf, y_train, epochs = 5)\n"
   ]
  },
  {
   "cell_type": "code",
   "execution_count": 26,
   "id": "55504971",
   "metadata": {},
   "outputs": [
    {
     "name": "stdout",
     "output_type": "stream",
     "text": [
      "722/722 [==============================] - 1s 2ms/step - loss: 0.1659 - accuracy: 0.9535\n"
     ]
    },
    {
     "data": {
      "text/plain": [
       "[0.16587020456790924, 0.9535064697265625]"
      ]
     },
     "execution_count": 26,
     "metadata": {},
     "output_type": "execute_result"
    }
   ],
   "source": [
    "model2.evaluate(X_testf, y_test)"
   ]
  },
  {
   "cell_type": "code",
   "execution_count": 27,
   "id": "807c2048",
   "metadata": {},
   "outputs": [
    {
     "name": "stdout",
     "output_type": "stream",
     "text": [
      "722/722 [==============================] - 1s 1ms/step\n"
     ]
    }
   ],
   "source": [
    "y_predict = model2.predict(X_testf)"
   ]
  },
  {
   "cell_type": "code",
   "execution_count": 28,
   "id": "dd8dd0ff",
   "metadata": {},
   "outputs": [
    {
     "data": {
      "text/plain": [
       "array([1.5186167e-02, 3.1287447e-05, 8.2355073e-05, 5.3217481e-03,\n",
       "       3.3029576e-06, 9.7446698e-01, 7.8936975e-04, 9.8797915e-05,\n",
       "       1.5988101e-03, 2.4213549e-03], dtype=float32)"
      ]
     },
     "execution_count": 28,
     "metadata": {},
     "output_type": "execute_result"
    }
   ],
   "source": [
    "y_predict[0]"
   ]
  },
  {
   "cell_type": "code",
   "execution_count": 29,
   "id": "652886ba",
   "metadata": {},
   "outputs": [
    {
     "data": {
      "text/plain": [
       "5"
      ]
     },
     "execution_count": 29,
     "metadata": {},
     "output_type": "execute_result"
    }
   ],
   "source": [
    "np.argmax(y_predict[0]) #gives the maximum value out of the given ones"
   ]
  },
  {
   "cell_type": "code",
   "execution_count": 30,
   "id": "ad400561",
   "metadata": {},
   "outputs": [],
   "source": [
    "predicted_labels = [np.argmax(i) for i in y_predict] #we are getting exactly what has been predicted and putting it into a predicted labels array"
   ]
  },
  {
   "cell_type": "code",
   "execution_count": 31,
   "id": "a23be6f9",
   "metadata": {},
   "outputs": [],
   "source": [
    "cm = tf.math.confusion_matrix(labels=y_test,predictions=predicted_labels) #tensorflow has inbuilt provisions to build confusion matrices\n"
   ]
  },
  {
   "cell_type": "code",
   "execution_count": 32,
   "id": "33451208",
   "metadata": {},
   "outputs": [
    {
     "data": {
      "text/plain": [
       "<tf.Tensor: shape=(10, 10), dtype=int32, numpy=\n",
       "array([[2307,    2,    1,    5,    4,   19,    8,    7,    5,    6],\n",
       "       [   0, 2513,   17,    4,    5,    2,    5,    5,   10,    4],\n",
       "       [   6,   10, 2178,   15,   31,    6,    8,   22,   23,    2],\n",
       "       [   6,    5,   22, 2153,    3,   47,    1,   21,   51,   17],\n",
       "       [   1,    2,   12,    0, 2227,    0,    5,    5,    4,   50],\n",
       "       [  17,    0,    4,   27,    5, 1990,   21,    1,   16,   14],\n",
       "       [  14,    1,    2,    0,   20,   26, 2156,    0,    9,    1],\n",
       "       [   6,   20,   12,    8,    9,    0,    0, 2266,    4,   47],\n",
       "       [   5,   11,   24,   23,   19,   38,   16,    4, 2073,   33],\n",
       "       [  10,    4,    0,   16,   52,    7,    1,   32,   11, 2163]])>"
      ]
     },
     "execution_count": 32,
     "metadata": {},
     "output_type": "execute_result"
    }
   ],
   "source": [
    "cm #this is the confusion matrix, we are supposed to do this for all 15 of the models. Preferable if we beautify this a bit using matPlotLib, or seaborn if permitted by sir"
   ]
  },
  {
   "cell_type": "markdown",
   "id": "b2ec1f62",
   "metadata": {},
   "source": [
    "# MODEL 3 -- 150 Neurons, 2 Hidden Layers, ReLU"
   ]
  },
  {
   "cell_type": "code",
   "execution_count": 33,
   "id": "5ac6530c",
   "metadata": {},
   "outputs": [
    {
     "name": "stdout",
     "output_type": "stream",
     "text": [
      "Epoch 1/5\n",
      "1466/1466 [==============================] - 4s 2ms/step - loss: 0.2965 - accuracy: 0.9141\n",
      "Epoch 2/5\n",
      "1466/1466 [==============================] - 3s 2ms/step - loss: 0.1263 - accuracy: 0.9614\n",
      "Epoch 3/5\n",
      "1466/1466 [==============================] - 3s 2ms/step - loss: 0.0886 - accuracy: 0.9728\n",
      "Epoch 4/5\n",
      "1466/1466 [==============================] - 3s 2ms/step - loss: 0.0687 - accuracy: 0.9782\n",
      "Epoch 5/5\n",
      "1466/1466 [==============================] - 3s 2ms/step - loss: 0.0566 - accuracy: 0.9823\n"
     ]
    },
    {
     "data": {
      "text/plain": [
       "<keras.callbacks.History at 0x25ff1ae8640>"
      ]
     },
     "execution_count": 33,
     "metadata": {},
     "output_type": "execute_result"
    }
   ],
   "source": [
    "model3 = keras.Sequential([\n",
    "    keras.layers.Dense(75, input_shape=(784,), activation = 'relu'), #we call it dense since every node in one layer is connected to every node in the next layer    \n",
    "    keras.layers.Dense(75, activation = 'relu'),\n",
    "    keras.layers.Dense(10, activation = 'softmax')\n",
    "])\n",
    "\n",
    "model3.compile(optimizer = 'adam', loss = 'sparse_categorical_crossentropy', metrics = ['accuracy'])\n",
    "model3.fit(X_trainf, y_train, epochs = 5)\n"
   ]
  },
  {
   "cell_type": "code",
   "execution_count": 34,
   "id": "eb4921d7",
   "metadata": {},
   "outputs": [
    {
     "name": "stdout",
     "output_type": "stream",
     "text": [
      "722/722 [==============================] - 1s 2ms/step - loss: 0.1055 - accuracy: 0.9692\n"
     ]
    },
    {
     "data": {
      "text/plain": [
       "[0.10547981411218643, 0.969220757484436]"
      ]
     },
     "execution_count": 34,
     "metadata": {},
     "output_type": "execute_result"
    }
   ],
   "source": [
    "model3.evaluate(X_testf, y_test)"
   ]
  },
  {
   "cell_type": "code",
   "execution_count": 35,
   "id": "68c2ac70",
   "metadata": {},
   "outputs": [
    {
     "name": "stdout",
     "output_type": "stream",
     "text": [
      "722/722 [==============================] - 1s 2ms/step\n"
     ]
    },
    {
     "data": {
      "text/plain": [
       "<tf.Tensor: shape=(10, 10), dtype=int32, numpy=\n",
       "array([[2318,    4,    2,    2,    1,    2,   22,    1,    9,    3],\n",
       "       [   0, 2536,    8,    1,    6,    2,    2,    3,    6,    1],\n",
       "       [   7,    6, 2185,   58,    6,    3,    4,   16,   14,    2],\n",
       "       [   1,    1,   10, 2257,    0,   29,    2,    4,   19,    3],\n",
       "       [   1,    0,    5,    0, 2260,    2,    7,    6,    3,   22],\n",
       "       [   2,    1,    0,   27,    2, 2031,   15,    0,   12,    5],\n",
       "       [   3,    5,    1,    1,    4,   13, 2198,    0,    4,    0],\n",
       "       [   2,   17,   11,   15,    9,    1,    0, 2226,   14,   77],\n",
       "       [   8,    9,    1,   12,    9,   16,    9,    3, 2169,   10],\n",
       "       [  10,    2,    0,   13,   39,    7,    0,    5,   11, 2209]])>"
      ]
     },
     "execution_count": 35,
     "metadata": {},
     "output_type": "execute_result"
    }
   ],
   "source": [
    "y_predict = model3.predict(X_testf)\n",
    "# y_predict[0]\n",
    "#np.argmax(y_predict[0]) #gives the maximum value out of the given ones\n",
    "predicted_labels = [np.argmax(i) for i in y_predict] #we are getting exactly what has been predicted and putting it into a predicted labels array\n",
    "cm = tf.math.confusion_matrix(labels=y_test,predictions=predicted_labels) #tensorflow has inbuilt provisions to build confusion matrices\n",
    "cm"
   ]
  },
  {
   "cell_type": "code",
   "execution_count": 36,
   "id": "ccf49409",
   "metadata": {},
   "outputs": [
    {
     "name": "stdout",
     "output_type": "stream",
     "text": [
      "Epoch 1/5\n",
      "1466/1466 [==============================] - 4s 2ms/step - loss: 0.3039 - accuracy: 0.9116\n",
      "Epoch 2/5\n",
      "1466/1466 [==============================] - 3s 2ms/step - loss: 0.1417 - accuracy: 0.9578\n",
      "Epoch 3/5\n",
      "1466/1466 [==============================] - 3s 2ms/step - loss: 0.0976 - accuracy: 0.9707\n",
      "Epoch 4/5\n",
      "1466/1466 [==============================] - 3s 2ms/step - loss: 0.0726 - accuracy: 0.9778\n",
      "Epoch 5/5\n",
      "1466/1466 [==============================] - 3s 2ms/step - loss: 0.0573 - accuracy: 0.9816\n"
     ]
    },
    {
     "data": {
      "text/plain": [
       "<keras.callbacks.History at 0x25ffff03940>"
      ]
     },
     "execution_count": 36,
     "metadata": {},
     "output_type": "execute_result"
    }
   ],
   "source": [
    "model4 = keras.Sequential([\n",
    "    keras.layers.Dense(75, input_shape=(784,), activation = 'tanh'), #we call it dense since every node in one layer is connected to every node in the next layer    \n",
    "    keras.layers.Dense(75, activation = 'tanh'),\n",
    "    keras.layers.Dense(10, activation = 'softmax')\n",
    "])\n",
    "\n",
    "model4.compile(optimizer = 'adam', loss = 'sparse_categorical_crossentropy', metrics = ['accuracy'])\n",
    "model4.fit(X_trainf, y_train, epochs = 5)\n"
   ]
  },
  {
   "cell_type": "code",
   "execution_count": 37,
   "id": "a70c315e",
   "metadata": {},
   "outputs": [
    {
     "name": "stdout",
     "output_type": "stream",
     "text": [
      "722/722 [==============================] - 1s 1ms/step - loss: 0.0959 - accuracy: 0.9725\n"
     ]
    },
    {
     "data": {
      "text/plain": [
       "[0.09593110531568527, 0.9724675416946411]"
      ]
     },
     "execution_count": 37,
     "metadata": {},
     "output_type": "execute_result"
    }
   ],
   "source": [
    "model4.evaluate(X_testf, y_test)"
   ]
  },
  {
   "cell_type": "code",
   "execution_count": 38,
   "id": "d8c63119",
   "metadata": {},
   "outputs": [
    {
     "name": "stdout",
     "output_type": "stream",
     "text": [
      "722/722 [==============================] - 1s 1ms/step\n"
     ]
    },
    {
     "data": {
      "text/plain": [
       "<tf.Tensor: shape=(10, 10), dtype=int32, numpy=\n",
       "array([[2340,    0,    2,    2,    4,    1,    4,    4,    5,    2],\n",
       "       [   0, 2541,    7,    0,    3,    0,    1,    6,    5,    2],\n",
       "       [   8,    4, 2217,   18,   10,    2,    6,   24,   11,    1],\n",
       "       [   5,    4,   10, 2220,    1,   27,    1,   25,   23,   10],\n",
       "       [   1,    1,    8,    0, 2238,    2,    7,   17,    4,   28],\n",
       "       [   6,    2,    2,   31,    3, 2016,   25,    0,    7,    3],\n",
       "       [  16,    4,    0,    0,    5,    4, 2192,    1,    7,    0],\n",
       "       [   3,    4,    5,    3,    8,    0,    1, 2332,    6,   10],\n",
       "       [  19,   10,    6,    8,    5,    7,    8,   11, 2165,    7],\n",
       "       [  10,    2,    3,    8,   22,    7,    0,   32,    9, 2203]])>"
      ]
     },
     "execution_count": 38,
     "metadata": {},
     "output_type": "execute_result"
    }
   ],
   "source": [
    "y_predict = model4.predict(X_testf)\n",
    "# y_predict[0]\n",
    "#np.argmax(y_predict[0]) #gives the maximum value out of the given ones\n",
    "predicted_labels = [np.argmax(i) for i in y_predict] #we are getting exactly what has been predicted and putting it into a predicted labels array\n",
    "cm = tf.math.confusion_matrix(labels=y_test,predictions=predicted_labels) #tensorflow has inbuilt provisions to build confusion matrices\n",
    "cm"
   ]
  },
  {
   "cell_type": "code",
   "execution_count": 39,
   "id": "ebb3ba9f",
   "metadata": {},
   "outputs": [
    {
     "name": "stdout",
     "output_type": "stream",
     "text": [
      "Epoch 1/5\n",
      "1466/1466 [==============================] - 3s 2ms/step - loss: 0.3712 - accuracy: 0.8873\n",
      "Epoch 2/5\n",
      "1466/1466 [==============================] - 3s 2ms/step - loss: 0.1568 - accuracy: 0.9535\n",
      "Epoch 3/5\n",
      "1466/1466 [==============================] - 3s 2ms/step - loss: 0.1186 - accuracy: 0.9642\n",
      "Epoch 4/5\n",
      "1466/1466 [==============================] - 3s 2ms/step - loss: 0.0948 - accuracy: 0.9718\n",
      "Epoch 5/5\n",
      "1466/1466 [==============================] - 3s 2ms/step - loss: 0.0818 - accuracy: 0.9747\n"
     ]
    },
    {
     "data": {
      "text/plain": [
       "<keras.callbacks.History at 0x25f96f69280>"
      ]
     },
     "execution_count": 39,
     "metadata": {},
     "output_type": "execute_result"
    }
   ],
   "source": [
    "model5 = keras.Sequential([\n",
    "    keras.layers.Dense(50, input_shape=(784,), activation = 'relu'), #we call it dense since every node in one layer is connected to every node in the next layer    \n",
    "    keras.layers.Dense(30, activation = 'relu'),\n",
    "    keras.layers.Dense(20, activation = 'relu'),\n",
    "    keras.layers.Dense(10, activation = 'softmax')\n",
    "])\n",
    "\n",
    "model5.compile(optimizer = 'adam', loss = 'sparse_categorical_crossentropy', metrics = ['accuracy'])\n",
    "model5.fit(X_trainf, y_train, epochs = 5)"
   ]
  },
  {
   "cell_type": "code",
   "execution_count": 40,
   "id": "51cb4539",
   "metadata": {},
   "outputs": [
    {
     "name": "stdout",
     "output_type": "stream",
     "text": [
      "722/722 [==============================] - 1s 1ms/step - loss: 0.1208 - accuracy: 0.9656\n"
     ]
    },
    {
     "data": {
      "text/plain": [
       "[0.12076117098331451, 0.965584397315979]"
      ]
     },
     "execution_count": 40,
     "metadata": {},
     "output_type": "execute_result"
    }
   ],
   "source": [
    "model5.evaluate(X_testf, y_test)"
   ]
  },
  {
   "cell_type": "code",
   "execution_count": 41,
   "id": "cfe6cc11",
   "metadata": {},
   "outputs": [
    {
     "name": "stdout",
     "output_type": "stream",
     "text": [
      "722/722 [==============================] - 1s 1ms/step\n"
     ]
    },
    {
     "data": {
      "text/plain": [
       "<tf.Tensor: shape=(10, 10), dtype=int32, numpy=\n",
       "array([[2338,    2,    6,    1,    1,    3,    3,    2,    5,    3],\n",
       "       [   0, 2517,   11,    3,    3,    1,    8,    7,   14,    1],\n",
       "       [  10,    4, 2250,    4,    3,    0,    5,   17,    8,    0],\n",
       "       [   4,    3,   41, 2196,    0,   30,    1,   24,   22,    5],\n",
       "       [   1,    5,   14,    0, 2174,    6,    9,   26,   16,   55],\n",
       "       [   6,    0,    7,   23,    0, 2009,   18,    3,   21,    8],\n",
       "       [  23,    2,    1,    0,    3,    4, 2188,    0,    8,    0],\n",
       "       [   1,    6,   12,    3,    3,    0,    1, 2331,    7,    8],\n",
       "       [  17,    5,   20,    3,    2,   18,   12,    5, 2156,    8],\n",
       "       [   6,    4,    7,   20,   23,   15,    0,   53,   22, 2146]])>"
      ]
     },
     "execution_count": 41,
     "metadata": {},
     "output_type": "execute_result"
    }
   ],
   "source": [
    "y_predict = model5.predict(X_testf)\n",
    "# y_predict[0]\n",
    "#np.argmax(y_predict[0]) #gives the maximum value out of the given ones\n",
    "predicted_labels = [np.argmax(i) for i in y_predict] #we are getting exactly what has been predicted and putting it into a predicted labels array\n",
    "cm = tf.math.confusion_matrix(labels=y_test,predictions=predicted_labels) #tensorflow has inbuilt provisions to build confusion matrices\n",
    "cm"
   ]
  },
  {
   "cell_type": "code",
   "execution_count": 42,
   "id": "43316d38",
   "metadata": {},
   "outputs": [
    {
     "name": "stdout",
     "output_type": "stream",
     "text": [
      "Epoch 1/5\n",
      "1466/1466 [==============================] - 3s 2ms/step - loss: 0.3861 - accuracy: 0.8981\n",
      "Epoch 2/5\n",
      "1466/1466 [==============================] - 3s 2ms/step - loss: 0.1673 - accuracy: 0.9513\n",
      "Epoch 3/5\n",
      "1466/1466 [==============================] - 3s 2ms/step - loss: 0.1203 - accuracy: 0.9640\n",
      "Epoch 4/5\n",
      "1466/1466 [==============================] - 3s 2ms/step - loss: 0.0949 - accuracy: 0.9716\n",
      "Epoch 5/5\n",
      "1466/1466 [==============================] - 3s 2ms/step - loss: 0.0766 - accuracy: 0.9768\n"
     ]
    },
    {
     "data": {
      "text/plain": [
       "<keras.callbacks.History at 0x25f983264c0>"
      ]
     },
     "execution_count": 42,
     "metadata": {},
     "output_type": "execute_result"
    }
   ],
   "source": [
    "model6 = keras.Sequential([\n",
    "    keras.layers.Dense(50, input_shape=(784,), activation = 'tanh'), #we call it dense since every node in one layer is connected to every node in the next layer    \n",
    "    keras.layers.Dense(30, activation = 'tanh'),\n",
    "    keras.layers.Dense(20, activation = 'tanh'),\n",
    "    keras.layers.Dense(10, activation = 'softmax')\n",
    "])\n",
    "\n",
    "model6.compile(optimizer = 'adam', loss = 'sparse_categorical_crossentropy', metrics = ['accuracy'])\n",
    "model6.fit(X_trainf, y_train, epochs = 5)"
   ]
  },
  {
   "cell_type": "code",
   "execution_count": 43,
   "id": "68e24b97",
   "metadata": {},
   "outputs": [
    {
     "name": "stdout",
     "output_type": "stream",
     "text": [
      "722/722 [==============================] - 1s 2ms/step - loss: 0.1541 - accuracy: 0.9552\n"
     ]
    },
    {
     "data": {
      "text/plain": [
       "[0.15410082042217255, 0.9551514983177185]"
      ]
     },
     "execution_count": 43,
     "metadata": {},
     "output_type": "execute_result"
    }
   ],
   "source": [
    "model6.evaluate(X_testf, y_test)"
   ]
  },
  {
   "cell_type": "code",
   "execution_count": 44,
   "id": "144b807d",
   "metadata": {},
   "outputs": [
    {
     "name": "stdout",
     "output_type": "stream",
     "text": [
      "722/722 [==============================] - 1s 1ms/step\n"
     ]
    },
    {
     "data": {
      "text/plain": [
       "<tf.Tensor: shape=(10, 10), dtype=int32, numpy=\n",
       "array([[2324,    2,    8,   12,    3,    0,    4,    1,    9,    1],\n",
       "       [   0, 2539,   10,    5,    2,    0,    1,    2,    6,    0],\n",
       "       [   8,   14, 2189,   37,    9,    0,    5,   19,   16,    4],\n",
       "       [   1,    3,   12, 2270,    2,    4,    0,   14,   15,    5],\n",
       "       [   2,    1,   26,   11, 2188,    2,   17,   12,    4,   43],\n",
       "       [  20,    7,    4,  148,    7, 1843,   20,    3,   34,    9],\n",
       "       [  12,    6,   11,    6,    3,    3, 2170,    0,   17,    1],\n",
       "       [   7,   14,    6,   26,    6,    1,    1, 2278,    2,   31],\n",
       "       [  15,   24,   12,   76,    5,    4,    6,    5, 2084,   15],\n",
       "       [  12,    5,    0,   30,   30,    9,    2,   20,    9, 2179]])>"
      ]
     },
     "execution_count": 44,
     "metadata": {},
     "output_type": "execute_result"
    }
   ],
   "source": [
    "y_predict = model6.predict(X_testf)\n",
    "# y_predict[0]\n",
    "#np.argmax(y_predict[0]) #gives the maximum value out of the given ones\n",
    "predicted_labels = [np.argmax(i) for i in y_predict] #we are getting exactly what has been predicted and putting it into a predicted labels array\n",
    "cm = tf.math.confusion_matrix(labels=y_test,predictions=predicted_labels) #tensorflow has inbuilt provisions to build confusion matrices\n",
    "cm"
   ]
  },
  {
   "cell_type": "code",
   "execution_count": 45,
   "id": "ee1ff63d",
   "metadata": {},
   "outputs": [
    {
     "name": "stdout",
     "output_type": "stream",
     "text": [
      "Epoch 1/5\n",
      "1466/1466 [==============================] - 3s 2ms/step - loss: 0.4924 - accuracy: 0.8683\n",
      "Epoch 2/5\n",
      "1466/1466 [==============================] - 3s 2ms/step - loss: 0.1981 - accuracy: 0.9424\n",
      "Epoch 3/5\n",
      "1466/1466 [==============================] - 3s 2ms/step - loss: 0.1475 - accuracy: 0.9567\n",
      "Epoch 4/5\n",
      "1466/1466 [==============================] - 3s 2ms/step - loss: 0.1187 - accuracy: 0.9642\n",
      "Epoch 5/5\n",
      "1466/1466 [==============================] - 2s 2ms/step - loss: 0.0987 - accuracy: 0.9702\n"
     ]
    },
    {
     "data": {
      "text/plain": [
       "<keras.callbacks.History at 0x25f99ec5520>"
      ]
     },
     "execution_count": 45,
     "metadata": {},
     "output_type": "execute_result"
    }
   ],
   "source": [
    "model7 = keras.Sequential([\n",
    "    keras.layers.Dense(50, input_shape=(784,), activation = 'sigmoid'), #we call it dense since every node in one layer is connected to every node in the next layer    \n",
    "    keras.layers.Dense(30, activation = 'relu'),\n",
    "    keras.layers.Dense(20, activation = 'tanh'),\n",
    "    keras.layers.Dense(10, activation = 'softmax')\n",
    "])\n",
    "\n",
    "model7.compile(optimizer = 'adam', loss = 'sparse_categorical_crossentropy', metrics = ['accuracy'])\n",
    "model7.fit(X_trainf, y_train, epochs = 5)"
   ]
  },
  {
   "cell_type": "code",
   "execution_count": 46,
   "id": "1bbe0dbc",
   "metadata": {},
   "outputs": [
    {
     "name": "stdout",
     "output_type": "stream",
     "text": [
      "722/722 [==============================] - 1s 1ms/step - loss: 0.1182 - accuracy: 0.9646\n"
     ]
    },
    {
     "data": {
      "text/plain": [
       "[0.1181737408041954, 0.9645887613296509]"
      ]
     },
     "execution_count": 46,
     "metadata": {},
     "output_type": "execute_result"
    }
   ],
   "source": [
    "model7.evaluate(X_testf, y_test)"
   ]
  },
  {
   "cell_type": "code",
   "execution_count": 47,
   "id": "88a9c9d4",
   "metadata": {},
   "outputs": [
    {
     "name": "stdout",
     "output_type": "stream",
     "text": [
      "722/722 [==============================] - 1s 1ms/step\n"
     ]
    },
    {
     "data": {
      "text/plain": [
       "<tf.Tensor: shape=(10, 10), dtype=int32, numpy=\n",
       "array([[2326,    1,    7,    3,    3,    2,   12,    4,    5,    1],\n",
       "       [   0, 2527,   13,    1,    3,    2,    5,    4,    6,    4],\n",
       "       [   5,    3, 2223,   13,   15,    2,    7,   20,   12,    1],\n",
       "       [   4,    2,   24, 2197,    4,   36,    3,   26,   25,    5],\n",
       "       [   1,    2,    9,    1, 2251,    1,    9,    6,    5,   21],\n",
       "       [  15,    0,    5,   31,    7, 1988,   23,    5,   17,    4],\n",
       "       [  13,    0,    3,    0,    8,    8, 2189,    1,    7,    0],\n",
       "       [   3,   15,   13,    2,   11,    1,    2, 2311,    5,    9],\n",
       "       [  14,   13,   21,   18,    7,   15,   14,    7, 2123,   14],\n",
       "       [  10,    5,    0,   17,   79,   13,    1,   34,   11, 2126]])>"
      ]
     },
     "execution_count": 47,
     "metadata": {},
     "output_type": "execute_result"
    }
   ],
   "source": [
    "y_predict = model1.predict(X_testf)\n",
    "# y_predict[0]\n",
    "#np.argmax(y_predict[0]) #gives the maximum value out of the given ones\n",
    "predicted_labels = [np.argmax(i) for i in y_predict] #we are getting exactly what has been predicted and putting it into a predicted labels array\n",
    "cm = tf.math.confusion_matrix(labels=y_test,predictions=predicted_labels) #tensorflow has inbuilt provisions to build confusion matrices\n",
    "cm"
   ]
  },
  {
   "cell_type": "code",
   "execution_count": 48,
   "id": "d94fbfab",
   "metadata": {},
   "outputs": [
    {
     "name": "stdout",
     "output_type": "stream",
     "text": [
      "Epoch 1/5\n",
      "1466/1466 [==============================] - 3s 2ms/step - loss: 0.4222 - accuracy: 0.8845\n",
      "Epoch 2/5\n",
      "1466/1466 [==============================] - 2s 2ms/step - loss: 0.1877 - accuracy: 0.9435\n",
      "Epoch 3/5\n",
      "1466/1466 [==============================] - 3s 2ms/step - loss: 0.1370 - accuracy: 0.9586\n",
      "Epoch 4/5\n",
      "1466/1466 [==============================] - 3s 2ms/step - loss: 0.1088 - accuracy: 0.9671\n",
      "Epoch 5/5\n",
      "1466/1466 [==============================] - 3s 2ms/step - loss: 0.0854 - accuracy: 0.9749\n"
     ]
    },
    {
     "data": {
      "text/plain": [
       "<keras.callbacks.History at 0x25f9a371310>"
      ]
     },
     "execution_count": 48,
     "metadata": {},
     "output_type": "execute_result"
    }
   ],
   "source": [
    "model8 = keras.Sequential([\n",
    "    keras.layers.Dense(75, input_shape=(784,), activation = 'sigmoid'), #we call it dense since every node in one layer is connected to every node in the next layer    \n",
    "    keras.layers.Dense(75, activation = 'relu'),\n",
    "    keras.layers.Dense(10, activation = 'softmax')\n",
    "])\n",
    "\n",
    "model8.compile(optimizer = 'adam', loss = 'sparse_categorical_crossentropy', metrics = ['accuracy'])\n",
    "model8.fit(X_trainf, y_train, epochs = 5)\n"
   ]
  },
  {
   "cell_type": "code",
   "execution_count": 49,
   "id": "0ee818b7",
   "metadata": {},
   "outputs": [
    {
     "name": "stdout",
     "output_type": "stream",
     "text": [
      "722/722 [==============================] - 1s 1ms/step - loss: 0.1100 - accuracy: 0.9667\n"
     ]
    },
    {
     "data": {
      "text/plain": [
       "[0.11000808328390121, 0.9666666388511658]"
      ]
     },
     "execution_count": 49,
     "metadata": {},
     "output_type": "execute_result"
    }
   ],
   "source": [
    "model8.evaluate(X_testf, y_test)"
   ]
  },
  {
   "cell_type": "code",
   "execution_count": 50,
   "id": "fa90c7b1",
   "metadata": {},
   "outputs": [
    {
     "name": "stdout",
     "output_type": "stream",
     "text": [
      "722/722 [==============================] - 1s 1ms/step\n"
     ]
    },
    {
     "data": {
      "text/plain": [
       "<tf.Tensor: shape=(10, 10), dtype=int32, numpy=\n",
       "array([[2328,    1,    4,    3,    6,    2,    4,    2,    9,    5],\n",
       "       [   0, 2526,    9,    3,    3,    2,    2,    6,   11,    3],\n",
       "       [   8,    2, 2222,   15,   12,    1,    4,   22,   13,    2],\n",
       "       [   6,    0,   19, 2207,    2,   26,    0,   23,   29,   14],\n",
       "       [   1,    2,    8,    0, 2181,    1,    4,   10,    4,   95],\n",
       "       [   8,    0,    3,   24,    4, 2013,   11,    4,   14,   14],\n",
       "       [  15,    5,    4,    0,   11,   12, 2167,    1,   14,    0],\n",
       "       [   3,   10,    9,    2,    5,    1,    1, 2309,    5,   27],\n",
       "       [   8,    9,   13,   15,    7,   14,    5,    6, 2143,   26],\n",
       "       [   3,    4,    1,    8,   19,    4,    0,   17,    6, 2234]])>"
      ]
     },
     "execution_count": 50,
     "metadata": {},
     "output_type": "execute_result"
    }
   ],
   "source": [
    "y_predict = model8.predict(X_testf)\n",
    "# y_predict[0]\n",
    "#np.argmax(y_predict[0]) #gives the maximum value out of the given ones\n",
    "predicted_labels = [np.argmax(i) for i in y_predict] #we are getting exactly what has been predicted and putting it into a predicted labels array\n",
    "cm = tf.math.confusion_matrix(labels=y_test,predictions=predicted_labels) #tensorflow has inbuilt provisions to build confusion matrices\n",
    "cm"
   ]
  },
  {
   "cell_type": "code",
   "execution_count": 51,
   "id": "ce818f4e",
   "metadata": {},
   "outputs": [
    {
     "name": "stdout",
     "output_type": "stream",
     "text": [
      "Epoch 1/5\n",
      "1466/1466 [==============================] - 3s 2ms/step - loss: 0.3959 - accuracy: 0.8901\n",
      "Epoch 2/5\n",
      "1466/1466 [==============================] - 3s 2ms/step - loss: 0.1817 - accuracy: 0.9456\n",
      "Epoch 3/5\n",
      "1466/1466 [==============================] - 3s 2ms/step - loss: 0.1280 - accuracy: 0.9603\n",
      "Epoch 4/5\n",
      "1466/1466 [==============================] - 3s 2ms/step - loss: 0.0957 - accuracy: 0.9713\n",
      "Epoch 5/5\n",
      "1466/1466 [==============================] - 3s 2ms/step - loss: 0.0764 - accuracy: 0.9768\n"
     ]
    },
    {
     "data": {
      "text/plain": [
       "<keras.callbacks.History at 0x25f96f0ba30>"
      ]
     },
     "execution_count": 51,
     "metadata": {},
     "output_type": "execute_result"
    }
   ],
   "source": [
    "model9 = keras.Sequential([\n",
    "    keras.layers.Dense(75, input_shape=(784,), activation = 'sigmoid'), #we call it dense since every node in one layer is connected to every node in the next layer    \n",
    "    keras.layers.Dense(75, activation = 'tanh'),\n",
    "    keras.layers.Dense(10, activation = 'softmax')\n",
    "])\n",
    "\n",
    "model9.compile(optimizer = 'adam', loss = 'sparse_categorical_crossentropy', metrics = ['accuracy'])\n",
    "model9.fit(X_trainf, y_train, epochs = 5)"
   ]
  },
  {
   "cell_type": "code",
   "execution_count": 52,
   "id": "3de04589",
   "metadata": {},
   "outputs": [
    {
     "name": "stdout",
     "output_type": "stream",
     "text": [
      "722/722 [==============================] - 1s 2ms/step - loss: 0.1132 - accuracy: 0.9655\n"
     ]
    },
    {
     "data": {
      "text/plain": [
       "[0.1131664291024208, 0.9654545187950134]"
      ]
     },
     "execution_count": 52,
     "metadata": {},
     "output_type": "execute_result"
    }
   ],
   "source": [
    "model9.evaluate(X_testf, y_test)"
   ]
  },
  {
   "cell_type": "code",
   "execution_count": 53,
   "id": "4bb5d403",
   "metadata": {},
   "outputs": [
    {
     "name": "stdout",
     "output_type": "stream",
     "text": [
      "722/722 [==============================] - 1s 1ms/step\n"
     ]
    },
    {
     "data": {
      "text/plain": [
       "<tf.Tensor: shape=(10, 10), dtype=int32, numpy=\n",
       "array([[2322,    1,    7,    2,    7,    4,   14,    1,    5,    1],\n",
       "       [   0, 2543,    4,    2,    4,    3,    6,    0,    2,    1],\n",
       "       [   4,    5, 2234,   16,   12,    2,    4,   20,    4,    0],\n",
       "       [   3,    5,   11, 2229,    4,   46,    1,   16,    8,    3],\n",
       "       [   1,    3,    6,    1, 2262,    2,    6,    7,    2,   16],\n",
       "       [   5,    0,    1,   18,    7, 2036,   19,    2,    5,    2],\n",
       "       [   5,    3,    0,    0,    7,   10, 2200,    1,    3,    0],\n",
       "       [   2,   24,    8,    9,   10,    3,    1, 2302,    5,    8],\n",
       "       [  13,   15,   20,   29,    8,   38,   20,    8, 2088,    7],\n",
       "       [   9,    5,    0,   21,   95,   21,    1,   51,    7, 2086]])>"
      ]
     },
     "execution_count": 53,
     "metadata": {},
     "output_type": "execute_result"
    }
   ],
   "source": [
    "y_predict = model9.predict(X_testf)\n",
    "# y_predict[0]\n",
    "#np.argmax(y_predict[0]) #gives the maximum value out of the given ones\n",
    "predicted_labels = [np.argmax(i) for i in y_predict] #we are getting exactly what has been predicted and putting it into a predicted labels array\n",
    "cm = tf.math.confusion_matrix(labels=y_test,predictions=predicted_labels) #tensorflow has inbuilt provisions to build confusion matrices\n",
    "cm"
   ]
  },
  {
   "cell_type": "code",
   "execution_count": 54,
   "id": "427f2642",
   "metadata": {},
   "outputs": [
    {
     "name": "stdout",
     "output_type": "stream",
     "text": [
      "Epoch 1/5\n",
      "1466/1466 [==============================] - 3s 2ms/step - loss: 0.2826 - accuracy: 0.9172\n",
      "Epoch 2/5\n",
      "1466/1466 [==============================] - 3s 2ms/step - loss: 0.1220 - accuracy: 0.9628\n",
      "Epoch 3/5\n",
      "1466/1466 [==============================] - 3s 2ms/step - loss: 0.0856 - accuracy: 0.9736\n",
      "Epoch 4/5\n",
      "1466/1466 [==============================] - 3s 2ms/step - loss: 0.0647 - accuracy: 0.9791\n",
      "Epoch 5/5\n",
      "1466/1466 [==============================] - 3s 2ms/step - loss: 0.0502 - accuracy: 0.9839\n"
     ]
    },
    {
     "data": {
      "text/plain": [
       "<keras.callbacks.History at 0x25f99d3e490>"
      ]
     },
     "execution_count": 54,
     "metadata": {},
     "output_type": "execute_result"
    }
   ],
   "source": [
    "model10 = keras.Sequential([\n",
    "    keras.layers.Dense(75, input_shape=(784,), activation = 'relu'), #we call it dense since every node in one layer is connected to every node in the next layer    \n",
    "    keras.layers.Dense(75, activation = 'tanh'),\n",
    "    keras.layers.Dense(10, activation = 'softmax')\n",
    "])\n",
    "\n",
    "model10.compile(optimizer = 'adam', loss = 'sparse_categorical_crossentropy', metrics = ['accuracy'])\n",
    "model10.fit(X_trainf, y_train, epochs = 5)"
   ]
  },
  {
   "cell_type": "code",
   "execution_count": 55,
   "id": "41742bc7",
   "metadata": {},
   "outputs": [
    {
     "name": "stdout",
     "output_type": "stream",
     "text": [
      "722/722 [==============================] - 1s 1ms/step - loss: 0.0988 - accuracy: 0.9706\n"
     ]
    },
    {
     "data": {
      "text/plain": [
       "[0.09884919226169586, 0.970562756061554]"
      ]
     },
     "execution_count": 55,
     "metadata": {},
     "output_type": "execute_result"
    }
   ],
   "source": [
    "model10.evaluate(X_testf, y_test)"
   ]
  },
  {
   "cell_type": "code",
   "execution_count": 56,
   "id": "03ee929d",
   "metadata": {},
   "outputs": [
    {
     "name": "stdout",
     "output_type": "stream",
     "text": [
      "722/722 [==============================] - 1s 1ms/step\n"
     ]
    },
    {
     "data": {
      "text/plain": [
       "<tf.Tensor: shape=(10, 10), dtype=int32, numpy=\n",
       "array([[2313,    4,    4,    0,    4,    4,   15,    1,    9,   10],\n",
       "       [   0, 2539,    8,    4,    4,    0,    4,    0,    4,    2],\n",
       "       [   2,    4, 2240,   20,    5,    0,    2,   13,   12,    3],\n",
       "       [   1,    1,   18, 2221,    1,   34,    3,    7,   26,   14],\n",
       "       [   0,    1,    4,    1, 2230,    1,    5,    6,    5,   53],\n",
       "       [   3,    1,    3,   21,    3, 2012,   19,    0,   16,   17],\n",
       "       [   2,    0,    0,    0,   10,    8, 2189,    0,   20,    0],\n",
       "       [   1,   16,    7,   24,    6,    1,    3, 2266,    6,   42],\n",
       "       [   6,   12,   13,   10,    2,    7,    8,    4, 2163,   21],\n",
       "       [   2,    2,    1,    3,   23,    4,    1,    8,    5, 2247]])>"
      ]
     },
     "execution_count": 56,
     "metadata": {},
     "output_type": "execute_result"
    }
   ],
   "source": [
    "y_predict = model10.predict(X_testf)\n",
    "# y_predict[0]\n",
    "#np.argmax(y_predict[0]) #gives the maximum value out of the given ones\n",
    "predicted_labels = [np.argmax(i) for i in y_predict] #we are getting exactly what has been predicted and putting it into a predicted labels array\n",
    "cm = tf.math.confusion_matrix(labels=y_test,predictions=predicted_labels) #tensorflow has inbuilt provisions to build confusion matrices\n",
    "cm"
   ]
  },
  {
   "cell_type": "code",
   "execution_count": 57,
   "id": "346a9e81",
   "metadata": {},
   "outputs": [
    {
     "name": "stdout",
     "output_type": "stream",
     "text": [
      "Epoch 1/5\n",
      "1466/1466 [==============================] - 3s 2ms/step - loss: 0.8063 - accuracy: 0.7999\n",
      "Epoch 2/5\n",
      "1466/1466 [==============================] - 3s 2ms/step - loss: 0.2548 - accuracy: 0.9288\n",
      "Epoch 3/5\n",
      "1466/1466 [==============================] - 3s 2ms/step - loss: 0.1775 - accuracy: 0.9493\n",
      "Epoch 4/5\n",
      "1466/1466 [==============================] - 2s 2ms/step - loss: 0.1387 - accuracy: 0.9600\n",
      "Epoch 5/5\n",
      "1466/1466 [==============================] - 2s 2ms/step - loss: 0.1137 - accuracy: 0.9675\n"
     ]
    },
    {
     "data": {
      "text/plain": [
       "<keras.callbacks.History at 0x25fa0b8b8e0>"
      ]
     },
     "execution_count": 57,
     "metadata": {},
     "output_type": "execute_result"
    }
   ],
   "source": [
    "model11 = keras.Sequential([\n",
    "    keras.layers.Dense(60, input_shape=(784,), activation = 'sigmoid'), #we call it dense since every node in one layer is connected to every node in the next layer    \n",
    "    keras.layers.Dense(50, activation = 'sigmoid'),\n",
    "    keras.layers.Dense(40, activation = 'sigmoid'),\n",
    "    keras.layers.Dense(10, activation = 'softmax')\n",
    "])\n",
    "\n",
    "model11.compile(optimizer = 'adam', loss = 'sparse_categorical_crossentropy', metrics = ['accuracy'])\n",
    "model11.fit(X_trainf, y_train, epochs = 5)"
   ]
  },
  {
   "cell_type": "code",
   "execution_count": 58,
   "id": "835381c6",
   "metadata": {},
   "outputs": [
    {
     "name": "stdout",
     "output_type": "stream",
     "text": [
      "722/722 [==============================] - 1s 1ms/step - loss: 0.1353 - accuracy: 0.9601\n"
     ]
    },
    {
     "data": {
      "text/plain": [
       "[0.13529349863529205, 0.9600865840911865]"
      ]
     },
     "execution_count": 58,
     "metadata": {},
     "output_type": "execute_result"
    }
   ],
   "source": [
    "model11.evaluate(X_testf, y_test)"
   ]
  },
  {
   "cell_type": "code",
   "execution_count": 59,
   "id": "79659279",
   "metadata": {},
   "outputs": [
    {
     "name": "stdout",
     "output_type": "stream",
     "text": [
      "722/722 [==============================] - 1s 1ms/step\n"
     ]
    },
    {
     "data": {
      "text/plain": [
       "<tf.Tensor: shape=(10, 10), dtype=int32, numpy=\n",
       "array([[2330,    0,    5,    0,    7,    3,    4,    1,    9,    5],\n",
       "       [   0, 2497,    8,    4,    3,    2,    5,    7,   33,    6],\n",
       "       [  15,    1, 2192,   19,   14,    1,    9,   23,   23,    4],\n",
       "       [   4,    2,   14, 2197,    2,   28,    0,   28,   40,   11],\n",
       "       [   5,    2,    5,    0, 2239,    2,   12,    5,    4,   32],\n",
       "       [  16,    0,    3,   32,    9, 1983,   18,    0,   25,    9],\n",
       "       [  14,    1,    3,    0,   17,    8, 2172,    0,   14,    0],\n",
       "       [   1,   10,    7,    7,   11,    4,    0, 2261,    7,   64],\n",
       "       [   8,    6,    8,   16,   11,    9,   12,    3, 2154,   19],\n",
       "       [   6,    2,    0,    6,   81,   14,    1,   20,   13, 2153]])>"
      ]
     },
     "execution_count": 59,
     "metadata": {},
     "output_type": "execute_result"
    }
   ],
   "source": [
    "y_predict = model11.predict(X_testf)\n",
    "# y_predict[0]\n",
    "#np.argmax(y_predict[0]) #gives the maximum value out of the given ones\n",
    "predicted_labels = [np.argmax(i) for i in y_predict] #we are getting exactly what has been predicted and putting it into a predicted labels array\n",
    "cm = tf.math.confusion_matrix(labels=y_test,predictions=predicted_labels) #tensorflow has inbuilt provisions to build confusion matrices\n",
    "cm"
   ]
  },
  {
   "cell_type": "code",
   "execution_count": 60,
   "id": "56611146",
   "metadata": {},
   "outputs": [
    {
     "name": "stdout",
     "output_type": "stream",
     "text": [
      "Epoch 1/5\n",
      "1466/1466 [==============================] - 3s 2ms/step - loss: 0.3209 - accuracy: 0.9053\n",
      "Epoch 2/5\n",
      "1466/1466 [==============================] - 3s 2ms/step - loss: 0.1408 - accuracy: 0.9568\n",
      "Epoch 3/5\n",
      "1466/1466 [==============================] - 3s 2ms/step - loss: 0.1022 - accuracy: 0.9685\n",
      "Epoch 4/5\n",
      "1466/1466 [==============================] - 3s 2ms/step - loss: 0.0811 - accuracy: 0.9749\n",
      "Epoch 5/5\n",
      "1466/1466 [==============================] - 3s 2ms/step - loss: 0.0680 - accuracy: 0.9792\n"
     ]
    },
    {
     "data": {
      "text/plain": [
       "<keras.callbacks.History at 0x25fa0ec4af0>"
      ]
     },
     "execution_count": 60,
     "metadata": {},
     "output_type": "execute_result"
    }
   ],
   "source": [
    "model12 = keras.Sequential([\n",
    "    keras.layers.Dense(60, input_shape=(784,), activation = 'relu'), #we call it dense since every node in one layer is connected to every node in the next layer    \n",
    "    keras.layers.Dense(50, activation = 'relu'),\n",
    "    keras.layers.Dense(40, activation = 'relu'),\n",
    "    keras.layers.Dense(10, activation = 'softmax')\n",
    "])\n",
    "\n",
    "model12.compile(optimizer = 'adam', loss = 'sparse_categorical_crossentropy', metrics = ['accuracy'])\n",
    "model12.fit(X_trainf, y_train, epochs = 5)"
   ]
  },
  {
   "cell_type": "code",
   "execution_count": 61,
   "id": "a0ef774d",
   "metadata": {},
   "outputs": [
    {
     "name": "stdout",
     "output_type": "stream",
     "text": [
      "722/722 [==============================] - 1s 1ms/step - loss: 0.1140 - accuracy: 0.9681\n"
     ]
    },
    {
     "data": {
      "text/plain": [
       "[0.1139836460351944, 0.9680952429771423]"
      ]
     },
     "execution_count": 61,
     "metadata": {},
     "output_type": "execute_result"
    }
   ],
   "source": [
    "model12.evaluate(X_testf, y_test)"
   ]
  },
  {
   "cell_type": "code",
   "execution_count": 62,
   "id": "4319d8b1",
   "metadata": {},
   "outputs": [
    {
     "name": "stdout",
     "output_type": "stream",
     "text": [
      "722/722 [==============================] - 1s 1ms/step\n"
     ]
    },
    {
     "data": {
      "text/plain": [
       "<tf.Tensor: shape=(10, 10), dtype=int32, numpy=\n",
       "array([[2342,    0,    2,    0,    3,    1,    6,    3,    5,    2],\n",
       "       [   0, 2516,   21,    1,    7,    0,    5,    7,    7,    1],\n",
       "       [   9,    0, 2240,    3,   12,    3,    2,   21,    7,    4],\n",
       "       [   7,    2,   41, 2169,    1,   46,    1,   22,   26,   11],\n",
       "       [   1,    2,    4,    0, 2259,    0,    3,   10,    0,   27],\n",
       "       [   8,    1,    3,   11,    7, 2022,   20,    0,   12,   11],\n",
       "       [  20,    1,    4,    0,   12,    7, 2181,    0,    4,    0],\n",
       "       [   0,    5,    6,    1,    9,    2,    0, 2337,    4,    8],\n",
       "       [  17,    7,   22,   15,   11,   20,   18,    9, 2105,   22],\n",
       "       [   7,    3,    0,    6,   46,   12,    0,   25,    5, 2192]])>"
      ]
     },
     "execution_count": 62,
     "metadata": {},
     "output_type": "execute_result"
    }
   ],
   "source": [
    "y_predict = model12.predict(X_testf)\n",
    "# y_predict[0]\n",
    "#np.argmax(y_predict[0]) #gives the maximum value out of the given ones\n",
    "predicted_labels = [np.argmax(i) for i in y_predict] #we are getting exactly what has been predicted and putting it into a predicted labels array\n",
    "cm = tf.math.confusion_matrix(labels=y_test,predictions=predicted_labels) #tensorflow has inbuilt provisions to build confusion matrices\n",
    "cm"
   ]
  },
  {
   "cell_type": "code",
   "execution_count": 63,
   "id": "dc100913",
   "metadata": {},
   "outputs": [
    {
     "name": "stdout",
     "output_type": "stream",
     "text": [
      "Epoch 1/5\n",
      "1466/1466 [==============================] - 3s 2ms/step - loss: 0.3195 - accuracy: 0.9094\n",
      "Epoch 2/5\n",
      "1466/1466 [==============================] - 3s 2ms/step - loss: 0.1411 - accuracy: 0.9576\n",
      "Epoch 3/5\n",
      "1466/1466 [==============================] - 3s 2ms/step - loss: 0.1031 - accuracy: 0.9689\n",
      "Epoch 4/5\n",
      "1466/1466 [==============================] - 3s 2ms/step - loss: 0.0812 - accuracy: 0.9744\n",
      "Epoch 5/5\n",
      "1466/1466 [==============================] - 3s 2ms/step - loss: 0.0630 - accuracy: 0.9800\n"
     ]
    },
    {
     "data": {
      "text/plain": [
       "<keras.callbacks.History at 0x25fa32a86d0>"
      ]
     },
     "execution_count": 63,
     "metadata": {},
     "output_type": "execute_result"
    }
   ],
   "source": [
    "model13 = keras.Sequential([\n",
    "    keras.layers.Dense(60, input_shape=(784,), activation = 'tanh'), #we call it dense since every node in one layer is connected to every node in the next layer    \n",
    "    keras.layers.Dense(50, activation = 'tanh'),\n",
    "    keras.layers.Dense(40, activation = 'tanh'),\n",
    "    keras.layers.Dense(10, activation = 'softmax')\n",
    "])\n",
    "\n",
    "model13.compile(optimizer = 'adam', loss = 'sparse_categorical_crossentropy', metrics = ['accuracy'])\n",
    "model13.fit(X_trainf, y_train, epochs = 5)"
   ]
  },
  {
   "cell_type": "code",
   "execution_count": 64,
   "id": "685a7e73",
   "metadata": {},
   "outputs": [
    {
     "name": "stdout",
     "output_type": "stream",
     "text": [
      "722/722 [==============================] - 1s 1ms/step - loss: 0.1066 - accuracy: 0.9699\n"
     ]
    },
    {
     "data": {
      "text/plain": [
       "[0.1066049113869667, 0.9699134230613708]"
      ]
     },
     "execution_count": 64,
     "metadata": {},
     "output_type": "execute_result"
    }
   ],
   "source": [
    "model13.evaluate(X_testf, y_test)"
   ]
  },
  {
   "cell_type": "code",
   "execution_count": 65,
   "id": "1c0ae0f3",
   "metadata": {},
   "outputs": [
    {
     "name": "stdout",
     "output_type": "stream",
     "text": [
      "722/722 [==============================] - 1s 1ms/step\n"
     ]
    },
    {
     "data": {
      "text/plain": [
       "<tf.Tensor: shape=(10, 10), dtype=int32, numpy=\n",
       "array([[2340,    0,    7,    0,    2,    0,    5,    3,    4,    3],\n",
       "       [   0, 2529,   10,    3,    7,    0,    4,    4,    4,    4],\n",
       "       [   8,    3, 2222,   26,    9,    1,    4,   20,    6,    2],\n",
       "       [   6,    2,   12, 2243,    4,   10,    2,   16,   19,   12],\n",
       "       [   3,    1,    9,    0, 2260,    0,    1,    6,    3,   23],\n",
       "       [  12,    0,    4,   42,   11, 1952,   22,    2,   29,   21],\n",
       "       [  12,    0,    2,    1,   13,    3, 2196,    0,    2,    0],\n",
       "       [   3,    6,    9,    5,    5,    0,    1, 2318,    5,   20],\n",
       "       [  15,    6,   12,   20,   10,    9,   10,    8, 2145,   11],\n",
       "       [   3,    2,    0,    9,   56,    1,    1,   19,    5, 2200]])>"
      ]
     },
     "execution_count": 65,
     "metadata": {},
     "output_type": "execute_result"
    }
   ],
   "source": [
    "y_predict = model13.predict(X_testf)\n",
    "# y_predict[0]\n",
    "#np.argmax(y_predict[0]) #gives the maximum value out of the given ones\n",
    "predicted_labels = [np.argmax(i) for i in y_predict] #we are getting exactly what has been predicted and putting it into a predicted labels array\n",
    "cm = tf.math.confusion_matrix(labels=y_test,predictions=predicted_labels) #tensorflow has inbuilt provisions to build confusion matrices\n",
    "cm"
   ]
  },
  {
   "cell_type": "code",
   "execution_count": 66,
   "id": "a2cbe391",
   "metadata": {},
   "outputs": [
    {
     "name": "stdout",
     "output_type": "stream",
     "text": [
      "Epoch 1/5\n",
      "1466/1466 [==============================] - 3s 2ms/step - loss: 0.4155 - accuracy: 0.8819\n",
      "Epoch 2/5\n",
      "1466/1466 [==============================] - 3s 2ms/step - loss: 0.1829 - accuracy: 0.9439\n",
      "Epoch 3/5\n",
      "1466/1466 [==============================] - 3s 2ms/step - loss: 0.1353 - accuracy: 0.9578\n",
      "Epoch 4/5\n",
      "1466/1466 [==============================] - 3s 2ms/step - loss: 0.1057 - accuracy: 0.9675\n",
      "Epoch 5/5\n",
      "1466/1466 [==============================] - 3s 2ms/step - loss: 0.0865 - accuracy: 0.9737\n"
     ]
    },
    {
     "data": {
      "text/plain": [
       "<keras.callbacks.History at 0x25fa219a640>"
      ]
     },
     "execution_count": 66,
     "metadata": {},
     "output_type": "execute_result"
    }
   ],
   "source": [
    "model14 = keras.Sequential([\n",
    "    keras.layers.Dense(60, input_shape=(784,), activation = 'sigmoid'), #we call it dense since every node in one layer is connected to every node in the next layer    \n",
    "    keras.layers.Dense(50, activation = 'relu'),\n",
    "    keras.layers.Dense(40, activation = 'tanh'),\n",
    "    keras.layers.Dense(10, activation = 'softmax')\n",
    "])\n",
    "\n",
    "model14.compile(optimizer = 'adam', loss = 'sparse_categorical_crossentropy', metrics = ['accuracy'])\n",
    "model14.fit(X_trainf, y_train, epochs = 5)"
   ]
  },
  {
   "cell_type": "code",
   "execution_count": 67,
   "id": "d9fbda52",
   "metadata": {},
   "outputs": [
    {
     "name": "stdout",
     "output_type": "stream",
     "text": [
      "722/722 [==============================] - 1s 1ms/step - loss: 0.1181 - accuracy: 0.9647\n"
     ]
    },
    {
     "data": {
      "text/plain": [
       "[0.11808064579963684, 0.9647186398506165]"
      ]
     },
     "execution_count": 67,
     "metadata": {},
     "output_type": "execute_result"
    }
   ],
   "source": [
    "model14.evaluate(X_testf, y_test)"
   ]
  },
  {
   "cell_type": "code",
   "execution_count": 68,
   "id": "60d2fab0",
   "metadata": {},
   "outputs": [
    {
     "name": "stdout",
     "output_type": "stream",
     "text": [
      "722/722 [==============================] - 1s 1ms/step\n"
     ]
    },
    {
     "data": {
      "text/plain": [
       "<tf.Tensor: shape=(10, 10), dtype=int32, numpy=\n",
       "array([[2328,    0,    4,    1,    4,    1,    5,    1,   11,    9],\n",
       "       [   0, 2493,   14,    5,    4,    1,    3,    8,   30,    7],\n",
       "       [   5,    4, 2193,   17,   15,    2,    3,   42,   16,    4],\n",
       "       [   1,    0,   10, 2239,    3,   23,    0,   15,   20,   15],\n",
       "       [   1,    1,    5,    2, 2215,    2,    2,   14,    5,   59],\n",
       "       [   6,    0,    5,   39,    4, 1992,    8,    4,   15,   22],\n",
       "       [  15,    3,    4,    2,   14,   20, 2152,    4,   15,    0],\n",
       "       [   1,    3,    6,   10,    7,    0,    0, 2302,   11,   32],\n",
       "       [   7,    4,   13,   26,    6,    9,    4,    6, 2138,   33],\n",
       "       [   2,    2,    0,    8,   24,    5,    1,   13,    8, 2233]])>"
      ]
     },
     "execution_count": 68,
     "metadata": {},
     "output_type": "execute_result"
    }
   ],
   "source": [
    "y_predict = model14.predict(X_testf)\n",
    "# y_predict[0]\n",
    "#np.argmax(y_predict[0]) #gives the maximum value out of the given ones\n",
    "predicted_labels = [np.argmax(i) for i in y_predict] #we are getting exactly what has been predicted and putting it into a predicted labels array\n",
    "cm = tf.math.confusion_matrix(labels=y_test,predictions=predicted_labels) #tensorflow has inbuilt provisions to build confusion matrices\n",
    "cm"
   ]
  },
  {
   "cell_type": "code",
   "execution_count": 69,
   "id": "64650d49",
   "metadata": {},
   "outputs": [
    {
     "name": "stdout",
     "output_type": "stream",
     "text": [
      "Epoch 1/5\n",
      "1466/1466 [==============================] - 3s 2ms/step - loss: 0.4503 - accuracy: 0.8788\n",
      "Epoch 2/5\n",
      "1466/1466 [==============================] - 3s 2ms/step - loss: 0.2043 - accuracy: 0.9390\n",
      "Epoch 3/5\n",
      "1466/1466 [==============================] - 3s 2ms/step - loss: 0.1505 - accuracy: 0.9547\n",
      "Epoch 4/5\n",
      "1466/1466 [==============================] - 3s 2ms/step - loss: 0.1206 - accuracy: 0.9631\n",
      "Epoch 5/5\n",
      "1466/1466 [==============================] - 3s 2ms/step - loss: 0.0986 - accuracy: 0.9708\n"
     ]
    },
    {
     "data": {
      "text/plain": [
       "<keras.callbacks.History at 0x25fa0e1df70>"
      ]
     },
     "execution_count": 69,
     "metadata": {},
     "output_type": "execute_result"
    }
   ],
   "source": [
    "model15 = keras.Sequential([\n",
    "    keras.layers.Dense(50, input_shape=(784,), activation = 'sigmoid'), #we call it dense since every node in one layer is connected to every node in the next layer    \n",
    "    keras.layers.Dense(50, activation = 'relu'),\n",
    "    keras.layers.Dense(10, activation = 'softmax')\n",
    "])\n",
    "\n",
    "model15.compile(optimizer = 'adam', loss = 'sparse_categorical_crossentropy', metrics = ['accuracy'])\n",
    "model15.fit(X_trainf, y_train, epochs = 5)"
   ]
  },
  {
   "cell_type": "code",
   "execution_count": 70,
   "id": "9aa0d0f6",
   "metadata": {},
   "outputs": [
    {
     "name": "stdout",
     "output_type": "stream",
     "text": [
      "722/722 [==============================] - 1s 2ms/step - loss: 0.1232 - accuracy: 0.9628\n"
     ]
    },
    {
     "data": {
      "text/plain": [
       "[0.12323790788650513, 0.9628138542175293]"
      ]
     },
     "execution_count": 70,
     "metadata": {},
     "output_type": "execute_result"
    }
   ],
   "source": [
    "model15.evaluate(X_testf, y_test)"
   ]
  },
  {
   "cell_type": "code",
   "execution_count": 71,
   "id": "e0a5d08b",
   "metadata": {},
   "outputs": [
    {
     "name": "stdout",
     "output_type": "stream",
     "text": [
      "722/722 [==============================] - 1s 1ms/step\n"
     ]
    },
    {
     "data": {
      "text/plain": [
       "<tf.Tensor: shape=(10, 10), dtype=int32, numpy=\n",
       "array([[2296,    1,    5,    1,    5,   27,   15,    2,    9,    3],\n",
       "       [   0, 2531,   10,    1,    4,    5,    4,    1,    7,    2],\n",
       "       [   8,    6, 2192,   18,   22,    7,    8,   21,   17,    2],\n",
       "       [   2,    3,   16, 2210,    2,   61,    1,   10,   16,    5],\n",
       "       [   0,    2,    8,    0, 2221,    7,    7,    9,    3,   49],\n",
       "       [   2,    0,    3,   20,    5, 2039,   15,    0,    6,    5],\n",
       "       [   5,    0,    3,    1,    9,   15, 2186,    3,    7,    0],\n",
       "       [   1,   17,    9,   17,   15,    6,    0, 2275,    7,   25],\n",
       "       [   5,   15,    7,   28,   11,   41,   12,    6, 2106,   15],\n",
       "       [   3,    5,    0,   17,   38,   25,    1,   15,    7, 2185]])>"
      ]
     },
     "execution_count": 71,
     "metadata": {},
     "output_type": "execute_result"
    }
   ],
   "source": [
    "y_predict = model15.predict(X_testf)\n",
    "# y_predict[0]\n",
    "#np.argmax(y_predict[0]) #gives the maximum value out of the given ones\n",
    "predicted_labels = [np.argmax(i) for i in y_predict] #we are getting exactly what has been predicted and putting it into a predicted labels array\n",
    "cm = tf.math.confusion_matrix(labels=y_test,predictions=predicted_labels) #tensorflow has inbuilt provisions to build confusion matrices\n",
    "cm"
   ]
  }
 ],
 "metadata": {
  "kernelspec": {
   "display_name": "Python 3 (ipykernel)",
   "language": "python",
   "name": "python3"
  },
  "language_info": {
   "codemirror_mode": {
    "name": "ipython",
    "version": 3
   },
   "file_extension": ".py",
   "mimetype": "text/x-python",
   "name": "python",
   "nbconvert_exporter": "python",
   "pygments_lexer": "ipython3",
   "version": "3.9.16"
  }
 },
 "nbformat": 4,
 "nbformat_minor": 5
}
