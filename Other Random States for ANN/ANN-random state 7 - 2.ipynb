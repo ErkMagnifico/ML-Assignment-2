{
 "cells": [
  {
   "cell_type": "code",
   "execution_count": 1,
   "id": "036874ec",
   "metadata": {},
   "outputs": [],
   "source": [
    "import numpy as np\n",
    "import pandas as pd\n",
    "import tensorflow as tf\n",
    "from tensorflow import keras"
   ]
  },
  {
   "cell_type": "code",
   "execution_count": 2,
   "id": "5a726a2f",
   "metadata": {},
   "outputs": [],
   "source": [
    "(x_train, y_train), (x_test, y_test) = keras.datasets.mnist.load_data()\n"
   ]
  },
  {
   "cell_type": "code",
   "execution_count": 3,
   "id": "562846dd",
   "metadata": {},
   "outputs": [],
   "source": [
    "x_train2 = x_train.reshape(len(x_train), 28 * 28)\n",
    "df1 = pd.DataFrame(x_train2)\n"
   ]
  },
  {
   "cell_type": "code",
   "execution_count": 4,
   "id": "be135681",
   "metadata": {},
   "outputs": [
    {
     "data": {
      "text/html": [
       "<div>\n",
       "<style scoped>\n",
       "    .dataframe tbody tr th:only-of-type {\n",
       "        vertical-align: middle;\n",
       "    }\n",
       "\n",
       "    .dataframe tbody tr th {\n",
       "        vertical-align: top;\n",
       "    }\n",
       "\n",
       "    .dataframe thead th {\n",
       "        text-align: right;\n",
       "    }\n",
       "</style>\n",
       "<table border=\"1\" class=\"dataframe\">\n",
       "  <thead>\n",
       "    <tr style=\"text-align: right;\">\n",
       "      <th></th>\n",
       "      <th>0</th>\n",
       "      <th>1</th>\n",
       "      <th>2</th>\n",
       "      <th>3</th>\n",
       "      <th>4</th>\n",
       "      <th>5</th>\n",
       "      <th>6</th>\n",
       "      <th>7</th>\n",
       "      <th>8</th>\n",
       "      <th>9</th>\n",
       "      <th>...</th>\n",
       "      <th>774</th>\n",
       "      <th>775</th>\n",
       "      <th>776</th>\n",
       "      <th>777</th>\n",
       "      <th>778</th>\n",
       "      <th>779</th>\n",
       "      <th>780</th>\n",
       "      <th>781</th>\n",
       "      <th>782</th>\n",
       "      <th>783</th>\n",
       "    </tr>\n",
       "  </thead>\n",
       "  <tbody>\n",
       "    <tr>\n",
       "      <th>0</th>\n",
       "      <td>0</td>\n",
       "      <td>0</td>\n",
       "      <td>0</td>\n",
       "      <td>0</td>\n",
       "      <td>0</td>\n",
       "      <td>0</td>\n",
       "      <td>0</td>\n",
       "      <td>0</td>\n",
       "      <td>0</td>\n",
       "      <td>0</td>\n",
       "      <td>...</td>\n",
       "      <td>0</td>\n",
       "      <td>0</td>\n",
       "      <td>0</td>\n",
       "      <td>0</td>\n",
       "      <td>0</td>\n",
       "      <td>0</td>\n",
       "      <td>0</td>\n",
       "      <td>0</td>\n",
       "      <td>0</td>\n",
       "      <td>0</td>\n",
       "    </tr>\n",
       "    <tr>\n",
       "      <th>1</th>\n",
       "      <td>0</td>\n",
       "      <td>0</td>\n",
       "      <td>0</td>\n",
       "      <td>0</td>\n",
       "      <td>0</td>\n",
       "      <td>0</td>\n",
       "      <td>0</td>\n",
       "      <td>0</td>\n",
       "      <td>0</td>\n",
       "      <td>0</td>\n",
       "      <td>...</td>\n",
       "      <td>0</td>\n",
       "      <td>0</td>\n",
       "      <td>0</td>\n",
       "      <td>0</td>\n",
       "      <td>0</td>\n",
       "      <td>0</td>\n",
       "      <td>0</td>\n",
       "      <td>0</td>\n",
       "      <td>0</td>\n",
       "      <td>0</td>\n",
       "    </tr>\n",
       "    <tr>\n",
       "      <th>2</th>\n",
       "      <td>0</td>\n",
       "      <td>0</td>\n",
       "      <td>0</td>\n",
       "      <td>0</td>\n",
       "      <td>0</td>\n",
       "      <td>0</td>\n",
       "      <td>0</td>\n",
       "      <td>0</td>\n",
       "      <td>0</td>\n",
       "      <td>0</td>\n",
       "      <td>...</td>\n",
       "      <td>0</td>\n",
       "      <td>0</td>\n",
       "      <td>0</td>\n",
       "      <td>0</td>\n",
       "      <td>0</td>\n",
       "      <td>0</td>\n",
       "      <td>0</td>\n",
       "      <td>0</td>\n",
       "      <td>0</td>\n",
       "      <td>0</td>\n",
       "    </tr>\n",
       "    <tr>\n",
       "      <th>3</th>\n",
       "      <td>0</td>\n",
       "      <td>0</td>\n",
       "      <td>0</td>\n",
       "      <td>0</td>\n",
       "      <td>0</td>\n",
       "      <td>0</td>\n",
       "      <td>0</td>\n",
       "      <td>0</td>\n",
       "      <td>0</td>\n",
       "      <td>0</td>\n",
       "      <td>...</td>\n",
       "      <td>0</td>\n",
       "      <td>0</td>\n",
       "      <td>0</td>\n",
       "      <td>0</td>\n",
       "      <td>0</td>\n",
       "      <td>0</td>\n",
       "      <td>0</td>\n",
       "      <td>0</td>\n",
       "      <td>0</td>\n",
       "      <td>0</td>\n",
       "    </tr>\n",
       "    <tr>\n",
       "      <th>4</th>\n",
       "      <td>0</td>\n",
       "      <td>0</td>\n",
       "      <td>0</td>\n",
       "      <td>0</td>\n",
       "      <td>0</td>\n",
       "      <td>0</td>\n",
       "      <td>0</td>\n",
       "      <td>0</td>\n",
       "      <td>0</td>\n",
       "      <td>0</td>\n",
       "      <td>...</td>\n",
       "      <td>0</td>\n",
       "      <td>0</td>\n",
       "      <td>0</td>\n",
       "      <td>0</td>\n",
       "      <td>0</td>\n",
       "      <td>0</td>\n",
       "      <td>0</td>\n",
       "      <td>0</td>\n",
       "      <td>0</td>\n",
       "      <td>0</td>\n",
       "    </tr>\n",
       "    <tr>\n",
       "      <th>...</th>\n",
       "      <td>...</td>\n",
       "      <td>...</td>\n",
       "      <td>...</td>\n",
       "      <td>...</td>\n",
       "      <td>...</td>\n",
       "      <td>...</td>\n",
       "      <td>...</td>\n",
       "      <td>...</td>\n",
       "      <td>...</td>\n",
       "      <td>...</td>\n",
       "      <td>...</td>\n",
       "      <td>...</td>\n",
       "      <td>...</td>\n",
       "      <td>...</td>\n",
       "      <td>...</td>\n",
       "      <td>...</td>\n",
       "      <td>...</td>\n",
       "      <td>...</td>\n",
       "      <td>...</td>\n",
       "      <td>...</td>\n",
       "      <td>...</td>\n",
       "    </tr>\n",
       "    <tr>\n",
       "      <th>59995</th>\n",
       "      <td>0</td>\n",
       "      <td>0</td>\n",
       "      <td>0</td>\n",
       "      <td>0</td>\n",
       "      <td>0</td>\n",
       "      <td>0</td>\n",
       "      <td>0</td>\n",
       "      <td>0</td>\n",
       "      <td>0</td>\n",
       "      <td>0</td>\n",
       "      <td>...</td>\n",
       "      <td>0</td>\n",
       "      <td>0</td>\n",
       "      <td>0</td>\n",
       "      <td>0</td>\n",
       "      <td>0</td>\n",
       "      <td>0</td>\n",
       "      <td>0</td>\n",
       "      <td>0</td>\n",
       "      <td>0</td>\n",
       "      <td>0</td>\n",
       "    </tr>\n",
       "    <tr>\n",
       "      <th>59996</th>\n",
       "      <td>0</td>\n",
       "      <td>0</td>\n",
       "      <td>0</td>\n",
       "      <td>0</td>\n",
       "      <td>0</td>\n",
       "      <td>0</td>\n",
       "      <td>0</td>\n",
       "      <td>0</td>\n",
       "      <td>0</td>\n",
       "      <td>0</td>\n",
       "      <td>...</td>\n",
       "      <td>0</td>\n",
       "      <td>0</td>\n",
       "      <td>0</td>\n",
       "      <td>0</td>\n",
       "      <td>0</td>\n",
       "      <td>0</td>\n",
       "      <td>0</td>\n",
       "      <td>0</td>\n",
       "      <td>0</td>\n",
       "      <td>0</td>\n",
       "    </tr>\n",
       "    <tr>\n",
       "      <th>59997</th>\n",
       "      <td>0</td>\n",
       "      <td>0</td>\n",
       "      <td>0</td>\n",
       "      <td>0</td>\n",
       "      <td>0</td>\n",
       "      <td>0</td>\n",
       "      <td>0</td>\n",
       "      <td>0</td>\n",
       "      <td>0</td>\n",
       "      <td>0</td>\n",
       "      <td>...</td>\n",
       "      <td>0</td>\n",
       "      <td>0</td>\n",
       "      <td>0</td>\n",
       "      <td>0</td>\n",
       "      <td>0</td>\n",
       "      <td>0</td>\n",
       "      <td>0</td>\n",
       "      <td>0</td>\n",
       "      <td>0</td>\n",
       "      <td>0</td>\n",
       "    </tr>\n",
       "    <tr>\n",
       "      <th>59998</th>\n",
       "      <td>0</td>\n",
       "      <td>0</td>\n",
       "      <td>0</td>\n",
       "      <td>0</td>\n",
       "      <td>0</td>\n",
       "      <td>0</td>\n",
       "      <td>0</td>\n",
       "      <td>0</td>\n",
       "      <td>0</td>\n",
       "      <td>0</td>\n",
       "      <td>...</td>\n",
       "      <td>0</td>\n",
       "      <td>0</td>\n",
       "      <td>0</td>\n",
       "      <td>0</td>\n",
       "      <td>0</td>\n",
       "      <td>0</td>\n",
       "      <td>0</td>\n",
       "      <td>0</td>\n",
       "      <td>0</td>\n",
       "      <td>0</td>\n",
       "    </tr>\n",
       "    <tr>\n",
       "      <th>59999</th>\n",
       "      <td>0</td>\n",
       "      <td>0</td>\n",
       "      <td>0</td>\n",
       "      <td>0</td>\n",
       "      <td>0</td>\n",
       "      <td>0</td>\n",
       "      <td>0</td>\n",
       "      <td>0</td>\n",
       "      <td>0</td>\n",
       "      <td>0</td>\n",
       "      <td>...</td>\n",
       "      <td>0</td>\n",
       "      <td>0</td>\n",
       "      <td>0</td>\n",
       "      <td>0</td>\n",
       "      <td>0</td>\n",
       "      <td>0</td>\n",
       "      <td>0</td>\n",
       "      <td>0</td>\n",
       "      <td>0</td>\n",
       "      <td>0</td>\n",
       "    </tr>\n",
       "  </tbody>\n",
       "</table>\n",
       "<p>60000 rows × 784 columns</p>\n",
       "</div>"
      ],
      "text/plain": [
       "       0    1    2    3    4    5    6    7    8    9    ...  774  775  776  \\\n",
       "0        0    0    0    0    0    0    0    0    0    0  ...    0    0    0   \n",
       "1        0    0    0    0    0    0    0    0    0    0  ...    0    0    0   \n",
       "2        0    0    0    0    0    0    0    0    0    0  ...    0    0    0   \n",
       "3        0    0    0    0    0    0    0    0    0    0  ...    0    0    0   \n",
       "4        0    0    0    0    0    0    0    0    0    0  ...    0    0    0   \n",
       "...    ...  ...  ...  ...  ...  ...  ...  ...  ...  ...  ...  ...  ...  ...   \n",
       "59995    0    0    0    0    0    0    0    0    0    0  ...    0    0    0   \n",
       "59996    0    0    0    0    0    0    0    0    0    0  ...    0    0    0   \n",
       "59997    0    0    0    0    0    0    0    0    0    0  ...    0    0    0   \n",
       "59998    0    0    0    0    0    0    0    0    0    0  ...    0    0    0   \n",
       "59999    0    0    0    0    0    0    0    0    0    0  ...    0    0    0   \n",
       "\n",
       "       777  778  779  780  781  782  783  \n",
       "0        0    0    0    0    0    0    0  \n",
       "1        0    0    0    0    0    0    0  \n",
       "2        0    0    0    0    0    0    0  \n",
       "3        0    0    0    0    0    0    0  \n",
       "4        0    0    0    0    0    0    0  \n",
       "...    ...  ...  ...  ...  ...  ...  ...  \n",
       "59995    0    0    0    0    0    0    0  \n",
       "59996    0    0    0    0    0    0    0  \n",
       "59997    0    0    0    0    0    0    0  \n",
       "59998    0    0    0    0    0    0    0  \n",
       "59999    0    0    0    0    0    0    0  \n",
       "\n",
       "[60000 rows x 784 columns]"
      ]
     },
     "execution_count": 4,
     "metadata": {},
     "output_type": "execute_result"
    }
   ],
   "source": [
    "df1"
   ]
  },
  {
   "cell_type": "code",
   "execution_count": 5,
   "id": "e5fb2452",
   "metadata": {},
   "outputs": [],
   "source": [
    "df1_target = pd.DataFrame(y_train)"
   ]
  },
  {
   "cell_type": "code",
   "execution_count": 6,
   "id": "90285008",
   "metadata": {},
   "outputs": [
    {
     "data": {
      "text/html": [
       "<div>\n",
       "<style scoped>\n",
       "    .dataframe tbody tr th:only-of-type {\n",
       "        vertical-align: middle;\n",
       "    }\n",
       "\n",
       "    .dataframe tbody tr th {\n",
       "        vertical-align: top;\n",
       "    }\n",
       "\n",
       "    .dataframe thead th {\n",
       "        text-align: right;\n",
       "    }\n",
       "</style>\n",
       "<table border=\"1\" class=\"dataframe\">\n",
       "  <thead>\n",
       "    <tr style=\"text-align: right;\">\n",
       "      <th></th>\n",
       "      <th>0</th>\n",
       "    </tr>\n",
       "  </thead>\n",
       "  <tbody>\n",
       "    <tr>\n",
       "      <th>0</th>\n",
       "      <td>5</td>\n",
       "    </tr>\n",
       "    <tr>\n",
       "      <th>1</th>\n",
       "      <td>0</td>\n",
       "    </tr>\n",
       "    <tr>\n",
       "      <th>2</th>\n",
       "      <td>4</td>\n",
       "    </tr>\n",
       "    <tr>\n",
       "      <th>3</th>\n",
       "      <td>1</td>\n",
       "    </tr>\n",
       "    <tr>\n",
       "      <th>4</th>\n",
       "      <td>9</td>\n",
       "    </tr>\n",
       "    <tr>\n",
       "      <th>...</th>\n",
       "      <td>...</td>\n",
       "    </tr>\n",
       "    <tr>\n",
       "      <th>59995</th>\n",
       "      <td>8</td>\n",
       "    </tr>\n",
       "    <tr>\n",
       "      <th>59996</th>\n",
       "      <td>3</td>\n",
       "    </tr>\n",
       "    <tr>\n",
       "      <th>59997</th>\n",
       "      <td>5</td>\n",
       "    </tr>\n",
       "    <tr>\n",
       "      <th>59998</th>\n",
       "      <td>6</td>\n",
       "    </tr>\n",
       "    <tr>\n",
       "      <th>59999</th>\n",
       "      <td>8</td>\n",
       "    </tr>\n",
       "  </tbody>\n",
       "</table>\n",
       "<p>60000 rows × 1 columns</p>\n",
       "</div>"
      ],
      "text/plain": [
       "       0\n",
       "0      5\n",
       "1      0\n",
       "2      4\n",
       "3      1\n",
       "4      9\n",
       "...   ..\n",
       "59995  8\n",
       "59996  3\n",
       "59997  5\n",
       "59998  6\n",
       "59999  8\n",
       "\n",
       "[60000 rows x 1 columns]"
      ]
     },
     "execution_count": 6,
     "metadata": {},
     "output_type": "execute_result"
    }
   ],
   "source": [
    "df1_target"
   ]
  },
  {
   "cell_type": "code",
   "execution_count": 7,
   "id": "70101328",
   "metadata": {},
   "outputs": [
    {
     "data": {
      "text/html": [
       "<div>\n",
       "<style scoped>\n",
       "    .dataframe tbody tr th:only-of-type {\n",
       "        vertical-align: middle;\n",
       "    }\n",
       "\n",
       "    .dataframe tbody tr th {\n",
       "        vertical-align: top;\n",
       "    }\n",
       "\n",
       "    .dataframe thead th {\n",
       "        text-align: right;\n",
       "    }\n",
       "</style>\n",
       "<table border=\"1\" class=\"dataframe\">\n",
       "  <thead>\n",
       "    <tr style=\"text-align: right;\">\n",
       "      <th></th>\n",
       "      <th>0</th>\n",
       "      <th>1</th>\n",
       "      <th>2</th>\n",
       "      <th>3</th>\n",
       "      <th>4</th>\n",
       "      <th>5</th>\n",
       "      <th>6</th>\n",
       "      <th>7</th>\n",
       "      <th>8</th>\n",
       "      <th>9</th>\n",
       "      <th>...</th>\n",
       "      <th>775</th>\n",
       "      <th>776</th>\n",
       "      <th>777</th>\n",
       "      <th>778</th>\n",
       "      <th>779</th>\n",
       "      <th>780</th>\n",
       "      <th>781</th>\n",
       "      <th>782</th>\n",
       "      <th>783</th>\n",
       "      <th>target</th>\n",
       "    </tr>\n",
       "  </thead>\n",
       "  <tbody>\n",
       "    <tr>\n",
       "      <th>0</th>\n",
       "      <td>0</td>\n",
       "      <td>0</td>\n",
       "      <td>0</td>\n",
       "      <td>0</td>\n",
       "      <td>0</td>\n",
       "      <td>0</td>\n",
       "      <td>0</td>\n",
       "      <td>0</td>\n",
       "      <td>0</td>\n",
       "      <td>0</td>\n",
       "      <td>...</td>\n",
       "      <td>0</td>\n",
       "      <td>0</td>\n",
       "      <td>0</td>\n",
       "      <td>0</td>\n",
       "      <td>0</td>\n",
       "      <td>0</td>\n",
       "      <td>0</td>\n",
       "      <td>0</td>\n",
       "      <td>0</td>\n",
       "      <td>5</td>\n",
       "    </tr>\n",
       "    <tr>\n",
       "      <th>1</th>\n",
       "      <td>0</td>\n",
       "      <td>0</td>\n",
       "      <td>0</td>\n",
       "      <td>0</td>\n",
       "      <td>0</td>\n",
       "      <td>0</td>\n",
       "      <td>0</td>\n",
       "      <td>0</td>\n",
       "      <td>0</td>\n",
       "      <td>0</td>\n",
       "      <td>...</td>\n",
       "      <td>0</td>\n",
       "      <td>0</td>\n",
       "      <td>0</td>\n",
       "      <td>0</td>\n",
       "      <td>0</td>\n",
       "      <td>0</td>\n",
       "      <td>0</td>\n",
       "      <td>0</td>\n",
       "      <td>0</td>\n",
       "      <td>0</td>\n",
       "    </tr>\n",
       "    <tr>\n",
       "      <th>2</th>\n",
       "      <td>0</td>\n",
       "      <td>0</td>\n",
       "      <td>0</td>\n",
       "      <td>0</td>\n",
       "      <td>0</td>\n",
       "      <td>0</td>\n",
       "      <td>0</td>\n",
       "      <td>0</td>\n",
       "      <td>0</td>\n",
       "      <td>0</td>\n",
       "      <td>...</td>\n",
       "      <td>0</td>\n",
       "      <td>0</td>\n",
       "      <td>0</td>\n",
       "      <td>0</td>\n",
       "      <td>0</td>\n",
       "      <td>0</td>\n",
       "      <td>0</td>\n",
       "      <td>0</td>\n",
       "      <td>0</td>\n",
       "      <td>4</td>\n",
       "    </tr>\n",
       "    <tr>\n",
       "      <th>3</th>\n",
       "      <td>0</td>\n",
       "      <td>0</td>\n",
       "      <td>0</td>\n",
       "      <td>0</td>\n",
       "      <td>0</td>\n",
       "      <td>0</td>\n",
       "      <td>0</td>\n",
       "      <td>0</td>\n",
       "      <td>0</td>\n",
       "      <td>0</td>\n",
       "      <td>...</td>\n",
       "      <td>0</td>\n",
       "      <td>0</td>\n",
       "      <td>0</td>\n",
       "      <td>0</td>\n",
       "      <td>0</td>\n",
       "      <td>0</td>\n",
       "      <td>0</td>\n",
       "      <td>0</td>\n",
       "      <td>0</td>\n",
       "      <td>1</td>\n",
       "    </tr>\n",
       "    <tr>\n",
       "      <th>4</th>\n",
       "      <td>0</td>\n",
       "      <td>0</td>\n",
       "      <td>0</td>\n",
       "      <td>0</td>\n",
       "      <td>0</td>\n",
       "      <td>0</td>\n",
       "      <td>0</td>\n",
       "      <td>0</td>\n",
       "      <td>0</td>\n",
       "      <td>0</td>\n",
       "      <td>...</td>\n",
       "      <td>0</td>\n",
       "      <td>0</td>\n",
       "      <td>0</td>\n",
       "      <td>0</td>\n",
       "      <td>0</td>\n",
       "      <td>0</td>\n",
       "      <td>0</td>\n",
       "      <td>0</td>\n",
       "      <td>0</td>\n",
       "      <td>9</td>\n",
       "    </tr>\n",
       "  </tbody>\n",
       "</table>\n",
       "<p>5 rows × 785 columns</p>\n",
       "</div>"
      ],
      "text/plain": [
       "   0  1  2  3  4  5  6  7  8  9  ...  775  776  777  778  779  780  781  782  \\\n",
       "0  0  0  0  0  0  0  0  0  0  0  ...    0    0    0    0    0    0    0    0   \n",
       "1  0  0  0  0  0  0  0  0  0  0  ...    0    0    0    0    0    0    0    0   \n",
       "2  0  0  0  0  0  0  0  0  0  0  ...    0    0    0    0    0    0    0    0   \n",
       "3  0  0  0  0  0  0  0  0  0  0  ...    0    0    0    0    0    0    0    0   \n",
       "4  0  0  0  0  0  0  0  0  0  0  ...    0    0    0    0    0    0    0    0   \n",
       "\n",
       "   783  target  \n",
       "0    0       5  \n",
       "1    0       0  \n",
       "2    0       4  \n",
       "3    0       1  \n",
       "4    0       9  \n",
       "\n",
       "[5 rows x 785 columns]"
      ]
     },
     "execution_count": 7,
     "metadata": {},
     "output_type": "execute_result"
    }
   ],
   "source": [
    "df1['target'] = df1_target[0]\n",
    "df1.head()"
   ]
  },
  {
   "cell_type": "markdown",
   "id": "42812e09",
   "metadata": {},
   "source": [
    "# We did the merging for X_train and y_train, now lets do it for X_test and y_test"
   ]
  },
  {
   "cell_type": "code",
   "execution_count": 8,
   "id": "267c1a58",
   "metadata": {},
   "outputs": [
    {
     "data": {
      "text/html": [
       "<div>\n",
       "<style scoped>\n",
       "    .dataframe tbody tr th:only-of-type {\n",
       "        vertical-align: middle;\n",
       "    }\n",
       "\n",
       "    .dataframe tbody tr th {\n",
       "        vertical-align: top;\n",
       "    }\n",
       "\n",
       "    .dataframe thead th {\n",
       "        text-align: right;\n",
       "    }\n",
       "</style>\n",
       "<table border=\"1\" class=\"dataframe\">\n",
       "  <thead>\n",
       "    <tr style=\"text-align: right;\">\n",
       "      <th></th>\n",
       "      <th>0</th>\n",
       "      <th>1</th>\n",
       "      <th>2</th>\n",
       "      <th>3</th>\n",
       "      <th>4</th>\n",
       "      <th>5</th>\n",
       "      <th>6</th>\n",
       "      <th>7</th>\n",
       "      <th>8</th>\n",
       "      <th>9</th>\n",
       "      <th>...</th>\n",
       "      <th>775</th>\n",
       "      <th>776</th>\n",
       "      <th>777</th>\n",
       "      <th>778</th>\n",
       "      <th>779</th>\n",
       "      <th>780</th>\n",
       "      <th>781</th>\n",
       "      <th>782</th>\n",
       "      <th>783</th>\n",
       "      <th>target</th>\n",
       "    </tr>\n",
       "  </thead>\n",
       "  <tbody>\n",
       "    <tr>\n",
       "      <th>0</th>\n",
       "      <td>0</td>\n",
       "      <td>0</td>\n",
       "      <td>0</td>\n",
       "      <td>0</td>\n",
       "      <td>0</td>\n",
       "      <td>0</td>\n",
       "      <td>0</td>\n",
       "      <td>0</td>\n",
       "      <td>0</td>\n",
       "      <td>0</td>\n",
       "      <td>...</td>\n",
       "      <td>0</td>\n",
       "      <td>0</td>\n",
       "      <td>0</td>\n",
       "      <td>0</td>\n",
       "      <td>0</td>\n",
       "      <td>0</td>\n",
       "      <td>0</td>\n",
       "      <td>0</td>\n",
       "      <td>0</td>\n",
       "      <td>7</td>\n",
       "    </tr>\n",
       "    <tr>\n",
       "      <th>1</th>\n",
       "      <td>0</td>\n",
       "      <td>0</td>\n",
       "      <td>0</td>\n",
       "      <td>0</td>\n",
       "      <td>0</td>\n",
       "      <td>0</td>\n",
       "      <td>0</td>\n",
       "      <td>0</td>\n",
       "      <td>0</td>\n",
       "      <td>0</td>\n",
       "      <td>...</td>\n",
       "      <td>0</td>\n",
       "      <td>0</td>\n",
       "      <td>0</td>\n",
       "      <td>0</td>\n",
       "      <td>0</td>\n",
       "      <td>0</td>\n",
       "      <td>0</td>\n",
       "      <td>0</td>\n",
       "      <td>0</td>\n",
       "      <td>2</td>\n",
       "    </tr>\n",
       "    <tr>\n",
       "      <th>2</th>\n",
       "      <td>0</td>\n",
       "      <td>0</td>\n",
       "      <td>0</td>\n",
       "      <td>0</td>\n",
       "      <td>0</td>\n",
       "      <td>0</td>\n",
       "      <td>0</td>\n",
       "      <td>0</td>\n",
       "      <td>0</td>\n",
       "      <td>0</td>\n",
       "      <td>...</td>\n",
       "      <td>0</td>\n",
       "      <td>0</td>\n",
       "      <td>0</td>\n",
       "      <td>0</td>\n",
       "      <td>0</td>\n",
       "      <td>0</td>\n",
       "      <td>0</td>\n",
       "      <td>0</td>\n",
       "      <td>0</td>\n",
       "      <td>1</td>\n",
       "    </tr>\n",
       "    <tr>\n",
       "      <th>3</th>\n",
       "      <td>0</td>\n",
       "      <td>0</td>\n",
       "      <td>0</td>\n",
       "      <td>0</td>\n",
       "      <td>0</td>\n",
       "      <td>0</td>\n",
       "      <td>0</td>\n",
       "      <td>0</td>\n",
       "      <td>0</td>\n",
       "      <td>0</td>\n",
       "      <td>...</td>\n",
       "      <td>0</td>\n",
       "      <td>0</td>\n",
       "      <td>0</td>\n",
       "      <td>0</td>\n",
       "      <td>0</td>\n",
       "      <td>0</td>\n",
       "      <td>0</td>\n",
       "      <td>0</td>\n",
       "      <td>0</td>\n",
       "      <td>0</td>\n",
       "    </tr>\n",
       "    <tr>\n",
       "      <th>4</th>\n",
       "      <td>0</td>\n",
       "      <td>0</td>\n",
       "      <td>0</td>\n",
       "      <td>0</td>\n",
       "      <td>0</td>\n",
       "      <td>0</td>\n",
       "      <td>0</td>\n",
       "      <td>0</td>\n",
       "      <td>0</td>\n",
       "      <td>0</td>\n",
       "      <td>...</td>\n",
       "      <td>0</td>\n",
       "      <td>0</td>\n",
       "      <td>0</td>\n",
       "      <td>0</td>\n",
       "      <td>0</td>\n",
       "      <td>0</td>\n",
       "      <td>0</td>\n",
       "      <td>0</td>\n",
       "      <td>0</td>\n",
       "      <td>4</td>\n",
       "    </tr>\n",
       "  </tbody>\n",
       "</table>\n",
       "<p>5 rows × 785 columns</p>\n",
       "</div>"
      ],
      "text/plain": [
       "   0  1  2  3  4  5  6  7  8  9  ...  775  776  777  778  779  780  781  782  \\\n",
       "0  0  0  0  0  0  0  0  0  0  0  ...    0    0    0    0    0    0    0    0   \n",
       "1  0  0  0  0  0  0  0  0  0  0  ...    0    0    0    0    0    0    0    0   \n",
       "2  0  0  0  0  0  0  0  0  0  0  ...    0    0    0    0    0    0    0    0   \n",
       "3  0  0  0  0  0  0  0  0  0  0  ...    0    0    0    0    0    0    0    0   \n",
       "4  0  0  0  0  0  0  0  0  0  0  ...    0    0    0    0    0    0    0    0   \n",
       "\n",
       "   783  target  \n",
       "0    0       7  \n",
       "1    0       2  \n",
       "2    0       1  \n",
       "3    0       0  \n",
       "4    0       4  \n",
       "\n",
       "[5 rows x 785 columns]"
      ]
     },
     "execution_count": 8,
     "metadata": {},
     "output_type": "execute_result"
    }
   ],
   "source": [
    "x_test2 = x_test.reshape(len(x_test), 28 * 28)\n",
    "df2 = pd.DataFrame(x_test2)\n",
    "df2_target = pd.DataFrame(y_test)\n",
    "df2['target'] = df2_target[0]\n",
    "df2.head()\n",
    "\n",
    "##MERGING HAS BEEN DONE. WE NOW HAVE DF1 and DF2"
   ]
  },
  {
   "cell_type": "code",
   "execution_count": 9,
   "id": "abcf9ad0",
   "metadata": {},
   "outputs": [
    {
     "data": {
      "text/html": [
       "<div>\n",
       "<style scoped>\n",
       "    .dataframe tbody tr th:only-of-type {\n",
       "        vertical-align: middle;\n",
       "    }\n",
       "\n",
       "    .dataframe tbody tr th {\n",
       "        vertical-align: top;\n",
       "    }\n",
       "\n",
       "    .dataframe thead th {\n",
       "        text-align: right;\n",
       "    }\n",
       "</style>\n",
       "<table border=\"1\" class=\"dataframe\">\n",
       "  <thead>\n",
       "    <tr style=\"text-align: right;\">\n",
       "      <th></th>\n",
       "      <th>0</th>\n",
       "      <th>1</th>\n",
       "      <th>2</th>\n",
       "      <th>3</th>\n",
       "      <th>4</th>\n",
       "      <th>5</th>\n",
       "      <th>6</th>\n",
       "      <th>7</th>\n",
       "      <th>8</th>\n",
       "      <th>9</th>\n",
       "      <th>...</th>\n",
       "      <th>775</th>\n",
       "      <th>776</th>\n",
       "      <th>777</th>\n",
       "      <th>778</th>\n",
       "      <th>779</th>\n",
       "      <th>780</th>\n",
       "      <th>781</th>\n",
       "      <th>782</th>\n",
       "      <th>783</th>\n",
       "      <th>target</th>\n",
       "    </tr>\n",
       "  </thead>\n",
       "  <tbody>\n",
       "    <tr>\n",
       "      <th>0</th>\n",
       "      <td>0</td>\n",
       "      <td>0</td>\n",
       "      <td>0</td>\n",
       "      <td>0</td>\n",
       "      <td>0</td>\n",
       "      <td>0</td>\n",
       "      <td>0</td>\n",
       "      <td>0</td>\n",
       "      <td>0</td>\n",
       "      <td>0</td>\n",
       "      <td>...</td>\n",
       "      <td>0</td>\n",
       "      <td>0</td>\n",
       "      <td>0</td>\n",
       "      <td>0</td>\n",
       "      <td>0</td>\n",
       "      <td>0</td>\n",
       "      <td>0</td>\n",
       "      <td>0</td>\n",
       "      <td>0</td>\n",
       "      <td>5</td>\n",
       "    </tr>\n",
       "    <tr>\n",
       "      <th>1</th>\n",
       "      <td>0</td>\n",
       "      <td>0</td>\n",
       "      <td>0</td>\n",
       "      <td>0</td>\n",
       "      <td>0</td>\n",
       "      <td>0</td>\n",
       "      <td>0</td>\n",
       "      <td>0</td>\n",
       "      <td>0</td>\n",
       "      <td>0</td>\n",
       "      <td>...</td>\n",
       "      <td>0</td>\n",
       "      <td>0</td>\n",
       "      <td>0</td>\n",
       "      <td>0</td>\n",
       "      <td>0</td>\n",
       "      <td>0</td>\n",
       "      <td>0</td>\n",
       "      <td>0</td>\n",
       "      <td>0</td>\n",
       "      <td>0</td>\n",
       "    </tr>\n",
       "    <tr>\n",
       "      <th>2</th>\n",
       "      <td>0</td>\n",
       "      <td>0</td>\n",
       "      <td>0</td>\n",
       "      <td>0</td>\n",
       "      <td>0</td>\n",
       "      <td>0</td>\n",
       "      <td>0</td>\n",
       "      <td>0</td>\n",
       "      <td>0</td>\n",
       "      <td>0</td>\n",
       "      <td>...</td>\n",
       "      <td>0</td>\n",
       "      <td>0</td>\n",
       "      <td>0</td>\n",
       "      <td>0</td>\n",
       "      <td>0</td>\n",
       "      <td>0</td>\n",
       "      <td>0</td>\n",
       "      <td>0</td>\n",
       "      <td>0</td>\n",
       "      <td>4</td>\n",
       "    </tr>\n",
       "    <tr>\n",
       "      <th>3</th>\n",
       "      <td>0</td>\n",
       "      <td>0</td>\n",
       "      <td>0</td>\n",
       "      <td>0</td>\n",
       "      <td>0</td>\n",
       "      <td>0</td>\n",
       "      <td>0</td>\n",
       "      <td>0</td>\n",
       "      <td>0</td>\n",
       "      <td>0</td>\n",
       "      <td>...</td>\n",
       "      <td>0</td>\n",
       "      <td>0</td>\n",
       "      <td>0</td>\n",
       "      <td>0</td>\n",
       "      <td>0</td>\n",
       "      <td>0</td>\n",
       "      <td>0</td>\n",
       "      <td>0</td>\n",
       "      <td>0</td>\n",
       "      <td>1</td>\n",
       "    </tr>\n",
       "    <tr>\n",
       "      <th>4</th>\n",
       "      <td>0</td>\n",
       "      <td>0</td>\n",
       "      <td>0</td>\n",
       "      <td>0</td>\n",
       "      <td>0</td>\n",
       "      <td>0</td>\n",
       "      <td>0</td>\n",
       "      <td>0</td>\n",
       "      <td>0</td>\n",
       "      <td>0</td>\n",
       "      <td>...</td>\n",
       "      <td>0</td>\n",
       "      <td>0</td>\n",
       "      <td>0</td>\n",
       "      <td>0</td>\n",
       "      <td>0</td>\n",
       "      <td>0</td>\n",
       "      <td>0</td>\n",
       "      <td>0</td>\n",
       "      <td>0</td>\n",
       "      <td>9</td>\n",
       "    </tr>\n",
       "    <tr>\n",
       "      <th>...</th>\n",
       "      <td>...</td>\n",
       "      <td>...</td>\n",
       "      <td>...</td>\n",
       "      <td>...</td>\n",
       "      <td>...</td>\n",
       "      <td>...</td>\n",
       "      <td>...</td>\n",
       "      <td>...</td>\n",
       "      <td>...</td>\n",
       "      <td>...</td>\n",
       "      <td>...</td>\n",
       "      <td>...</td>\n",
       "      <td>...</td>\n",
       "      <td>...</td>\n",
       "      <td>...</td>\n",
       "      <td>...</td>\n",
       "      <td>...</td>\n",
       "      <td>...</td>\n",
       "      <td>...</td>\n",
       "      <td>...</td>\n",
       "      <td>...</td>\n",
       "    </tr>\n",
       "    <tr>\n",
       "      <th>69995</th>\n",
       "      <td>0</td>\n",
       "      <td>0</td>\n",
       "      <td>0</td>\n",
       "      <td>0</td>\n",
       "      <td>0</td>\n",
       "      <td>0</td>\n",
       "      <td>0</td>\n",
       "      <td>0</td>\n",
       "      <td>0</td>\n",
       "      <td>0</td>\n",
       "      <td>...</td>\n",
       "      <td>0</td>\n",
       "      <td>0</td>\n",
       "      <td>0</td>\n",
       "      <td>0</td>\n",
       "      <td>0</td>\n",
       "      <td>0</td>\n",
       "      <td>0</td>\n",
       "      <td>0</td>\n",
       "      <td>0</td>\n",
       "      <td>2</td>\n",
       "    </tr>\n",
       "    <tr>\n",
       "      <th>69996</th>\n",
       "      <td>0</td>\n",
       "      <td>0</td>\n",
       "      <td>0</td>\n",
       "      <td>0</td>\n",
       "      <td>0</td>\n",
       "      <td>0</td>\n",
       "      <td>0</td>\n",
       "      <td>0</td>\n",
       "      <td>0</td>\n",
       "      <td>0</td>\n",
       "      <td>...</td>\n",
       "      <td>0</td>\n",
       "      <td>0</td>\n",
       "      <td>0</td>\n",
       "      <td>0</td>\n",
       "      <td>0</td>\n",
       "      <td>0</td>\n",
       "      <td>0</td>\n",
       "      <td>0</td>\n",
       "      <td>0</td>\n",
       "      <td>3</td>\n",
       "    </tr>\n",
       "    <tr>\n",
       "      <th>69997</th>\n",
       "      <td>0</td>\n",
       "      <td>0</td>\n",
       "      <td>0</td>\n",
       "      <td>0</td>\n",
       "      <td>0</td>\n",
       "      <td>0</td>\n",
       "      <td>0</td>\n",
       "      <td>0</td>\n",
       "      <td>0</td>\n",
       "      <td>0</td>\n",
       "      <td>...</td>\n",
       "      <td>0</td>\n",
       "      <td>0</td>\n",
       "      <td>0</td>\n",
       "      <td>0</td>\n",
       "      <td>0</td>\n",
       "      <td>0</td>\n",
       "      <td>0</td>\n",
       "      <td>0</td>\n",
       "      <td>0</td>\n",
       "      <td>4</td>\n",
       "    </tr>\n",
       "    <tr>\n",
       "      <th>69998</th>\n",
       "      <td>0</td>\n",
       "      <td>0</td>\n",
       "      <td>0</td>\n",
       "      <td>0</td>\n",
       "      <td>0</td>\n",
       "      <td>0</td>\n",
       "      <td>0</td>\n",
       "      <td>0</td>\n",
       "      <td>0</td>\n",
       "      <td>0</td>\n",
       "      <td>...</td>\n",
       "      <td>0</td>\n",
       "      <td>0</td>\n",
       "      <td>0</td>\n",
       "      <td>0</td>\n",
       "      <td>0</td>\n",
       "      <td>0</td>\n",
       "      <td>0</td>\n",
       "      <td>0</td>\n",
       "      <td>0</td>\n",
       "      <td>5</td>\n",
       "    </tr>\n",
       "    <tr>\n",
       "      <th>69999</th>\n",
       "      <td>0</td>\n",
       "      <td>0</td>\n",
       "      <td>0</td>\n",
       "      <td>0</td>\n",
       "      <td>0</td>\n",
       "      <td>0</td>\n",
       "      <td>0</td>\n",
       "      <td>0</td>\n",
       "      <td>0</td>\n",
       "      <td>0</td>\n",
       "      <td>...</td>\n",
       "      <td>0</td>\n",
       "      <td>0</td>\n",
       "      <td>0</td>\n",
       "      <td>0</td>\n",
       "      <td>0</td>\n",
       "      <td>0</td>\n",
       "      <td>0</td>\n",
       "      <td>0</td>\n",
       "      <td>0</td>\n",
       "      <td>6</td>\n",
       "    </tr>\n",
       "  </tbody>\n",
       "</table>\n",
       "<p>70000 rows × 785 columns</p>\n",
       "</div>"
      ],
      "text/plain": [
       "       0  1  2  3  4  5  6  7  8  9  ...  775  776  777  778  779  780  781  \\\n",
       "0      0  0  0  0  0  0  0  0  0  0  ...    0    0    0    0    0    0    0   \n",
       "1      0  0  0  0  0  0  0  0  0  0  ...    0    0    0    0    0    0    0   \n",
       "2      0  0  0  0  0  0  0  0  0  0  ...    0    0    0    0    0    0    0   \n",
       "3      0  0  0  0  0  0  0  0  0  0  ...    0    0    0    0    0    0    0   \n",
       "4      0  0  0  0  0  0  0  0  0  0  ...    0    0    0    0    0    0    0   \n",
       "...   .. .. .. .. .. .. .. .. .. ..  ...  ...  ...  ...  ...  ...  ...  ...   \n",
       "69995  0  0  0  0  0  0  0  0  0  0  ...    0    0    0    0    0    0    0   \n",
       "69996  0  0  0  0  0  0  0  0  0  0  ...    0    0    0    0    0    0    0   \n",
       "69997  0  0  0  0  0  0  0  0  0  0  ...    0    0    0    0    0    0    0   \n",
       "69998  0  0  0  0  0  0  0  0  0  0  ...    0    0    0    0    0    0    0   \n",
       "69999  0  0  0  0  0  0  0  0  0  0  ...    0    0    0    0    0    0    0   \n",
       "\n",
       "       782  783  target  \n",
       "0        0    0       5  \n",
       "1        0    0       0  \n",
       "2        0    0       4  \n",
       "3        0    0       1  \n",
       "4        0    0       9  \n",
       "...    ...  ...     ...  \n",
       "69995    0    0       2  \n",
       "69996    0    0       3  \n",
       "69997    0    0       4  \n",
       "69998    0    0       5  \n",
       "69999    0    0       6  \n",
       "\n",
       "[70000 rows x 785 columns]"
      ]
     },
     "execution_count": 9,
     "metadata": {},
     "output_type": "execute_result"
    }
   ],
   "source": [
    "##NOW GETTING THE DF IN WHICH WE WILL MERGE ALL OF THESE\n",
    "df3 = pd.concat([df1, df2], ignore_index = True)\n",
    "df3"
   ]
  },
  {
   "cell_type": "code",
   "execution_count": 10,
   "id": "50d285aa",
   "metadata": {},
   "outputs": [
    {
     "data": {
      "text/html": [
       "<div>\n",
       "<style scoped>\n",
       "    .dataframe tbody tr th:only-of-type {\n",
       "        vertical-align: middle;\n",
       "    }\n",
       "\n",
       "    .dataframe tbody tr th {\n",
       "        vertical-align: top;\n",
       "    }\n",
       "\n",
       "    .dataframe thead th {\n",
       "        text-align: right;\n",
       "    }\n",
       "</style>\n",
       "<table border=\"1\" class=\"dataframe\">\n",
       "  <thead>\n",
       "    <tr style=\"text-align: right;\">\n",
       "      <th></th>\n",
       "      <th>0</th>\n",
       "      <th>1</th>\n",
       "      <th>2</th>\n",
       "      <th>3</th>\n",
       "      <th>4</th>\n",
       "      <th>5</th>\n",
       "      <th>6</th>\n",
       "      <th>7</th>\n",
       "      <th>8</th>\n",
       "      <th>9</th>\n",
       "      <th>...</th>\n",
       "      <th>775</th>\n",
       "      <th>776</th>\n",
       "      <th>777</th>\n",
       "      <th>778</th>\n",
       "      <th>779</th>\n",
       "      <th>780</th>\n",
       "      <th>781</th>\n",
       "      <th>782</th>\n",
       "      <th>783</th>\n",
       "      <th>target</th>\n",
       "    </tr>\n",
       "  </thead>\n",
       "  <tbody>\n",
       "    <tr>\n",
       "      <th>7653</th>\n",
       "      <td>0</td>\n",
       "      <td>0</td>\n",
       "      <td>0</td>\n",
       "      <td>0</td>\n",
       "      <td>0</td>\n",
       "      <td>0</td>\n",
       "      <td>0</td>\n",
       "      <td>0</td>\n",
       "      <td>0</td>\n",
       "      <td>0</td>\n",
       "      <td>...</td>\n",
       "      <td>0</td>\n",
       "      <td>0</td>\n",
       "      <td>0</td>\n",
       "      <td>0</td>\n",
       "      <td>0</td>\n",
       "      <td>0</td>\n",
       "      <td>0</td>\n",
       "      <td>0</td>\n",
       "      <td>0</td>\n",
       "      <td>2</td>\n",
       "    </tr>\n",
       "    <tr>\n",
       "      <th>66274</th>\n",
       "      <td>0</td>\n",
       "      <td>0</td>\n",
       "      <td>0</td>\n",
       "      <td>0</td>\n",
       "      <td>0</td>\n",
       "      <td>0</td>\n",
       "      <td>0</td>\n",
       "      <td>0</td>\n",
       "      <td>0</td>\n",
       "      <td>0</td>\n",
       "      <td>...</td>\n",
       "      <td>0</td>\n",
       "      <td>0</td>\n",
       "      <td>0</td>\n",
       "      <td>0</td>\n",
       "      <td>0</td>\n",
       "      <td>0</td>\n",
       "      <td>0</td>\n",
       "      <td>0</td>\n",
       "      <td>0</td>\n",
       "      <td>2</td>\n",
       "    </tr>\n",
       "    <tr>\n",
       "      <th>9119</th>\n",
       "      <td>0</td>\n",
       "      <td>0</td>\n",
       "      <td>0</td>\n",
       "      <td>0</td>\n",
       "      <td>0</td>\n",
       "      <td>0</td>\n",
       "      <td>0</td>\n",
       "      <td>0</td>\n",
       "      <td>0</td>\n",
       "      <td>0</td>\n",
       "      <td>...</td>\n",
       "      <td>0</td>\n",
       "      <td>0</td>\n",
       "      <td>0</td>\n",
       "      <td>0</td>\n",
       "      <td>0</td>\n",
       "      <td>0</td>\n",
       "      <td>0</td>\n",
       "      <td>0</td>\n",
       "      <td>0</td>\n",
       "      <td>9</td>\n",
       "    </tr>\n",
       "    <tr>\n",
       "      <th>10760</th>\n",
       "      <td>0</td>\n",
       "      <td>0</td>\n",
       "      <td>0</td>\n",
       "      <td>0</td>\n",
       "      <td>0</td>\n",
       "      <td>0</td>\n",
       "      <td>0</td>\n",
       "      <td>0</td>\n",
       "      <td>0</td>\n",
       "      <td>0</td>\n",
       "      <td>...</td>\n",
       "      <td>0</td>\n",
       "      <td>0</td>\n",
       "      <td>0</td>\n",
       "      <td>0</td>\n",
       "      <td>0</td>\n",
       "      <td>0</td>\n",
       "      <td>0</td>\n",
       "      <td>0</td>\n",
       "      <td>0</td>\n",
       "      <td>3</td>\n",
       "    </tr>\n",
       "    <tr>\n",
       "      <th>43166</th>\n",
       "      <td>0</td>\n",
       "      <td>0</td>\n",
       "      <td>0</td>\n",
       "      <td>0</td>\n",
       "      <td>0</td>\n",
       "      <td>0</td>\n",
       "      <td>0</td>\n",
       "      <td>0</td>\n",
       "      <td>0</td>\n",
       "      <td>0</td>\n",
       "      <td>...</td>\n",
       "      <td>0</td>\n",
       "      <td>0</td>\n",
       "      <td>0</td>\n",
       "      <td>0</td>\n",
       "      <td>0</td>\n",
       "      <td>0</td>\n",
       "      <td>0</td>\n",
       "      <td>0</td>\n",
       "      <td>0</td>\n",
       "      <td>6</td>\n",
       "    </tr>\n",
       "    <tr>\n",
       "      <th>...</th>\n",
       "      <td>...</td>\n",
       "      <td>...</td>\n",
       "      <td>...</td>\n",
       "      <td>...</td>\n",
       "      <td>...</td>\n",
       "      <td>...</td>\n",
       "      <td>...</td>\n",
       "      <td>...</td>\n",
       "      <td>...</td>\n",
       "      <td>...</td>\n",
       "      <td>...</td>\n",
       "      <td>...</td>\n",
       "      <td>...</td>\n",
       "      <td>...</td>\n",
       "      <td>...</td>\n",
       "      <td>...</td>\n",
       "      <td>...</td>\n",
       "      <td>...</td>\n",
       "      <td>...</td>\n",
       "      <td>...</td>\n",
       "      <td>...</td>\n",
       "    </tr>\n",
       "    <tr>\n",
       "      <th>19934</th>\n",
       "      <td>0</td>\n",
       "      <td>0</td>\n",
       "      <td>0</td>\n",
       "      <td>0</td>\n",
       "      <td>0</td>\n",
       "      <td>0</td>\n",
       "      <td>0</td>\n",
       "      <td>0</td>\n",
       "      <td>0</td>\n",
       "      <td>0</td>\n",
       "      <td>...</td>\n",
       "      <td>0</td>\n",
       "      <td>0</td>\n",
       "      <td>0</td>\n",
       "      <td>0</td>\n",
       "      <td>0</td>\n",
       "      <td>0</td>\n",
       "      <td>0</td>\n",
       "      <td>0</td>\n",
       "      <td>0</td>\n",
       "      <td>9</td>\n",
       "    </tr>\n",
       "    <tr>\n",
       "      <th>42962</th>\n",
       "      <td>0</td>\n",
       "      <td>0</td>\n",
       "      <td>0</td>\n",
       "      <td>0</td>\n",
       "      <td>0</td>\n",
       "      <td>0</td>\n",
       "      <td>0</td>\n",
       "      <td>0</td>\n",
       "      <td>0</td>\n",
       "      <td>0</td>\n",
       "      <td>...</td>\n",
       "      <td>0</td>\n",
       "      <td>0</td>\n",
       "      <td>0</td>\n",
       "      <td>0</td>\n",
       "      <td>0</td>\n",
       "      <td>0</td>\n",
       "      <td>0</td>\n",
       "      <td>0</td>\n",
       "      <td>0</td>\n",
       "      <td>3</td>\n",
       "    </tr>\n",
       "    <tr>\n",
       "      <th>54026</th>\n",
       "      <td>0</td>\n",
       "      <td>0</td>\n",
       "      <td>0</td>\n",
       "      <td>0</td>\n",
       "      <td>0</td>\n",
       "      <td>0</td>\n",
       "      <td>0</td>\n",
       "      <td>0</td>\n",
       "      <td>0</td>\n",
       "      <td>0</td>\n",
       "      <td>...</td>\n",
       "      <td>0</td>\n",
       "      <td>0</td>\n",
       "      <td>0</td>\n",
       "      <td>0</td>\n",
       "      <td>0</td>\n",
       "      <td>0</td>\n",
       "      <td>0</td>\n",
       "      <td>0</td>\n",
       "      <td>0</td>\n",
       "      <td>9</td>\n",
       "    </tr>\n",
       "    <tr>\n",
       "      <th>4057</th>\n",
       "      <td>0</td>\n",
       "      <td>0</td>\n",
       "      <td>0</td>\n",
       "      <td>0</td>\n",
       "      <td>0</td>\n",
       "      <td>0</td>\n",
       "      <td>0</td>\n",
       "      <td>0</td>\n",
       "      <td>0</td>\n",
       "      <td>0</td>\n",
       "      <td>...</td>\n",
       "      <td>0</td>\n",
       "      <td>0</td>\n",
       "      <td>0</td>\n",
       "      <td>0</td>\n",
       "      <td>0</td>\n",
       "      <td>0</td>\n",
       "      <td>0</td>\n",
       "      <td>0</td>\n",
       "      <td>0</td>\n",
       "      <td>5</td>\n",
       "    </tr>\n",
       "    <tr>\n",
       "      <th>41425</th>\n",
       "      <td>0</td>\n",
       "      <td>0</td>\n",
       "      <td>0</td>\n",
       "      <td>0</td>\n",
       "      <td>0</td>\n",
       "      <td>0</td>\n",
       "      <td>0</td>\n",
       "      <td>0</td>\n",
       "      <td>0</td>\n",
       "      <td>0</td>\n",
       "      <td>...</td>\n",
       "      <td>0</td>\n",
       "      <td>0</td>\n",
       "      <td>0</td>\n",
       "      <td>0</td>\n",
       "      <td>0</td>\n",
       "      <td>0</td>\n",
       "      <td>0</td>\n",
       "      <td>0</td>\n",
       "      <td>0</td>\n",
       "      <td>0</td>\n",
       "    </tr>\n",
       "  </tbody>\n",
       "</table>\n",
       "<p>46900 rows × 785 columns</p>\n",
       "</div>"
      ],
      "text/plain": [
       "       0  1  2  3  4  5  6  7  8  9  ...  775  776  777  778  779  780  781  \\\n",
       "7653   0  0  0  0  0  0  0  0  0  0  ...    0    0    0    0    0    0    0   \n",
       "66274  0  0  0  0  0  0  0  0  0  0  ...    0    0    0    0    0    0    0   \n",
       "9119   0  0  0  0  0  0  0  0  0  0  ...    0    0    0    0    0    0    0   \n",
       "10760  0  0  0  0  0  0  0  0  0  0  ...    0    0    0    0    0    0    0   \n",
       "43166  0  0  0  0  0  0  0  0  0  0  ...    0    0    0    0    0    0    0   \n",
       "...   .. .. .. .. .. .. .. .. .. ..  ...  ...  ...  ...  ...  ...  ...  ...   \n",
       "19934  0  0  0  0  0  0  0  0  0  0  ...    0    0    0    0    0    0    0   \n",
       "42962  0  0  0  0  0  0  0  0  0  0  ...    0    0    0    0    0    0    0   \n",
       "54026  0  0  0  0  0  0  0  0  0  0  ...    0    0    0    0    0    0    0   \n",
       "4057   0  0  0  0  0  0  0  0  0  0  ...    0    0    0    0    0    0    0   \n",
       "41425  0  0  0  0  0  0  0  0  0  0  ...    0    0    0    0    0    0    0   \n",
       "\n",
       "       782  783  target  \n",
       "7653     0    0       2  \n",
       "66274    0    0       2  \n",
       "9119     0    0       9  \n",
       "10760    0    0       3  \n",
       "43166    0    0       6  \n",
       "...    ...  ...     ...  \n",
       "19934    0    0       9  \n",
       "42962    0    0       3  \n",
       "54026    0    0       9  \n",
       "4057     0    0       5  \n",
       "41425    0    0       0  \n",
       "\n",
       "[46900 rows x 785 columns]"
      ]
     },
     "execution_count": 10,
     "metadata": {},
     "output_type": "execute_result"
    }
   ],
   "source": [
    "# y = df3['target']\n",
    "# y = pd.DataFrame(y)\n",
    "# y.head()\n",
    "df_train = df3.sample(frac=0.67,random_state=7)\n",
    "df_test = df3.drop(df_train.index)\n",
    "df_train"
   ]
  },
  {
   "cell_type": "code",
   "execution_count": 11,
   "id": "a91bbcfd",
   "metadata": {},
   "outputs": [
    {
     "data": {
      "text/html": [
       "<div>\n",
       "<style scoped>\n",
       "    .dataframe tbody tr th:only-of-type {\n",
       "        vertical-align: middle;\n",
       "    }\n",
       "\n",
       "    .dataframe tbody tr th {\n",
       "        vertical-align: top;\n",
       "    }\n",
       "\n",
       "    .dataframe thead th {\n",
       "        text-align: right;\n",
       "    }\n",
       "</style>\n",
       "<table border=\"1\" class=\"dataframe\">\n",
       "  <thead>\n",
       "    <tr style=\"text-align: right;\">\n",
       "      <th></th>\n",
       "      <th>target</th>\n",
       "    </tr>\n",
       "  </thead>\n",
       "  <tbody>\n",
       "    <tr>\n",
       "      <th>7653</th>\n",
       "      <td>2</td>\n",
       "    </tr>\n",
       "    <tr>\n",
       "      <th>66274</th>\n",
       "      <td>2</td>\n",
       "    </tr>\n",
       "    <tr>\n",
       "      <th>9119</th>\n",
       "      <td>9</td>\n",
       "    </tr>\n",
       "    <tr>\n",
       "      <th>10760</th>\n",
       "      <td>3</td>\n",
       "    </tr>\n",
       "    <tr>\n",
       "      <th>43166</th>\n",
       "      <td>6</td>\n",
       "    </tr>\n",
       "  </tbody>\n",
       "</table>\n",
       "</div>"
      ],
      "text/plain": [
       "       target\n",
       "7653        2\n",
       "66274       2\n",
       "9119        9\n",
       "10760       3\n",
       "43166       6"
      ]
     },
     "execution_count": 11,
     "metadata": {},
     "output_type": "execute_result"
    }
   ],
   "source": [
    "y_train = df_train['target']\n",
    "y_train = pd.DataFrame(y_train)\n",
    "y_train.head()\n",
    "# df_train = df_train.drop('target', axis = 1, inplace = True)\n",
    "# df_train.head()"
   ]
  },
  {
   "cell_type": "code",
   "execution_count": 12,
   "id": "b4613f2a",
   "metadata": {},
   "outputs": [],
   "source": [
    "df_train = df_train.drop('target', axis=1)\n"
   ]
  },
  {
   "cell_type": "code",
   "execution_count": 13,
   "id": "e2be42aa",
   "metadata": {},
   "outputs": [
    {
     "data": {
      "text/html": [
       "<div>\n",
       "<style scoped>\n",
       "    .dataframe tbody tr th:only-of-type {\n",
       "        vertical-align: middle;\n",
       "    }\n",
       "\n",
       "    .dataframe tbody tr th {\n",
       "        vertical-align: top;\n",
       "    }\n",
       "\n",
       "    .dataframe thead th {\n",
       "        text-align: right;\n",
       "    }\n",
       "</style>\n",
       "<table border=\"1\" class=\"dataframe\">\n",
       "  <thead>\n",
       "    <tr style=\"text-align: right;\">\n",
       "      <th></th>\n",
       "      <th>0</th>\n",
       "      <th>1</th>\n",
       "      <th>2</th>\n",
       "      <th>3</th>\n",
       "      <th>4</th>\n",
       "      <th>5</th>\n",
       "      <th>6</th>\n",
       "      <th>7</th>\n",
       "      <th>8</th>\n",
       "      <th>9</th>\n",
       "      <th>...</th>\n",
       "      <th>775</th>\n",
       "      <th>776</th>\n",
       "      <th>777</th>\n",
       "      <th>778</th>\n",
       "      <th>779</th>\n",
       "      <th>780</th>\n",
       "      <th>781</th>\n",
       "      <th>782</th>\n",
       "      <th>783</th>\n",
       "      <th>target</th>\n",
       "    </tr>\n",
       "  </thead>\n",
       "  <tbody>\n",
       "    <tr>\n",
       "      <th>0</th>\n",
       "      <td>0</td>\n",
       "      <td>0</td>\n",
       "      <td>0</td>\n",
       "      <td>0</td>\n",
       "      <td>0</td>\n",
       "      <td>0</td>\n",
       "      <td>0</td>\n",
       "      <td>0</td>\n",
       "      <td>0</td>\n",
       "      <td>0</td>\n",
       "      <td>...</td>\n",
       "      <td>0</td>\n",
       "      <td>0</td>\n",
       "      <td>0</td>\n",
       "      <td>0</td>\n",
       "      <td>0</td>\n",
       "      <td>0</td>\n",
       "      <td>0</td>\n",
       "      <td>0</td>\n",
       "      <td>0</td>\n",
       "      <td>5</td>\n",
       "    </tr>\n",
       "    <tr>\n",
       "      <th>4</th>\n",
       "      <td>0</td>\n",
       "      <td>0</td>\n",
       "      <td>0</td>\n",
       "      <td>0</td>\n",
       "      <td>0</td>\n",
       "      <td>0</td>\n",
       "      <td>0</td>\n",
       "      <td>0</td>\n",
       "      <td>0</td>\n",
       "      <td>0</td>\n",
       "      <td>...</td>\n",
       "      <td>0</td>\n",
       "      <td>0</td>\n",
       "      <td>0</td>\n",
       "      <td>0</td>\n",
       "      <td>0</td>\n",
       "      <td>0</td>\n",
       "      <td>0</td>\n",
       "      <td>0</td>\n",
       "      <td>0</td>\n",
       "      <td>9</td>\n",
       "    </tr>\n",
       "    <tr>\n",
       "      <th>5</th>\n",
       "      <td>0</td>\n",
       "      <td>0</td>\n",
       "      <td>0</td>\n",
       "      <td>0</td>\n",
       "      <td>0</td>\n",
       "      <td>0</td>\n",
       "      <td>0</td>\n",
       "      <td>0</td>\n",
       "      <td>0</td>\n",
       "      <td>0</td>\n",
       "      <td>...</td>\n",
       "      <td>0</td>\n",
       "      <td>0</td>\n",
       "      <td>0</td>\n",
       "      <td>0</td>\n",
       "      <td>0</td>\n",
       "      <td>0</td>\n",
       "      <td>0</td>\n",
       "      <td>0</td>\n",
       "      <td>0</td>\n",
       "      <td>2</td>\n",
       "    </tr>\n",
       "    <tr>\n",
       "      <th>10</th>\n",
       "      <td>0</td>\n",
       "      <td>0</td>\n",
       "      <td>0</td>\n",
       "      <td>0</td>\n",
       "      <td>0</td>\n",
       "      <td>0</td>\n",
       "      <td>0</td>\n",
       "      <td>0</td>\n",
       "      <td>0</td>\n",
       "      <td>0</td>\n",
       "      <td>...</td>\n",
       "      <td>0</td>\n",
       "      <td>0</td>\n",
       "      <td>0</td>\n",
       "      <td>0</td>\n",
       "      <td>0</td>\n",
       "      <td>0</td>\n",
       "      <td>0</td>\n",
       "      <td>0</td>\n",
       "      <td>0</td>\n",
       "      <td>3</td>\n",
       "    </tr>\n",
       "    <tr>\n",
       "      <th>11</th>\n",
       "      <td>0</td>\n",
       "      <td>0</td>\n",
       "      <td>0</td>\n",
       "      <td>0</td>\n",
       "      <td>0</td>\n",
       "      <td>0</td>\n",
       "      <td>0</td>\n",
       "      <td>0</td>\n",
       "      <td>0</td>\n",
       "      <td>0</td>\n",
       "      <td>...</td>\n",
       "      <td>0</td>\n",
       "      <td>0</td>\n",
       "      <td>0</td>\n",
       "      <td>0</td>\n",
       "      <td>0</td>\n",
       "      <td>0</td>\n",
       "      <td>0</td>\n",
       "      <td>0</td>\n",
       "      <td>0</td>\n",
       "      <td>5</td>\n",
       "    </tr>\n",
       "    <tr>\n",
       "      <th>...</th>\n",
       "      <td>...</td>\n",
       "      <td>...</td>\n",
       "      <td>...</td>\n",
       "      <td>...</td>\n",
       "      <td>...</td>\n",
       "      <td>...</td>\n",
       "      <td>...</td>\n",
       "      <td>...</td>\n",
       "      <td>...</td>\n",
       "      <td>...</td>\n",
       "      <td>...</td>\n",
       "      <td>...</td>\n",
       "      <td>...</td>\n",
       "      <td>...</td>\n",
       "      <td>...</td>\n",
       "      <td>...</td>\n",
       "      <td>...</td>\n",
       "      <td>...</td>\n",
       "      <td>...</td>\n",
       "      <td>...</td>\n",
       "      <td>...</td>\n",
       "    </tr>\n",
       "    <tr>\n",
       "      <th>69990</th>\n",
       "      <td>0</td>\n",
       "      <td>0</td>\n",
       "      <td>0</td>\n",
       "      <td>0</td>\n",
       "      <td>0</td>\n",
       "      <td>0</td>\n",
       "      <td>0</td>\n",
       "      <td>0</td>\n",
       "      <td>0</td>\n",
       "      <td>0</td>\n",
       "      <td>...</td>\n",
       "      <td>0</td>\n",
       "      <td>0</td>\n",
       "      <td>0</td>\n",
       "      <td>0</td>\n",
       "      <td>0</td>\n",
       "      <td>0</td>\n",
       "      <td>0</td>\n",
       "      <td>0</td>\n",
       "      <td>0</td>\n",
       "      <td>7</td>\n",
       "    </tr>\n",
       "    <tr>\n",
       "      <th>69992</th>\n",
       "      <td>0</td>\n",
       "      <td>0</td>\n",
       "      <td>0</td>\n",
       "      <td>0</td>\n",
       "      <td>0</td>\n",
       "      <td>0</td>\n",
       "      <td>0</td>\n",
       "      <td>0</td>\n",
       "      <td>0</td>\n",
       "      <td>0</td>\n",
       "      <td>...</td>\n",
       "      <td>0</td>\n",
       "      <td>0</td>\n",
       "      <td>0</td>\n",
       "      <td>0</td>\n",
       "      <td>0</td>\n",
       "      <td>0</td>\n",
       "      <td>0</td>\n",
       "      <td>0</td>\n",
       "      <td>0</td>\n",
       "      <td>9</td>\n",
       "    </tr>\n",
       "    <tr>\n",
       "      <th>69993</th>\n",
       "      <td>0</td>\n",
       "      <td>0</td>\n",
       "      <td>0</td>\n",
       "      <td>0</td>\n",
       "      <td>0</td>\n",
       "      <td>0</td>\n",
       "      <td>0</td>\n",
       "      <td>0</td>\n",
       "      <td>0</td>\n",
       "      <td>0</td>\n",
       "      <td>...</td>\n",
       "      <td>0</td>\n",
       "      <td>0</td>\n",
       "      <td>0</td>\n",
       "      <td>0</td>\n",
       "      <td>0</td>\n",
       "      <td>0</td>\n",
       "      <td>0</td>\n",
       "      <td>0</td>\n",
       "      <td>0</td>\n",
       "      <td>0</td>\n",
       "    </tr>\n",
       "    <tr>\n",
       "      <th>69997</th>\n",
       "      <td>0</td>\n",
       "      <td>0</td>\n",
       "      <td>0</td>\n",
       "      <td>0</td>\n",
       "      <td>0</td>\n",
       "      <td>0</td>\n",
       "      <td>0</td>\n",
       "      <td>0</td>\n",
       "      <td>0</td>\n",
       "      <td>0</td>\n",
       "      <td>...</td>\n",
       "      <td>0</td>\n",
       "      <td>0</td>\n",
       "      <td>0</td>\n",
       "      <td>0</td>\n",
       "      <td>0</td>\n",
       "      <td>0</td>\n",
       "      <td>0</td>\n",
       "      <td>0</td>\n",
       "      <td>0</td>\n",
       "      <td>4</td>\n",
       "    </tr>\n",
       "    <tr>\n",
       "      <th>69998</th>\n",
       "      <td>0</td>\n",
       "      <td>0</td>\n",
       "      <td>0</td>\n",
       "      <td>0</td>\n",
       "      <td>0</td>\n",
       "      <td>0</td>\n",
       "      <td>0</td>\n",
       "      <td>0</td>\n",
       "      <td>0</td>\n",
       "      <td>0</td>\n",
       "      <td>...</td>\n",
       "      <td>0</td>\n",
       "      <td>0</td>\n",
       "      <td>0</td>\n",
       "      <td>0</td>\n",
       "      <td>0</td>\n",
       "      <td>0</td>\n",
       "      <td>0</td>\n",
       "      <td>0</td>\n",
       "      <td>0</td>\n",
       "      <td>5</td>\n",
       "    </tr>\n",
       "  </tbody>\n",
       "</table>\n",
       "<p>23100 rows × 785 columns</p>\n",
       "</div>"
      ],
      "text/plain": [
       "       0  1  2  3  4  5  6  7  8  9  ...  775  776  777  778  779  780  781  \\\n",
       "0      0  0  0  0  0  0  0  0  0  0  ...    0    0    0    0    0    0    0   \n",
       "4      0  0  0  0  0  0  0  0  0  0  ...    0    0    0    0    0    0    0   \n",
       "5      0  0  0  0  0  0  0  0  0  0  ...    0    0    0    0    0    0    0   \n",
       "10     0  0  0  0  0  0  0  0  0  0  ...    0    0    0    0    0    0    0   \n",
       "11     0  0  0  0  0  0  0  0  0  0  ...    0    0    0    0    0    0    0   \n",
       "...   .. .. .. .. .. .. .. .. .. ..  ...  ...  ...  ...  ...  ...  ...  ...   \n",
       "69990  0  0  0  0  0  0  0  0  0  0  ...    0    0    0    0    0    0    0   \n",
       "69992  0  0  0  0  0  0  0  0  0  0  ...    0    0    0    0    0    0    0   \n",
       "69993  0  0  0  0  0  0  0  0  0  0  ...    0    0    0    0    0    0    0   \n",
       "69997  0  0  0  0  0  0  0  0  0  0  ...    0    0    0    0    0    0    0   \n",
       "69998  0  0  0  0  0  0  0  0  0  0  ...    0    0    0    0    0    0    0   \n",
       "\n",
       "       782  783  target  \n",
       "0        0    0       5  \n",
       "4        0    0       9  \n",
       "5        0    0       2  \n",
       "10       0    0       3  \n",
       "11       0    0       5  \n",
       "...    ...  ...     ...  \n",
       "69990    0    0       7  \n",
       "69992    0    0       9  \n",
       "69993    0    0       0  \n",
       "69997    0    0       4  \n",
       "69998    0    0       5  \n",
       "\n",
       "[23100 rows x 785 columns]"
      ]
     },
     "execution_count": 13,
     "metadata": {},
     "output_type": "execute_result"
    }
   ],
   "source": [
    "df_train.head()\n",
    "df_test"
   ]
  },
  {
   "cell_type": "code",
   "execution_count": 14,
   "id": "33a98206",
   "metadata": {},
   "outputs": [
    {
     "data": {
      "text/html": [
       "<div>\n",
       "<style scoped>\n",
       "    .dataframe tbody tr th:only-of-type {\n",
       "        vertical-align: middle;\n",
       "    }\n",
       "\n",
       "    .dataframe tbody tr th {\n",
       "        vertical-align: top;\n",
       "    }\n",
       "\n",
       "    .dataframe thead th {\n",
       "        text-align: right;\n",
       "    }\n",
       "</style>\n",
       "<table border=\"1\" class=\"dataframe\">\n",
       "  <thead>\n",
       "    <tr style=\"text-align: right;\">\n",
       "      <th></th>\n",
       "      <th>target</th>\n",
       "    </tr>\n",
       "  </thead>\n",
       "  <tbody>\n",
       "    <tr>\n",
       "      <th>0</th>\n",
       "      <td>5</td>\n",
       "    </tr>\n",
       "    <tr>\n",
       "      <th>4</th>\n",
       "      <td>9</td>\n",
       "    </tr>\n",
       "    <tr>\n",
       "      <th>5</th>\n",
       "      <td>2</td>\n",
       "    </tr>\n",
       "    <tr>\n",
       "      <th>10</th>\n",
       "      <td>3</td>\n",
       "    </tr>\n",
       "    <tr>\n",
       "      <th>11</th>\n",
       "      <td>5</td>\n",
       "    </tr>\n",
       "  </tbody>\n",
       "</table>\n",
       "</div>"
      ],
      "text/plain": [
       "    target\n",
       "0        5\n",
       "4        9\n",
       "5        2\n",
       "10       3\n",
       "11       5"
      ]
     },
     "execution_count": 14,
     "metadata": {},
     "output_type": "execute_result"
    }
   ],
   "source": [
    "y_test = df_test['target']\n",
    "y_test = pd.DataFrame(y_test)\n",
    "y_test.head()"
   ]
  },
  {
   "cell_type": "code",
   "execution_count": 15,
   "id": "d8a79c5b",
   "metadata": {},
   "outputs": [],
   "source": [
    "df_test = df_test.drop('target', axis=1)\n"
   ]
  },
  {
   "cell_type": "code",
   "execution_count": 16,
   "id": "c9a8c82c",
   "metadata": {},
   "outputs": [
    {
     "data": {
      "text/html": [
       "<div>\n",
       "<style scoped>\n",
       "    .dataframe tbody tr th:only-of-type {\n",
       "        vertical-align: middle;\n",
       "    }\n",
       "\n",
       "    .dataframe tbody tr th {\n",
       "        vertical-align: top;\n",
       "    }\n",
       "\n",
       "    .dataframe thead th {\n",
       "        text-align: right;\n",
       "    }\n",
       "</style>\n",
       "<table border=\"1\" class=\"dataframe\">\n",
       "  <thead>\n",
       "    <tr style=\"text-align: right;\">\n",
       "      <th></th>\n",
       "      <th>0</th>\n",
       "      <th>1</th>\n",
       "      <th>2</th>\n",
       "      <th>3</th>\n",
       "      <th>4</th>\n",
       "      <th>5</th>\n",
       "      <th>6</th>\n",
       "      <th>7</th>\n",
       "      <th>8</th>\n",
       "      <th>9</th>\n",
       "      <th>...</th>\n",
       "      <th>774</th>\n",
       "      <th>775</th>\n",
       "      <th>776</th>\n",
       "      <th>777</th>\n",
       "      <th>778</th>\n",
       "      <th>779</th>\n",
       "      <th>780</th>\n",
       "      <th>781</th>\n",
       "      <th>782</th>\n",
       "      <th>783</th>\n",
       "    </tr>\n",
       "  </thead>\n",
       "  <tbody>\n",
       "    <tr>\n",
       "      <th>0</th>\n",
       "      <td>0</td>\n",
       "      <td>0</td>\n",
       "      <td>0</td>\n",
       "      <td>0</td>\n",
       "      <td>0</td>\n",
       "      <td>0</td>\n",
       "      <td>0</td>\n",
       "      <td>0</td>\n",
       "      <td>0</td>\n",
       "      <td>0</td>\n",
       "      <td>...</td>\n",
       "      <td>0</td>\n",
       "      <td>0</td>\n",
       "      <td>0</td>\n",
       "      <td>0</td>\n",
       "      <td>0</td>\n",
       "      <td>0</td>\n",
       "      <td>0</td>\n",
       "      <td>0</td>\n",
       "      <td>0</td>\n",
       "      <td>0</td>\n",
       "    </tr>\n",
       "    <tr>\n",
       "      <th>4</th>\n",
       "      <td>0</td>\n",
       "      <td>0</td>\n",
       "      <td>0</td>\n",
       "      <td>0</td>\n",
       "      <td>0</td>\n",
       "      <td>0</td>\n",
       "      <td>0</td>\n",
       "      <td>0</td>\n",
       "      <td>0</td>\n",
       "      <td>0</td>\n",
       "      <td>...</td>\n",
       "      <td>0</td>\n",
       "      <td>0</td>\n",
       "      <td>0</td>\n",
       "      <td>0</td>\n",
       "      <td>0</td>\n",
       "      <td>0</td>\n",
       "      <td>0</td>\n",
       "      <td>0</td>\n",
       "      <td>0</td>\n",
       "      <td>0</td>\n",
       "    </tr>\n",
       "    <tr>\n",
       "      <th>5</th>\n",
       "      <td>0</td>\n",
       "      <td>0</td>\n",
       "      <td>0</td>\n",
       "      <td>0</td>\n",
       "      <td>0</td>\n",
       "      <td>0</td>\n",
       "      <td>0</td>\n",
       "      <td>0</td>\n",
       "      <td>0</td>\n",
       "      <td>0</td>\n",
       "      <td>...</td>\n",
       "      <td>0</td>\n",
       "      <td>0</td>\n",
       "      <td>0</td>\n",
       "      <td>0</td>\n",
       "      <td>0</td>\n",
       "      <td>0</td>\n",
       "      <td>0</td>\n",
       "      <td>0</td>\n",
       "      <td>0</td>\n",
       "      <td>0</td>\n",
       "    </tr>\n",
       "    <tr>\n",
       "      <th>10</th>\n",
       "      <td>0</td>\n",
       "      <td>0</td>\n",
       "      <td>0</td>\n",
       "      <td>0</td>\n",
       "      <td>0</td>\n",
       "      <td>0</td>\n",
       "      <td>0</td>\n",
       "      <td>0</td>\n",
       "      <td>0</td>\n",
       "      <td>0</td>\n",
       "      <td>...</td>\n",
       "      <td>0</td>\n",
       "      <td>0</td>\n",
       "      <td>0</td>\n",
       "      <td>0</td>\n",
       "      <td>0</td>\n",
       "      <td>0</td>\n",
       "      <td>0</td>\n",
       "      <td>0</td>\n",
       "      <td>0</td>\n",
       "      <td>0</td>\n",
       "    </tr>\n",
       "    <tr>\n",
       "      <th>11</th>\n",
       "      <td>0</td>\n",
       "      <td>0</td>\n",
       "      <td>0</td>\n",
       "      <td>0</td>\n",
       "      <td>0</td>\n",
       "      <td>0</td>\n",
       "      <td>0</td>\n",
       "      <td>0</td>\n",
       "      <td>0</td>\n",
       "      <td>0</td>\n",
       "      <td>...</td>\n",
       "      <td>0</td>\n",
       "      <td>0</td>\n",
       "      <td>0</td>\n",
       "      <td>0</td>\n",
       "      <td>0</td>\n",
       "      <td>0</td>\n",
       "      <td>0</td>\n",
       "      <td>0</td>\n",
       "      <td>0</td>\n",
       "      <td>0</td>\n",
       "    </tr>\n",
       "  </tbody>\n",
       "</table>\n",
       "<p>5 rows × 784 columns</p>\n",
       "</div>"
      ],
      "text/plain": [
       "    0    1    2    3    4    5    6    7    8    9    ...  774  775  776  777  \\\n",
       "0     0    0    0    0    0    0    0    0    0    0  ...    0    0    0    0   \n",
       "4     0    0    0    0    0    0    0    0    0    0  ...    0    0    0    0   \n",
       "5     0    0    0    0    0    0    0    0    0    0  ...    0    0    0    0   \n",
       "10    0    0    0    0    0    0    0    0    0    0  ...    0    0    0    0   \n",
       "11    0    0    0    0    0    0    0    0    0    0  ...    0    0    0    0   \n",
       "\n",
       "    778  779  780  781  782  783  \n",
       "0     0    0    0    0    0    0  \n",
       "4     0    0    0    0    0    0  \n",
       "5     0    0    0    0    0    0  \n",
       "10    0    0    0    0    0    0  \n",
       "11    0    0    0    0    0    0  \n",
       "\n",
       "[5 rows x 784 columns]"
      ]
     },
     "execution_count": 16,
     "metadata": {},
     "output_type": "execute_result"
    }
   ],
   "source": [
    "df_test.head()"
   ]
  },
  {
   "cell_type": "markdown",
   "id": "64a6a937",
   "metadata": {},
   "source": [
    "# Converting these into NumPy arrays for use in the ANN model"
   ]
  },
  {
   "cell_type": "code",
   "execution_count": 17,
   "id": "93ea9bbd",
   "metadata": {},
   "outputs": [],
   "source": [
    "x_train = df_train.to_numpy()\n",
    "x_train\n",
    "x_test = df_test.to_numpy()\n",
    "y_train = y_train.to_numpy()\n",
    "y_test = y_test.to_numpy()"
   ]
  },
  {
   "cell_type": "markdown",
   "id": "1dab5059",
   "metadata": {},
   "source": [
    "# Performing the required pre-processing"
   ]
  },
  {
   "cell_type": "code",
   "execution_count": 18,
   "id": "013718ef",
   "metadata": {},
   "outputs": [],
   "source": [
    "x_train = x_train/255\n",
    "x_test = x_test/255"
   ]
  },
  {
   "cell_type": "code",
   "execution_count": 19,
   "id": "6e90e73f",
   "metadata": {},
   "outputs": [],
   "source": [
    "#x_train[0]"
   ]
  },
  {
   "cell_type": "code",
   "execution_count": 20,
   "id": "30e524ac",
   "metadata": {},
   "outputs": [],
   "source": [
    "X_trainf = x_train.reshape(len(x_train), 28 * 28)\n",
    "#we choose to flatten the data in order to make the first input layer of the neural network have 784 values, since we currently have values stored in 28*28 form"
   ]
  },
  {
   "cell_type": "code",
   "execution_count": 21,
   "id": "51ffb7f2",
   "metadata": {},
   "outputs": [],
   "source": [
    "X_testf = x_test.reshape(len(x_test), 28*28)"
   ]
  },
  {
   "cell_type": "markdown",
   "id": "53aa609c",
   "metadata": {},
   "source": [
    "# MODEL 1 -- 150 neurons, 2 layers, sigmoid"
   ]
  },
  {
   "cell_type": "code",
   "execution_count": 22,
   "id": "caf827f2",
   "metadata": {},
   "outputs": [
    {
     "name": "stdout",
     "output_type": "stream",
     "text": [
      "Epoch 1/5\n",
      "1466/1466 [==============================] - 2s 1ms/step - loss: 0.5870 - accuracy: 0.8533\n",
      "Epoch 2/5\n",
      "1466/1466 [==============================] - 2s 1ms/step - loss: 0.2137 - accuracy: 0.9381\n",
      "Epoch 3/5\n",
      "1466/1466 [==============================] - 2s 1ms/step - loss: 0.1561 - accuracy: 0.9542\n",
      "Epoch 4/5\n",
      "1466/1466 [==============================] - 2s 1ms/step - loss: 0.1229 - accuracy: 0.9646\n",
      "Epoch 5/5\n",
      "1466/1466 [==============================] - 2s 1ms/step - loss: 0.0991 - accuracy: 0.9711\n"
     ]
    },
    {
     "data": {
      "text/plain": [
       "<keras.callbacks.History at 0x1e3570b6e50>"
      ]
     },
     "execution_count": 22,
     "metadata": {},
     "output_type": "execute_result"
    }
   ],
   "source": [
    "model1 = keras.Sequential([\n",
    "    keras.layers.Dense(75, input_shape=(784,), activation = 'sigmoid'), #we call it dense since every node in one layer is connected to every node in the next layer    \n",
    "    keras.layers.Dense(75, activation = 'sigmoid'),\n",
    "    keras.layers.Dense(10, activation = 'softmax')\n",
    "])\n",
    "\n",
    "model1.compile(optimizer = 'adam', loss = 'sparse_categorical_crossentropy', metrics = ['accuracy'])\n",
    "model1.fit(X_trainf, y_train, epochs = 5)\n",
    "\n"
   ]
  },
  {
   "cell_type": "code",
   "execution_count": 23,
   "id": "c3c1a32d",
   "metadata": {},
   "outputs": [
    {
     "name": "stdout",
     "output_type": "stream",
     "text": [
      "722/722 [==============================] - 1s 917us/step - loss: 0.1183 - accuracy: 0.9632\n"
     ]
    },
    {
     "data": {
      "text/plain": [
       "[0.11827634274959564, 0.963203489780426]"
      ]
     },
     "execution_count": 23,
     "metadata": {},
     "output_type": "execute_result"
    }
   ],
   "source": [
    "model1.evaluate(X_testf, y_test)"
   ]
  },
  {
   "cell_type": "code",
   "execution_count": 24,
   "id": "8521a0cc",
   "metadata": {},
   "outputs": [
    {
     "name": "stdout",
     "output_type": "stream",
     "text": [
      "722/722 [==============================] - 1s 827us/step\n"
     ]
    },
    {
     "data": {
      "text/plain": [
       "<tf.Tensor: shape=(10, 10), dtype=int32, numpy=\n",
       "array([[2262,    0,    9,    1,    3,   16,   14,    3,   13,    2],\n",
       "       [   0, 2575,    7,    6,    2,    6,    0,    4,   34,    9],\n",
       "       [  14,    4, 2219,   15,   14,    1,    8,   22,   28,    3],\n",
       "       [   5,    2,   22, 2160,    0,   34,    0,   10,   47,   17],\n",
       "       [   1,    0,    3,    0, 2215,    2,   13,    1,    5,   37],\n",
       "       [   7,    1,    5,   18,    6, 1986,   10,    2,   12,   13],\n",
       "       [  19,    3,    5,    0,    6,   26, 2204,    0,   10,    0],\n",
       "       [   6,    6,   15,   10,   13,    2,    0, 2291,    5,   20],\n",
       "       [   7,    9,    3,   14,   12,   21,   12,    3, 2159,    8],\n",
       "       [   2,    5,    0,   14,   48,   11,    1,   14,    9, 2179]])>"
      ]
     },
     "execution_count": 24,
     "metadata": {},
     "output_type": "execute_result"
    }
   ],
   "source": [
    "y_predict = model1.predict(X_testf)\n",
    "# y_predict[0]\n",
    "#np.argmax(y_predict[0]) #gives the maximum value out of the given ones\n",
    "predicted_labels = [np.argmax(i) for i in y_predict] #we are getting exactly what has been predicted and putting it into a predicted labels array\n",
    "cm = tf.math.confusion_matrix(labels=y_test,predictions=predicted_labels) #tensorflow has inbuilt provisions to build confusion matrices\n",
    "cm"
   ]
  },
  {
   "cell_type": "markdown",
   "id": "5f886009",
   "metadata": {},
   "source": [
    "# MODEL 2 -- 100 Neurons, 3 Hidden Layers"
   ]
  },
  {
   "cell_type": "code",
   "execution_count": 25,
   "id": "8f767b23",
   "metadata": {},
   "outputs": [
    {
     "name": "stdout",
     "output_type": "stream",
     "text": [
      "Epoch 1/5\n",
      "1466/1466 [==============================] - 2s 1ms/step - loss: 1.1162 - accuracy: 0.6866\n",
      "Epoch 2/5\n",
      "1466/1466 [==============================] - 2s 1ms/step - loss: 0.3638 - accuracy: 0.9109\n",
      "Epoch 3/5\n",
      "1466/1466 [==============================] - 2s 1ms/step - loss: 0.2266 - accuracy: 0.9398\n",
      "Epoch 4/5\n",
      "1466/1466 [==============================] - 2s 1ms/step - loss: 0.1698 - accuracy: 0.9549\n",
      "Epoch 5/5\n",
      "1466/1466 [==============================] - 2s 1ms/step - loss: 0.1368 - accuracy: 0.9628\n"
     ]
    },
    {
     "data": {
      "text/plain": [
       "<keras.callbacks.History at 0x1e357aa3940>"
      ]
     },
     "execution_count": 25,
     "metadata": {},
     "output_type": "execute_result"
    }
   ],
   "source": [
    "model2 = keras.Sequential([\n",
    "    keras.layers.Dense(50, input_shape=(784,), activation = 'sigmoid'), #we call it dense since every node in one layer is connected to every node in the next layer    \n",
    "    keras.layers.Dense(30, activation = 'sigmoid'),\n",
    "    keras.layers.Dense(20, activation = 'sigmoid'),\n",
    "    keras.layers.Dense(10, activation = 'softmax')\n",
    "])\n",
    "\n",
    "model2.compile(optimizer = 'adam', loss = 'sparse_categorical_crossentropy', metrics = ['accuracy'])\n",
    "model2.fit(X_trainf, y_train, epochs = 5)\n"
   ]
  },
  {
   "cell_type": "code",
   "execution_count": 26,
   "id": "55504971",
   "metadata": {},
   "outputs": [
    {
     "name": "stdout",
     "output_type": "stream",
     "text": [
      "722/722 [==============================] - 1s 1ms/step - loss: 0.1571 - accuracy: 0.9545\n"
     ]
    },
    {
     "data": {
      "text/plain": [
       "[0.15708571672439575, 0.9545454382896423]"
      ]
     },
     "execution_count": 26,
     "metadata": {},
     "output_type": "execute_result"
    }
   ],
   "source": [
    "model2.evaluate(X_testf, y_test)"
   ]
  },
  {
   "cell_type": "code",
   "execution_count": 27,
   "id": "807c2048",
   "metadata": {},
   "outputs": [
    {
     "name": "stdout",
     "output_type": "stream",
     "text": [
      "722/722 [==============================] - 1s 915us/step\n"
     ]
    }
   ],
   "source": [
    "y_predict = model2.predict(X_testf)"
   ]
  },
  {
   "cell_type": "code",
   "execution_count": 28,
   "id": "dd8dd0ff",
   "metadata": {},
   "outputs": [
    {
     "data": {
      "text/plain": [
       "array([1.0327233e-03, 2.7302105e-03, 1.8704368e-04, 6.5667398e-02,\n",
       "       8.6009568e-06, 9.2691857e-01, 1.5037769e-04, 1.5493472e-04,\n",
       "       2.5767426e-03, 5.7337695e-04], dtype=float32)"
      ]
     },
     "execution_count": 28,
     "metadata": {},
     "output_type": "execute_result"
    }
   ],
   "source": [
    "y_predict[0]"
   ]
  },
  {
   "cell_type": "code",
   "execution_count": 29,
   "id": "652886ba",
   "metadata": {},
   "outputs": [
    {
     "data": {
      "text/plain": [
       "5"
      ]
     },
     "execution_count": 29,
     "metadata": {},
     "output_type": "execute_result"
    }
   ],
   "source": [
    "np.argmax(y_predict[0]) #gives the maximum value out of the given ones"
   ]
  },
  {
   "cell_type": "code",
   "execution_count": 30,
   "id": "ad400561",
   "metadata": {},
   "outputs": [],
   "source": [
    "predicted_labels = [np.argmax(i) for i in y_predict] #we are getting exactly what has been predicted and putting it into a predicted labels array"
   ]
  },
  {
   "cell_type": "code",
   "execution_count": 31,
   "id": "a23be6f9",
   "metadata": {},
   "outputs": [],
   "source": [
    "cm = tf.math.confusion_matrix(labels=y_test,predictions=predicted_labels) #tensorflow has inbuilt provisions to build confusion matrices\n"
   ]
  },
  {
   "cell_type": "code",
   "execution_count": 32,
   "id": "33451208",
   "metadata": {},
   "outputs": [
    {
     "data": {
      "text/plain": [
       "<tf.Tensor: shape=(10, 10), dtype=int32, numpy=\n",
       "array([[2255,    0,    7,    6,    1,   21,   13,    3,   10,    7],\n",
       "       [   0, 2591,   11,    4,    3,    5,    2,    4,   20,    3],\n",
       "       [   5,    5, 2220,   21,   13,    2,   14,   20,   28,    0],\n",
       "       [   7,    2,   26, 2179,    0,   24,    0,   20,   34,    5],\n",
       "       [   1,    6,    7,    0, 2141,    0,   23,    3,   22,   74],\n",
       "       [   3,    9,   10,   49,    2, 1945,    9,    1,   16,   16],\n",
       "       [  11,    7,   15,    0,    3,   20, 2207,    1,    7,    2],\n",
       "       [   2,    4,   19,   11,    6,    1,    0, 2287,    3,   35],\n",
       "       [   3,   21,   21,   50,    9,   30,    3,    5, 2102,    4],\n",
       "       [   2,    5,    2,   42,   55,   14,    2,   32,    6, 2123]])>"
      ]
     },
     "execution_count": 32,
     "metadata": {},
     "output_type": "execute_result"
    }
   ],
   "source": [
    "cm #this is the confusion matrix, we are supposed to do this for all 15 of the models. Preferable if we beautify this a bit using matPlotLib, or seaborn if permitted by sir"
   ]
  },
  {
   "cell_type": "markdown",
   "id": "b2ec1f62",
   "metadata": {},
   "source": [
    "# MODEL 3 -- 150 Neurons, 2 Hidden Layers, ReLU"
   ]
  },
  {
   "cell_type": "code",
   "execution_count": 33,
   "id": "5ac6530c",
   "metadata": {},
   "outputs": [
    {
     "name": "stdout",
     "output_type": "stream",
     "text": [
      "Epoch 1/5\n",
      "1466/1466 [==============================] - 2s 1ms/step - loss: 0.2928 - accuracy: 0.9150\n",
      "Epoch 2/5\n",
      "1466/1466 [==============================] - 2s 1ms/step - loss: 0.1307 - accuracy: 0.9605\n",
      "Epoch 3/5\n",
      "1466/1466 [==============================] - 2s 1ms/step - loss: 0.0922 - accuracy: 0.9716\n",
      "Epoch 4/5\n",
      "1466/1466 [==============================] - 2s 1ms/step - loss: 0.0713 - accuracy: 0.9777\n",
      "Epoch 5/5\n",
      "1466/1466 [==============================] - 2s 1ms/step - loss: 0.0556 - accuracy: 0.9822\n"
     ]
    },
    {
     "data": {
      "text/plain": [
       "<keras.callbacks.History at 0x1e37f40a040>"
      ]
     },
     "execution_count": 33,
     "metadata": {},
     "output_type": "execute_result"
    }
   ],
   "source": [
    "model3 = keras.Sequential([\n",
    "    keras.layers.Dense(75, input_shape=(784,), activation = 'relu'), #we call it dense since every node in one layer is connected to every node in the next layer    \n",
    "    keras.layers.Dense(75, activation = 'relu'),\n",
    "    keras.layers.Dense(10, activation = 'softmax')\n",
    "])\n",
    "\n",
    "model3.compile(optimizer = 'adam', loss = 'sparse_categorical_crossentropy', metrics = ['accuracy'])\n",
    "model3.fit(X_trainf, y_train, epochs = 5)\n"
   ]
  },
  {
   "cell_type": "code",
   "execution_count": 34,
   "id": "eb4921d7",
   "metadata": {},
   "outputs": [
    {
     "name": "stdout",
     "output_type": "stream",
     "text": [
      "722/722 [==============================] - 1s 1ms/step - loss: 0.1086 - accuracy: 0.9701\n"
     ]
    },
    {
     "data": {
      "text/plain": [
       "[0.1085798516869545, 0.9700865745544434]"
      ]
     },
     "execution_count": 34,
     "metadata": {},
     "output_type": "execute_result"
    }
   ],
   "source": [
    "model3.evaluate(X_testf, y_test)"
   ]
  },
  {
   "cell_type": "code",
   "execution_count": 35,
   "id": "68c2ac70",
   "metadata": {},
   "outputs": [
    {
     "name": "stdout",
     "output_type": "stream",
     "text": [
      "722/722 [==============================] - 1s 880us/step\n"
     ]
    },
    {
     "data": {
      "text/plain": [
       "<tf.Tensor: shape=(10, 10), dtype=int32, numpy=\n",
       "array([[2302,    0,    0,    1,    0,    8,    2,    5,    1,    4],\n",
       "       [   0, 2613,    6,    3,    1,    1,    5,    8,    4,    2],\n",
       "       [  18,    5, 2252,   11,    8,    3,    2,   26,    2,    1],\n",
       "       [   7,    3,   14, 2236,    0,   15,    0,   10,    4,    8],\n",
       "       [   4,    1,    2,    3, 2218,    1,    7,    3,    0,   38],\n",
       "       [   6,    1,    3,   27,    2, 2000,   11,    2,    1,    7],\n",
       "       [  32,    2,    1,    1,    1,   20, 2212,    1,    3,    0],\n",
       "       [   4,    3,    9,    9,    5,    1,    0, 2327,    2,    8],\n",
       "       [  10,   18,    9,   49,   10,   47,   14,    7, 2055,   29],\n",
       "       [   4,    2,    1,   21,   19,   15,    0,   23,    4, 2194]])>"
      ]
     },
     "execution_count": 35,
     "metadata": {},
     "output_type": "execute_result"
    }
   ],
   "source": [
    "y_predict = model3.predict(X_testf)\n",
    "# y_predict[0]\n",
    "#np.argmax(y_predict[0]) #gives the maximum value out of the given ones\n",
    "predicted_labels = [np.argmax(i) for i in y_predict] #we are getting exactly what has been predicted and putting it into a predicted labels array\n",
    "cm = tf.math.confusion_matrix(labels=y_test,predictions=predicted_labels) #tensorflow has inbuilt provisions to build confusion matrices\n",
    "cm"
   ]
  },
  {
   "cell_type": "code",
   "execution_count": 36,
   "id": "ccf49409",
   "metadata": {},
   "outputs": [
    {
     "name": "stdout",
     "output_type": "stream",
     "text": [
      "Epoch 1/5\n",
      "1466/1466 [==============================] - 2s 1ms/step - loss: 0.3028 - accuracy: 0.9132\n",
      "Epoch 2/5\n",
      "1466/1466 [==============================] - 2s 1ms/step - loss: 0.1445 - accuracy: 0.9575\n",
      "Epoch 3/5\n",
      "1466/1466 [==============================] - 2s 1ms/step - loss: 0.1018 - accuracy: 0.9700\n",
      "Epoch 4/5\n",
      "1466/1466 [==============================] - 2s 1ms/step - loss: 0.0762 - accuracy: 0.9767\n",
      "Epoch 5/5\n",
      "1466/1466 [==============================] - 2s 1ms/step - loss: 0.0581 - accuracy: 0.9822\n"
     ]
    },
    {
     "data": {
      "text/plain": [
       "<keras.callbacks.History at 0x1e37f3d2d00>"
      ]
     },
     "execution_count": 36,
     "metadata": {},
     "output_type": "execute_result"
    }
   ],
   "source": [
    "model4 = keras.Sequential([\n",
    "    keras.layers.Dense(75, input_shape=(784,), activation = 'tanh'), #we call it dense since every node in one layer is connected to every node in the next layer    \n",
    "    keras.layers.Dense(75, activation = 'tanh'),\n",
    "    keras.layers.Dense(10, activation = 'softmax')\n",
    "])\n",
    "\n",
    "model4.compile(optimizer = 'adam', loss = 'sparse_categorical_crossentropy', metrics = ['accuracy'])\n",
    "model4.fit(X_trainf, y_train, epochs = 5)\n"
   ]
  },
  {
   "cell_type": "code",
   "execution_count": 37,
   "id": "a70c315e",
   "metadata": {},
   "outputs": [
    {
     "name": "stdout",
     "output_type": "stream",
     "text": [
      "722/722 [==============================] - 1s 1ms/step - loss: 0.0967 - accuracy: 0.9711\n"
     ]
    },
    {
     "data": {
      "text/plain": [
       "[0.09669938683509827, 0.9711255431175232]"
      ]
     },
     "execution_count": 37,
     "metadata": {},
     "output_type": "execute_result"
    }
   ],
   "source": [
    "model4.evaluate(X_testf, y_test)"
   ]
  },
  {
   "cell_type": "code",
   "execution_count": 38,
   "id": "d8c63119",
   "metadata": {},
   "outputs": [
    {
     "name": "stdout",
     "output_type": "stream",
     "text": [
      "722/722 [==============================] - 1s 902us/step\n"
     ]
    },
    {
     "data": {
      "text/plain": [
       "<tf.Tensor: shape=(10, 10), dtype=int32, numpy=\n",
       "array([[2286,    0,    4,    2,    1,    5,   12,    0,    5,    8],\n",
       "       [   0, 2606,    4,    5,    3,    2,    4,    4,   10,    5],\n",
       "       [  17,   11, 2251,   13,    9,    1,    5,    9,    9,    3],\n",
       "       [  10,    1,   16, 2202,    0,   28,    2,   11,   17,   10],\n",
       "       [   1,    1,   10,    1, 2199,    1,    9,    7,    1,   47],\n",
       "       [  10,    2,    4,   18,    4, 1987,   17,    0,    5,   13],\n",
       "       [  12,    0,    1,    0,    5,    6, 2245,    0,    4,    0],\n",
       "       [   2,    5,   15,    6,    8,    2,    0, 2291,    6,   33],\n",
       "       [  12,    5,   11,   17,    5,   18,   22,    5, 2140,   13],\n",
       "       [   4,    1,    0,    8,   24,    8,    0,    9,    3, 2226]])>"
      ]
     },
     "execution_count": 38,
     "metadata": {},
     "output_type": "execute_result"
    }
   ],
   "source": [
    "y_predict = model4.predict(X_testf)\n",
    "# y_predict[0]\n",
    "#np.argmax(y_predict[0]) #gives the maximum value out of the given ones\n",
    "predicted_labels = [np.argmax(i) for i in y_predict] #we are getting exactly what has been predicted and putting it into a predicted labels array\n",
    "cm = tf.math.confusion_matrix(labels=y_test,predictions=predicted_labels) #tensorflow has inbuilt provisions to build confusion matrices\n",
    "cm"
   ]
  },
  {
   "cell_type": "code",
   "execution_count": 39,
   "id": "ebb3ba9f",
   "metadata": {},
   "outputs": [
    {
     "name": "stdout",
     "output_type": "stream",
     "text": [
      "Epoch 1/5\n",
      "1466/1466 [==============================] - 2s 1ms/step - loss: 0.3809 - accuracy: 0.8896\n",
      "Epoch 2/5\n",
      "1466/1466 [==============================] - 2s 1ms/step - loss: 0.1680 - accuracy: 0.9511\n",
      "Epoch 3/5\n",
      "1466/1466 [==============================] - 2s 1ms/step - loss: 0.1233 - accuracy: 0.9640\n",
      "Epoch 4/5\n",
      "1466/1466 [==============================] - 2s 1ms/step - loss: 0.1000 - accuracy: 0.9691\n",
      "Epoch 5/5\n",
      "1466/1466 [==============================] - 2s 1ms/step - loss: 0.0832 - accuracy: 0.9748\n"
     ]
    },
    {
     "data": {
      "text/plain": [
       "<keras.callbacks.History at 0x1e37bc642e0>"
      ]
     },
     "execution_count": 39,
     "metadata": {},
     "output_type": "execute_result"
    }
   ],
   "source": [
    "model5 = keras.Sequential([\n",
    "    keras.layers.Dense(50, input_shape=(784,), activation = 'relu'), #we call it dense since every node in one layer is connected to every node in the next layer    \n",
    "    keras.layers.Dense(30, activation = 'relu'),\n",
    "    keras.layers.Dense(20, activation = 'relu'),\n",
    "    keras.layers.Dense(10, activation = 'softmax')\n",
    "])\n",
    "\n",
    "model5.compile(optimizer = 'adam', loss = 'sparse_categorical_crossentropy', metrics = ['accuracy'])\n",
    "model5.fit(X_trainf, y_train, epochs = 5)"
   ]
  },
  {
   "cell_type": "code",
   "execution_count": 40,
   "id": "51cb4539",
   "metadata": {},
   "outputs": [
    {
     "name": "stdout",
     "output_type": "stream",
     "text": [
      "722/722 [==============================] - 1s 1ms/step - loss: 0.1415 - accuracy: 0.9581\n"
     ]
    },
    {
     "data": {
      "text/plain": [
       "[0.1414782553911209, 0.9580952525138855]"
      ]
     },
     "execution_count": 40,
     "metadata": {},
     "output_type": "execute_result"
    }
   ],
   "source": [
    "model5.evaluate(X_testf, y_test)"
   ]
  },
  {
   "cell_type": "code",
   "execution_count": 41,
   "id": "cfe6cc11",
   "metadata": {},
   "outputs": [
    {
     "name": "stdout",
     "output_type": "stream",
     "text": [
      "722/722 [==============================] - 1s 932us/step\n"
     ]
    },
    {
     "data": {
      "text/plain": [
       "<tf.Tensor: shape=(10, 10), dtype=int32, numpy=\n",
       "array([[2284,    1,    7,    1,    3,    0,   24,    2,    1,    0],\n",
       "       [   1, 2608,    8,    5,    3,    1,    3,    6,    7,    1],\n",
       "       [  13,    7, 2242,    3,   11,    0,   11,   29,   12,    0],\n",
       "       [   7,    5,   52, 2137,    3,   23,    3,   22,   39,    6],\n",
       "       [   2,    0,    3,    1, 2241,    1,   18,    3,    2,    6],\n",
       "       [  22,    2,    5,   28,    5, 1927,   42,    4,   13,   12],\n",
       "       [  13,    3,    5,    0,    2,    3, 2243,    2,    2,    0],\n",
       "       [  11,    8,   13,    1,    5,    0,    1, 2318,    1,   10],\n",
       "       [  17,   16,    8,   12,   12,   16,   29,    8, 2126,    4],\n",
       "       [  11,    7,    0,   16,  167,   11,    1,   49,   15, 2006]])>"
      ]
     },
     "execution_count": 41,
     "metadata": {},
     "output_type": "execute_result"
    }
   ],
   "source": [
    "y_predict = model5.predict(X_testf)\n",
    "# y_predict[0]\n",
    "#np.argmax(y_predict[0]) #gives the maximum value out of the given ones\n",
    "predicted_labels = [np.argmax(i) for i in y_predict] #we are getting exactly what has been predicted and putting it into a predicted labels array\n",
    "cm = tf.math.confusion_matrix(labels=y_test,predictions=predicted_labels) #tensorflow has inbuilt provisions to build confusion matrices\n",
    "cm"
   ]
  },
  {
   "cell_type": "code",
   "execution_count": 42,
   "id": "43316d38",
   "metadata": {},
   "outputs": [
    {
     "name": "stdout",
     "output_type": "stream",
     "text": [
      "Epoch 1/5\n",
      "1466/1466 [==============================] - 2s 1ms/step - loss: 0.3860 - accuracy: 0.8973\n",
      "Epoch 2/5\n",
      "1466/1466 [==============================] - 2s 2ms/step - loss: 0.1606 - accuracy: 0.9532\n",
      "Epoch 3/5\n",
      "1466/1466 [==============================] - 2s 1ms/step - loss: 0.1163 - accuracy: 0.9652\n",
      "Epoch 4/5\n",
      "1466/1466 [==============================] - 2s 1ms/step - loss: 0.0921 - accuracy: 0.9714\n",
      "Epoch 5/5\n",
      "1466/1466 [==============================] - 2s 1ms/step - loss: 0.0757 - accuracy: 0.9773\n"
     ]
    },
    {
     "data": {
      "text/plain": [
       "<keras.callbacks.History at 0x1e37d00eb20>"
      ]
     },
     "execution_count": 42,
     "metadata": {},
     "output_type": "execute_result"
    }
   ],
   "source": [
    "model6 = keras.Sequential([\n",
    "    keras.layers.Dense(50, input_shape=(784,), activation = 'tanh'), #we call it dense since every node in one layer is connected to every node in the next layer    \n",
    "    keras.layers.Dense(30, activation = 'tanh'),\n",
    "    keras.layers.Dense(20, activation = 'tanh'),\n",
    "    keras.layers.Dense(10, activation = 'softmax')\n",
    "])\n",
    "\n",
    "model6.compile(optimizer = 'adam', loss = 'sparse_categorical_crossentropy', metrics = ['accuracy'])\n",
    "model6.fit(X_trainf, y_train, epochs = 5)"
   ]
  },
  {
   "cell_type": "code",
   "execution_count": 43,
   "id": "68e24b97",
   "metadata": {},
   "outputs": [
    {
     "name": "stdout",
     "output_type": "stream",
     "text": [
      "722/722 [==============================] - 1s 1ms/step - loss: 0.1134 - accuracy: 0.9657\n"
     ]
    },
    {
     "data": {
      "text/plain": [
       "[0.1134166494011879, 0.9656710028648376]"
      ]
     },
     "execution_count": 43,
     "metadata": {},
     "output_type": "execute_result"
    }
   ],
   "source": [
    "model6.evaluate(X_testf, y_test)"
   ]
  },
  {
   "cell_type": "code",
   "execution_count": 44,
   "id": "144b807d",
   "metadata": {},
   "outputs": [
    {
     "name": "stdout",
     "output_type": "stream",
     "text": [
      "722/722 [==============================] - 1s 982us/step\n"
     ]
    },
    {
     "data": {
      "text/plain": [
       "<tf.Tensor: shape=(10, 10), dtype=int32, numpy=\n",
       "array([[2276,    0,    8,    2,    7,    5,    9,    1,   13,    2],\n",
       "       [   0, 2607,   10,    1,    2,    4,    4,    3,    7,    5],\n",
       "       [   9,    3, 2235,   19,   15,    0,    9,   13,   23,    2],\n",
       "       [   4,    5,   21, 2174,    0,   26,    0,   16,   44,    7],\n",
       "       [   2,    3,    8,    1, 2204,    2,   12,    7,    2,   36],\n",
       "       [   3,    6,    4,   31,    3, 1966,   22,    1,   15,    9],\n",
       "       [  13,    3,    0,    0,    4,   11, 2231,    1,   10,    0],\n",
       "       [   1,    8,   15,    7,    6,    0,    0, 2307,    4,   20],\n",
       "       [   4,   15,    4,   12,    8,   11,   25,    7, 2154,    8],\n",
       "       [   4,    5,    0,   14,   40,   21,    1,   26,   19, 2153]])>"
      ]
     },
     "execution_count": 44,
     "metadata": {},
     "output_type": "execute_result"
    }
   ],
   "source": [
    "y_predict = model6.predict(X_testf)\n",
    "# y_predict[0]\n",
    "#np.argmax(y_predict[0]) #gives the maximum value out of the given ones\n",
    "predicted_labels = [np.argmax(i) for i in y_predict] #we are getting exactly what has been predicted and putting it into a predicted labels array\n",
    "cm = tf.math.confusion_matrix(labels=y_test,predictions=predicted_labels) #tensorflow has inbuilt provisions to build confusion matrices\n",
    "cm"
   ]
  },
  {
   "cell_type": "code",
   "execution_count": 45,
   "id": "ee1ff63d",
   "metadata": {},
   "outputs": [
    {
     "name": "stdout",
     "output_type": "stream",
     "text": [
      "Epoch 1/5\n",
      "1466/1466 [==============================] - 2s 1ms/step - loss: 0.4902 - accuracy: 0.8719\n",
      "Epoch 2/5\n",
      "1466/1466 [==============================] - 2s 1ms/step - loss: 0.1861 - accuracy: 0.9452\n",
      "Epoch 3/5\n",
      "1466/1466 [==============================] - 2s 1ms/step - loss: 0.1386 - accuracy: 0.9588\n",
      "Epoch 4/5\n",
      "1466/1466 [==============================] - 2s 2ms/step - loss: 0.1113 - accuracy: 0.9671\n",
      "Epoch 5/5\n",
      "1466/1466 [==============================] - 2s 1ms/step - loss: 0.0942 - accuracy: 0.9721\n"
     ]
    },
    {
     "data": {
      "text/plain": [
       "<keras.callbacks.History at 0x1e37e385520>"
      ]
     },
     "execution_count": 45,
     "metadata": {},
     "output_type": "execute_result"
    }
   ],
   "source": [
    "model7 = keras.Sequential([\n",
    "    keras.layers.Dense(50, input_shape=(784,), activation = 'sigmoid'), #we call it dense since every node in one layer is connected to every node in the next layer    \n",
    "    keras.layers.Dense(30, activation = 'relu'),\n",
    "    keras.layers.Dense(20, activation = 'tanh'),\n",
    "    keras.layers.Dense(10, activation = 'softmax')\n",
    "])\n",
    "\n",
    "model7.compile(optimizer = 'adam', loss = 'sparse_categorical_crossentropy', metrics = ['accuracy'])\n",
    "model7.fit(X_trainf, y_train, epochs = 5)"
   ]
  },
  {
   "cell_type": "code",
   "execution_count": 46,
   "id": "1bbe0dbc",
   "metadata": {},
   "outputs": [
    {
     "name": "stdout",
     "output_type": "stream",
     "text": [
      "722/722 [==============================] - 1s 1ms/step - loss: 0.1260 - accuracy: 0.9625\n"
     ]
    },
    {
     "data": {
      "text/plain": [
       "[0.12597821652889252, 0.9625108242034912]"
      ]
     },
     "execution_count": 46,
     "metadata": {},
     "output_type": "execute_result"
    }
   ],
   "source": [
    "model7.evaluate(X_testf, y_test)"
   ]
  },
  {
   "cell_type": "code",
   "execution_count": 47,
   "id": "88a9c9d4",
   "metadata": {},
   "outputs": [
    {
     "name": "stdout",
     "output_type": "stream",
     "text": [
      "722/722 [==============================] - 1s 955us/step\n"
     ]
    },
    {
     "data": {
      "text/plain": [
       "<tf.Tensor: shape=(10, 10), dtype=int32, numpy=\n",
       "array([[2262,    0,    9,    1,    3,   16,   14,    3,   13,    2],\n",
       "       [   0, 2575,    7,    6,    2,    6,    0,    4,   34,    9],\n",
       "       [  14,    4, 2219,   15,   14,    1,    8,   22,   28,    3],\n",
       "       [   5,    2,   22, 2160,    0,   34,    0,   10,   47,   17],\n",
       "       [   1,    0,    3,    0, 2215,    2,   13,    1,    5,   37],\n",
       "       [   7,    1,    5,   18,    6, 1986,   10,    2,   12,   13],\n",
       "       [  19,    3,    5,    0,    6,   26, 2204,    0,   10,    0],\n",
       "       [   6,    6,   15,   10,   13,    2,    0, 2291,    5,   20],\n",
       "       [   7,    9,    3,   14,   12,   21,   12,    3, 2159,    8],\n",
       "       [   2,    5,    0,   14,   48,   11,    1,   14,    9, 2179]])>"
      ]
     },
     "execution_count": 47,
     "metadata": {},
     "output_type": "execute_result"
    }
   ],
   "source": [
    "y_predict = model1.predict(X_testf)\n",
    "# y_predict[0]\n",
    "#np.argmax(y_predict[0]) #gives the maximum value out of the given ones\n",
    "predicted_labels = [np.argmax(i) for i in y_predict] #we are getting exactly what has been predicted and putting it into a predicted labels array\n",
    "cm = tf.math.confusion_matrix(labels=y_test,predictions=predicted_labels) #tensorflow has inbuilt provisions to build confusion matrices\n",
    "cm"
   ]
  },
  {
   "cell_type": "code",
   "execution_count": 48,
   "id": "d94fbfab",
   "metadata": {},
   "outputs": [
    {
     "name": "stdout",
     "output_type": "stream",
     "text": [
      "Epoch 1/5\n",
      "1466/1466 [==============================] - 2s 1ms/step - loss: 0.4190 - accuracy: 0.8860\n",
      "Epoch 2/5\n",
      "1466/1466 [==============================] - 2s 1ms/step - loss: 0.1918 - accuracy: 0.9425\n",
      "Epoch 3/5\n",
      "1466/1466 [==============================] - 2s 1ms/step - loss: 0.1393 - accuracy: 0.9589\n",
      "Epoch 4/5\n",
      "1466/1466 [==============================] - 2s 1ms/step - loss: 0.1086 - accuracy: 0.9673\n",
      "Epoch 5/5\n",
      "1466/1466 [==============================] - 2s 2ms/step - loss: 0.0873 - accuracy: 0.9739\n"
     ]
    },
    {
     "data": {
      "text/plain": [
       "<keras.callbacks.History at 0x1e37762b400>"
      ]
     },
     "execution_count": 48,
     "metadata": {},
     "output_type": "execute_result"
    }
   ],
   "source": [
    "model8 = keras.Sequential([\n",
    "    keras.layers.Dense(75, input_shape=(784,), activation = 'sigmoid'), #we call it dense since every node in one layer is connected to every node in the next layer    \n",
    "    keras.layers.Dense(75, activation = 'relu'),\n",
    "    keras.layers.Dense(10, activation = 'softmax')\n",
    "])\n",
    "\n",
    "model8.compile(optimizer = 'adam', loss = 'sparse_categorical_crossentropy', metrics = ['accuracy'])\n",
    "model8.fit(X_trainf, y_train, epochs = 5)\n"
   ]
  },
  {
   "cell_type": "code",
   "execution_count": 49,
   "id": "0ee818b7",
   "metadata": {},
   "outputs": [
    {
     "name": "stdout",
     "output_type": "stream",
     "text": [
      "722/722 [==============================] - 1s 1ms/step - loss: 0.1173 - accuracy: 0.9639\n"
     ]
    },
    {
     "data": {
      "text/plain": [
       "[0.11731552332639694, 0.9638528227806091]"
      ]
     },
     "execution_count": 49,
     "metadata": {},
     "output_type": "execute_result"
    }
   ],
   "source": [
    "model8.evaluate(X_testf, y_test)"
   ]
  },
  {
   "cell_type": "code",
   "execution_count": 50,
   "id": "fa90c7b1",
   "metadata": {},
   "outputs": [
    {
     "name": "stdout",
     "output_type": "stream",
     "text": [
      "722/722 [==============================] - 1s 940us/step\n"
     ]
    },
    {
     "data": {
      "text/plain": [
       "<tf.Tensor: shape=(10, 10), dtype=int32, numpy=\n",
       "array([[2275,    0,    4,    4,    1,   17,    7,    1,    8,    6],\n",
       "       [   0, 2592,    7,    8,    2,   10,    2,    4,   15,    3],\n",
       "       [   8,    4, 2251,   24,    8,    3,    5,   10,   14,    1],\n",
       "       [   2,    0,   16, 2199,    1,   44,    0,   11,   17,    7],\n",
       "       [   1,    1,    8,    3, 2189,    2,   13,    6,    4,   50],\n",
       "       [   4,    1,    6,   23,    2, 2014,    4,    0,    3,    3],\n",
       "       [  14,    3,    7,    0,    4,   37, 2200,    0,    7,    1],\n",
       "       [   4,    6,   14,   18,    3,    7,    0, 2297,    5,   14],\n",
       "       [   6,   18,    6,   42,    3,   65,    9,    2, 2089,    8],\n",
       "       [   3,    7,    1,   29,   20,   37,    1,   18,    8, 2159]])>"
      ]
     },
     "execution_count": 50,
     "metadata": {},
     "output_type": "execute_result"
    }
   ],
   "source": [
    "y_predict = model8.predict(X_testf)\n",
    "# y_predict[0]\n",
    "#np.argmax(y_predict[0]) #gives the maximum value out of the given ones\n",
    "predicted_labels = [np.argmax(i) for i in y_predict] #we are getting exactly what has been predicted and putting it into a predicted labels array\n",
    "cm = tf.math.confusion_matrix(labels=y_test,predictions=predicted_labels) #tensorflow has inbuilt provisions to build confusion matrices\n",
    "cm"
   ]
  },
  {
   "cell_type": "code",
   "execution_count": 51,
   "id": "ce818f4e",
   "metadata": {},
   "outputs": [
    {
     "name": "stdout",
     "output_type": "stream",
     "text": [
      "Epoch 1/5\n",
      "1466/1466 [==============================] - 2s 1ms/step - loss: 0.4033 - accuracy: 0.8883\n",
      "Epoch 2/5\n",
      "1466/1466 [==============================] - 2s 1ms/step - loss: 0.1884 - accuracy: 0.9434\n",
      "Epoch 3/5\n",
      "1466/1466 [==============================] - 2s 1ms/step - loss: 0.1351 - accuracy: 0.9594\n",
      "Epoch 4/5\n",
      "1466/1466 [==============================] - 2s 1ms/step - loss: 0.1047 - accuracy: 0.9686\n",
      "Epoch 5/5\n",
      "1466/1466 [==============================] - 2s 1ms/step - loss: 0.0830 - accuracy: 0.9746\n"
     ]
    },
    {
     "data": {
      "text/plain": [
       "<keras.callbacks.History at 0x1e35784eee0>"
      ]
     },
     "execution_count": 51,
     "metadata": {},
     "output_type": "execute_result"
    }
   ],
   "source": [
    "model9 = keras.Sequential([\n",
    "    keras.layers.Dense(75, input_shape=(784,), activation = 'sigmoid'), #we call it dense since every node in one layer is connected to every node in the next layer    \n",
    "    keras.layers.Dense(75, activation = 'tanh'),\n",
    "    keras.layers.Dense(10, activation = 'softmax')\n",
    "])\n",
    "\n",
    "model9.compile(optimizer = 'adam', loss = 'sparse_categorical_crossentropy', metrics = ['accuracy'])\n",
    "model9.fit(X_trainf, y_train, epochs = 5)"
   ]
  },
  {
   "cell_type": "code",
   "execution_count": 52,
   "id": "3de04589",
   "metadata": {},
   "outputs": [
    {
     "name": "stdout",
     "output_type": "stream",
     "text": [
      "722/722 [==============================] - 1s 1ms/step - loss: 0.1164 - accuracy: 0.9638\n"
     ]
    },
    {
     "data": {
      "text/plain": [
       "[0.1164446547627449, 0.9637662172317505]"
      ]
     },
     "execution_count": 52,
     "metadata": {},
     "output_type": "execute_result"
    }
   ],
   "source": [
    "model9.evaluate(X_testf, y_test)"
   ]
  },
  {
   "cell_type": "code",
   "execution_count": 53,
   "id": "4bb5d403",
   "metadata": {},
   "outputs": [
    {
     "name": "stdout",
     "output_type": "stream",
     "text": [
      "722/722 [==============================] - 1s 1ms/step\n"
     ]
    },
    {
     "data": {
      "text/plain": [
       "<tf.Tensor: shape=(10, 10), dtype=int32, numpy=\n",
       "array([[2298,    0,    3,    4,    1,    1,    8,    2,    4,    2],\n",
       "       [   0, 2595,   10,   15,    2,    1,    0,    3,   14,    3],\n",
       "       [  15,    3, 2244,   29,    4,    0,    2,   13,   16,    2],\n",
       "       [   4,    1,   13, 2239,    1,    4,    1,   10,   17,    7],\n",
       "       [   4,    1,   15,    3, 2178,    1,   13,    7,   10,   45],\n",
       "       [  16,    1,   11,   93,    2, 1889,   16,    2,   15,   15],\n",
       "       [  23,    5,    6,    0,    2,    5, 2222,    2,    8,    0],\n",
       "       [   7,    6,   12,   12,    3,    0,    0, 2305,    5,   18],\n",
       "       [  10,   14,   10,   51,    5,   11,   10,    4, 2126,    7],\n",
       "       [   6,    8,    2,   31,   38,    4,    1,   15,   11, 2167]])>"
      ]
     },
     "execution_count": 53,
     "metadata": {},
     "output_type": "execute_result"
    }
   ],
   "source": [
    "y_predict = model9.predict(X_testf)\n",
    "# y_predict[0]\n",
    "#np.argmax(y_predict[0]) #gives the maximum value out of the given ones\n",
    "predicted_labels = [np.argmax(i) for i in y_predict] #we are getting exactly what has been predicted and putting it into a predicted labels array\n",
    "cm = tf.math.confusion_matrix(labels=y_test,predictions=predicted_labels) #tensorflow has inbuilt provisions to build confusion matrices\n",
    "cm"
   ]
  },
  {
   "cell_type": "code",
   "execution_count": 54,
   "id": "427f2642",
   "metadata": {},
   "outputs": [
    {
     "name": "stdout",
     "output_type": "stream",
     "text": [
      "Epoch 1/5\n",
      "1466/1466 [==============================] - 2s 1ms/step - loss: 0.2629 - accuracy: 0.9239\n",
      "Epoch 2/5\n",
      "1466/1466 [==============================] - 2s 1ms/step - loss: 0.1084 - accuracy: 0.9673\n",
      "Epoch 3/5\n",
      "1466/1466 [==============================] - 2s 1ms/step - loss: 0.0774 - accuracy: 0.9759\n",
      "Epoch 4/5\n",
      "1466/1466 [==============================] - 2s 1ms/step - loss: 0.0582 - accuracy: 0.9815\n",
      "Epoch 5/5\n",
      "1466/1466 [==============================] - 2s 2ms/step - loss: 0.0436 - accuracy: 0.9860\n"
     ]
    },
    {
     "data": {
      "text/plain": [
       "<keras.callbacks.History at 0x1e37cff4490>"
      ]
     },
     "execution_count": 54,
     "metadata": {},
     "output_type": "execute_result"
    }
   ],
   "source": [
    "model10 = keras.Sequential([\n",
    "    keras.layers.Dense(75, input_shape=(784,), activation = 'relu'), #we call it dense since every node in one layer is connected to every node in the next layer    \n",
    "    keras.layers.Dense(75, activation = 'tanh'),\n",
    "    keras.layers.Dense(10, activation = 'softmax')\n",
    "])\n",
    "\n",
    "model10.compile(optimizer = 'adam', loss = 'sparse_categorical_crossentropy', metrics = ['accuracy'])\n",
    "model10.fit(X_trainf, y_train, epochs = 5)"
   ]
  },
  {
   "cell_type": "code",
   "execution_count": 55,
   "id": "41742bc7",
   "metadata": {},
   "outputs": [
    {
     "name": "stdout",
     "output_type": "stream",
     "text": [
      "722/722 [==============================] - 1s 1ms/step - loss: 0.0957 - accuracy: 0.9721\n"
     ]
    },
    {
     "data": {
      "text/plain": [
       "[0.09567327052354813, 0.9720779061317444]"
      ]
     },
     "execution_count": 55,
     "metadata": {},
     "output_type": "execute_result"
    }
   ],
   "source": [
    "model10.evaluate(X_testf, y_test)"
   ]
  },
  {
   "cell_type": "code",
   "execution_count": 56,
   "id": "03ee929d",
   "metadata": {},
   "outputs": [
    {
     "name": "stdout",
     "output_type": "stream",
     "text": [
      "722/722 [==============================] - 1s 1ms/step\n"
     ]
    },
    {
     "data": {
      "text/plain": [
       "<tf.Tensor: shape=(10, 10), dtype=int32, numpy=\n",
       "array([[2299,    0,    0,    0,    2,    5,    4,    1,   10,    2],\n",
       "       [   0, 2611,    2,    0,    8,    1,    5,    3,    8,    5],\n",
       "       [  14,   10, 2240,    7,    7,    2,    5,   19,   21,    3],\n",
       "       [   5,    4,   15, 2201,    2,   20,    0,   13,   27,   10],\n",
       "       [   4,    0,    6,    0, 2226,    1,   11,    1,    3,   25],\n",
       "       [   2,    2,    3,   16,    6, 2011,    5,    0,    6,    9],\n",
       "       [  25,    2,    1,    0,    6,   25, 2206,    0,    7,    1],\n",
       "       [   3,    9,   11,    2,   14,    2,    0, 2290,    7,   30],\n",
       "       [   4,   10,    0,   11,    6,   23,    9,    4, 2168,   13],\n",
       "       [   3,    2,    0,   12,   41,    6,    1,    8,    7, 2203]])>"
      ]
     },
     "execution_count": 56,
     "metadata": {},
     "output_type": "execute_result"
    }
   ],
   "source": [
    "y_predict = model10.predict(X_testf)\n",
    "# y_predict[0]\n",
    "#np.argmax(y_predict[0]) #gives the maximum value out of the given ones\n",
    "predicted_labels = [np.argmax(i) for i in y_predict] #we are getting exactly what has been predicted and putting it into a predicted labels array\n",
    "cm = tf.math.confusion_matrix(labels=y_test,predictions=predicted_labels) #tensorflow has inbuilt provisions to build confusion matrices\n",
    "cm"
   ]
  },
  {
   "cell_type": "code",
   "execution_count": 57,
   "id": "346a9e81",
   "metadata": {},
   "outputs": [
    {
     "name": "stdout",
     "output_type": "stream",
     "text": [
      "Epoch 1/5\n",
      "1466/1466 [==============================] - 3s 2ms/step - loss: 0.8849 - accuracy: 0.7629\n",
      "Epoch 2/5\n",
      "1466/1466 [==============================] - 2s 2ms/step - loss: 0.2638 - accuracy: 0.9291\n",
      "Epoch 3/5\n",
      "1466/1466 [==============================] - 2s 2ms/step - loss: 0.1799 - accuracy: 0.9488\n",
      "Epoch 4/5\n",
      "1466/1466 [==============================] - 2s 2ms/step - loss: 0.1407 - accuracy: 0.9597\n",
      "Epoch 5/5\n",
      "1466/1466 [==============================] - 2s 2ms/step - loss: 0.1176 - accuracy: 0.9652\n"
     ]
    },
    {
     "data": {
      "text/plain": [
       "<keras.callbacks.History at 0x1e3884abfd0>"
      ]
     },
     "execution_count": 57,
     "metadata": {},
     "output_type": "execute_result"
    }
   ],
   "source": [
    "model11 = keras.Sequential([\n",
    "    keras.layers.Dense(60, input_shape=(784,), activation = 'sigmoid'), #we call it dense since every node in one layer is connected to every node in the next layer    \n",
    "    keras.layers.Dense(50, activation = 'sigmoid'),\n",
    "    keras.layers.Dense(40, activation = 'sigmoid'),\n",
    "    keras.layers.Dense(10, activation = 'softmax')\n",
    "])\n",
    "\n",
    "model11.compile(optimizer = 'adam', loss = 'sparse_categorical_crossentropy', metrics = ['accuracy'])\n",
    "model11.fit(X_trainf, y_train, epochs = 5)"
   ]
  },
  {
   "cell_type": "code",
   "execution_count": 58,
   "id": "835381c6",
   "metadata": {},
   "outputs": [
    {
     "name": "stdout",
     "output_type": "stream",
     "text": [
      "722/722 [==============================] - 1s 1ms/step - loss: 0.1350 - accuracy: 0.9609\n"
     ]
    },
    {
     "data": {
      "text/plain": [
       "[0.13504554331302643, 0.9608657956123352]"
      ]
     },
     "execution_count": 58,
     "metadata": {},
     "output_type": "execute_result"
    }
   ],
   "source": [
    "model11.evaluate(X_testf, y_test)"
   ]
  },
  {
   "cell_type": "code",
   "execution_count": 59,
   "id": "79659279",
   "metadata": {},
   "outputs": [
    {
     "name": "stdout",
     "output_type": "stream",
     "text": [
      "722/722 [==============================] - 1s 1ms/step\n"
     ]
    },
    {
     "data": {
      "text/plain": [
       "<tf.Tensor: shape=(10, 10), dtype=int32, numpy=\n",
       "array([[2257,    0,    8,    3,    7,   12,   22,    2,    6,    6],\n",
       "       [   0, 2594,    9,   10,    1,    5,    3,    6,   12,    3],\n",
       "       [  13,    5, 2234,   13,    7,    1,   11,   19,   24,    1],\n",
       "       [   2,    2,   28, 2176,    0,   28,    1,   13,   37,   10],\n",
       "       [   0,    2,    5,    1, 2175,    1,   22,    4,    9,   58],\n",
       "       [   8,    1,   10,   25,    3, 1967,   15,    1,   20,   10],\n",
       "       [  11,    2,    4,    0,    5,   17, 2231,    0,    3,    0],\n",
       "       [   6,    9,   28,    7,    6,    2,    0, 2270,    3,   37],\n",
       "       [   1,   19,    7,   23,    5,   25,   17,    2, 2137,   12],\n",
       "       [   4,    7,    2,   15,   43,   17,    1,   14,   25, 2155]])>"
      ]
     },
     "execution_count": 59,
     "metadata": {},
     "output_type": "execute_result"
    }
   ],
   "source": [
    "y_predict = model11.predict(X_testf)\n",
    "# y_predict[0]\n",
    "#np.argmax(y_predict[0]) #gives the maximum value out of the given ones\n",
    "predicted_labels = [np.argmax(i) for i in y_predict] #we are getting exactly what has been predicted and putting it into a predicted labels array\n",
    "cm = tf.math.confusion_matrix(labels=y_test,predictions=predicted_labels) #tensorflow has inbuilt provisions to build confusion matrices\n",
    "cm"
   ]
  },
  {
   "cell_type": "code",
   "execution_count": 60,
   "id": "56611146",
   "metadata": {},
   "outputs": [
    {
     "name": "stdout",
     "output_type": "stream",
     "text": [
      "Epoch 1/5\n",
      "1466/1466 [==============================] - 3s 2ms/step - loss: 0.3239 - accuracy: 0.9058\n",
      "Epoch 2/5\n",
      "1466/1466 [==============================] - 3s 2ms/step - loss: 0.1437 - accuracy: 0.9565\n",
      "Epoch 3/5\n",
      "1466/1466 [==============================] - 3s 2ms/step - loss: 0.1062 - accuracy: 0.9679\n",
      "Epoch 4/5\n",
      "1466/1466 [==============================] - 3s 2ms/step - loss: 0.0852 - accuracy: 0.9734\n",
      "Epoch 5/5\n",
      "1466/1466 [==============================] - 3s 2ms/step - loss: 0.0699 - accuracy: 0.9775\n"
     ]
    },
    {
     "data": {
      "text/plain": [
       "<keras.callbacks.History at 0x1e393463af0>"
      ]
     },
     "execution_count": 60,
     "metadata": {},
     "output_type": "execute_result"
    }
   ],
   "source": [
    "model12 = keras.Sequential([\n",
    "    keras.layers.Dense(60, input_shape=(784,), activation = 'relu'), #we call it dense since every node in one layer is connected to every node in the next layer    \n",
    "    keras.layers.Dense(50, activation = 'relu'),\n",
    "    keras.layers.Dense(40, activation = 'relu'),\n",
    "    keras.layers.Dense(10, activation = 'softmax')\n",
    "])\n",
    "\n",
    "model12.compile(optimizer = 'adam', loss = 'sparse_categorical_crossentropy', metrics = ['accuracy'])\n",
    "model12.fit(X_trainf, y_train, epochs = 5)"
   ]
  },
  {
   "cell_type": "code",
   "execution_count": 61,
   "id": "a0ef774d",
   "metadata": {},
   "outputs": [
    {
     "name": "stdout",
     "output_type": "stream",
     "text": [
      "722/722 [==============================] - 1s 1ms/step - loss: 0.1045 - accuracy: 0.9687\n"
     ]
    },
    {
     "data": {
      "text/plain": [
       "[0.10449087619781494, 0.9686580300331116]"
      ]
     },
     "execution_count": 61,
     "metadata": {},
     "output_type": "execute_result"
    }
   ],
   "source": [
    "model12.evaluate(X_testf, y_test)"
   ]
  },
  {
   "cell_type": "code",
   "execution_count": 62,
   "id": "4319d8b1",
   "metadata": {},
   "outputs": [
    {
     "name": "stdout",
     "output_type": "stream",
     "text": [
      "722/722 [==============================] - 1s 1ms/step\n"
     ]
    },
    {
     "data": {
      "text/plain": [
       "<tf.Tensor: shape=(10, 10), dtype=int32, numpy=\n",
       "array([[2293,    0,    2,    0,    2,    6,    9,    1,    7,    3],\n",
       "       [   0, 2597,    8,    1,    3,    2,    3,    5,   22,    2],\n",
       "       [  18,    3, 2260,    7,    7,    2,    6,   14,    9,    2],\n",
       "       [   8,    3,   27, 2131,    1,   45,    3,    9,   59,   11],\n",
       "       [   6,    1,    4,    0, 2213,    0,    8,    2,    2,   41],\n",
       "       [   4,    1,    4,   17,    3, 1986,   20,    1,   17,    7],\n",
       "       [  16,    2,    6,    0,    5,    5, 2232,    0,    7,    0],\n",
       "       [   1,    5,   18,    2,    6,    1,    0, 2299,   11,   25],\n",
       "       [  14,    8,    6,    5,   10,   12,    7,    2, 2175,    9],\n",
       "       [   4,    3,    1,    8,   35,   15,    1,   14,   12, 2190]])>"
      ]
     },
     "execution_count": 62,
     "metadata": {},
     "output_type": "execute_result"
    }
   ],
   "source": [
    "y_predict = model12.predict(X_testf)\n",
    "# y_predict[0]\n",
    "#np.argmax(y_predict[0]) #gives the maximum value out of the given ones\n",
    "predicted_labels = [np.argmax(i) for i in y_predict] #we are getting exactly what has been predicted and putting it into a predicted labels array\n",
    "cm = tf.math.confusion_matrix(labels=y_test,predictions=predicted_labels) #tensorflow has inbuilt provisions to build confusion matrices\n",
    "cm"
   ]
  },
  {
   "cell_type": "code",
   "execution_count": 63,
   "id": "dc100913",
   "metadata": {},
   "outputs": [
    {
     "name": "stdout",
     "output_type": "stream",
     "text": [
      "Epoch 1/5\n",
      "1466/1466 [==============================] - 3s 2ms/step - loss: 0.3181 - accuracy: 0.9104\n",
      "Epoch 2/5\n",
      "1466/1466 [==============================] - 3s 2ms/step - loss: 0.1411 - accuracy: 0.9577\n",
      "Epoch 3/5\n",
      "1466/1466 [==============================] - 3s 2ms/step - loss: 0.1019 - accuracy: 0.9695\n",
      "Epoch 4/5\n",
      "1466/1466 [==============================] - 3s 2ms/step - loss: 0.0783 - accuracy: 0.9761\n",
      "Epoch 5/5\n",
      "1466/1466 [==============================] - 3s 2ms/step - loss: 0.0621 - accuracy: 0.9806\n"
     ]
    },
    {
     "data": {
      "text/plain": [
       "<keras.callbacks.History at 0x1e3957c96d0>"
      ]
     },
     "execution_count": 63,
     "metadata": {},
     "output_type": "execute_result"
    }
   ],
   "source": [
    "model13 = keras.Sequential([\n",
    "    keras.layers.Dense(60, input_shape=(784,), activation = 'tanh'), #we call it dense since every node in one layer is connected to every node in the next layer    \n",
    "    keras.layers.Dense(50, activation = 'tanh'),\n",
    "    keras.layers.Dense(40, activation = 'tanh'),\n",
    "    keras.layers.Dense(10, activation = 'softmax')\n",
    "])\n",
    "\n",
    "model13.compile(optimizer = 'adam', loss = 'sparse_categorical_crossentropy', metrics = ['accuracy'])\n",
    "model13.fit(X_trainf, y_train, epochs = 5)"
   ]
  },
  {
   "cell_type": "code",
   "execution_count": 64,
   "id": "685a7e73",
   "metadata": {},
   "outputs": [
    {
     "name": "stdout",
     "output_type": "stream",
     "text": [
      "722/722 [==============================] - 1s 2ms/step - loss: 0.1017 - accuracy: 0.9687\n"
     ]
    },
    {
     "data": {
      "text/plain": [
       "[0.10174334049224854, 0.9687013030052185]"
      ]
     },
     "execution_count": 64,
     "metadata": {},
     "output_type": "execute_result"
    }
   ],
   "source": [
    "model13.evaluate(X_testf, y_test)"
   ]
  },
  {
   "cell_type": "code",
   "execution_count": 65,
   "id": "1c0ae0f3",
   "metadata": {},
   "outputs": [
    {
     "name": "stdout",
     "output_type": "stream",
     "text": [
      "722/722 [==============================] - 1s 1ms/step\n"
     ]
    },
    {
     "data": {
      "text/plain": [
       "<tf.Tensor: shape=(10, 10), dtype=int32, numpy=\n",
       "array([[2294,    0,    6,    1,    2,    2,    8,    4,    3,    3],\n",
       "       [   0, 2621,    3,    2,    1,    2,    2,    3,    8,    1],\n",
       "       [  15,   19, 2249,    9,    6,    1,   10,   11,    7,    1],\n",
       "       [   3,    5,   22, 2202,    1,   18,    0,   15,   26,    5],\n",
       "       [   1,    5,   11,    1, 2186,    1,   15,   14,    8,   35],\n",
       "       [   7,    3,    4,   27,    1, 1973,   23,    2,   10,   10],\n",
       "       [  15,    6,    4,    0,    5,    5, 2231,    0,    7,    0],\n",
       "       [   3,    8,   19,    6,    1,    0,    0, 2315,    7,    9],\n",
       "       [   7,   22,    9,   18,    3,   14,   10,    8, 2153,    4],\n",
       "       [   5,    9,    1,   22,   33,   16,    3,   28,   13, 2153]])>"
      ]
     },
     "execution_count": 65,
     "metadata": {},
     "output_type": "execute_result"
    }
   ],
   "source": [
    "y_predict = model13.predict(X_testf)\n",
    "# y_predict[0]\n",
    "#np.argmax(y_predict[0]) #gives the maximum value out of the given ones\n",
    "predicted_labels = [np.argmax(i) for i in y_predict] #we are getting exactly what has been predicted and putting it into a predicted labels array\n",
    "cm = tf.math.confusion_matrix(labels=y_test,predictions=predicted_labels) #tensorflow has inbuilt provisions to build confusion matrices\n",
    "cm"
   ]
  },
  {
   "cell_type": "code",
   "execution_count": 66,
   "id": "a2cbe391",
   "metadata": {},
   "outputs": [
    {
     "name": "stdout",
     "output_type": "stream",
     "text": [
      "Epoch 1/5\n",
      "1466/1466 [==============================] - 3s 2ms/step - loss: 0.4298 - accuracy: 0.8784\n",
      "Epoch 2/5\n",
      "1466/1466 [==============================] - 3s 2ms/step - loss: 0.1779 - accuracy: 0.9467\n",
      "Epoch 3/5\n",
      "1466/1466 [==============================] - 3s 2ms/step - loss: 0.1294 - accuracy: 0.9602\n",
      "Epoch 4/5\n",
      "1466/1466 [==============================] - 3s 2ms/step - loss: 0.1028 - accuracy: 0.9682\n",
      "Epoch 5/5\n",
      "1466/1466 [==============================] - 4s 3ms/step - loss: 0.0858 - accuracy: 0.9729\n"
     ]
    },
    {
     "data": {
      "text/plain": [
       "<keras.callbacks.History at 0x1e377668790>"
      ]
     },
     "execution_count": 66,
     "metadata": {},
     "output_type": "execute_result"
    }
   ],
   "source": [
    "model14 = keras.Sequential([\n",
    "    keras.layers.Dense(60, input_shape=(784,), activation = 'sigmoid'), #we call it dense since every node in one layer is connected to every node in the next layer    \n",
    "    keras.layers.Dense(50, activation = 'relu'),\n",
    "    keras.layers.Dense(40, activation = 'tanh'),\n",
    "    keras.layers.Dense(10, activation = 'softmax')\n",
    "])\n",
    "\n",
    "model14.compile(optimizer = 'adam', loss = 'sparse_categorical_crossentropy', metrics = ['accuracy'])\n",
    "model14.fit(X_trainf, y_train, epochs = 5)"
   ]
  },
  {
   "cell_type": "code",
   "execution_count": 67,
   "id": "d9fbda52",
   "metadata": {},
   "outputs": [
    {
     "name": "stdout",
     "output_type": "stream",
     "text": [
      "722/722 [==============================] - 1s 2ms/step - loss: 0.1303 - accuracy: 0.9602\n"
     ]
    },
    {
     "data": {
      "text/plain": [
       "[0.1302613615989685, 0.9602164626121521]"
      ]
     },
     "execution_count": 67,
     "metadata": {},
     "output_type": "execute_result"
    }
   ],
   "source": [
    "model14.evaluate(X_testf, y_test)"
   ]
  },
  {
   "cell_type": "code",
   "execution_count": 68,
   "id": "60d2fab0",
   "metadata": {},
   "outputs": [
    {
     "name": "stdout",
     "output_type": "stream",
     "text": [
      "722/722 [==============================] - 1s 1ms/step\n"
     ]
    },
    {
     "data": {
      "text/plain": [
       "<tf.Tensor: shape=(10, 10), dtype=int32, numpy=\n",
       "array([[2301,    0,    6,    4,    0,    1,    8,    0,    2,    1],\n",
       "       [   1, 2569,   16,   11,    6,    2,    7,    8,   17,    6],\n",
       "       [  20,    2, 2262,   15,    7,    0,    7,    8,    4,    3],\n",
       "       [  10,    1,   27, 2210,    1,   10,    2,   10,    8,   18],\n",
       "       [   6,    0,   12,    1, 2193,    1,   17,    1,    2,   44],\n",
       "       [  32,    2,    8,   38,    5, 1914,   25,    3,    6,   27],\n",
       "       [  32,    0,    5,    0,    3,    3, 2227,    0,    3,    0],\n",
       "       [  14,    4,   25,   15,   16,    1,    0, 2248,    4,   41],\n",
       "       [  22,   10,   22,   38,   10,   13,   22,    1, 2058,   52],\n",
       "       [  10,    3,    3,   13,   41,    5,    0,    8,    1, 2199]])>"
      ]
     },
     "execution_count": 68,
     "metadata": {},
     "output_type": "execute_result"
    }
   ],
   "source": [
    "y_predict = model14.predict(X_testf)\n",
    "# y_predict[0]\n",
    "#np.argmax(y_predict[0]) #gives the maximum value out of the given ones\n",
    "predicted_labels = [np.argmax(i) for i in y_predict] #we are getting exactly what has been predicted and putting it into a predicted labels array\n",
    "cm = tf.math.confusion_matrix(labels=y_test,predictions=predicted_labels) #tensorflow has inbuilt provisions to build confusion matrices\n",
    "cm"
   ]
  },
  {
   "cell_type": "code",
   "execution_count": 69,
   "id": "64650d49",
   "metadata": {},
   "outputs": [
    {
     "name": "stdout",
     "output_type": "stream",
     "text": [
      "Epoch 1/5\n",
      "1466/1466 [==============================] - 4s 2ms/step - loss: 0.4789 - accuracy: 0.8674\n",
      "Epoch 2/5\n",
      "1466/1466 [==============================] - 3s 2ms/step - loss: 0.2023 - accuracy: 0.9396\n",
      "Epoch 3/5\n",
      "1466/1466 [==============================] - 3s 2ms/step - loss: 0.1513 - accuracy: 0.9550\n",
      "Epoch 4/5\n",
      "1466/1466 [==============================] - 3s 2ms/step - loss: 0.1214 - accuracy: 0.9637\n",
      "Epoch 5/5\n",
      "1466/1466 [==============================] - 3s 2ms/step - loss: 0.1009 - accuracy: 0.9695\n"
     ]
    },
    {
     "data": {
      "text/plain": [
       "<keras.callbacks.History at 0x1e383ec24f0>"
      ]
     },
     "execution_count": 69,
     "metadata": {},
     "output_type": "execute_result"
    }
   ],
   "source": [
    "model15 = keras.Sequential([\n",
    "    keras.layers.Dense(50, input_shape=(784,), activation = 'sigmoid'), #we call it dense since every node in one layer is connected to every node in the next layer    \n",
    "    keras.layers.Dense(50, activation = 'relu'),\n",
    "    keras.layers.Dense(10, activation = 'softmax')\n",
    "])\n",
    "\n",
    "model15.compile(optimizer = 'adam', loss = 'sparse_categorical_crossentropy', metrics = ['accuracy'])\n",
    "model15.fit(X_trainf, y_train, epochs = 5)"
   ]
  },
  {
   "cell_type": "code",
   "execution_count": 70,
   "id": "9aa0d0f6",
   "metadata": {},
   "outputs": [
    {
     "name": "stdout",
     "output_type": "stream",
     "text": [
      "722/722 [==============================] - 1s 2ms/step - loss: 0.1272 - accuracy: 0.9608\n"
     ]
    },
    {
     "data": {
      "text/plain": [
       "[0.12715817987918854, 0.9607792496681213]"
      ]
     },
     "execution_count": 70,
     "metadata": {},
     "output_type": "execute_result"
    }
   ],
   "source": [
    "model15.evaluate(X_testf, y_test)"
   ]
  },
  {
   "cell_type": "code",
   "execution_count": 71,
   "id": "e0a5d08b",
   "metadata": {},
   "outputs": [
    {
     "name": "stdout",
     "output_type": "stream",
     "text": [
      "722/722 [==============================] - 1s 1ms/step\n"
     ]
    },
    {
     "data": {
      "text/plain": [
       "<tf.Tensor: shape=(10, 10), dtype=int32, numpy=\n",
       "array([[2257,    0,    6,    3,    2,    7,   26,    1,   17,    4],\n",
       "       [   0, 2602,    7,    5,    3,    1,    6,    5,   11,    3],\n",
       "       [  12,    4, 2244,    8,   10,    3,   15,   17,   13,    2],\n",
       "       [   7,    4,   28, 2142,    2,   30,    8,   18,   52,    6],\n",
       "       [   0,    4,    6,    0, 2182,    1,   42,    2,    3,   37],\n",
       "       [   6,    5,    6,   26,    6, 1942,   46,    1,    9,   13],\n",
       "       [   8,    1,    3,    0,    2,    4, 2252,    0,    3,    0],\n",
       "       [   3,    7,   16,    3,    8,    2,    0, 2303,    6,   20],\n",
       "       [   6,   19,    6,   18,    5,   16,   49,    4, 2120,    5],\n",
       "       [   4,    8,    2,   21,   53,    6,    3,   16,   20, 2150]])>"
      ]
     },
     "execution_count": 71,
     "metadata": {},
     "output_type": "execute_result"
    }
   ],
   "source": [
    "y_predict = model15.predict(X_testf)\n",
    "# y_predict[0]\n",
    "#np.argmax(y_predict[0]) #gives the maximum value out of the given ones\n",
    "predicted_labels = [np.argmax(i) for i in y_predict] #we are getting exactly what has been predicted and putting it into a predicted labels array\n",
    "cm = tf.math.confusion_matrix(labels=y_test,predictions=predicted_labels) #tensorflow has inbuilt provisions to build confusion matrices\n",
    "cm"
   ]
  }
 ],
 "metadata": {
  "kernelspec": {
   "display_name": "Python 3 (ipykernel)",
   "language": "python",
   "name": "python3"
  },
  "language_info": {
   "codemirror_mode": {
    "name": "ipython",
    "version": 3
   },
   "file_extension": ".py",
   "mimetype": "text/x-python",
   "name": "python",
   "nbconvert_exporter": "python",
   "pygments_lexer": "ipython3",
   "version": "3.9.16"
  }
 },
 "nbformat": 4,
 "nbformat_minor": 5
}
